{
 "cells": [
  {
   "cell_type": "markdown",
   "id": "3Xg_RQfnafXz",
   "metadata": {
    "id": "3Xg_RQfnafXz"
   },
   "source": [
    "# ¡Llena ese carrito!"
   ]
  },
  {
   "cell_type": "markdown",
   "id": "mhIvmmkW414q",
   "metadata": {
    "id": "mhIvmmkW414q"
   },
   "source": [
    "# Introducción\n",
    "\n",
    "Instacart es una plataforma de entregas de comestibles donde la clientela puede registrar un pedido y hacer que se lo entreguen, similar a Uber Eats y Door Dash.\n",
    "El conjunto de datos que te hemos proporcionado tiene modificaciones del original. Redujimos el tamaño del conjunto para que tus cálculos se hicieran más rápido e introdujimos valores ausentes y duplicados. Tuvimos cuidado de conservar las distribuciones de los datos originales cuando hicimos los cambios.\n",
    "\n",
    "Debes completar tres pasos. Para cada uno de ellos, escribe una breve introducción que refleje con claridad cómo pretendes resolver cada paso, y escribe párrafos explicatorios que justifiquen tus decisiones al tiempo que avanzas en tu solución.  También escribe una conclusión que resuma tus hallazgos y elecciones.\n"
   ]
  },
  {
   "cell_type": "markdown",
   "id": "3MbyzpOQZ5Or",
   "metadata": {
    "id": "3MbyzpOQZ5Or"
   },
   "source": [
    "## Diccionario de datos\n",
    "\n",
    "Hay cinco tablas en el conjunto de datos, y tendrás que usarlas todas para hacer el preprocesamiento de datos y el análisis exploratorio de datos. A continuación se muestra un diccionario de datos que enumera las columnas de cada tabla y describe los datos que contienen.\n",
    "\n",
    "- `instacart_orders.csv`: cada fila corresponde a un pedido en la aplicación Instacart.\n",
    "    - `'order_id'`: número de ID que identifica de manera única cada pedido.\n",
    "    - `'user_id'`: número de ID que identifica de manera única la cuenta de cada cliente.\n",
    "    - `'order_number'`: el número de veces que este cliente ha hecho un pedido.\n",
    "    - `'order_dow'`: día de la semana en que se hizo el pedido (0 si es domingo).\n",
    "    - `'order_hour_of_day'`: hora del día en que se hizo el pedido.\n",
    "    - `'days_since_prior_order'`: número de días transcurridos desde que este cliente hizo su pedido anterior.\n",
    "- `products.csv`: cada fila corresponde a un producto único que pueden comprar los clientes.\n",
    "    - `'product_id'`: número ID que identifica de manera única cada producto.\n",
    "    - `'product_name'`: nombre del producto.\n",
    "    - `'aisle_id'`: número ID que identifica de manera única cada categoría de pasillo de víveres.\n",
    "    - `'department_id'`: número ID que identifica de manera única cada departamento de víveres.\n",
    "- `order_products.csv`: cada fila corresponde a un artículo pedido en un pedido.\n",
    "    - `'order_id'`: número de ID que identifica de manera única cada pedido.\n",
    "    - `'product_id'`: número ID que identifica de manera única cada producto.\n",
    "    - `'add_to_cart_order'`: el orden secuencial en el que se añadió cada artículo en el carrito.\n",
    "    - `'reordered'`: 0 si el cliente nunca ha pedido este producto antes, 1 si lo ha pedido.\n",
    "- `aisles.csv`\n",
    "    - `'aisle_id'`: número ID que identifica de manera única cada categoría de pasillo de víveres.\n",
    "    - `'aisle'`: nombre del pasillo.\n",
    "- `departments.csv`\n",
    "    - `'department_id'`: número ID que identifica de manera única cada departamento de víveres.\n",
    "    - `'department'`: nombre del departamento."
   ]
  },
  {
   "cell_type": "markdown",
   "id": "n3Ha_cNSZ8lK",
   "metadata": {
    "id": "n3Ha_cNSZ8lK"
   },
   "source": [
    "# Paso 1. Descripción de los datos\n",
    "\n",
    "Lee los archivos de datos (`/datasets/instacart_orders.csv`, `/datasets/products.csv`, `/datasets/aisles.csv`, `/datasets/departments.csv` y `/datasets/order_products.csv`) con `pd.read_csv()` usando los parámetros adecuados para leer los datos correctamente. Verifica la información para cada DataFrame creado.\n"
   ]
  },
  {
   "cell_type": "markdown",
   "id": "OmlQPLlyaAfR",
   "metadata": {
    "id": "OmlQPLlyaAfR"
   },
   "source": [
    "## Plan de solución\n",
    "\n",
    "Escribe aquí tu plan de solución para el Paso 1. Descripción de los datos."
   ]
  },
  {
   "cell_type": "code",
   "execution_count": 114,
   "id": "fbf1adab",
   "metadata": {
    "id": "fbf1adab"
   },
   "outputs": [],
   "source": [
    "import pandas as pd \n",
    "from matplotlib import pyplot as plt\n",
    "# importar librerías"
   ]
  },
  {
   "cell_type": "code",
   "execution_count": 115,
   "id": "ad36396d",
   "metadata": {
    "id": "ad36396d"
   },
   "outputs": [],
   "source": [
    "df_instacart_orders = pd.read_csv('/datasets/instacart_orders.csv', sep=';')\n",
    "df_products = pd.read_csv('/datasets/products.csv', sep=';')\n",
    "df_aisles = pd.read_csv('/datasets/aisles.csv', sep=';')\n",
    "df_departments = pd.read_csv('/datasets/departments.csv', sep=';')\n",
    "df_order_products = pd.read_csv('/datasets/order_products.csv', sep=';') # leer conjuntos de datos en los DataFrames"
   ]
  },
  {
   "cell_type": "code",
   "execution_count": 116,
   "id": "ad6a1efa",
   "metadata": {
    "id": "ad6a1efa"
   },
   "outputs": [
    {
     "name": "stdout",
     "output_type": "stream",
     "text": [
      "<class 'pandas.core.frame.DataFrame'>\n",
      "RangeIndex: 478967 entries, 0 to 478966\n",
      "Data columns (total 6 columns):\n",
      " #   Column                  Non-Null Count   Dtype  \n",
      "---  ------                  --------------   -----  \n",
      " 0   order_id                478967 non-null  int64  \n",
      " 1   user_id                 478967 non-null  int64  \n",
      " 2   order_number            478967 non-null  int64  \n",
      " 3   order_dow               478967 non-null  int64  \n",
      " 4   order_hour_of_day       478967 non-null  int64  \n",
      " 5   days_since_prior_order  450148 non-null  float64\n",
      "dtypes: float64(1), int64(5)\n",
      "memory usage: 21.9 MB\n"
     ]
    },
    {
     "data": {
      "text/html": [
       "<div>\n",
       "<style scoped>\n",
       "    .dataframe tbody tr th:only-of-type {\n",
       "        vertical-align: middle;\n",
       "    }\n",
       "\n",
       "    .dataframe tbody tr th {\n",
       "        vertical-align: top;\n",
       "    }\n",
       "\n",
       "    .dataframe thead th {\n",
       "        text-align: right;\n",
       "    }\n",
       "</style>\n",
       "<table border=\"1\" class=\"dataframe\">\n",
       "  <thead>\n",
       "    <tr style=\"text-align: right;\">\n",
       "      <th></th>\n",
       "      <th>order_id</th>\n",
       "      <th>user_id</th>\n",
       "      <th>order_number</th>\n",
       "      <th>order_dow</th>\n",
       "      <th>order_hour_of_day</th>\n",
       "      <th>days_since_prior_order</th>\n",
       "    </tr>\n",
       "  </thead>\n",
       "  <tbody>\n",
       "    <tr>\n",
       "      <th>count</th>\n",
       "      <td>4.789670e+05</td>\n",
       "      <td>478967.000000</td>\n",
       "      <td>478967.000000</td>\n",
       "      <td>478967.000000</td>\n",
       "      <td>478967.000000</td>\n",
       "      <td>450148.000000</td>\n",
       "    </tr>\n",
       "    <tr>\n",
       "      <th>mean</th>\n",
       "      <td>1.709947e+06</td>\n",
       "      <td>102966.537475</td>\n",
       "      <td>17.157808</td>\n",
       "      <td>2.775058</td>\n",
       "      <td>13.446676</td>\n",
       "      <td>11.101751</td>\n",
       "    </tr>\n",
       "    <tr>\n",
       "      <th>std</th>\n",
       "      <td>9.869480e+05</td>\n",
       "      <td>59525.328991</td>\n",
       "      <td>17.704688</td>\n",
       "      <td>2.045869</td>\n",
       "      <td>4.224986</td>\n",
       "      <td>9.189975</td>\n",
       "    </tr>\n",
       "    <tr>\n",
       "      <th>min</th>\n",
       "      <td>4.000000e+00</td>\n",
       "      <td>2.000000</td>\n",
       "      <td>1.000000</td>\n",
       "      <td>0.000000</td>\n",
       "      <td>0.000000</td>\n",
       "      <td>0.000000</td>\n",
       "    </tr>\n",
       "    <tr>\n",
       "      <th>25%</th>\n",
       "      <td>8.564685e+05</td>\n",
       "      <td>51414.000000</td>\n",
       "      <td>5.000000</td>\n",
       "      <td>1.000000</td>\n",
       "      <td>10.000000</td>\n",
       "      <td>4.000000</td>\n",
       "    </tr>\n",
       "    <tr>\n",
       "      <th>50%</th>\n",
       "      <td>1.709522e+06</td>\n",
       "      <td>102633.000000</td>\n",
       "      <td>11.000000</td>\n",
       "      <td>3.000000</td>\n",
       "      <td>13.000000</td>\n",
       "      <td>7.000000</td>\n",
       "    </tr>\n",
       "    <tr>\n",
       "      <th>75%</th>\n",
       "      <td>2.562990e+06</td>\n",
       "      <td>154419.000000</td>\n",
       "      <td>23.000000</td>\n",
       "      <td>5.000000</td>\n",
       "      <td>16.000000</td>\n",
       "      <td>15.000000</td>\n",
       "    </tr>\n",
       "    <tr>\n",
       "      <th>max</th>\n",
       "      <td>3.421079e+06</td>\n",
       "      <td>206209.000000</td>\n",
       "      <td>100.000000</td>\n",
       "      <td>6.000000</td>\n",
       "      <td>23.000000</td>\n",
       "      <td>30.000000</td>\n",
       "    </tr>\n",
       "  </tbody>\n",
       "</table>\n",
       "</div>"
      ],
      "text/plain": [
       "           order_id        user_id   order_number      order_dow  \\\n",
       "count  4.789670e+05  478967.000000  478967.000000  478967.000000   \n",
       "mean   1.709947e+06  102966.537475      17.157808       2.775058   \n",
       "std    9.869480e+05   59525.328991      17.704688       2.045869   \n",
       "min    4.000000e+00       2.000000       1.000000       0.000000   \n",
       "25%    8.564685e+05   51414.000000       5.000000       1.000000   \n",
       "50%    1.709522e+06  102633.000000      11.000000       3.000000   \n",
       "75%    2.562990e+06  154419.000000      23.000000       5.000000   \n",
       "max    3.421079e+06  206209.000000     100.000000       6.000000   \n",
       "\n",
       "       order_hour_of_day  days_since_prior_order  \n",
       "count      478967.000000           450148.000000  \n",
       "mean           13.446676               11.101751  \n",
       "std             4.224986                9.189975  \n",
       "min             0.000000                0.000000  \n",
       "25%            10.000000                4.000000  \n",
       "50%            13.000000                7.000000  \n",
       "75%            16.000000               15.000000  \n",
       "max            23.000000               30.000000  "
      ]
     },
     "execution_count": 116,
     "metadata": {},
     "output_type": "execute_result"
    }
   ],
   "source": [
    "df_instacart_orders.info()\n",
    "df_instacart_orders.describe()# mostrar información del DataFrame"
   ]
  },
  {
   "cell_type": "code",
   "execution_count": 117,
   "id": "5130e05e",
   "metadata": {
    "id": "5130e05e"
   },
   "outputs": [
    {
     "name": "stdout",
     "output_type": "stream",
     "text": [
      "<class 'pandas.core.frame.DataFrame'>\n",
      "RangeIndex: 49694 entries, 0 to 49693\n",
      "Data columns (total 4 columns):\n",
      " #   Column         Non-Null Count  Dtype \n",
      "---  ------         --------------  ----- \n",
      " 0   product_id     49694 non-null  int64 \n",
      " 1   product_name   48436 non-null  object\n",
      " 2   aisle_id       49694 non-null  int64 \n",
      " 3   department_id  49694 non-null  int64 \n",
      "dtypes: int64(3), object(1)\n",
      "memory usage: 1.5+ MB\n"
     ]
    },
    {
     "data": {
      "text/html": [
       "<div>\n",
       "<style scoped>\n",
       "    .dataframe tbody tr th:only-of-type {\n",
       "        vertical-align: middle;\n",
       "    }\n",
       "\n",
       "    .dataframe tbody tr th {\n",
       "        vertical-align: top;\n",
       "    }\n",
       "\n",
       "    .dataframe thead th {\n",
       "        text-align: right;\n",
       "    }\n",
       "</style>\n",
       "<table border=\"1\" class=\"dataframe\">\n",
       "  <thead>\n",
       "    <tr style=\"text-align: right;\">\n",
       "      <th></th>\n",
       "      <th>product_id</th>\n",
       "      <th>aisle_id</th>\n",
       "      <th>department_id</th>\n",
       "    </tr>\n",
       "  </thead>\n",
       "  <tbody>\n",
       "    <tr>\n",
       "      <th>count</th>\n",
       "      <td>49694.000000</td>\n",
       "      <td>49694.000000</td>\n",
       "      <td>49694.000000</td>\n",
       "    </tr>\n",
       "    <tr>\n",
       "      <th>mean</th>\n",
       "      <td>24847.500000</td>\n",
       "      <td>67.773192</td>\n",
       "      <td>11.728478</td>\n",
       "    </tr>\n",
       "    <tr>\n",
       "      <th>std</th>\n",
       "      <td>14345.566475</td>\n",
       "      <td>38.317265</td>\n",
       "      <td>5.850314</td>\n",
       "    </tr>\n",
       "    <tr>\n",
       "      <th>min</th>\n",
       "      <td>1.000000</td>\n",
       "      <td>1.000000</td>\n",
       "      <td>1.000000</td>\n",
       "    </tr>\n",
       "    <tr>\n",
       "      <th>25%</th>\n",
       "      <td>12424.250000</td>\n",
       "      <td>35.000000</td>\n",
       "      <td>7.000000</td>\n",
       "    </tr>\n",
       "    <tr>\n",
       "      <th>50%</th>\n",
       "      <td>24847.500000</td>\n",
       "      <td>69.000000</td>\n",
       "      <td>13.000000</td>\n",
       "    </tr>\n",
       "    <tr>\n",
       "      <th>75%</th>\n",
       "      <td>37270.750000</td>\n",
       "      <td>100.000000</td>\n",
       "      <td>17.000000</td>\n",
       "    </tr>\n",
       "    <tr>\n",
       "      <th>max</th>\n",
       "      <td>49694.000000</td>\n",
       "      <td>134.000000</td>\n",
       "      <td>21.000000</td>\n",
       "    </tr>\n",
       "  </tbody>\n",
       "</table>\n",
       "</div>"
      ],
      "text/plain": [
       "         product_id      aisle_id  department_id\n",
       "count  49694.000000  49694.000000   49694.000000\n",
       "mean   24847.500000     67.773192      11.728478\n",
       "std    14345.566475     38.317265       5.850314\n",
       "min        1.000000      1.000000       1.000000\n",
       "25%    12424.250000     35.000000       7.000000\n",
       "50%    24847.500000     69.000000      13.000000\n",
       "75%    37270.750000    100.000000      17.000000\n",
       "max    49694.000000    134.000000      21.000000"
      ]
     },
     "execution_count": 117,
     "metadata": {},
     "output_type": "execute_result"
    }
   ],
   "source": [
    "df_products.info(show_counts=True)\n",
    "df_products.describe()# mostrar información del DataFrame"
   ]
  },
  {
   "cell_type": "code",
   "execution_count": 118,
   "id": "d8370c05",
   "metadata": {
    "id": "d8370c05"
   },
   "outputs": [
    {
     "name": "stdout",
     "output_type": "stream",
     "text": [
      "<class 'pandas.core.frame.DataFrame'>\n",
      "RangeIndex: 134 entries, 0 to 133\n",
      "Data columns (total 2 columns):\n",
      " #   Column    Non-Null Count  Dtype \n",
      "---  ------    --------------  ----- \n",
      " 0   aisle_id  134 non-null    int64 \n",
      " 1   aisle     134 non-null    object\n",
      "dtypes: int64(1), object(1)\n",
      "memory usage: 2.2+ KB\n"
     ]
    },
    {
     "data": {
      "text/html": [
       "<div>\n",
       "<style scoped>\n",
       "    .dataframe tbody tr th:only-of-type {\n",
       "        vertical-align: middle;\n",
       "    }\n",
       "\n",
       "    .dataframe tbody tr th {\n",
       "        vertical-align: top;\n",
       "    }\n",
       "\n",
       "    .dataframe thead th {\n",
       "        text-align: right;\n",
       "    }\n",
       "</style>\n",
       "<table border=\"1\" class=\"dataframe\">\n",
       "  <thead>\n",
       "    <tr style=\"text-align: right;\">\n",
       "      <th></th>\n",
       "      <th>aisle_id</th>\n",
       "    </tr>\n",
       "  </thead>\n",
       "  <tbody>\n",
       "    <tr>\n",
       "      <th>count</th>\n",
       "      <td>134.000000</td>\n",
       "    </tr>\n",
       "    <tr>\n",
       "      <th>mean</th>\n",
       "      <td>67.500000</td>\n",
       "    </tr>\n",
       "    <tr>\n",
       "      <th>std</th>\n",
       "      <td>38.826537</td>\n",
       "    </tr>\n",
       "    <tr>\n",
       "      <th>min</th>\n",
       "      <td>1.000000</td>\n",
       "    </tr>\n",
       "    <tr>\n",
       "      <th>25%</th>\n",
       "      <td>34.250000</td>\n",
       "    </tr>\n",
       "    <tr>\n",
       "      <th>50%</th>\n",
       "      <td>67.500000</td>\n",
       "    </tr>\n",
       "    <tr>\n",
       "      <th>75%</th>\n",
       "      <td>100.750000</td>\n",
       "    </tr>\n",
       "    <tr>\n",
       "      <th>max</th>\n",
       "      <td>134.000000</td>\n",
       "    </tr>\n",
       "  </tbody>\n",
       "</table>\n",
       "</div>"
      ],
      "text/plain": [
       "         aisle_id\n",
       "count  134.000000\n",
       "mean    67.500000\n",
       "std     38.826537\n",
       "min      1.000000\n",
       "25%     34.250000\n",
       "50%     67.500000\n",
       "75%    100.750000\n",
       "max    134.000000"
      ]
     },
     "execution_count": 118,
     "metadata": {},
     "output_type": "execute_result"
    }
   ],
   "source": [
    "df_aisles.info(show_counts=True)\n",
    "df_aisles.describe()# mostrar información del DataFrame"
   ]
  },
  {
   "cell_type": "code",
   "execution_count": 119,
   "id": "59e2090f",
   "metadata": {
    "id": "59e2090f"
   },
   "outputs": [
    {
     "name": "stdout",
     "output_type": "stream",
     "text": [
      "<class 'pandas.core.frame.DataFrame'>\n",
      "RangeIndex: 21 entries, 0 to 20\n",
      "Data columns (total 2 columns):\n",
      " #   Column         Non-Null Count  Dtype \n",
      "---  ------         --------------  ----- \n",
      " 0   department_id  21 non-null     int64 \n",
      " 1   department     21 non-null     object\n",
      "dtypes: int64(1), object(1)\n",
      "memory usage: 464.0+ bytes\n"
     ]
    },
    {
     "data": {
      "text/html": [
       "<div>\n",
       "<style scoped>\n",
       "    .dataframe tbody tr th:only-of-type {\n",
       "        vertical-align: middle;\n",
       "    }\n",
       "\n",
       "    .dataframe tbody tr th {\n",
       "        vertical-align: top;\n",
       "    }\n",
       "\n",
       "    .dataframe thead th {\n",
       "        text-align: right;\n",
       "    }\n",
       "</style>\n",
       "<table border=\"1\" class=\"dataframe\">\n",
       "  <thead>\n",
       "    <tr style=\"text-align: right;\">\n",
       "      <th></th>\n",
       "      <th>product_id</th>\n",
       "      <th>aisle_id</th>\n",
       "      <th>department_id</th>\n",
       "    </tr>\n",
       "  </thead>\n",
       "  <tbody>\n",
       "    <tr>\n",
       "      <th>count</th>\n",
       "      <td>49694.000000</td>\n",
       "      <td>49694.000000</td>\n",
       "      <td>49694.000000</td>\n",
       "    </tr>\n",
       "    <tr>\n",
       "      <th>mean</th>\n",
       "      <td>24847.500000</td>\n",
       "      <td>67.773192</td>\n",
       "      <td>11.728478</td>\n",
       "    </tr>\n",
       "    <tr>\n",
       "      <th>std</th>\n",
       "      <td>14345.566475</td>\n",
       "      <td>38.317265</td>\n",
       "      <td>5.850314</td>\n",
       "    </tr>\n",
       "    <tr>\n",
       "      <th>min</th>\n",
       "      <td>1.000000</td>\n",
       "      <td>1.000000</td>\n",
       "      <td>1.000000</td>\n",
       "    </tr>\n",
       "    <tr>\n",
       "      <th>25%</th>\n",
       "      <td>12424.250000</td>\n",
       "      <td>35.000000</td>\n",
       "      <td>7.000000</td>\n",
       "    </tr>\n",
       "    <tr>\n",
       "      <th>50%</th>\n",
       "      <td>24847.500000</td>\n",
       "      <td>69.000000</td>\n",
       "      <td>13.000000</td>\n",
       "    </tr>\n",
       "    <tr>\n",
       "      <th>75%</th>\n",
       "      <td>37270.750000</td>\n",
       "      <td>100.000000</td>\n",
       "      <td>17.000000</td>\n",
       "    </tr>\n",
       "    <tr>\n",
       "      <th>max</th>\n",
       "      <td>49694.000000</td>\n",
       "      <td>134.000000</td>\n",
       "      <td>21.000000</td>\n",
       "    </tr>\n",
       "  </tbody>\n",
       "</table>\n",
       "</div>"
      ],
      "text/plain": [
       "         product_id      aisle_id  department_id\n",
       "count  49694.000000  49694.000000   49694.000000\n",
       "mean   24847.500000     67.773192      11.728478\n",
       "std    14345.566475     38.317265       5.850314\n",
       "min        1.000000      1.000000       1.000000\n",
       "25%    12424.250000     35.000000       7.000000\n",
       "50%    24847.500000     69.000000      13.000000\n",
       "75%    37270.750000    100.000000      17.000000\n",
       "max    49694.000000    134.000000      21.000000"
      ]
     },
     "execution_count": 119,
     "metadata": {},
     "output_type": "execute_result"
    }
   ],
   "source": [
    "df_departments.info(show_counts=True)\n",
    "df_products.describe()# mostrar información del DataFrame"
   ]
  },
  {
   "cell_type": "code",
   "execution_count": 120,
   "id": "6fc81694",
   "metadata": {
    "id": "6fc81694"
   },
   "outputs": [
    {
     "name": "stdout",
     "output_type": "stream",
     "text": [
      "<class 'pandas.core.frame.DataFrame'>\n",
      "RangeIndex: 4545007 entries, 0 to 4545006\n",
      "Data columns (total 4 columns):\n",
      " #   Column             Non-Null Count    Dtype  \n",
      "---  ------             --------------    -----  \n",
      " 0   order_id           4545007 non-null  int64  \n",
      " 1   product_id         4545007 non-null  int64  \n",
      " 2   add_to_cart_order  4544171 non-null  float64\n",
      " 3   reordered          4545007 non-null  int64  \n",
      "dtypes: float64(1), int64(3)\n",
      "memory usage: 138.7 MB\n"
     ]
    },
    {
     "data": {
      "text/html": [
       "<div>\n",
       "<style scoped>\n",
       "    .dataframe tbody tr th:only-of-type {\n",
       "        vertical-align: middle;\n",
       "    }\n",
       "\n",
       "    .dataframe tbody tr th {\n",
       "        vertical-align: top;\n",
       "    }\n",
       "\n",
       "    .dataframe thead th {\n",
       "        text-align: right;\n",
       "    }\n",
       "</style>\n",
       "<table border=\"1\" class=\"dataframe\">\n",
       "  <thead>\n",
       "    <tr style=\"text-align: right;\">\n",
       "      <th></th>\n",
       "      <th>order_id</th>\n",
       "      <th>product_id</th>\n",
       "      <th>add_to_cart_order</th>\n",
       "      <th>reordered</th>\n",
       "    </tr>\n",
       "  </thead>\n",
       "  <tbody>\n",
       "    <tr>\n",
       "      <th>count</th>\n",
       "      <td>4.545007e+06</td>\n",
       "      <td>4.545007e+06</td>\n",
       "      <td>4.544171e+06</td>\n",
       "      <td>4.545007e+06</td>\n",
       "    </tr>\n",
       "    <tr>\n",
       "      <th>mean</th>\n",
       "      <td>1.711166e+06</td>\n",
       "      <td>2.558084e+04</td>\n",
       "      <td>8.351669e+00</td>\n",
       "      <td>5.905025e-01</td>\n",
       "    </tr>\n",
       "    <tr>\n",
       "      <th>std</th>\n",
       "      <td>9.850955e+05</td>\n",
       "      <td>1.409552e+04</td>\n",
       "      <td>7.080368e+00</td>\n",
       "      <td>4.917411e-01</td>\n",
       "    </tr>\n",
       "    <tr>\n",
       "      <th>min</th>\n",
       "      <td>4.000000e+00</td>\n",
       "      <td>1.000000e+00</td>\n",
       "      <td>1.000000e+00</td>\n",
       "      <td>0.000000e+00</td>\n",
       "    </tr>\n",
       "    <tr>\n",
       "      <th>25%</th>\n",
       "      <td>8.608170e+05</td>\n",
       "      <td>1.353500e+04</td>\n",
       "      <td>3.000000e+00</td>\n",
       "      <td>0.000000e+00</td>\n",
       "    </tr>\n",
       "    <tr>\n",
       "      <th>50%</th>\n",
       "      <td>1.711530e+06</td>\n",
       "      <td>2.527200e+04</td>\n",
       "      <td>6.000000e+00</td>\n",
       "      <td>1.000000e+00</td>\n",
       "    </tr>\n",
       "    <tr>\n",
       "      <th>75%</th>\n",
       "      <td>2.561311e+06</td>\n",
       "      <td>3.793500e+04</td>\n",
       "      <td>1.100000e+01</td>\n",
       "      <td>1.000000e+00</td>\n",
       "    </tr>\n",
       "    <tr>\n",
       "      <th>max</th>\n",
       "      <td>3.421079e+06</td>\n",
       "      <td>4.969400e+04</td>\n",
       "      <td>6.400000e+01</td>\n",
       "      <td>1.000000e+00</td>\n",
       "    </tr>\n",
       "  </tbody>\n",
       "</table>\n",
       "</div>"
      ],
      "text/plain": [
       "           order_id    product_id  add_to_cart_order     reordered\n",
       "count  4.545007e+06  4.545007e+06       4.544171e+06  4.545007e+06\n",
       "mean   1.711166e+06  2.558084e+04       8.351669e+00  5.905025e-01\n",
       "std    9.850955e+05  1.409552e+04       7.080368e+00  4.917411e-01\n",
       "min    4.000000e+00  1.000000e+00       1.000000e+00  0.000000e+00\n",
       "25%    8.608170e+05  1.353500e+04       3.000000e+00  0.000000e+00\n",
       "50%    1.711530e+06  2.527200e+04       6.000000e+00  1.000000e+00\n",
       "75%    2.561311e+06  3.793500e+04       1.100000e+01  1.000000e+00\n",
       "max    3.421079e+06  4.969400e+04       6.400000e+01  1.000000e+00"
      ]
     },
     "execution_count": 120,
     "metadata": {},
     "output_type": "execute_result"
    }
   ],
   "source": [
    "df_order_products.info(show_counts=True)\n",
    "df_order_products.describe()# mostrar información del DataFrame"
   ]
  },
  {
   "cell_type": "markdown",
   "id": "t75BD19oaR5f",
   "metadata": {
    "id": "t75BD19oaR5f"
   },
   "source": [
    "## Conclusiones\n",
    "\n",
    "Escribe aquí tus conclusiones intermedias sobre el Paso 1. Descripción de los datos.\n",
    "\n",
    "Tenemos 5 dataframes, vemos que en algunas columnas hay valores ausentes.\n",
    "Vemos que se comparten las mismas columnas en varios dataframes como product_id, order_id, department_id.\n",
    "Tenemos datos de tipo object, float e int.\n",
    "Hay 2 data frames con entradas mayores a 450000, otra con 49000 entradas aprox y las demas son menores a 134.\n"
   ]
  },
  {
   "cell_type": "markdown",
   "id": "8RJHqxVmaVsF",
   "metadata": {
    "id": "8RJHqxVmaVsF"
   },
   "source": [
    "# Paso 2. Preprocesamiento de los datos\n",
    "\n",
    "Preprocesa los datos de la siguiente manera:\n",
    "\n",
    "- Verifica y corrige los tipos de datos (por ejemplo, asegúrate de que las columnas de ID sean números enteros).\n",
    "- Identifica y completa los valores ausentes.\n",
    "- Identifica y elimina los valores duplicados.\n",
    "\n",
    "Asegúrate de explicar qué tipos de valores ausentes y duplicados encontraste, cómo los completaste o eliminaste y por qué usaste esos métodos. ¿Por qué crees que estos valores ausentes y duplicados pueden haber estado presentes en el conjunto de datos?"
   ]
  },
  {
   "cell_type": "markdown",
   "id": "p6poABZQaZYb",
   "metadata": {
    "id": "p6poABZQaZYb"
   },
   "source": [
    "## Plan de solución\n",
    "\n",
    "Escribe aquí tu plan para el Paso 2. Preprocesamiento de los datos.\n"
   ]
  },
  {
   "cell_type": "markdown",
   "id": "651ba318",
   "metadata": {
    "id": "p6poABZQaZYb"
   },
   "source": [
    "- Verifica y corrige los tipos de datos (por ejemplo, asegúrate de que las columnas de ID sean números enteros):\n",
    "\n",
    "Usando el codigo .dtypes podemos ver los tipos de datos que tiene nuestro dataframe, en este caso vemos que las columnas de ID son numeros enteros. En caso de que necesitemos cambiar el tipo de dato, usariamos el codigo .astype(int), .astype(float), .astype(str) segun sea mas conveniente para nuestro analisis.\n",
    "\n",
    "- Identifica y completa los valores ausentes:\n",
    "\n",
    "Para identificar la cantidad de valores ausentes por columnas se usan los codigos .isnull().sum() o .isna().sum(); en caso de hallar valores ausentes podemos completarlos con un valor especifico usando el codigo .fillna(); si quisieramos eliminar estos valores ausentes usamos .dropna() pero hay que tener en cuenta que estos cambios no deben alterar el resultado de nuestro analisis.\n",
    "\n",
    "- Identifica y elimina los valores duplicados:\n",
    "\n",
    "Para identificar los valores duplicados se usa .duplicated().sum().\n",
    "Con el metodo .value_counts() podemos ver cuántas veces aparece cada categoría en esa columna, citando a esta de la siguiente forma: df['col_1'].value_counts(). \n",
    "Al querer eliminar los valores duplicados usamos .drop_duplicates(). Si solo queremos eliminar los duplicados de ciertas columnas usamos el parámetro subset=. Ejemplo: .drop_duplicates(subset='col_1')\n",
    "\n",
    "- Asegúrate de explicar qué tipos de valores ausentes y duplicados encontraste, cómo los completaste o eliminaste y por qué usaste esos métodos:\n",
    "\n",
    "Encontramos valores ausentes como NaN o datos faltantes. En caso de valores duplicados podriamos ver filas duplicadas; o valores duplicados en una columna, por ejemplo dicha columna puede mencionar las mismas categorias pero quizas algunas esten en mayusculas, minusculas, con letras repetidas o escritas incorrectamente: bueno, BUENO, bbueno, beuno.\n",
    "\n",
    "- ¿Por qué crees que estos valores ausentes y duplicados pueden haber estado presentes en el conjunto de datos?:\n",
    "\n",
    "Quizas al ser tipeados hubo algun error de entrada, o simplemente no hay informacion de ese dato o se evita dar respuesta a ello, en el caso de encuestas por ejemplo."
   ]
  },
  {
   "cell_type": "code",
   "execution_count": 121,
   "id": "fc03eb44",
   "metadata": {},
   "outputs": [
    {
     "name": "stdout",
     "output_type": "stream",
     "text": [
      "order_id                    int64\n",
      "user_id                     int64\n",
      "order_number                int64\n",
      "order_dow                   int64\n",
      "order_hour_of_day           int64\n",
      "days_since_prior_order    float64\n",
      "dtype: object\n",
      "\n",
      "product_id        int64\n",
      "product_name     object\n",
      "aisle_id          int64\n",
      "department_id     int64\n",
      "dtype: object\n",
      "\n",
      "aisle_id     int64\n",
      "aisle       object\n",
      "dtype: object\n",
      "\n",
      "department_id     int64\n",
      "department       object\n",
      "dtype: object\n",
      "\n",
      "order_id               int64\n",
      "product_id             int64\n",
      "add_to_cart_order    float64\n",
      "reordered              int64\n",
      "dtype: object\n"
     ]
    }
   ],
   "source": [
    "print(df_instacart_orders.dtypes)\n",
    "print()\n",
    "print(df_products.dtypes)\n",
    "print()\n",
    "print(df_aisles.dtypes)\n",
    "print()\n",
    "print(df_departments.dtypes)\n",
    "print()\n",
    "print(df_order_products.dtypes)"
   ]
  },
  {
   "cell_type": "markdown",
   "id": "07357848-dc64-4156-9cc3-01ff4365226d",
   "metadata": {
    "id": "07357848-dc64-4156-9cc3-01ff4365226d"
   },
   "source": [
    "## Encuentra y elimina los valores duplicados (y describe cómo tomaste tus decisiones)."
   ]
  },
  {
   "cell_type": "markdown",
   "id": "f98cf924",
   "metadata": {
    "id": "f179f0a9"
   },
   "source": [
    "Vamos a ver si hay valores duplicados en las filas. Para ellos veremos que items se repiten."
   ]
  },
  {
   "cell_type": "code",
   "execution_count": 122,
   "id": "b99297a5-405a-463d-8535-9adc3da4ad74",
   "metadata": {
    "id": "b99297a5-405a-463d-8535-9adc3da4ad74"
   },
   "outputs": [
    {
     "name": "stdout",
     "output_type": "stream",
     "text": [
      "15\n",
      "\n",
      "15\n",
      "\n"
     ]
    },
    {
     "data": {
      "text/plain": [
       "2125197    2\n",
       "1782114    2\n",
       "1286742    2\n",
       "391768     2\n",
       "1021560    2\n",
       "          ..\n",
       "1273706    1\n",
       "689148     1\n",
       "1752059    1\n",
       "2794488    1\n",
       "2047       1\n",
       "Name: order_id, Length: 478952, dtype: int64"
      ]
     },
     "execution_count": 122,
     "metadata": {},
     "output_type": "execute_result"
    }
   ],
   "source": [
    "print(df_instacart_orders.duplicated().sum()) # numero de filas duplicadas\n",
    "print()\n",
    "print(df_instacart_orders['order_id'].duplicated().sum()) # numero de filas duplicadas en la columna order_id\n",
    "print()\n",
    "df_instacart_orders['order_id'].value_counts() # veces de valor duplicado\n",
    "\n",
    "# Revisa si hay pedidos duplicados"
   ]
  },
  {
   "cell_type": "markdown",
   "id": "PEkwUX_gvt5A",
   "metadata": {
    "id": "PEkwUX_gvt5A"
   },
   "source": [
    "¿Tienes líneas duplicadas? Si sí, ¿qué tienen en común?\n",
    "\n",
    "Si, se repiten los numeros de pedido, lo cual no deberia suceder, ya que nos indican que el número de ID en \"order_id\" identifica de manera única cada pedido."
   ]
  },
  {
   "cell_type": "code",
   "execution_count": 123,
   "id": "0d44de5d",
   "metadata": {
    "id": "0d44de5d"
   },
   "outputs": [
    {
     "data": {
      "text/html": [
       "<div>\n",
       "<style scoped>\n",
       "    .dataframe tbody tr th:only-of-type {\n",
       "        vertical-align: middle;\n",
       "    }\n",
       "\n",
       "    .dataframe tbody tr th {\n",
       "        vertical-align: top;\n",
       "    }\n",
       "\n",
       "    .dataframe thead th {\n",
       "        text-align: right;\n",
       "    }\n",
       "</style>\n",
       "<table border=\"1\" class=\"dataframe\">\n",
       "  <thead>\n",
       "    <tr style=\"text-align: right;\">\n",
       "      <th></th>\n",
       "      <th>order_id</th>\n",
       "      <th>user_id</th>\n",
       "      <th>order_number</th>\n",
       "      <th>order_dow</th>\n",
       "      <th>order_hour_of_day</th>\n",
       "      <th>days_since_prior_order</th>\n",
       "    </tr>\n",
       "  </thead>\n",
       "  <tbody>\n",
       "    <tr>\n",
       "      <th>4838</th>\n",
       "      <td>2766110</td>\n",
       "      <td>162084</td>\n",
       "      <td>41</td>\n",
       "      <td>3</td>\n",
       "      <td>2</td>\n",
       "      <td>16.0</td>\n",
       "    </tr>\n",
       "    <tr>\n",
       "      <th>5156</th>\n",
       "      <td>2190225</td>\n",
       "      <td>138285</td>\n",
       "      <td>18</td>\n",
       "      <td>3</td>\n",
       "      <td>2</td>\n",
       "      <td>11.0</td>\n",
       "    </tr>\n",
       "    <tr>\n",
       "      <th>15506</th>\n",
       "      <td>553049</td>\n",
       "      <td>58599</td>\n",
       "      <td>13</td>\n",
       "      <td>3</td>\n",
       "      <td>2</td>\n",
       "      <td>7.0</td>\n",
       "    </tr>\n",
       "    <tr>\n",
       "      <th>18420</th>\n",
       "      <td>382357</td>\n",
       "      <td>120200</td>\n",
       "      <td>19</td>\n",
       "      <td>3</td>\n",
       "      <td>2</td>\n",
       "      <td>11.0</td>\n",
       "    </tr>\n",
       "    <tr>\n",
       "      <th>24691</th>\n",
       "      <td>690242</td>\n",
       "      <td>77357</td>\n",
       "      <td>2</td>\n",
       "      <td>3</td>\n",
       "      <td>2</td>\n",
       "      <td>9.0</td>\n",
       "    </tr>\n",
       "    <tr>\n",
       "      <th>...</th>\n",
       "      <td>...</td>\n",
       "      <td>...</td>\n",
       "      <td>...</td>\n",
       "      <td>...</td>\n",
       "      <td>...</td>\n",
       "      <td>...</td>\n",
       "    </tr>\n",
       "    <tr>\n",
       "      <th>457013</th>\n",
       "      <td>3384021</td>\n",
       "      <td>14881</td>\n",
       "      <td>6</td>\n",
       "      <td>3</td>\n",
       "      <td>2</td>\n",
       "      <td>30.0</td>\n",
       "    </tr>\n",
       "    <tr>\n",
       "      <th>458816</th>\n",
       "      <td>910166</td>\n",
       "      <td>164782</td>\n",
       "      <td>18</td>\n",
       "      <td>3</td>\n",
       "      <td>2</td>\n",
       "      <td>4.0</td>\n",
       "    </tr>\n",
       "    <tr>\n",
       "      <th>459635</th>\n",
       "      <td>1680532</td>\n",
       "      <td>106435</td>\n",
       "      <td>6</td>\n",
       "      <td>3</td>\n",
       "      <td>2</td>\n",
       "      <td>21.0</td>\n",
       "    </tr>\n",
       "    <tr>\n",
       "      <th>468324</th>\n",
       "      <td>222962</td>\n",
       "      <td>54979</td>\n",
       "      <td>59</td>\n",
       "      <td>3</td>\n",
       "      <td>2</td>\n",
       "      <td>3.0</td>\n",
       "    </tr>\n",
       "    <tr>\n",
       "      <th>477526</th>\n",
       "      <td>2592344</td>\n",
       "      <td>46860</td>\n",
       "      <td>38</td>\n",
       "      <td>3</td>\n",
       "      <td>2</td>\n",
       "      <td>3.0</td>\n",
       "    </tr>\n",
       "  </tbody>\n",
       "</table>\n",
       "<p>121 rows × 6 columns</p>\n",
       "</div>"
      ],
      "text/plain": [
       "        order_id  user_id  order_number  order_dow  order_hour_of_day  \\\n",
       "4838     2766110   162084            41          3                  2   \n",
       "5156     2190225   138285            18          3                  2   \n",
       "15506     553049    58599            13          3                  2   \n",
       "18420     382357   120200            19          3                  2   \n",
       "24691     690242    77357             2          3                  2   \n",
       "...          ...      ...           ...        ...                ...   \n",
       "457013   3384021    14881             6          3                  2   \n",
       "458816    910166   164782            18          3                  2   \n",
       "459635   1680532   106435             6          3                  2   \n",
       "468324    222962    54979            59          3                  2   \n",
       "477526   2592344    46860            38          3                  2   \n",
       "\n",
       "        days_since_prior_order  \n",
       "4838                      16.0  \n",
       "5156                      11.0  \n",
       "15506                      7.0  \n",
       "18420                     11.0  \n",
       "24691                      9.0  \n",
       "...                        ...  \n",
       "457013                    30.0  \n",
       "458816                     4.0  \n",
       "459635                    21.0  \n",
       "468324                     3.0  \n",
       "477526                     3.0  \n",
       "\n",
       "[121 rows x 6 columns]"
      ]
     },
     "execution_count": 123,
     "metadata": {},
     "output_type": "execute_result"
    }
   ],
   "source": [
    "orders_3_2am = df_instacart_orders[(df_instacart_orders['order_dow'] == 3 ) & (df_instacart_orders['order_hour_of_day'] == 2)]\n",
    "orders_3_2am\n",
    "\n",
    "# Basándote en tus hallazgos,\n",
    "# Verifica todos los pedidos que se hicieron el miércoles a las 2:00 a.m.\n"
   ]
  },
  {
   "cell_type": "markdown",
   "id": "vu2OWyoqwOx5",
   "metadata": {
    "id": "vu2OWyoqwOx5"
   },
   "source": [
    "¿Qué sugiere este resultado? Que tenemos 121 pedidos que se realizaron el dia miercoles a las 2am, sin embargo sabemos que hay valores duplicados en base a los resulatdos mostrados anteriormente."
   ]
  },
  {
   "cell_type": "code",
   "execution_count": 124,
   "id": "480563c7",
   "metadata": {
    "id": "480563c7"
   },
   "outputs": [
    {
     "data": {
      "text/html": [
       "<div>\n",
       "<style scoped>\n",
       "    .dataframe tbody tr th:only-of-type {\n",
       "        vertical-align: middle;\n",
       "    }\n",
       "\n",
       "    .dataframe tbody tr th {\n",
       "        vertical-align: top;\n",
       "    }\n",
       "\n",
       "    .dataframe thead th {\n",
       "        text-align: right;\n",
       "    }\n",
       "</style>\n",
       "<table border=\"1\" class=\"dataframe\">\n",
       "  <thead>\n",
       "    <tr style=\"text-align: right;\">\n",
       "      <th></th>\n",
       "      <th>order_id</th>\n",
       "      <th>user_id</th>\n",
       "      <th>order_number</th>\n",
       "      <th>order_dow</th>\n",
       "      <th>order_hour_of_day</th>\n",
       "      <th>days_since_prior_order</th>\n",
       "    </tr>\n",
       "  </thead>\n",
       "  <tbody>\n",
       "    <tr>\n",
       "      <th>0</th>\n",
       "      <td>1515936</td>\n",
       "      <td>183418</td>\n",
       "      <td>11</td>\n",
       "      <td>6</td>\n",
       "      <td>13</td>\n",
       "      <td>30.0</td>\n",
       "    </tr>\n",
       "    <tr>\n",
       "      <th>1</th>\n",
       "      <td>1690866</td>\n",
       "      <td>163593</td>\n",
       "      <td>5</td>\n",
       "      <td>5</td>\n",
       "      <td>12</td>\n",
       "      <td>9.0</td>\n",
       "    </tr>\n",
       "    <tr>\n",
       "      <th>2</th>\n",
       "      <td>1454967</td>\n",
       "      <td>39980</td>\n",
       "      <td>4</td>\n",
       "      <td>5</td>\n",
       "      <td>19</td>\n",
       "      <td>2.0</td>\n",
       "    </tr>\n",
       "    <tr>\n",
       "      <th>3</th>\n",
       "      <td>1768857</td>\n",
       "      <td>82516</td>\n",
       "      <td>56</td>\n",
       "      <td>0</td>\n",
       "      <td>20</td>\n",
       "      <td>10.0</td>\n",
       "    </tr>\n",
       "    <tr>\n",
       "      <th>4</th>\n",
       "      <td>3007858</td>\n",
       "      <td>196724</td>\n",
       "      <td>2</td>\n",
       "      <td>4</td>\n",
       "      <td>12</td>\n",
       "      <td>17.0</td>\n",
       "    </tr>\n",
       "    <tr>\n",
       "      <th>...</th>\n",
       "      <td>...</td>\n",
       "      <td>...</td>\n",
       "      <td>...</td>\n",
       "      <td>...</td>\n",
       "      <td>...</td>\n",
       "      <td>...</td>\n",
       "    </tr>\n",
       "    <tr>\n",
       "      <th>478962</th>\n",
       "      <td>3210681</td>\n",
       "      <td>5617</td>\n",
       "      <td>5</td>\n",
       "      <td>1</td>\n",
       "      <td>14</td>\n",
       "      <td>7.0</td>\n",
       "    </tr>\n",
       "    <tr>\n",
       "      <th>478963</th>\n",
       "      <td>3270802</td>\n",
       "      <td>112087</td>\n",
       "      <td>2</td>\n",
       "      <td>3</td>\n",
       "      <td>13</td>\n",
       "      <td>6.0</td>\n",
       "    </tr>\n",
       "    <tr>\n",
       "      <th>478964</th>\n",
       "      <td>885349</td>\n",
       "      <td>82944</td>\n",
       "      <td>16</td>\n",
       "      <td>2</td>\n",
       "      <td>11</td>\n",
       "      <td>6.0</td>\n",
       "    </tr>\n",
       "    <tr>\n",
       "      <th>478965</th>\n",
       "      <td>216274</td>\n",
       "      <td>4391</td>\n",
       "      <td>3</td>\n",
       "      <td>3</td>\n",
       "      <td>8</td>\n",
       "      <td>8.0</td>\n",
       "    </tr>\n",
       "    <tr>\n",
       "      <th>478966</th>\n",
       "      <td>2071924</td>\n",
       "      <td>1730</td>\n",
       "      <td>18</td>\n",
       "      <td>1</td>\n",
       "      <td>14</td>\n",
       "      <td>15.0</td>\n",
       "    </tr>\n",
       "  </tbody>\n",
       "</table>\n",
       "<p>478952 rows × 6 columns</p>\n",
       "</div>"
      ],
      "text/plain": [
       "        order_id  user_id  order_number  order_dow  order_hour_of_day  \\\n",
       "0        1515936   183418            11          6                 13   \n",
       "1        1690866   163593             5          5                 12   \n",
       "2        1454967    39980             4          5                 19   \n",
       "3        1768857    82516            56          0                 20   \n",
       "4        3007858   196724             2          4                 12   \n",
       "...          ...      ...           ...        ...                ...   \n",
       "478962   3210681     5617             5          1                 14   \n",
       "478963   3270802   112087             2          3                 13   \n",
       "478964    885349    82944            16          2                 11   \n",
       "478965    216274     4391             3          3                  8   \n",
       "478966   2071924     1730            18          1                 14   \n",
       "\n",
       "        days_since_prior_order  \n",
       "0                         30.0  \n",
       "1                          9.0  \n",
       "2                          2.0  \n",
       "3                         10.0  \n",
       "4                         17.0  \n",
       "...                        ...  \n",
       "478962                     7.0  \n",
       "478963                     6.0  \n",
       "478964                     6.0  \n",
       "478965                     8.0  \n",
       "478966                    15.0  \n",
       "\n",
       "[478952 rows x 6 columns]"
      ]
     },
     "execution_count": 124,
     "metadata": {},
     "output_type": "execute_result"
    }
   ],
   "source": [
    "df_instacart_orders = (df_instacart_orders.drop_duplicates(subset='order_id'))\n",
    "\n",
    "df_instacart_orders\n",
    "\n",
    "# Elimina los pedidos duplicados\n"
   ]
  },
  {
   "cell_type": "code",
   "execution_count": 125,
   "id": "0b2396a2",
   "metadata": {
    "id": "0b2396a2"
   },
   "outputs": [
    {
     "data": {
      "text/plain": [
       "0"
      ]
     },
     "execution_count": 125,
     "metadata": {},
     "output_type": "execute_result"
    }
   ],
   "source": [
    "df_instacart_orders.duplicated().sum() # Vuelve a verificar si hay filas duplicadas\n"
   ]
  },
  {
   "cell_type": "code",
   "execution_count": 126,
   "id": "f6113ef1",
   "metadata": {
    "id": "f6113ef1"
   },
   "outputs": [
    {
     "data": {
      "text/plain": [
       "0"
      ]
     },
     "execution_count": 126,
     "metadata": {},
     "output_type": "execute_result"
    }
   ],
   "source": [
    "df_instacart_orders['order_id'].duplicated().sum() # Vuelve a verificar únicamente si hay IDs duplicados de pedidos\n"
   ]
  },
  {
   "cell_type": "markdown",
   "id": "5e8905ae",
   "metadata": {
    "id": "5e8905ae"
   },
   "source": [
    "Describe brevemente tus hallazgos y lo que hiciste con ellos\n",
    "\n",
    "Al inicio encontramos 15 filas duplicadas, las cuales las hemos verificado por la columna 'order_id', ya que sus valores representan a cada pedido de forma unica. Luego procedimos a eliminarlas, guardar los cambios en el dataframe y verificar nuevamente."
   ]
  },
  {
   "cell_type": "markdown",
   "id": "45e6bc46",
   "metadata": {
    "id": "45e6bc46"
   },
   "source": [
    "### `products` data frame"
   ]
  },
  {
   "cell_type": "code",
   "execution_count": 127,
   "id": "5f526b5b-8175-46fa-a0fd-441767d50e64",
   "metadata": {
    "id": "5f526b5b-8175-46fa-a0fd-441767d50e64"
   },
   "outputs": [
    {
     "data": {
      "text/plain": [
       "0"
      ]
     },
     "execution_count": 127,
     "metadata": {},
     "output_type": "execute_result"
    }
   ],
   "source": [
    "df_products.duplicated().sum() # Verifica si hay filas totalmente duplicadas\n"
   ]
  },
  {
   "cell_type": "code",
   "execution_count": 128,
   "id": "88daa4f4",
   "metadata": {
    "id": "88daa4f4"
   },
   "outputs": [
    {
     "data": {
      "text/plain": [
       "49673"
      ]
     },
     "execution_count": 128,
     "metadata": {},
     "output_type": "execute_result"
    }
   ],
   "source": [
    "df_products['department_id'].duplicated().sum() # Revisa únicamente si hay ID de departamentos duplicados\n"
   ]
  },
  {
   "cell_type": "code",
   "execution_count": 129,
   "id": "c773f0bf",
   "metadata": {
    "id": "c773f0bf"
   },
   "outputs": [
    {
     "data": {
      "text/plain": [
       "1361"
      ]
     },
     "execution_count": 129,
     "metadata": {},
     "output_type": "execute_result"
    }
   ],
   "source": [
    "df_products['product_name'] = df_products['product_name'].str.upper()\n",
    "df_products['product_name'].duplicated().sum()\n",
    "\n",
    "# Revisa únicamente si hay nombres duplicados de productos (convierte los nombres a letras mayúsculas para compararlos mejor)"
   ]
  },
  {
   "cell_type": "code",
   "execution_count": 130,
   "id": "01efd02e",
   "metadata": {
    "id": "01efd02e",
    "scrolled": true
   },
   "outputs": [
    {
     "data": {
      "text/plain": [
       "1361"
      ]
     },
     "execution_count": 130,
     "metadata": {},
     "output_type": "execute_result"
    }
   ],
   "source": [
    "df_products_prod_faltantes = df_products[~(df_products['product_id'] =='')]['product_name']\n",
    "                               \n",
    "df_products_prod_faltantes.duplicated().sum()\n",
    "\n",
    "# Revisa si hay nombres duplicados de productos no faltantes"
   ]
  },
  {
   "cell_type": "markdown",
   "id": "9da8d293",
   "metadata": {
    "id": "9da8d293"
   },
   "source": [
    "Describe brevemente tus hallazgos y lo que hiciste con ellos.\n",
    "\n",
    "Hemos hallado que no hay filas totalmente duplicadas en todo el dataframe, sin embargo hay id de departamente que si se repiten, lo cual es entendible puesto que varios productos pueden pertenecer a un solo departamento.\n",
    "Hemos cambiado todos los nombres de productos a mayusculas para hallar duplicados sin errores ortograficos y vemos que hay 1361 nombres duplicados para productos. Tambien hemos filtrado la tabla para ver los id de los productos con su respectivo nombre y vemos que hay nombres duplicados, estos son 1361."
   ]
  },
  {
   "cell_type": "markdown",
   "id": "60f30db1",
   "metadata": {
    "id": "60f30db1"
   },
   "source": [
    "### `departments` data frame"
   ]
  },
  {
   "cell_type": "code",
   "execution_count": 131,
   "id": "fb410ad4-0fbf-4b80-bb09-23fdea79afe3",
   "metadata": {
    "id": "fb410ad4-0fbf-4b80-bb09-23fdea79afe3"
   },
   "outputs": [
    {
     "data": {
      "text/plain": [
       "0"
      ]
     },
     "execution_count": 131,
     "metadata": {},
     "output_type": "execute_result"
    }
   ],
   "source": [
    "df_departments.duplicated().sum() # Revisa si hay filas totalmente duplicadas"
   ]
  },
  {
   "cell_type": "code",
   "execution_count": 132,
   "id": "332b12bb",
   "metadata": {
    "id": "332b12bb"
   },
   "outputs": [
    {
     "data": {
      "text/plain": [
       "0"
      ]
     },
     "execution_count": 132,
     "metadata": {},
     "output_type": "execute_result"
    }
   ],
   "source": [
    "df_departments['department_id'].duplicated().sum() # Revisa únicamente si hay IDs duplicadas de productos"
   ]
  },
  {
   "cell_type": "markdown",
   "id": "bd30d78e",
   "metadata": {
    "id": "bd30d78e"
   },
   "source": [
    "Describe brevemente tus hallazgos y lo que hiciste con ellos.\n",
    "\n",
    "No hay duplicados"
   ]
  },
  {
   "cell_type": "markdown",
   "id": "889349c1",
   "metadata": {
    "id": "889349c1"
   },
   "source": [
    "### `aisles` data frame"
   ]
  },
  {
   "cell_type": "code",
   "execution_count": 133,
   "id": "9da89fb9-4679-40f5-ad0d-c34df753a3f8",
   "metadata": {
    "id": "9da89fb9-4679-40f5-ad0d-c34df753a3f8"
   },
   "outputs": [
    {
     "data": {
      "text/plain": [
       "0"
      ]
     },
     "execution_count": 133,
     "metadata": {},
     "output_type": "execute_result"
    }
   ],
   "source": [
    "df_aisles.duplicated().sum() # Revisa si hay filas totalmente duplicadas"
   ]
  },
  {
   "cell_type": "code",
   "execution_count": 134,
   "id": "da7c2822",
   "metadata": {
    "id": "da7c2822"
   },
   "outputs": [
    {
     "data": {
      "text/plain": [
       "0"
      ]
     },
     "execution_count": 134,
     "metadata": {},
     "output_type": "execute_result"
    }
   ],
   "source": [
    "df_aisles['aisle_id'].duplicated().sum() # Revisa únicamente si hay IDs duplicadas de productos"
   ]
  },
  {
   "cell_type": "markdown",
   "id": "ac63826f",
   "metadata": {
    "id": "ac63826f"
   },
   "source": [
    "Describe brevemente tus hallazgos y lo que hiciste con ellos.\n",
    "\n",
    "No hay duplicados"
   ]
  },
  {
   "cell_type": "markdown",
   "id": "274cd06a",
   "metadata": {
    "id": "274cd06a"
   },
   "source": [
    "### `order_products` data frame"
   ]
  },
  {
   "cell_type": "code",
   "execution_count": 135,
   "id": "52326689-84a8-4b8f-a881-7c68780f62c9",
   "metadata": {
    "id": "52326689-84a8-4b8f-a881-7c68780f62c9"
   },
   "outputs": [
    {
     "data": {
      "text/plain": [
       "0"
      ]
     },
     "execution_count": 135,
     "metadata": {},
     "output_type": "execute_result"
    }
   ],
   "source": [
    "df_order_products.duplicated().sum() # Revisa si hay filas totalmente duplicadas\n"
   ]
  },
  {
   "cell_type": "code",
   "execution_count": 136,
   "id": "7b861391",
   "metadata": {
    "id": "7b861391"
   },
   "outputs": [
    {
     "data": {
      "text/plain": [
       "0"
      ]
     },
     "execution_count": 136,
     "metadata": {},
     "output_type": "execute_result"
    }
   ],
   "source": [
    "df_order_products.duplicated(subset=['order_id','product_id']).sum() # Vuelve a verificar si hay cualquier otro duplicado engañoso!!!!!!"
   ]
  },
  {
   "cell_type": "markdown",
   "id": "0b890492",
   "metadata": {
    "id": "0b890492"
   },
   "source": [
    "Describe brevemente tus hallazgos y lo que hiciste con ellos.\n",
    "\n",
    "No hay duplicados"
   ]
  },
  {
   "cell_type": "markdown",
   "id": "1e46de76",
   "metadata": {
    "id": "1e46de76"
   },
   "source": [
    "## Encuentra y elimina los valores ausentes\n",
    "\n",
    "Al trabajar con valores duplicados, pudimos observar que también nos falta investigar valores ausentes:\n",
    "\n",
    "* La columna `'product_name'` de la tabla products.\n",
    "* La columna `'days_since_prior_order'` de la tabla orders.\n",
    "* La columna `'add_to_cart_order'` de la tabla order_productos."
   ]
  },
  {
   "cell_type": "markdown",
   "id": "c0aebd78",
   "metadata": {
    "id": "c0aebd78"
   },
   "source": [
    "### `products` data frame"
   ]
  },
  {
   "cell_type": "code",
   "execution_count": 137,
   "id": "fe4a8b0f",
   "metadata": {
    "id": "fe4a8b0f"
   },
   "outputs": [
    {
     "data": {
      "text/plain": [
       "1258"
      ]
     },
     "execution_count": 137,
     "metadata": {},
     "output_type": "execute_result"
    }
   ],
   "source": [
    "df_products['product_name'].isnull().sum() # Encuentra los valores ausentes en la columna 'product_name'"
   ]
  },
  {
   "cell_type": "markdown",
   "id": "-A6x1AbJhjkp",
   "metadata": {
    "id": "-A6x1AbJhjkp"
   },
   "source": [
    "Describe brevemente cuáles son tus hallazgos.\n",
    "\n",
    "Hay 1258 valores ausentes en la columna product_name. Probablemente no ingresaron el nombre de algunos productos."
   ]
  },
  {
   "cell_type": "code",
   "execution_count": 138,
   "id": "e96167bc",
   "metadata": {
    "id": "e96167bc"
   },
   "outputs": [
    {
     "name": "stdout",
     "output_type": "stream",
     "text": [
      "       product_id product_name  aisle_id  department_id\n",
      "37             38          NaN       100             21\n",
      "71             72          NaN       100             21\n",
      "109           110          NaN       100             21\n",
      "296           297          NaN       100             21\n",
      "416           417          NaN       100             21\n",
      "...           ...          ...       ...            ...\n",
      "49552       49553          NaN       100             21\n",
      "49574       49575          NaN       100             21\n",
      "49640       49641          NaN       100             21\n",
      "49663       49664          NaN       100             21\n",
      "49668       49669          NaN       100             21\n",
      "\n",
      "[1258 rows x 4 columns]\n"
     ]
    }
   ],
   "source": [
    "ausentes_pasillo_100 = df_products[(df_products['product_name'].isnull()) & (df_products['aisle_id'] ==100)]\n",
    "\n",
    "print(ausentes_pasillo_100)\n",
    "\n",
    "# ¿Todos los nombres de productos ausentes están relacionados con el pasillo con ID 100?"
   ]
  },
  {
   "cell_type": "markdown",
   "id": "WRpIfXRphpSL",
   "metadata": {
    "id": "WRpIfXRphpSL"
   },
   "source": [
    "Describe brevemente cuáles son tus hallazgos.\n",
    "\n",
    "Los 1258 valores ausentes que son los productos sin nombre pertencen solo al pasillo 100."
   ]
  },
  {
   "cell_type": "code",
   "execution_count": 139,
   "id": "8fd0a541",
   "metadata": {
    "id": "8fd0a541"
   },
   "outputs": [
    {
     "name": "stdout",
     "output_type": "stream",
     "text": [
      "       product_id product_name  aisle_id  department_id\n",
      "37             38          NaN       100             21\n",
      "71             72          NaN       100             21\n",
      "109           110          NaN       100             21\n",
      "296           297          NaN       100             21\n",
      "416           417          NaN       100             21\n",
      "...           ...          ...       ...            ...\n",
      "49552       49553          NaN       100             21\n",
      "49574       49575          NaN       100             21\n",
      "49640       49641          NaN       100             21\n",
      "49663       49664          NaN       100             21\n",
      "49668       49669          NaN       100             21\n",
      "\n",
      "[1258 rows x 4 columns]\n"
     ]
    }
   ],
   "source": [
    "ausentes_department_21 = df_products[(df_products['product_name'].isnull()) & (df_products['department_id'] ==21)]\n",
    "\n",
    "print(ausentes_department_21)\n",
    "\n",
    "# ¿Todos los nombres de productos ausentes están relacionados con el departamento con ID 21?\n"
   ]
  },
  {
   "cell_type": "markdown",
   "id": "qDpdYn1Fht_I",
   "metadata": {
    "id": "qDpdYn1Fht_I"
   },
   "source": [
    "Describe brevemente cuáles son tus hallazgos.\n",
    "\n",
    "Todos los 1258 valores ausentes que son los productos sin nombre pertencen al departamento 21."
   ]
  },
  {
   "cell_type": "code",
   "execution_count": 140,
   "id": "325c3464",
   "metadata": {
    "id": "325c3464"
   },
   "outputs": [
    {
     "data": {
      "text/html": [
       "<div>\n",
       "<style scoped>\n",
       "    .dataframe tbody tr th:only-of-type {\n",
       "        vertical-align: middle;\n",
       "    }\n",
       "\n",
       "    .dataframe tbody tr th {\n",
       "        vertical-align: top;\n",
       "    }\n",
       "\n",
       "    .dataframe thead th {\n",
       "        text-align: right;\n",
       "    }\n",
       "</style>\n",
       "<table border=\"1\" class=\"dataframe\">\n",
       "  <thead>\n",
       "    <tr style=\"text-align: right;\">\n",
       "      <th></th>\n",
       "      <th>department_id</th>\n",
       "      <th>department</th>\n",
       "    </tr>\n",
       "  </thead>\n",
       "  <tbody>\n",
       "    <tr>\n",
       "      <th>20</th>\n",
       "      <td>21</td>\n",
       "      <td>missing</td>\n",
       "    </tr>\n",
       "  </tbody>\n",
       "</table>\n",
       "</div>"
      ],
      "text/plain": [
       "    department_id department\n",
       "20             21    missing"
      ]
     },
     "execution_count": 140,
     "metadata": {},
     "output_type": "execute_result"
    }
   ],
   "source": [
    "departamento_21 = df_departments[(df_departments['department_id'] == 21)]\n",
    "departamento_21\n",
    "\n",
    "# Usa las tablas department y aisle para revisar los datos del pasillo con ID 100 y el departamento con ID 21. "
   ]
  },
  {
   "cell_type": "code",
   "execution_count": 141,
   "id": "01d5d689",
   "metadata": {},
   "outputs": [
    {
     "data": {
      "text/html": [
       "<div>\n",
       "<style scoped>\n",
       "    .dataframe tbody tr th:only-of-type {\n",
       "        vertical-align: middle;\n",
       "    }\n",
       "\n",
       "    .dataframe tbody tr th {\n",
       "        vertical-align: top;\n",
       "    }\n",
       "\n",
       "    .dataframe thead th {\n",
       "        text-align: right;\n",
       "    }\n",
       "</style>\n",
       "<table border=\"1\" class=\"dataframe\">\n",
       "  <thead>\n",
       "    <tr style=\"text-align: right;\">\n",
       "      <th></th>\n",
       "      <th>aisle_id</th>\n",
       "      <th>aisle</th>\n",
       "    </tr>\n",
       "  </thead>\n",
       "  <tbody>\n",
       "    <tr>\n",
       "      <th>99</th>\n",
       "      <td>100</td>\n",
       "      <td>missing</td>\n",
       "    </tr>\n",
       "  </tbody>\n",
       "</table>\n",
       "</div>"
      ],
      "text/plain": [
       "    aisle_id    aisle\n",
       "99       100  missing"
      ]
     },
     "execution_count": 141,
     "metadata": {},
     "output_type": "execute_result"
    }
   ],
   "source": [
    "pasillo_100 = df_aisles[(df_aisles['aisle_id'] == 100)]       \n",
    "pasillo_100"
   ]
  },
  {
   "cell_type": "markdown",
   "id": "nqhSTUPhhvEJ",
   "metadata": {
    "id": "nqhSTUPhhvEJ"
   },
   "source": [
    "Describe brevemente cuáles son tus hallazgos.\n",
    "\n",
    "Hay 1258 productos que tienen diferentes id, pero que no tienen nombre y todos estos pertenecen al pasillo 100 y departamento 21."
   ]
  },
  {
   "cell_type": "code",
   "execution_count": 142,
   "id": "6b295120",
   "metadata": {
    "id": "6b295120"
   },
   "outputs": [
    {
     "name": "stdout",
     "output_type": "stream",
     "text": [
      "<class 'pandas.core.frame.DataFrame'>\n",
      "RangeIndex: 49694 entries, 0 to 49693\n",
      "Data columns (total 4 columns):\n",
      " #   Column         Non-Null Count  Dtype \n",
      "---  ------         --------------  ----- \n",
      " 0   product_id     49694 non-null  int64 \n",
      " 1   product_name   49694 non-null  object\n",
      " 2   aisle_id       49694 non-null  int64 \n",
      " 3   department_id  49694 non-null  int64 \n",
      "dtypes: int64(3), object(1)\n",
      "memory usage: 1.5+ MB\n"
     ]
    }
   ],
   "source": [
    "df_products['product_name']= df_products['product_name'].fillna('Unknown')\n",
    "df_products.info()\n",
    "# Completa los nombres de productos ausentes con 'Unknown'"
   ]
  },
  {
   "cell_type": "markdown",
   "id": "fc70e5ad",
   "metadata": {
    "id": "fc70e5ad"
   },
   "source": [
    "Describe brevemente tus hallazgos y lo que hiciste con ellos.\n",
    "\n",
    "Hemos completado los valores ausentes en la columna product_name con la palabra Unknown usando el metodo .fillna. Por lo tanto, ahora ya no hay valores ausentes en el dataframe, tal como se muestra con info()."
   ]
  },
  {
   "cell_type": "markdown",
   "id": "7eb45c86",
   "metadata": {
    "id": "7eb45c86"
   },
   "source": [
    "### `orders` data frame"
   ]
  },
  {
   "cell_type": "code",
   "execution_count": 143,
   "id": "93e41d96",
   "metadata": {
    "id": "93e41d96"
   },
   "outputs": [
    {
     "name": "stdout",
     "output_type": "stream",
     "text": [
      "order_id                      0\n",
      "user_id                       0\n",
      "order_number                  0\n",
      "order_dow                     0\n",
      "order_hour_of_day             0\n",
      "days_since_prior_order    28817\n",
      "dtype: int64\n"
     ]
    }
   ],
   "source": [
    "print(df_instacart_orders.isnull().sum()) # Encuentra los valores ausentes"
   ]
  },
  {
   "cell_type": "code",
   "execution_count": 144,
   "id": "166e5a86",
   "metadata": {
    "id": "166e5a86"
   },
   "outputs": [
    {
     "name": "stdout",
     "output_type": "stream",
     "text": [
      "order_id                  0.0\n",
      "user_id                   0.0\n",
      "order_number              0.0\n",
      "order_dow                 0.0\n",
      "order_hour_of_day         0.0\n",
      "days_since_prior_order    0.0\n",
      "dtype: float64\n"
     ]
    }
   ],
   "source": [
    "aus_no_primer_pedido = df_instacart_orders[(df_instacart_orders['days_since_prior_order'].isnull()) & ~(df_instacart_orders['order_number'] == 1)]\n",
    "    \n",
    "print(aus_no_primer_pedido.sum())  # ¿Hay algún valor ausente que no sea el primer pedido del cliente?"
   ]
  },
  {
   "cell_type": "markdown",
   "id": "4e23d089",
   "metadata": {
    "id": "4e23d089"
   },
   "source": [
    "Describe brevemente tus hallazgos y lo que hiciste con ellos.\n",
    "\n",
    "En el dataframe vemos que hay 28817 valores ausentes en la columna days_since_prior_order, sin embargo no hay valores ausentes en esa misma columna cuando no son el primer pedido del cliente. Por lo tanto se entiende que haya valores ausentes cuando el cliente hace su primer pedido, ya que no se puede contabilizar el número de días transcurridos desde que este cliente hizo su pedido anterior, porque este pedido anterior no existiria.\n"
   ]
  },
  {
   "cell_type": "markdown",
   "id": "69dc9ca4",
   "metadata": {
    "id": "69dc9ca4"
   },
   "source": [
    "### `order_products` data frame"
   ]
  },
  {
   "cell_type": "code",
   "execution_count": 145,
   "id": "b8240253",
   "metadata": {
    "id": "b8240253"
   },
   "outputs": [
    {
     "name": "stdout",
     "output_type": "stream",
     "text": [
      "order_id               0\n",
      "product_id             0\n",
      "add_to_cart_order    836\n",
      "reordered              0\n",
      "dtype: int64\n"
     ]
    }
   ],
   "source": [
    "print(df_order_products.isnull().sum()) # Encuentra los valores ausentes"
   ]
  },
  {
   "cell_type": "code",
   "execution_count": 146,
   "id": "9a78e5ee",
   "metadata": {
    "id": "9a78e5ee"
   },
   "outputs": [
    {
     "name": "stdout",
     "output_type": "stream",
     "text": [
      "64.0\n",
      "1.0\n"
     ]
    }
   ],
   "source": [
    "print(df_order_products['add_to_cart_order'].max())  # ¿Cuáles son los valores mínimos y máximos en esta columna?\n",
    "print(df_order_products['add_to_cart_order'].min())"
   ]
  },
  {
   "cell_type": "markdown",
   "id": "-Z2Ja215jW78",
   "metadata": {
    "id": "-Z2Ja215jW78"
   },
   "source": [
    "Describe brevemente cuáles son tus hallazgos.\n",
    "\n",
    "Hay 836 valores ausentes en la columna \"add_to_cart_order\", y la orden secuencial en que se anadio cada articulo muestra que 1 es el minimo y 64 el maximo."
   ]
  },
  {
   "cell_type": "code",
   "execution_count": 147,
   "id": "ab9d0c2b",
   "metadata": {
    "id": "ab9d0c2b"
   },
   "outputs": [
    {
     "name": "stdout",
     "output_type": "stream",
     "text": [
      "836\n",
      "[2449164 1968313 2926893 1717990 1959075  844733   61355  936852  264710\n",
      " 1717990 1564093  129627  264710  293169 2849370 1386261 3308010  903110\n",
      " 2136777 3347453 1888628  165801 2449164 2094761 3347453 1038146 2136777\n",
      " 2997021  844733  844733 2136777  813364  165801 2256933  171934  264710\n",
      " 2449164 2409109 3347453  813364 2926893  936852 1730767 1169835  733526\n",
      "  844733  293169   61355  903110 1968313  733526 2136777 2926893  404157\n",
      " 1386261  171934 3125735  747668 3308010 1169835 1800005 1961723  936852\n",
      " 2849370 3308010   61355  871281 1717990  813364  388234   61355 3125735\n",
      " 1959075   61355 3125735 1648217  171934 3125735   61355 1477139 1959075\n",
      " 1717990 1717990   61355 1717990  171934 1038146 3308010 3347453  102236\n",
      "  936852  171934 1730767 2926893 1021563 1832957 1959075 2256933 1968313\n",
      " 2721963  293169  102236 3125735 1959075  264710  678116 1220886 1386261\n",
      "  171934 1959075   61355 3308010   61355  102236  388234  171934 3308010\n",
      " 1961723 2721963 3308010 1564093  264710  404157 1673227  813364 2094761\n",
      "  844733 1386261 1959075 3125735   61355  102236 3308010 1386261  936852\n",
      " 2999801 1038146 1888628  813364 1800005 1968313 3308010 2449164  388234\n",
      " 3125735  102236  903110 1832957  102236 3308010 2926893  388234 1800005\n",
      " 2094761 2721963  844733 2136777 2926893  813364 2136777 1673227 1633337\n",
      " 1021563  102236 1800005 1477139 2470674 1220886 2470674 1648217  264710\n",
      " 1832957 2721963 2849370 2625444  871281 1717990 1220886 1677118 1730767\n",
      " 1730767  678116  102236 2136777   61355 2136777  903110  844733 2849370\n",
      " 1832957 1730767 2479011 3383594   61355 1832957 1021563 1021563 1959075\n",
      " 1832957  813364   61355   61355 2926893 1959075 1648217 2136777  264710\n",
      " 1800005 2094761 2926893 1959075  264710   61355 3308010 2256933  936852\n",
      " 3308010 1038146 1183255 2256933 1832957 1386261 1713430 1730767 2136777\n",
      " 3308010 1717990  171934 1968313 1717990 2136777 1648217 1968313 2652650\n",
      "  733526 1673227 2849370   61355 3308010 1169835 3308010  171934 2999801\n",
      " 1717990 1386261  936852 1968313 1713430 1800005 2136777  264710  264710\n",
      " 2926893  165801 1598369 2997021 1730767   61355 1916118 1730767 3308010\n",
      " 2479011 2449164   61355 3125735 2094761 1888628 3125735  264710  171934\n",
      " 1800005 1038146 1959075  102236 3308010 1386261 1800005 2470674 2926893\n",
      " 2470674  102236 3308010 1717990  903110 2997021  129627 3383594 3308010\n",
      " 1386261  854647  102236 1038146 3308010  936852  264710  264710 1800005\n",
      "   61355 1220886 2136777  293169 1800005 1888628  813364 2136777   61355\n",
      " 1730767 1021563 2721963 1730767 1564093 3308010 2849370 3308010 1302315\n",
      " 1888628   61355 1959075   61355 2136777  733526 3308010 1730767 1183255\n",
      "  264710 1730767  678116 2721963 2136777 3308010 2721963 2409109  871281\n",
      "  171934  678116 2849370  813364 3125735 1730767   61355 2999801 1648217\n",
      "  936852 3125735   61355 2849370 1220886 1959075 2256933  171934 2926893\n",
      " 2926893  404157 2136777 3308010 1021563  404157  171934   61355 2094761\n",
      " 1832957  293169  813364  293169 3125735 1021563 1800005 3308010  936852\n",
      "  264710  171934  888470 1673227  871281 1800005 3308010 1730767  180546\n",
      " 2621907 1730767  936852 1959075 1169835 1730767 2926893  854647 2449164\n",
      " 3308010 2470674 1183255   61355 1386261  903110 2094761  903110  264710\n",
      " 1648217  293169 2479011 1730767 1730767 2926893   61355 3125735 1959075\n",
      " 2409109 2926893 1021563 1386261 3308010 2926893 1800005   61355 2449164\n",
      "  102236 3308010 1308785 1800005 2926893   61355 2136777 1717990 3308010\n",
      " 1730767  871281 1673227  102236 2136777 1717990  813364 1800005 1959075\n",
      "  813364  165801 2136777 2729254 1673227 1961723   61355 1183255 2136777\n",
      " 1302315 1386261 2849370  171934 2136777 3308010  733526 1959075    9310\n",
      "  813364 2170451 1800005  404157  871281 3125735 2721963  404157  129627\n",
      "  678116 2926893  264710 2256933  102236  102236 1021563  264710 2926893\n",
      "  936852  102236 1968313  936852  293169 2136777 2136777   61355 1183255\n",
      " 1730767 1800005 2479011 1386261 1800005 1673227 3308010 2926893 2926893\n",
      "   61355 1832957 1717990  813364 2999801  264710 3308010 3347453 3308010\n",
      "  936852  813364  404157  171934  903110  871281  102236   61355  813364\n",
      "  102236 3308010 1800005 1832957 2479011  171934  171934  844733 3308010\n",
      "  171934 1800005  404157 1673227 3383594 3308010 2136777  102236 1717990\n",
      " 2094761  102236 1959075  171934 2136777 1386261 2136777 2449164  171934\n",
      " 3308010 1220886 2136777 1959075 2136777  171934  936852 3308010 2470674\n",
      "  871281 2721963  102236   61355 3125735 3308010 1386261 1717990  293169\n",
      "   61355 1386261 2721963 2136777 1888628  264710 1564093 2136777 1730767\n",
      " 2849370 2721963  293169  264710 2721963 3125735 1959075  404157  171934\n",
      "   61355 1959075  871281   61355 1183255 1673227 2849370 1477139 1730767\n",
      "  903110  844733 3308010 1673227   61355  171934 2926893 2926893 1959075\n",
      " 2479011 3347453 2721963 2625444  171934  813364  102236   61355  844733\n",
      " 2721963 1302315  813364   61355 2926893 1968313 1968313  264710 1717990\n",
      " 1730767 2136777 2721963 2136777 2721963  171934  171934 2979697 1730767\n",
      " 1888628 1625713 2136777 1800005 2094761 1961723 1564093 1959075 1916118\n",
      "   61355 2997021  293169 3308010 1529171   61355 2256933 1959075 2449164\n",
      " 1673227 2479011 1888628 1800005 2470674 1386261 3125735 2721963 2926893\n",
      " 1800005 1386261 2136777   61355  171934 3308010   61355  936852   61355\n",
      "  936852  293169 1386261  171934 1800005  871281 3125735   61355 1959075\n",
      " 1968313 1717990 3308010  844733  129627  844733  264710  165801 1386261\n",
      " 2136777 2721963 1730767 3125735 2136777 1183255  171934  936852  854647\n",
      " 1386261 2926893 1961723   61355 1730767 1633337   61355 1959075  102236\n",
      "  404157 1968313 1386261 2136777 2999801 1529171 2721963   61355 3383594\n",
      " 1730767  936852 2926893  102236 1959075  102236 1713430 3383594  102236\n",
      " 1959075  678116 2449164  844733   61355 3308010   61355 2136777  264710\n",
      "  171934  813364 3308010 1730767   61355  102236   61355 1717990 3308010\n",
      " 1968313  129627  936852   61355   61355  165801 2409109 2926893   61355\n",
      " 1961723 1832957 1961723 1183255   61355 2999801 1220886 3125735  171934\n",
      "  388234  102236  102236   61355 2721963 1800005 1968313 2136777   61355\n",
      " 1220886   61355  936852 1673227  936852 1673227 1625713  171934 2136777\n",
      " 1800005 1730767  264710  102236   61355  903110 2136777 1959075 3125735\n",
      "  171934 1169835 3308010   61355 1959075 2721963  813364 1477139 1888628\n",
      " 1730767 1959075 2479011 3308010 2721963 1717990 2409109  171934  171934\n",
      " 1183255 1800005  171934 2136777  388234  264710   61355 1730767 1717990\n",
      " 1916118  264710 3125735 1959075  813364 3347453  293169  171934 1386261\n",
      " 1183255 1717990 1308785 2625444  171934  102236 1386261 1968313 1386261\n",
      "  404157 1959075 1832957 1961723  936852 1386261 2449164  171934 1959075\n",
      " 2449164  180546 1183255 1386261 1968313 2136777 3308010 2479011 2979697\n",
      " 1888628 1832957 1961723 1800005 1633337  404157 1673227 1832957]\n"
     ]
    }
   ],
   "source": [
    "ped_ausente_add = df_order_products[df_order_products['add_to_cart_order'].isna()]['order_id']\n",
    "print(ped_ausente_add.count())\n",
    "print(ped_ausente_add.values)\n",
    "\n",
    "# Guarda todas las IDs de pedidos que tengan un valor ausente en 'add_to_cart_order'"
   ]
  },
  {
   "cell_type": "code",
   "execution_count": 148,
   "id": "3af19733",
   "metadata": {
    "scrolled": false
   },
   "outputs": [
    {
     "name": "stdout",
     "output_type": "stream",
     "text": [
      "836\n"
     ]
    }
   ],
   "source": [
    "df_order_products['Nulls'] = df_order_products['add_to_cart_order'].isnull()\n",
    "reset_index()\n",
    "order_nulls = df_order_products.groupby(by='order_id')['Nulls'].sum().reset_index()\n",
    "\n",
    "order_pedidos = df_order_products.groupby(by='order_id')['product_id'].count().reset_index()\n",
    "\n",
    "pedidos_nulls = order_nulls.merge(order_pedidos,on='order_id').rename(columns={\"product_id\":\"Productos x orden\"})\n",
    "\n",
    "order_pedidos_64 = pedidos_nulls[pedidos_nulls['Productos x orden'] > 64]['Nulls'].sum()\n",
    "\n",
    "print(order_pedidos_64)\n",
    "\n",
    "# ¿Todos los pedidos con valores ausentes tienen más de 64 productos?"
   ]
  },
  {
   "cell_type": "code",
   "execution_count": 149,
   "id": "37eeeab4",
   "metadata": {},
   "outputs": [
    {
     "data": {
      "text/html": [
       "<div>\n",
       "<style scoped>\n",
       "    .dataframe tbody tr th:only-of-type {\n",
       "        vertical-align: middle;\n",
       "    }\n",
       "\n",
       "    .dataframe tbody tr th {\n",
       "        vertical-align: top;\n",
       "    }\n",
       "\n",
       "    .dataframe thead th {\n",
       "        text-align: right;\n",
       "    }\n",
       "</style>\n",
       "<table border=\"1\" class=\"dataframe\">\n",
       "  <thead>\n",
       "    <tr style=\"text-align: right;\">\n",
       "      <th></th>\n",
       "      <th>product_id</th>\n",
       "      <th>add_to_cart_order</th>\n",
       "      <th>reordered</th>\n",
       "      <th>Nulls</th>\n",
       "    </tr>\n",
       "    <tr>\n",
       "      <th>order_id</th>\n",
       "      <th></th>\n",
       "      <th></th>\n",
       "      <th></th>\n",
       "      <th></th>\n",
       "    </tr>\n",
       "  </thead>\n",
       "  <tbody>\n",
       "    <tr>\n",
       "      <th>9310</th>\n",
       "      <td>1</td>\n",
       "      <td>0</td>\n",
       "      <td>1</td>\n",
       "      <td>1</td>\n",
       "    </tr>\n",
       "    <tr>\n",
       "      <th>61355</th>\n",
       "      <td>63</td>\n",
       "      <td>0</td>\n",
       "      <td>63</td>\n",
       "      <td>63</td>\n",
       "    </tr>\n",
       "    <tr>\n",
       "      <th>102236</th>\n",
       "      <td>31</td>\n",
       "      <td>0</td>\n",
       "      <td>31</td>\n",
       "      <td>31</td>\n",
       "    </tr>\n",
       "    <tr>\n",
       "      <th>129627</th>\n",
       "      <td>5</td>\n",
       "      <td>0</td>\n",
       "      <td>5</td>\n",
       "      <td>5</td>\n",
       "    </tr>\n",
       "    <tr>\n",
       "      <th>165801</th>\n",
       "      <td>6</td>\n",
       "      <td>0</td>\n",
       "      <td>6</td>\n",
       "      <td>6</td>\n",
       "    </tr>\n",
       "    <tr>\n",
       "      <th>...</th>\n",
       "      <td>...</td>\n",
       "      <td>...</td>\n",
       "      <td>...</td>\n",
       "      <td>...</td>\n",
       "    </tr>\n",
       "    <tr>\n",
       "      <th>2999801</th>\n",
       "      <td>6</td>\n",
       "      <td>0</td>\n",
       "      <td>6</td>\n",
       "      <td>6</td>\n",
       "    </tr>\n",
       "    <tr>\n",
       "      <th>3125735</th>\n",
       "      <td>22</td>\n",
       "      <td>0</td>\n",
       "      <td>22</td>\n",
       "      <td>22</td>\n",
       "    </tr>\n",
       "    <tr>\n",
       "      <th>3308010</th>\n",
       "      <td>51</td>\n",
       "      <td>0</td>\n",
       "      <td>51</td>\n",
       "      <td>51</td>\n",
       "    </tr>\n",
       "    <tr>\n",
       "      <th>3347453</th>\n",
       "      <td>7</td>\n",
       "      <td>0</td>\n",
       "      <td>7</td>\n",
       "      <td>7</td>\n",
       "    </tr>\n",
       "    <tr>\n",
       "      <th>3383594</th>\n",
       "      <td>5</td>\n",
       "      <td>0</td>\n",
       "      <td>5</td>\n",
       "      <td>5</td>\n",
       "    </tr>\n",
       "  </tbody>\n",
       "</table>\n",
       "<p>70 rows × 4 columns</p>\n",
       "</div>"
      ],
      "text/plain": [
       "          product_id  add_to_cart_order  reordered  Nulls\n",
       "order_id                                                 \n",
       "9310               1                  0          1      1\n",
       "61355             63                  0         63     63\n",
       "102236            31                  0         31     31\n",
       "129627             5                  0          5      5\n",
       "165801             6                  0          6      6\n",
       "...              ...                ...        ...    ...\n",
       "2999801            6                  0          6      6\n",
       "3125735           22                  0         22     22\n",
       "3308010           51                  0         51     51\n",
       "3347453            7                  0          7      7\n",
       "3383594            5                  0          5      5\n",
       "\n",
       "[70 rows x 4 columns]"
      ]
     },
     "execution_count": 149,
     "metadata": {},
     "output_type": "execute_result"
    }
   ],
   "source": [
    " # Agrupa todos los pedidos con datos ausentes por su ID de pedido.\n",
    "    \n",
    "df_order_products[df_order_products['add_to_cart_order'].isna()].groupby('order_id').count()"
   ]
  },
  {
   "cell_type": "code",
   "execution_count": 150,
   "id": "54c31695",
   "metadata": {
    "id": "54c31695"
   },
   "outputs": [
    {
     "name": "stdout",
     "output_type": "stream",
     "text": [
      "order_id\n",
      "4          13\n",
      "9          15\n",
      "11          5\n",
      "19          3\n",
      "20          8\n",
      "           ..\n",
      "3421034    17\n",
      "3421053     9\n",
      "3421071     5\n",
      "3421077     4\n",
      "3421079     1\n",
      "Name: product_id, Length: 450046, dtype: int64\n",
      "\n",
      "1\n"
     ]
    }
   ],
   "source": [
    "min_pedido = df_order_products.groupby(by='order_id')['product_id'].count()\n",
    "print(min_pedido)\n",
    "print()\n",
    "print(min_pedido.min())\n",
    "\n",
    "# Cuenta el número de 'product_id' en cada pedido y revisa el valor mínimo del conteo."
   ]
  },
  {
   "cell_type": "markdown",
   "id": "p9V6pddtjglj",
   "metadata": {
    "id": "p9V6pddtjglj"
   },
   "source": [
    "Describe brevemente cuáles son tus hallazgos.\n",
    "\n",
    "Despues del analisi, se observa que hay 70 ordenes afectadas y 836 productos afectados. Ademas todos los pedidos con valores ausentes tienen mas de 64 productos. La compra minima que se ve en los pedidos es de un producto."
   ]
  },
  {
   "cell_type": "code",
   "execution_count": 151,
   "id": "7a987d08",
   "metadata": {
    "id": "7a987d08"
   },
   "outputs": [
    {
     "name": "stdout",
     "output_type": "stream",
     "text": [
      "         order_id  product_id  add_to_cart_order  reordered  Nulls\n",
      "0         2141543       11440                 17          0  False\n",
      "1          567889        1560                  1          1  False\n",
      "2         2261212       26683                  1          1  False\n",
      "3          491251        8670                 35          1  False\n",
      "4         2571142        1940                  5          1  False\n",
      "...           ...         ...                ...        ...    ...\n",
      "4545002    577211       15290                 12          1  False\n",
      "4545003   1219554       21914                  9          0  False\n",
      "4545004    692640       47766                  4          1  False\n",
      "4545005    319435         691                  8          1  False\n",
      "4545006   1398151       28733                  9          0  False\n",
      "\n",
      "[4545007 rows x 5 columns]\n",
      "order_id             0\n",
      "product_id           0\n",
      "add_to_cart_order    0\n",
      "reordered            0\n",
      "Nulls                0\n",
      "dtype: int64\n"
     ]
    }
   ],
   "source": [
    "df_order_products['add_to_cart_order'] = df_order_products['add_to_cart_order'].fillna(999).astype(int)\n",
    "# Remplaza los valores ausentes en la columna 'add_to_cart? con 999 y convierte la columna al tipo entero.\n",
    "print(df_order_products)\n",
    "print(df_order_products.isna().sum())"
   ]
  },
  {
   "cell_type": "markdown",
   "id": "fea4bcc7",
   "metadata": {
    "id": "fea4bcc7"
   },
   "source": [
    "Describe brevemente tus hallazgos y lo que hiciste con ellos.\n",
    "\n",
    "Ya no tenemos valores ausentes en el dataframe \"order_products\", ya que se ha reemplazado con 999 a estos valores ausentes en la columna \"add_to_cart_order\"."
   ]
  },
  {
   "cell_type": "markdown",
   "id": "RnplPFY1gSrb",
   "metadata": {
    "id": "RnplPFY1gSrb"
   },
   "source": [
    "## Conclusiones\n",
    "\n",
    "Escribe aquí tus conclusiones intermedias sobre el Paso 2. Preprocesamiento de los datos\n",
    "\n",
    "Despues de ver los tipos de datos de cada columna, los hemos dejado tal cual, ya que de esa forma nos permiten analizar correctamente.\n",
    "Hemos hallado valores duplicados, los cuales hemos eliminado, pero siempre teniendo en cuenta que prescindimos de ellos despues de hacer el analisis respectivo.\n",
    "Respecto a los valores ausentes, hubo varios, los cuales hemos reemplazado con nuevos valores para usar mejor el data frame a futuro."
   ]
  },
  {
   "cell_type": "markdown",
   "id": "UjrOIwTcz3ri",
   "metadata": {
    "id": "UjrOIwTcz3ri"
   },
   "source": [
    "# Paso 3. Análisis de los datos\n",
    "\n",
    "Una vez los datos estén procesados y listos, haz el siguiente análisis:"
   ]
  },
  {
   "cell_type": "markdown",
   "id": "turkish-kidney",
   "metadata": {
    "id": "turkish-kidney"
   },
   "source": [
    "# [A] Fácil (deben completarse todos para aprobar)\n",
    "\n",
    "1. Verifica que los valores en las columnas `'order_hour_of_day'` y `'order_dow'` en la tabla orders sean razonables (es decir, `'order_hour_of_day'` oscile entre 0 y 23 y `'order_dow'` oscile entre 0 y 6).\n",
    "2. Crea un gráfico que muestre el número de personas que hacen pedidos dependiendo de la hora del día.\n",
    "3. Crea un gráfico que muestre qué día de la semana la gente hace sus compras.\n",
    "4. Crea un gráfico que muestre el tiempo que la gente espera hasta hacer su siguiente pedido, y comenta sobre los valores mínimos y máximos."
   ]
  },
  {
   "cell_type": "markdown",
   "id": "short-capability",
   "metadata": {
    "id": "short-capability"
   },
   "source": [
    "### [A1] Verifica que los valores sean sensibles"
   ]
  },
  {
   "cell_type": "code",
   "execution_count": 152,
   "id": "growing-fruit",
   "metadata": {
    "id": "growing-fruit"
   },
   "outputs": [
    {
     "data": {
      "text/plain": [
       "array([13, 12, 19, 20, 11,  8, 18, 15, 16,  9, 22, 10,  0, 14, 17,  1,  7,\n",
       "        6,  2, 21,  3, 23,  5,  4])"
      ]
     },
     "execution_count": 152,
     "metadata": {},
     "output_type": "execute_result"
    }
   ],
   "source": [
    "df_instacart_orders['order_hour_of_day'].unique()"
   ]
  },
  {
   "cell_type": "code",
   "execution_count": 153,
   "id": "accessory-malaysia",
   "metadata": {
    "id": "accessory-malaysia"
   },
   "outputs": [
    {
     "data": {
      "text/plain": [
       "array([6, 5, 0, 4, 3, 1, 2])"
      ]
     },
     "execution_count": 153,
     "metadata": {},
     "output_type": "execute_result"
    }
   ],
   "source": [
    "df_instacart_orders['order_dow'].unique()"
   ]
  },
  {
   "cell_type": "markdown",
   "id": "hmR2GNQ6lCsX",
   "metadata": {
    "id": "hmR2GNQ6lCsX"
   },
   "source": [
    "Escribe aquí tus conclusiones\n",
    "\n",
    "Los valores que se encuentran en ambas columnas son razonables, estan dentro del parametro idoneo: horas del dia y dias de la semana respectivamente."
   ]
  },
  {
   "cell_type": "markdown",
   "id": "a6743a70",
   "metadata": {
    "id": "a6743a70"
   },
   "source": [
    "### [A2] Para cada hora del día, ¿cuántas personas hacen órdenes?"
   ]
  },
  {
   "cell_type": "code",
   "execution_count": 154,
   "id": "a36cca27",
   "metadata": {
    "id": "a36cca27"
   },
   "outputs": [
    {
     "data": {
      "image/png": "[encoded data removed]",
      "text/plain": [
       "<Figure size 500x500 with 1 Axes>"
      ]
     },
     "metadata": {},
     "output_type": "display_data"
    }
   ],
   "source": [
    "#Crea un gráfico que muestre el número de personas que hacen pedidos dependiendo de la hora del día.\n",
    "\n",
    "pedido_horas = df_instacart_orders.groupby(by='order_hour_of_day')['user_id'].count().reset_index()\n",
    "\n",
    "pedido_horas.plot(kind='bar',\n",
    "        x='order_hour_of_day',\n",
    "        y='user_id',\n",
    "        title='Número de personas que hacen pedidos dependiendo de la hora del día',\n",
    "        style='o-',\n",
    "        figsize=[5,5],\n",
    "        xlabel=\"Hora del día\",\n",
    "        ylabel=\"Número de personas\")\n",
    "\n",
    "plt.show()"
   ]
  },
  {
   "cell_type": "markdown",
   "id": "11270eed",
   "metadata": {
    "id": "11270eed"
   },
   "source": [
    "Escribe aquí tus conclusiones\n",
    "\n",
    "En el grafico vemos el Número de personas que hacen pedidos dependiendo de la hora del día, se ve que hay mas movimiento entre las 10am y 5pm. A partir de las 5pm este numero de pedidos va decayendo y a partir de las 5am los pedidos van aumentando."
   ]
  },
  {
   "cell_type": "markdown",
   "id": "documented-command",
   "metadata": {
    "id": "documented-command"
   },
   "source": [
    "### [A3] ¿Qué día de la semana compran víveres las personas?"
   ]
  },
  {
   "cell_type": "code",
   "execution_count": 155,
   "id": "chief-digit",
   "metadata": {
    "id": "chief-digit"
   },
   "outputs": [
    {
     "data": {
      "image/png": "[encoded data removed]",
      "text/plain": [
       "<Figure size 500x500 with 1 Axes>"
      ]
     },
     "metadata": {},
     "output_type": "display_data"
    }
   ],
   "source": [
    "#Crea un gráfico que muestre qué día de la semana la gente hace sus compras\n",
    "\n",
    "pedido_dias = df_instacart_orders.groupby(by='order_dow')['user_id'].count().reset_index()\n",
    "\n",
    "pedido_dias.plot(kind='bar',\n",
    "        title='Día de la semana que la gente hace sus compras',\n",
    "        style='o-',\n",
    "        figsize=[5,5],\n",
    "        xlabel=\"Día de la semana\",\n",
    "        ylabel=\"Número de personas\")\n",
    "\n",
    "plt.show()"
   ]
  },
  {
   "cell_type": "markdown",
   "id": "dominant-lightning",
   "metadata": {
    "id": "dominant-lightning"
   },
   "source": [
    "Escribe aquí tus conclusiones\n",
    "\n",
    "En el grafico 'Día de la semana que la gente hace sus compras', vemos que los domingos es el dia donde las compras abundan, seguido por los lunes. En el resto de dias las compras bajan abruptamente, siendo los dias mas bajos el miercoles y jueves. Esto es un indicador favorecedor para saber que dias debemos lanzar ofertas, liquidacion de productos, etc. ya que sabemos en que dias hay mayor trafico de personas."
   ]
  },
  {
   "cell_type": "markdown",
   "id": "cutting-concert",
   "metadata": {
    "id": "cutting-concert"
   },
   "source": [
    "### [A4] ¿Cuánto tiempo esperan las personas hasta hacer otro pedido? Comenta sobre los valores mínimos y máximos."
   ]
  },
  {
   "cell_type": "code",
   "execution_count": 156,
   "id": "c231f523",
   "metadata": {
    "id": "c231f523"
   },
   "outputs": [
    {
     "data": {
      "image/png": "[encoded data removed]",
      "text/plain": [
       "<Figure size 640x480 with 1 Axes>"
      ]
     },
     "metadata": {},
     "output_type": "display_data"
    },
    {
     "name": "stdout",
     "output_type": "stream",
     "text": [
      "Tiempo mínimo y máximo para el siguiente pedido: 0.0 30.0\n"
     ]
    }
   ],
   "source": [
    "#Crea un gráfico que muestre el tiempo que la gente espera hasta hacer su siguiente pedido, y \n",
    "#comenta sobre los valores mínimos y máximos.\n",
    "\n",
    "df_instacart_orders['days_since_prior_order'].plot(kind='hist', \n",
    "                                                   bins=30,\n",
    "                                                   title=\"Tiempo de espera para el siguiente pedido\",\n",
    "                                                   alpha=0.6)\n",
    "plt.xlabel('Dia')\n",
    "plt.ylabel('Frecuencia')                                        \n",
    "\n",
    "plt.show()\n",
    "\n",
    "print(\"Tiempo mínimo y máximo para el siguiente pedido:\", df_instacart_orders['days_since_prior_order'].min()\n",
    "      ,df_instacart_orders['days_since_prior_order'].max())"
   ]
  },
  {
   "cell_type": "markdown",
   "id": "discrete-vertex",
   "metadata": {
    "id": "discrete-vertex"
   },
   "source": [
    "Escribe aquí tus conclusiones\n",
    "\n",
    "Este gráfico nos muestra el tiempo que la gente espera hasta hacer su siguiente pedido, teniendo como minimo 0 dias de espera y como maximo 30 dias de espera.\n",
    "La gran mayoria de clientes tienden a esperar 30 dias seguido por 8 dias, por lo tanto se deduce que los tiempos de espera mas comunes son semanalmente y mensualmente.\n",
    "Entre 16 y 29 dias, es el tiempo de espera poco comun que se observa entre la gente."
   ]
  },
  {
   "cell_type": "markdown",
   "id": "tight-staff",
   "metadata": {
    "id": "tight-staff"
   },
   "source": [
    "# [B] Intermedio (deben completarse todos para aprobar)\n",
    "\n",
    "1. ¿Existe alguna diferencia entre las distribuciones `'order_hour_of_day'` de los miércoles y los sábados? Traza gráficos de barra de `'order_hour_of_day'` para ambos días en la misma figura y describe las diferencias que observes.\n",
    "2. Grafica la distribución para el número de órdenes que hacen los clientes (es decir, cuántos clientes hicieron solo 1 pedido, cuántos hicieron 2, cuántos 3, y así sucesivamente...).\n",
    "3. ¿Cuáles son los 20 principales productos que se piden con más frecuencia (muestra su identificación y nombre)?"
   ]
  },
  {
   "cell_type": "markdown",
   "id": "packed-classic",
   "metadata": {
    "id": "packed-classic"
   },
   "source": [
    "### [B1] Diferencia entre miércoles y sábados para  `'order_hour_of_day'`. Traza gráficos de barra para los dos días y describe las diferencias que veas."
   ]
  },
  {
   "cell_type": "code",
   "execution_count": 157,
   "id": "be46c0fe",
   "metadata": {},
   "outputs": [],
   "source": [
    "wed_sat_orders = df_instacart_orders[(df_instacart_orders['order_dow']==3)|(df_instacart_orders['order_dow']==6)]"
   ]
  },
  {
   "cell_type": "code",
   "execution_count": 158,
   "id": "d3268509",
   "metadata": {},
   "outputs": [],
   "source": [
    "wed_sat_hour = wed_sat_orders.groupby(by=['order_hour_of_day','order_dow'])['order_id'].count().reset_index()"
   ]
  },
  {
   "cell_type": "code",
   "execution_count": 159,
   "id": "257d3121",
   "metadata": {},
   "outputs": [
    {
     "name": "stdout",
     "output_type": "stream",
     "text": [
      "order_dow             3     6\n",
      "order_hour_of_day            \n",
      "0                   373   464\n",
      "1                   215   254\n",
      "2                   106   177\n",
      "3                   101   125\n",
      "4                   108   118\n",
      "5                   170   161\n",
      "6                   643   451\n",
      "7                  1732  1619\n",
      "8                  3125  3246\n",
      "9                  4490  4311\n",
      "10                 5026  4919\n",
      "11                 5004  5116\n",
      "12                 4688  5132\n",
      "13                 4674  5323\n",
      "14                 4774  5375\n",
      "15                 5163  5188\n",
      "16                 4976  5029\n",
      "17                 4175  4295\n",
      "18                 3463  3338\n",
      "19                 2652  2610\n",
      "20                 1917  1847\n",
      "21                 1450  1473\n",
      "22                 1154  1185\n",
      "23                  718   893\n"
     ]
    }
   ],
   "source": [
    "wed_sat_bar = wed_sat_hour.pivot(index='order_hour_of_day', columns='order_dow', values='order_id')\n",
    "print(wed_sat_bar)"
   ]
  },
  {
   "cell_type": "code",
   "execution_count": 160,
   "id": "1745ab6f",
   "metadata": {},
   "outputs": [
    {
     "data": {
      "image/png": "[encoded data removed]",
      "text/plain": [
       "<Figure size 640x480 with 1 Axes>"
      ]
     },
     "metadata": {},
     "output_type": "display_data"
    }
   ],
   "source": [
    "wed_sat_bar.plot(kind='bar',\n",
    "        alpha=1,\n",
    "        title=\"Número de pedidos en el dia Miércoles y Sábado por horas\",\n",
    "        xlabel=\"Hora del dia\",\n",
    "        ylabel=\"Número de pedidos\")\n",
    "\n",
    "plt.legend(['Miércoles','Sábado'])\n",
    "plt.show()"
   ]
  },
  {
   "cell_type": "markdown",
   "id": "charitable-congo",
   "metadata": {
    "id": "charitable-congo"
   },
   "source": [
    "Escribe aquí tus conclusiones\n",
    "\n",
    "En este grafico observamos que la cantidad de pedidos realizados durante el dia Miercoles y Sabado son casi similares en todas las horas. Durante la medianoche y las 5am hay pocos pedidos. Las diferencias observadas son:\n",
    "- Hay mas pedidos en el dia Sabado comparado al Miercoles, en general.\n",
    "- Desde el mediodia hasta las 2pm, hay una diferencia notoria de pedidos, hubiendo mas ventas en el dia Sabado.\n",
    "- Desde las 9pm y toda la madrugada, el numero de pedidos van bajando simultaneamente en ambos dias, pero aun destacando al Sabado con mas ventas."
   ]
  },
  {
   "cell_type": "markdown",
   "id": "e3891143",
   "metadata": {
    "id": "e3891143"
   },
   "source": [
    "### [B2] ¿Cuál es la distribución para el número de pedidos por cliente?"
   ]
  },
  {
   "cell_type": "code",
   "execution_count": 161,
   "id": "d8c26c23",
   "metadata": {
    "id": "d8c26c23"
   },
   "outputs": [],
   "source": [
    "pedidos_cliente = df_instacart_orders.groupby(by='user_id')['order_number'].count()\n",
    "\n",
    "pedido_cliente_bar = pedidos_cliente.value_counts()\n"
   ]
  },
  {
   "cell_type": "code",
   "execution_count": 162,
   "id": "00e69a66",
   "metadata": {
    "id": "00e69a66"
   },
   "outputs": [
    {
     "data": {
      "image/png": "[encoded data removed]",
      "text/plain": [
       "<Figure size 500x500 with 1 Axes>"
      ]
     },
     "metadata": {},
     "output_type": "display_data"
    }
   ],
   "source": [
    "pedido_cliente_bar.plot(kind='bar',\n",
    "        figsize=(5,5),\n",
    "        title=\"Distribución del número de pedidos por clientes\",\n",
    "        xlabel=\"Número de pedidos\",\n",
    "        ylabel=\"Número de clientes\")\n",
    "\n",
    "plt.show()"
   ]
  },
  {
   "cell_type": "markdown",
   "id": "d2eff7d5",
   "metadata": {
    "id": "d2eff7d5"
   },
   "source": [
    "Escribe aquí tus conclusiones\n",
    "\n",
    "-Este grafico nos muestra cuantos clientes realizan cierta cantidad de pedidos, empezando por un pedido hasta 28 pedidos como cantidad maxima.\n",
    "-Hay una gran cantidad de clientes que llegan solo a hacer un pedido y no mas, estos serian 15000 aproximadamente. Lo cual nos invita a buscar cuales son las razones por las que no vuelven comprar.\n",
    "-Posterior a ello, vemos que solo hasta 10000 clientes llegan a realizar pedidos hasta 4 veces. \n",
    "-Casi nadie hace pedidos a partir de 18ma vez."
   ]
  },
  {
   "cell_type": "markdown",
   "id": "54a0319c",
   "metadata": {
    "id": "54a0319c"
   },
   "source": [
    "### [B3] ¿Cuáles son los 20 productos más populares (muestra su ID y nombre)?"
   ]
  },
  {
   "cell_type": "code",
   "execution_count": 163,
   "id": "universal-facial",
   "metadata": {
    "id": "universal-facial"
   },
   "outputs": [
    {
     "name": "stdout",
     "output_type": "stream",
     "text": [
      "product_id  product_name            \n",
      "24852       BANANA                      66050\n",
      "13176       BAG OF ORGANIC BANANAS      53297\n",
      "21137       ORGANIC STRAWBERRIES        37039\n",
      "21903       ORGANIC BABY SPINACH        33971\n",
      "47209       ORGANIC HASS AVOCADO        29773\n",
      "47766       ORGANIC AVOCADO             24689\n",
      "47626       LARGE LEMON                 21495\n",
      "16797       STRAWBERRIES                20018\n",
      "26209       LIMES                       19690\n",
      "27845       ORGANIC WHOLE MILK          19600\n",
      "27966       ORGANIC RASPBERRIES         19197\n",
      "22935       ORGANIC YELLOW ONION        15898\n",
      "24964       ORGANIC GARLIC              15292\n",
      "45007       ORGANIC ZUCCHINI            14584\n",
      "39275       ORGANIC BLUEBERRIES         13879\n",
      "49683       CUCUMBER KIRBY              13675\n",
      "28204       ORGANIC FUJI APPLE          12544\n",
      "5876        ORGANIC LEMON               12232\n",
      "8277        APPLE HONEYCRISP ORGANIC    11993\n",
      "40706       ORGANIC GRAPE TOMATOES      11781\n",
      "Name: order_id, dtype: int64\n"
     ]
    }
   ],
   "source": [
    "df_merged = df_products.merge(df_order_products, left_on='product_id', right_on='product_id', how='inner')\n",
    "\n",
    "product_20 = df_merged.groupby(['product_id','product_name'])['order_id'].count()\n",
    "\n",
    "popular_products = product_20.sort_values(ascending=False)\n",
    "\n",
    "top_20_popular = popular_products.head(20)\n",
    "\n",
    "print(top_20_popular)"
   ]
  },
  {
   "cell_type": "code",
   "execution_count": 164,
   "id": "bbcdd20b",
   "metadata": {
    "id": "bbcdd20b"
   },
   "outputs": [
    {
     "data": {
      "image/png": "[encoded data removed]",
      "text/plain": [
       "<Figure size 1000x500 with 1 Axes>"
      ]
     },
     "metadata": {},
     "output_type": "display_data"
    }
   ],
   "source": [
    "top_20_popular.plot(kind='bar',\n",
    "        figsize=(10,5),\n",
    "        title=\"Los 20 productos más populares\",\n",
    "        xlabel=\"Productos\",\n",
    "        ylabel=\"Veces compradas\")\n",
    "\n",
    "plt.show()"
   ]
  },
  {
   "cell_type": "markdown",
   "id": "7df00f47",
   "metadata": {
    "id": "7df00f47"
   },
   "source": [
    "Escribe aquí tus conclusiones\n",
    "\n",
    "Tenemos una tabla con los 20 productos mas populares, siendo la banana el mas popular, repitiendose en el primer y segundo puesto, pero con diferentes presentaciones. Posterior a ellos tenemos otros productos populares, caracterizandose en su mayoria por ser organicos. De acuerdo al grafico, se observa visualmente que la compra de bananas y fresas esta por encima de la media."
   ]
  },
  {
   "cell_type": "markdown",
   "id": "gross-theme",
   "metadata": {
    "id": "gross-theme"
   },
   "source": [
    "# [C] Difícil (deben completarse todos para aprobar)\n",
    "\n",
    "1. ¿Cuántos artículos suelen comprar las personas en un pedido? ¿Cómo es la distribución?\n",
    "2. ¿Cuáles son los 20 principales artículos que vuelven a pedirse con mayor frecuencia (muestra sus nombres e IDs de los productos)?\n",
    "3. Para cada producto, ¿cuál es la tasa de repetición del pedido (número de repeticiones de pedido/total de pedidos?\n",
    "4. Para cada cliente, ¿qué proporción de los productos que pidió ya los había pedido? Calcula la tasa de repetición de pedido para cada usuario en lugar de para cada producto.\n",
    "5. ¿Cuáles son los 20 principales artículos que la gente pone primero en sus carritos (muestra las IDs de los productos, sus nombres, y el número de veces en que fueron el primer artículo en añadirse al carrito)?"
   ]
  },
  {
   "cell_type": "markdown",
   "id": "romantic-deposit",
   "metadata": {
    "id": "romantic-deposit"
   },
   "source": [
    "### [C1] ¿Cuántos artículos compran normalmente las personas en un pedido? ¿Cómo es la distribución?"
   ]
  },
  {
   "cell_type": "code",
   "execution_count": 165,
   "id": "4c0f259e",
   "metadata": {},
   "outputs": [
    {
     "name": "stdout",
     "output_type": "stream",
     "text": [
      "1      21847\n",
      "2      26292\n",
      "3      29046\n",
      "4      31054\n",
      "5      31923\n",
      "       ...  \n",
      "98         1\n",
      "104        1\n",
      "108        1\n",
      "115        1\n",
      "127        1\n",
      "Name: product_id, Length: 90, dtype: int64\n"
     ]
    }
   ],
   "source": [
    "order_merged = df_order_products.merge(df_instacart_orders, on = 'order_id')\n",
    "\n",
    "productos_pedido = order_merged.groupby(by='order_id')['product_id'].count().value_counts().sort_index()\n",
    "\n",
    "print(productos_pedido)"
   ]
  },
  {
   "cell_type": "code",
   "execution_count": 166,
   "id": "143ff6df",
   "metadata": {},
   "outputs": [
    {
     "data": {
      "image/png": "[encoded data removed]",
      "text/plain": [
       "<Figure size 1500x800 with 1 Axes>"
      ]
     },
     "metadata": {},
     "output_type": "display_data"
    }
   ],
   "source": [
    "productos_pedido.plot(kind='bar',\n",
    "                     figsize=[15,8],\n",
    "                     xlabel='Articulos',\n",
    "                     ylabel='Personas')\n",
    "plt.show()"
   ]
  },
  {
   "cell_type": "markdown",
   "id": "designed-mortality",
   "metadata": {
    "id": "designed-mortality"
   },
   "source": [
    "Escribe aquí tus conclusiones\n",
    "\n",
    "En general la gran mayoria de personas compran entre 2 y 10 articulos. Casi nadie compra mas de 48 articulos a la vez.\n"
   ]
  },
  {
   "cell_type": "markdown",
   "id": "5e6b5537",
   "metadata": {
    "id": "5e6b5537"
   },
   "source": [
    "### [C2] ¿Cuáles son los 20 principales artículos que vuelven a pedirse con mayor frecuencia (muestra sus nombres e IDs de los productos)?"
   ]
  },
  {
   "cell_type": "code",
   "execution_count": 167,
   "id": "ef9c45d8",
   "metadata": {},
   "outputs": [
    {
     "name": "stdout",
     "output_type": "stream",
     "text": [
      "    product_id              product_name  Frecuencia\n",
      "0        24852                    BANANA       66050\n",
      "1        13176    BAG OF ORGANIC BANANAS       53297\n",
      "2        21137      ORGANIC STRAWBERRIES       37039\n",
      "3        21903      ORGANIC BABY SPINACH       33971\n",
      "4        47209      ORGANIC HASS AVOCADO       29773\n",
      "5        47766           ORGANIC AVOCADO       24689\n",
      "6        47626               LARGE LEMON       21495\n",
      "7        16797              STRAWBERRIES       20018\n",
      "8        26209                     LIMES       19690\n",
      "9        27845        ORGANIC WHOLE MILK       19600\n",
      "10       27966       ORGANIC RASPBERRIES       19197\n",
      "11       22935      ORGANIC YELLOW ONION       15898\n",
      "12       24964            ORGANIC GARLIC       15292\n",
      "13       45007          ORGANIC ZUCCHINI       14584\n",
      "14       39275       ORGANIC BLUEBERRIES       13879\n",
      "15       49683            CUCUMBER KIRBY       13675\n",
      "16       28204        ORGANIC FUJI APPLE       12544\n",
      "17        5876             ORGANIC LEMON       12232\n",
      "18        8277  APPLE HONEYCRISP ORGANIC       11993\n",
      "19       40706    ORGANIC GRAPE TOMATOES       11781\n"
     ]
    }
   ],
   "source": [
    "articulos_merged = df_order_products.merge(df_products, on = 'product_id')\n",
    "\n",
    "articulos_frecuencia = articulos_merged[articulos_merged['reordered'] == 1]\n",
    "\n",
    "articulos_frecuencia = articulos_merged.groupby(by=['product_id','product_name'])['reordered'].count()\n",
    "\n",
    "articulos_frecuencia.name = 'Frecuencia'\n",
    "\n",
    "articulos_frecuencia_ordenado = articulos_frecuencia.nlargest(20).reset_index()\n",
    "\n",
    "print(articulos_frecuencia_ordenado)"
   ]
  },
  {
   "cell_type": "markdown",
   "id": "80e70c74",
   "metadata": {
    "id": "80e70c74"
   },
   "source": [
    "Escribe aquí tus conclusiones\n",
    "\n",
    "En esta tabla vemos los 20 productos que se piden con mas frecuencia, siendo las bananas el top 1 y 2. Los ultimos en la lista son los manazanas organicas y los tomates uva organicas."
   ]
  },
  {
   "cell_type": "markdown",
   "id": "9d312b14",
   "metadata": {
    "id": "9d312b14"
   },
   "source": [
    "### [C3] Para cada producto, ¿cuál es la proporción de las veces que se pide y que se vuelve a pedir?"
   ]
  },
  {
   "cell_type": "code",
   "execution_count": 175,
   "id": "8ae9f4b1",
   "metadata": {
    "id": "8ae9f4b1"
   },
   "outputs": [
    {
     "data": {
      "text/html": [
       "<div>\n",
       "<style scoped>\n",
       "    .dataframe tbody tr th:only-of-type {\n",
       "        vertical-align: middle;\n",
       "    }\n",
       "\n",
       "    .dataframe tbody tr th {\n",
       "        vertical-align: top;\n",
       "    }\n",
       "\n",
       "    .dataframe thead th {\n",
       "        text-align: right;\n",
       "    }\n",
       "</style>\n",
       "<table border=\"1\" class=\"dataframe\">\n",
       "  <thead>\n",
       "    <tr style=\"text-align: right;\">\n",
       "      <th></th>\n",
       "      <th>proporcion</th>\n",
       "      <th>product_id</th>\n",
       "      <th>product_name</th>\n",
       "      <th>aisle_id</th>\n",
       "      <th>department_id</th>\n",
       "    </tr>\n",
       "  </thead>\n",
       "  <tbody>\n",
       "    <tr>\n",
       "      <th>14720</th>\n",
       "      <td>100.0</td>\n",
       "      <td>14721</td>\n",
       "      <td>BONE STRENGTH TAKE CARE</td>\n",
       "      <td>133</td>\n",
       "      <td>11</td>\n",
       "    </tr>\n",
       "    <tr>\n",
       "      <th>20948</th>\n",
       "      <td>100.0</td>\n",
       "      <td>20949</td>\n",
       "      <td>VANILLA SANDWICH COOKIES</td>\n",
       "      <td>37</td>\n",
       "      <td>1</td>\n",
       "    </tr>\n",
       "    <tr>\n",
       "      <th>6722</th>\n",
       "      <td>100.0</td>\n",
       "      <td>6723</td>\n",
       "      <td>PALMIERS- PETITE</td>\n",
       "      <td>61</td>\n",
       "      <td>19</td>\n",
       "    </tr>\n",
       "    <tr>\n",
       "      <th>6731</th>\n",
       "      <td>100.0</td>\n",
       "      <td>6732</td>\n",
       "      <td>NATURALLY SPARKLING MINERAL WATER</td>\n",
       "      <td>115</td>\n",
       "      <td>7</td>\n",
       "    </tr>\n",
       "    <tr>\n",
       "      <th>45087</th>\n",
       "      <td>100.0</td>\n",
       "      <td>45088</td>\n",
       "      <td>CALIFORNIA DILL POLLEN &amp; GARLIC GOAT CHEESE &amp; ...</td>\n",
       "      <td>2</td>\n",
       "      <td>16</td>\n",
       "    </tr>\n",
       "    <tr>\n",
       "      <th>...</th>\n",
       "      <td>...</td>\n",
       "      <td>...</td>\n",
       "      <td>...</td>\n",
       "      <td>...</td>\n",
       "      <td>...</td>\n",
       "    </tr>\n",
       "    <tr>\n",
       "      <th>10484</th>\n",
       "      <td>0.0</td>\n",
       "      <td>10485</td>\n",
       "      <td>CARAMEL APPLE POP</td>\n",
       "      <td>45</td>\n",
       "      <td>19</td>\n",
       "    </tr>\n",
       "    <tr>\n",
       "      <th>37689</th>\n",
       "      <td>0.0</td>\n",
       "      <td>37690</td>\n",
       "      <td>CALYPSO FRESH 2X CONCENTRATED SCENTSATIONS 166...</td>\n",
       "      <td>75</td>\n",
       "      <td>17</td>\n",
       "    </tr>\n",
       "    <tr>\n",
       "      <th>10483</th>\n",
       "      <td>0.0</td>\n",
       "      <td>10484</td>\n",
       "      <td>AVOCADO AND GREENS</td>\n",
       "      <td>98</td>\n",
       "      <td>7</td>\n",
       "    </tr>\n",
       "    <tr>\n",
       "      <th>10473</th>\n",
       "      <td>0.0</td>\n",
       "      <td>10474</td>\n",
       "      <td>NUSTEVIA WHITE STEVIA POWDER</td>\n",
       "      <td>17</td>\n",
       "      <td>13</td>\n",
       "    </tr>\n",
       "    <tr>\n",
       "      <th>42983</th>\n",
       "      <td>0.0</td>\n",
       "      <td>42984</td>\n",
       "      <td>SALSA FOR ALL SEASONS HALF GUACAMOLE HALF ROAS...</td>\n",
       "      <td>67</td>\n",
       "      <td>20</td>\n",
       "    </tr>\n",
       "  </tbody>\n",
       "</table>\n",
       "<p>45573 rows × 5 columns</p>\n",
       "</div>"
      ],
      "text/plain": [
       "       proporcion  product_id  \\\n",
       "14720       100.0       14721   \n",
       "20948       100.0       20949   \n",
       "6722        100.0        6723   \n",
       "6731        100.0        6732   \n",
       "45087       100.0       45088   \n",
       "...           ...         ...   \n",
       "10484         0.0       10485   \n",
       "37689         0.0       37690   \n",
       "10483         0.0       10484   \n",
       "10473         0.0       10474   \n",
       "42983         0.0       42984   \n",
       "\n",
       "                                            product_name  aisle_id  \\\n",
       "14720                            BONE STRENGTH TAKE CARE       133   \n",
       "20948                           VANILLA SANDWICH COOKIES        37   \n",
       "6722                                    PALMIERS- PETITE        61   \n",
       "6731                   NATURALLY SPARKLING MINERAL WATER       115   \n",
       "45087  CALIFORNIA DILL POLLEN & GARLIC GOAT CHEESE & ...         2   \n",
       "...                                                  ...       ...   \n",
       "10484                                  CARAMEL APPLE POP        45   \n",
       "37689  CALYPSO FRESH 2X CONCENTRATED SCENTSATIONS 166...        75   \n",
       "10483                                 AVOCADO AND GREENS        98   \n",
       "10473                       NUSTEVIA WHITE STEVIA POWDER        17   \n",
       "42983  SALSA FOR ALL SEASONS HALF GUACAMOLE HALF ROAS...        67   \n",
       "\n",
       "       department_id  \n",
       "14720             11  \n",
       "20948              1  \n",
       "6722              19  \n",
       "6731               7  \n",
       "45087             16  \n",
       "...              ...  \n",
       "10484             19  \n",
       "37689             17  \n",
       "10483              7  \n",
       "10473             13  \n",
       "42983             20  \n",
       "\n",
       "[45573 rows x 5 columns]"
      ]
     },
     "execution_count": 175,
     "metadata": {},
     "output_type": "execute_result"
    }
   ],
   "source": [
    "product_merged = df_order_products.merge(df_products, on = 'product_id')\n",
    "\n",
    "product_proporcion = product_merged.groupby('product_id')['reordered'].mean().sort_index()*100\n",
    "\n",
    "product_proporcion.name = 'proporcion'\n",
    "\n",
    "proporcion_ordenado = (pd.merge(product_proporcion,df_products,\n",
    "                      right_on='product_id', left_index=True)\n",
    "              .sort_values(by='proporcion',ascending=False)\n",
    "             )\n",
    "\n",
    "proporcion_ordenado"
   ]
  },
  {
   "cell_type": "code",
   "execution_count": 169,
   "id": "76b7ae95",
   "metadata": {
    "scrolled": true
   },
   "outputs": [
    {
     "data": {
      "image/png": "[encoded data removed]",
      "text/plain": [
       "<Figure size 640x480 with 1 Axes>"
      ]
     },
     "metadata": {},
     "output_type": "display_data"
    }
   ],
   "source": [
    "proporcion_ordenado[\"proporcion_bins\"] = pd.cut(x=proporcion_ordenado[\"proporcion\"], bins=10)\n",
    "\n",
    "proporcion_ordenado.groupby('proporcion_bins')[\"proporcion\"].count().plot(kind=\"bar\")\n",
    "plt.show()\n"
   ]
  },
  {
   "cell_type": "markdown",
   "id": "I10dEIAyldcO",
   "metadata": {
    "id": "I10dEIAyldcO"
   },
   "source": [
    "Escribe aquí tus conclusiones\n",
    "\n",
    "En el grafico de barras observamos que:\n",
    "-Cerca de 10000 productos no se vuelven a pedir o tienen una probabilidad de volverse a pedir del 10%. \n",
    "\n",
    "-La probabilidad del 10% al 20% de volverse a comprar es para 3000 productos.\n",
    "\n",
    "-La probabilidad del 20% al 30% de volverse a comprar y tambien del 70% al 80% es para 4000 productos aprox.\n",
    "\n",
    "-La probabilidad del 30% al 40% de volverse a comprar y tambien del 50% a 60% es para 6000 productos aprox.\n",
    "\n",
    "-La probabilidad del 80% al 90% de volverse a comprar es para 500 productos.\n",
    "\n",
    "-La probabilidad del 90% al 100% de volverse a comprar es para 2000 productos."
   ]
  },
  {
   "cell_type": "markdown",
   "id": "subject-boxing",
   "metadata": {
    "id": "subject-boxing"
   },
   "source": [
    "### [C4] Para cada cliente, ¿qué proporción de sus productos ya los había pedido?"
   ]
  },
  {
   "cell_type": "code",
   "execution_count": 170,
   "id": "medical-couple",
   "metadata": {
    "id": "medical-couple",
    "scrolled": true
   },
   "outputs": [
    {
     "data": {
      "text/html": [
       "<div>\n",
       "<style scoped>\n",
       "    .dataframe tbody tr th:only-of-type {\n",
       "        vertical-align: middle;\n",
       "    }\n",
       "\n",
       "    .dataframe tbody tr th {\n",
       "        vertical-align: top;\n",
       "    }\n",
       "\n",
       "    .dataframe thead th {\n",
       "        text-align: right;\n",
       "    }\n",
       "</style>\n",
       "<table border=\"1\" class=\"dataframe\">\n",
       "  <thead>\n",
       "    <tr style=\"text-align: right;\">\n",
       "      <th></th>\n",
       "      <th>order_id</th>\n",
       "      <th>product_id</th>\n",
       "      <th>add_to_cart_order</th>\n",
       "      <th>reordered</th>\n",
       "      <th>Nulls</th>\n",
       "      <th>user_id</th>\n",
       "      <th>order_number</th>\n",
       "      <th>order_dow</th>\n",
       "      <th>order_hour_of_day</th>\n",
       "      <th>days_since_prior_order</th>\n",
       "    </tr>\n",
       "  </thead>\n",
       "  <tbody>\n",
       "    <tr>\n",
       "      <th>0</th>\n",
       "      <td>2141543</td>\n",
       "      <td>11440</td>\n",
       "      <td>17</td>\n",
       "      <td>0</td>\n",
       "      <td>False</td>\n",
       "      <td>58454</td>\n",
       "      <td>25</td>\n",
       "      <td>0</td>\n",
       "      <td>15</td>\n",
       "      <td>8.0</td>\n",
       "    </tr>\n",
       "    <tr>\n",
       "      <th>1</th>\n",
       "      <td>2141543</td>\n",
       "      <td>31869</td>\n",
       "      <td>15</td>\n",
       "      <td>1</td>\n",
       "      <td>False</td>\n",
       "      <td>58454</td>\n",
       "      <td>25</td>\n",
       "      <td>0</td>\n",
       "      <td>15</td>\n",
       "      <td>8.0</td>\n",
       "    </tr>\n",
       "    <tr>\n",
       "      <th>2</th>\n",
       "      <td>2141543</td>\n",
       "      <td>30233</td>\n",
       "      <td>9</td>\n",
       "      <td>1</td>\n",
       "      <td>False</td>\n",
       "      <td>58454</td>\n",
       "      <td>25</td>\n",
       "      <td>0</td>\n",
       "      <td>15</td>\n",
       "      <td>8.0</td>\n",
       "    </tr>\n",
       "  </tbody>\n",
       "</table>\n",
       "</div>"
      ],
      "text/plain": [
       "   order_id  product_id  add_to_cart_order  reordered  Nulls  user_id  \\\n",
       "0   2141543       11440                 17          0  False    58454   \n",
       "1   2141543       31869                 15          1  False    58454   \n",
       "2   2141543       30233                  9          1  False    58454   \n",
       "\n",
       "   order_number  order_dow  order_hour_of_day  days_since_prior_order  \n",
       "0            25          0                 15                     8.0  \n",
       "1            25          0                 15                     8.0  \n",
       "2            25          0                 15                     8.0  "
      ]
     },
     "execution_count": 170,
     "metadata": {},
     "output_type": "execute_result"
    }
   ],
   "source": [
    "order_merged = df_order_products.merge(df_instacart_orders, on = 'order_id')\n",
    "order_merged.head(3)"
   ]
  },
  {
   "cell_type": "code",
   "execution_count": 171,
   "id": "8892e4b4",
   "metadata": {
    "id": "8892e4b4"
   },
   "outputs": [],
   "source": [
    "proporcion_producto_xcliente = order_merged.groupby('user_id')['reordered'].mean()"
   ]
  },
  {
   "cell_type": "code",
   "execution_count": 172,
   "id": "954d932c",
   "metadata": {},
   "outputs": [
    {
     "data": {
      "image/png": "[encoded data removed]",
      "text/plain": [
       "<Figure size 640x480 with 1 Axes>"
      ]
     },
     "metadata": {},
     "output_type": "display_data"
    }
   ],
   "source": [
    "proporcion_producto_xcliente.plot(kind='hist',\n",
    "                                 bins=15)\n",
    "\n",
    "plt.show()"
   ]
  },
  {
   "cell_type": "markdown",
   "id": "BgJSvXDsleXz",
   "metadata": {
    "id": "BgJSvXDsleXz"
   },
   "source": [
    "Escribe aquí tus conclusiones\n",
    "\n",
    "Para cada cliente, ¿qué proporción de sus productos ya los había pedido?\n",
    "\n",
    "En el grafico vemos que una gran mayoria de clientes no habian pedido dichos productos anteriormente. Teniendo una proporcion del 0%.\n",
    "Hay 10000 clientes con valor 1, que me indica que una mayoria de clientes ya habian pedido dichos productos anteriormente. Teniendo una proporcion del 100%.\n",
    "En general, se observa que cada cliente suele mostrar una proporcion entre 40% y 80% de sus productos pedidos anteriormente.\n"
   ]
  },
  {
   "cell_type": "markdown",
   "id": "92d35137",
   "metadata": {
    "id": "92d35137"
   },
   "source": [
    "### [C5] ¿Cuáles son los 20 principales artículos que las personas ponen primero en sus carritos?"
   ]
  },
  {
   "cell_type": "code",
   "execution_count": 173,
   "id": "0ae57274",
   "metadata": {
    "id": "0ae57274",
    "scrolled": true
   },
   "outputs": [
    {
     "data": {
      "text/html": [
       "<div>\n",
       "<style scoped>\n",
       "    .dataframe tbody tr th:only-of-type {\n",
       "        vertical-align: middle;\n",
       "    }\n",
       "\n",
       "    .dataframe tbody tr th {\n",
       "        vertical-align: top;\n",
       "    }\n",
       "\n",
       "    .dataframe thead th {\n",
       "        text-align: right;\n",
       "    }\n",
       "</style>\n",
       "<table border=\"1\" class=\"dataframe\">\n",
       "  <thead>\n",
       "    <tr style=\"text-align: right;\">\n",
       "      <th></th>\n",
       "      <th>product_id</th>\n",
       "      <th>product_name</th>\n",
       "      <th>add_to_cart_order</th>\n",
       "    </tr>\n",
       "  </thead>\n",
       "  <tbody>\n",
       "    <tr>\n",
       "      <th>0</th>\n",
       "      <td>24852</td>\n",
       "      <td>BANANA</td>\n",
       "      <td>15562</td>\n",
       "    </tr>\n",
       "    <tr>\n",
       "      <th>1</th>\n",
       "      <td>13176</td>\n",
       "      <td>BAG OF ORGANIC BANANAS</td>\n",
       "      <td>11026</td>\n",
       "    </tr>\n",
       "    <tr>\n",
       "      <th>2</th>\n",
       "      <td>27845</td>\n",
       "      <td>ORGANIC WHOLE MILK</td>\n",
       "      <td>4363</td>\n",
       "    </tr>\n",
       "    <tr>\n",
       "      <th>3</th>\n",
       "      <td>21137</td>\n",
       "      <td>ORGANIC STRAWBERRIES</td>\n",
       "      <td>3946</td>\n",
       "    </tr>\n",
       "    <tr>\n",
       "      <th>4</th>\n",
       "      <td>47209</td>\n",
       "      <td>ORGANIC HASS AVOCADO</td>\n",
       "      <td>3390</td>\n",
       "    </tr>\n",
       "    <tr>\n",
       "      <th>5</th>\n",
       "      <td>21903</td>\n",
       "      <td>ORGANIC BABY SPINACH</td>\n",
       "      <td>3336</td>\n",
       "    </tr>\n",
       "    <tr>\n",
       "      <th>6</th>\n",
       "      <td>47766</td>\n",
       "      <td>ORGANIC AVOCADO</td>\n",
       "      <td>3044</td>\n",
       "    </tr>\n",
       "    <tr>\n",
       "      <th>7</th>\n",
       "      <td>19660</td>\n",
       "      <td>SPRING WATER</td>\n",
       "      <td>2336</td>\n",
       "    </tr>\n",
       "    <tr>\n",
       "      <th>8</th>\n",
       "      <td>16797</td>\n",
       "      <td>STRAWBERRIES</td>\n",
       "      <td>2308</td>\n",
       "    </tr>\n",
       "    <tr>\n",
       "      <th>9</th>\n",
       "      <td>27966</td>\n",
       "      <td>ORGANIC RASPBERRIES</td>\n",
       "      <td>2024</td>\n",
       "    </tr>\n",
       "    <tr>\n",
       "      <th>10</th>\n",
       "      <td>44632</td>\n",
       "      <td>SPARKLING WATER GRAPEFRUIT</td>\n",
       "      <td>1914</td>\n",
       "    </tr>\n",
       "    <tr>\n",
       "      <th>11</th>\n",
       "      <td>49235</td>\n",
       "      <td>ORGANIC HALF &amp; HALF</td>\n",
       "      <td>1797</td>\n",
       "    </tr>\n",
       "    <tr>\n",
       "      <th>12</th>\n",
       "      <td>47626</td>\n",
       "      <td>LARGE LEMON</td>\n",
       "      <td>1737</td>\n",
       "    </tr>\n",
       "    <tr>\n",
       "      <th>13</th>\n",
       "      <td>196</td>\n",
       "      <td>SODA</td>\n",
       "      <td>1733</td>\n",
       "    </tr>\n",
       "    <tr>\n",
       "      <th>14</th>\n",
       "      <td>38689</td>\n",
       "      <td>ORGANIC REDUCED FAT MILK</td>\n",
       "      <td>1397</td>\n",
       "    </tr>\n",
       "    <tr>\n",
       "      <th>15</th>\n",
       "      <td>26209</td>\n",
       "      <td>LIMES</td>\n",
       "      <td>1370</td>\n",
       "    </tr>\n",
       "    <tr>\n",
       "      <th>16</th>\n",
       "      <td>12341</td>\n",
       "      <td>HASS AVOCADOS</td>\n",
       "      <td>1340</td>\n",
       "    </tr>\n",
       "    <tr>\n",
       "      <th>17</th>\n",
       "      <td>5785</td>\n",
       "      <td>ORGANIC REDUCED FAT 2% MILK</td>\n",
       "      <td>1310</td>\n",
       "    </tr>\n",
       "    <tr>\n",
       "      <th>18</th>\n",
       "      <td>27086</td>\n",
       "      <td>HALF &amp; HALF</td>\n",
       "      <td>1309</td>\n",
       "    </tr>\n",
       "    <tr>\n",
       "      <th>19</th>\n",
       "      <td>22935</td>\n",
       "      <td>ORGANIC YELLOW ONION</td>\n",
       "      <td>1246</td>\n",
       "    </tr>\n",
       "  </tbody>\n",
       "</table>\n",
       "</div>"
      ],
      "text/plain": [
       "    product_id                 product_name  add_to_cart_order\n",
       "0        24852                       BANANA              15562\n",
       "1        13176       BAG OF ORGANIC BANANAS              11026\n",
       "2        27845           ORGANIC WHOLE MILK               4363\n",
       "3        21137         ORGANIC STRAWBERRIES               3946\n",
       "4        47209         ORGANIC HASS AVOCADO               3390\n",
       "5        21903         ORGANIC BABY SPINACH               3336\n",
       "6        47766              ORGANIC AVOCADO               3044\n",
       "7        19660                 SPRING WATER               2336\n",
       "8        16797                 STRAWBERRIES               2308\n",
       "9        27966          ORGANIC RASPBERRIES               2024\n",
       "10       44632   SPARKLING WATER GRAPEFRUIT               1914\n",
       "11       49235          ORGANIC HALF & HALF               1797\n",
       "12       47626                  LARGE LEMON               1737\n",
       "13         196                         SODA               1733\n",
       "14       38689     ORGANIC REDUCED FAT MILK               1397\n",
       "15       26209                        LIMES               1370\n",
       "16       12341                HASS AVOCADOS               1340\n",
       "17        5785  ORGANIC REDUCED FAT 2% MILK               1310\n",
       "18       27086                  HALF & HALF               1309\n",
       "19       22935         ORGANIC YELLOW ONION               1246"
      ]
     },
     "execution_count": 173,
     "metadata": {},
     "output_type": "execute_result"
    }
   ],
   "source": [
    "articulos_primero = df_order_products.merge(df_products, on = 'product_id')\n",
    "\n",
    "articulos_20_primero = articulos_primero[articulos_primero['add_to_cart_order'] == 1]\n",
    "\n",
    "articulos_20_primero = articulos_20_primero.sort_values(by='add_to_cart_order',ascending=False)\n",
    "\n",
    "articulos_20_primero = (articulos_20_primero.groupby(['product_id','product_name'])['add_to_cart_order']\n",
    "                        .sum()\n",
    "                        .nlargest(20)\n",
    "                        .reset_index()\n",
    "                       )\n",
    "\n",
    "articulos_20_primero"
   ]
  },
  {
   "cell_type": "code",
   "execution_count": 178,
   "id": "4f827428",
   "metadata": {},
   "outputs": [
    {
     "data": {
      "image/png": "[encoded data removed]",
      "text/plain": [
       "<Figure size 1500x800 with 1 Axes>"
      ]
     },
     "metadata": {},
     "output_type": "display_data"
    }
   ],
   "source": [
    "articulos_20_primero.plot(kind='bar',\n",
    "                     x = 'product_name',\n",
    "                     y = 'add_to_cart_order',\n",
    "                     figsize=[15,8],\n",
    "                     xlabel='Articulos',\n",
    "                     )\n",
    "plt.show()"
   ]
  },
  {
   "cell_type": "markdown",
   "id": "28ce9872",
   "metadata": {
    "id": "28ce9872"
   },
   "source": [
    "Escribe aquí tus conclusiones\n",
    "\n",
    "¿Cuáles son los 20 principales artículos que las personas ponen primero en sus carritos?\n",
    "\n",
    "La tabla nos muestra los primeros 20 articulos, estando en primer lugar las bananas."
   ]
  },
  {
   "cell_type": "markdown",
   "id": "uITbFCEoDosC",
   "metadata": {
    "id": "uITbFCEoDosC"
   },
   "source": [
    "### Conclusion general del proyecto:"
   ]
  },
  {
   "cell_type": "code",
   "execution_count": null,
   "id": "Nk-4GS7mDwqY",
   "metadata": {
    "id": "Nk-4GS7mDwqY"
   },
   "outputs": [
    {
     "ename": "SyntaxError",
     "evalue": "invalid syntax (2455928848.py, line 1)",
     "output_type": "error",
     "traceback": [
      "\u001b[0;36m  Cell \u001b[0;32mIn[174], line 1\u001b[0;36m\u001b[0m\n\u001b[0;31m    - Hay mas pedidos los fines de semana (Sabado) que dentro de semana (Miercoles), en general.\u001b[0m\n\u001b[0m          ^\u001b[0m\n\u001b[0;31mSyntaxError\u001b[0m\u001b[0;31m:\u001b[0m invalid syntax\n"
     ]
    }
   ],
   "source": [
    "- Hay más pedidos los fines de semana (Sabado) que dentro de semana (Miercoles), en general.\n",
    "\n",
    "- Las personas hacen pedidos dependiendo de la hora del día, habiendo mas movimientos\n",
    "entre las 10am y 5pm.\n",
    "\n",
    "- Cada cliente suele mostrar una proporcion de productos pedidos anteriormente entre el 40% y 80%, siendo el resto productos\n",
    "pedidos por primera vez.\n",
    "\n",
    "- En general la gran mayoria de personas compran entre 2 y 10 articulos en un solo pedido. Casi nadie compra mas de 48\n",
    "articulos a la vez.\n",
    "\n",
    "- Sobre los productos mas populares, sabemos que la banana  es el mas popular, repitiendose en el primer y \n",
    "segundo puesto, pero con diferentes presentaciones. Posterior a ellos tenemos otros productos populares, caracterizandose\n",
    "en su mayoria por ser organicos.\n",
    "\n",
    "- Un solo cliente en promedio compra un pedido o mas, llegando hasta 4 veces generalmente, pero hay unos pocos que hacen\n",
    "hasta 28 pedidos como cantidad maxima."
   ]
  }
 ],
 "metadata": {
  "ExecuteTimeLog": [
   {
    "duration": 310,
    "start_time": "2024-05-16T18:19:33.708Z"
   },
   {
    "duration": 4415,
    "start_time": "2024-05-16T18:19:50.119Z"
   },
   {
    "duration": 1682,
    "start_time": "2024-05-16T18:19:54.537Z"
   },
   {
    "duration": 23,
    "start_time": "2024-05-16T18:19:56.221Z"
   },
   {
    "duration": 17,
    "start_time": "2024-05-16T18:19:56.249Z"
   },
   {
    "duration": 15,
    "start_time": "2024-05-16T18:19:56.269Z"
   },
   {
    "duration": 54,
    "start_time": "2024-05-16T18:19:56.288Z"
   },
   {
    "duration": 13,
    "start_time": "2024-05-16T18:19:56.345Z"
   },
   {
    "duration": 12,
    "start_time": "2024-05-16T18:19:56.361Z"
   },
   {
    "duration": 838,
    "start_time": "2024-05-16T18:19:56.377Z"
   },
   {
    "duration": 15,
    "start_time": "2024-05-16T18:19:57.230Z"
   },
   {
    "duration": 129,
    "start_time": "2024-05-16T18:19:57.247Z"
   },
   {
    "duration": 193,
    "start_time": "2024-05-16T18:19:57.379Z"
   },
   {
    "duration": 60,
    "start_time": "2024-05-16T18:19:57.575Z"
   },
   {
    "duration": 23,
    "start_time": "2024-05-16T18:19:57.637Z"
   },
   {
    "duration": 5,
    "start_time": "2024-05-16T18:19:57.663Z"
   },
   {
    "duration": 71,
    "start_time": "2024-05-16T18:19:57.672Z"
   },
   {
    "duration": 165,
    "start_time": "2024-05-16T18:19:57.746Z"
   },
   {
    "duration": 0,
    "start_time": "2024-05-16T18:19:57.915Z"
   },
   {
    "duration": 0,
    "start_time": "2024-05-16T18:19:57.918Z"
   },
   {
    "duration": 0,
    "start_time": "2024-05-16T18:19:57.931Z"
   },
   {
    "duration": 0,
    "start_time": "2024-05-16T18:19:57.934Z"
   },
   {
    "duration": 0,
    "start_time": "2024-05-16T18:19:57.936Z"
   },
   {
    "duration": 0,
    "start_time": "2024-05-16T18:19:57.939Z"
   },
   {
    "duration": 0,
    "start_time": "2024-05-16T18:19:57.942Z"
   },
   {
    "duration": 0,
    "start_time": "2024-05-16T18:19:57.944Z"
   },
   {
    "duration": 0,
    "start_time": "2024-05-16T18:19:57.947Z"
   },
   {
    "duration": 0,
    "start_time": "2024-05-16T18:19:57.950Z"
   },
   {
    "duration": 0,
    "start_time": "2024-05-16T18:19:57.952Z"
   },
   {
    "duration": 0,
    "start_time": "2024-05-16T18:19:57.955Z"
   },
   {
    "duration": 0,
    "start_time": "2024-05-16T18:19:57.957Z"
   },
   {
    "duration": 0,
    "start_time": "2024-05-16T18:19:57.959Z"
   },
   {
    "duration": 0,
    "start_time": "2024-05-16T18:19:57.962Z"
   },
   {
    "duration": 0,
    "start_time": "2024-05-16T18:19:57.964Z"
   },
   {
    "duration": 0,
    "start_time": "2024-05-16T18:19:57.967Z"
   },
   {
    "duration": 0,
    "start_time": "2024-05-16T18:19:57.969Z"
   },
   {
    "duration": 6,
    "start_time": "2024-05-16T18:25:27.415Z"
   },
   {
    "duration": 6,
    "start_time": "2024-05-16T18:25:28.762Z"
   },
   {
    "duration": 6,
    "start_time": "2024-05-16T18:25:30.297Z"
   },
   {
    "duration": 5,
    "start_time": "2024-05-16T18:25:31.726Z"
   },
   {
    "duration": 1326,
    "start_time": "2024-05-16T18:25:33.600Z"
   },
   {
    "duration": 1313,
    "start_time": "2024-05-16T18:25:35.945Z"
   },
   {
    "duration": 8,
    "start_time": "2024-05-16T18:25:42.837Z"
   },
   {
    "duration": 9,
    "start_time": "2024-05-16T18:25:45.250Z"
   },
   {
    "duration": 9,
    "start_time": "2024-05-16T18:28:52.520Z"
   },
   {
    "duration": 24,
    "start_time": "2024-05-16T18:29:22.981Z"
   },
   {
    "duration": 610,
    "start_time": "2024-05-16T18:31:21.104Z"
   },
   {
    "duration": 14,
    "start_time": "2024-05-16T18:38:01.000Z"
   },
   {
    "duration": 6,
    "start_time": "2024-05-16T18:43:10.096Z"
   },
   {
    "duration": 10,
    "start_time": "2024-05-16T18:43:48.833Z"
   },
   {
    "duration": 11,
    "start_time": "2024-05-16T18:44:53.930Z"
   },
   {
    "duration": 13,
    "start_time": "2024-05-16T18:47:32.554Z"
   },
   {
    "duration": 13,
    "start_time": "2024-05-16T18:47:44.329Z"
   },
   {
    "duration": 24,
    "start_time": "2024-05-16T18:50:03.003Z"
   },
   {
    "duration": 23,
    "start_time": "2024-05-16T18:50:07.860Z"
   },
   {
    "duration": 831,
    "start_time": "2024-05-16T18:50:14.094Z"
   },
   {
    "duration": 5,
    "start_time": "2024-05-16T18:50:18.763Z"
   },
   {
    "duration": 690,
    "start_time": "2024-05-16T18:55:15.937Z"
   },
   {
    "duration": 1547,
    "start_time": "2024-05-16T18:55:16.632Z"
   },
   {
    "duration": 18,
    "start_time": "2024-05-16T18:55:18.182Z"
   },
   {
    "duration": 36,
    "start_time": "2024-05-16T18:55:18.204Z"
   },
   {
    "duration": 13,
    "start_time": "2024-05-16T18:55:18.243Z"
   },
   {
    "duration": 14,
    "start_time": "2024-05-16T18:55:18.259Z"
   },
   {
    "duration": 14,
    "start_time": "2024-05-16T18:55:18.276Z"
   },
   {
    "duration": 12,
    "start_time": "2024-05-16T18:55:18.330Z"
   },
   {
    "duration": 832,
    "start_time": "2024-05-16T18:55:18.346Z"
   },
   {
    "duration": 16,
    "start_time": "2024-05-16T18:55:19.183Z"
   },
   {
    "duration": 140,
    "start_time": "2024-05-16T18:55:19.202Z"
   },
   {
    "duration": 178,
    "start_time": "2024-05-16T18:55:19.345Z"
   },
   {
    "duration": 43,
    "start_time": "2024-05-16T18:55:19.529Z"
   },
   {
    "duration": 23,
    "start_time": "2024-05-16T18:55:19.574Z"
   },
   {
    "duration": 31,
    "start_time": "2024-05-16T18:55:19.601Z"
   },
   {
    "duration": 37,
    "start_time": "2024-05-16T18:55:19.637Z"
   },
   {
    "duration": 13,
    "start_time": "2024-05-16T18:55:19.677Z"
   },
   {
    "duration": 38,
    "start_time": "2024-05-16T18:55:19.693Z"
   },
   {
    "duration": 11,
    "start_time": "2024-05-16T18:55:19.734Z"
   },
   {
    "duration": 8,
    "start_time": "2024-05-16T18:55:19.748Z"
   },
   {
    "duration": 6,
    "start_time": "2024-05-16T18:55:19.759Z"
   },
   {
    "duration": 1371,
    "start_time": "2024-05-16T18:55:19.768Z"
   },
   {
    "duration": 1347,
    "start_time": "2024-05-16T18:55:21.143Z"
   },
   {
    "duration": 7,
    "start_time": "2024-05-16T18:55:22.493Z"
   },
   {
    "duration": 33,
    "start_time": "2024-05-16T18:55:22.503Z"
   },
   {
    "duration": 7,
    "start_time": "2024-05-16T18:55:22.538Z"
   },
   {
    "duration": 0,
    "start_time": "2024-05-16T18:55:22.550Z"
   },
   {
    "duration": 0,
    "start_time": "2024-05-16T18:55:22.553Z"
   },
   {
    "duration": 0,
    "start_time": "2024-05-16T18:55:22.555Z"
   },
   {
    "duration": 0,
    "start_time": "2024-05-16T18:55:22.557Z"
   },
   {
    "duration": 0,
    "start_time": "2024-05-16T18:55:22.560Z"
   },
   {
    "duration": 0,
    "start_time": "2024-05-16T18:55:22.563Z"
   },
   {
    "duration": 0,
    "start_time": "2024-05-16T18:55:22.565Z"
   },
   {
    "duration": 0,
    "start_time": "2024-05-16T18:55:22.567Z"
   },
   {
    "duration": 0,
    "start_time": "2024-05-16T18:55:22.569Z"
   },
   {
    "duration": 5,
    "start_time": "2024-05-16T19:13:04.095Z"
   },
   {
    "duration": 15,
    "start_time": "2024-05-16T19:13:32.981Z"
   },
   {
    "duration": 5,
    "start_time": "2024-05-16T19:15:24.194Z"
   },
   {
    "duration": 9,
    "start_time": "2024-05-16T19:15:32.000Z"
   },
   {
    "duration": 575,
    "start_time": "2024-05-16T19:17:45.640Z"
   },
   {
    "duration": 9,
    "start_time": "2024-05-16T19:18:31.547Z"
   },
   {
    "duration": 5,
    "start_time": "2024-05-16T19:19:51.148Z"
   },
   {
    "duration": 11,
    "start_time": "2024-05-16T19:19:55.176Z"
   },
   {
    "duration": 48,
    "start_time": "2024-05-16T19:31:56.043Z"
   },
   {
    "duration": 203,
    "start_time": "2024-05-16T19:32:19.207Z"
   },
   {
    "duration": 10,
    "start_time": "2024-05-16T19:34:00.760Z"
   },
   {
    "duration": 5,
    "start_time": "2024-05-16T19:34:07.412Z"
   },
   {
    "duration": 26,
    "start_time": "2024-05-16T19:36:02.753Z"
   },
   {
    "duration": 49,
    "start_time": "2024-05-16T19:36:21.959Z"
   },
   {
    "duration": 232,
    "start_time": "2024-05-16T19:42:45.973Z"
   },
   {
    "duration": 73,
    "start_time": "2024-05-16T19:43:33.261Z"
   },
   {
    "duration": 54,
    "start_time": "2024-05-16T19:44:08.272Z"
   },
   {
    "duration": 666,
    "start_time": "2024-05-16T19:44:43.879Z"
   },
   {
    "duration": 1560,
    "start_time": "2024-05-16T19:44:44.549Z"
   },
   {
    "duration": 23,
    "start_time": "2024-05-16T19:44:46.112Z"
   },
   {
    "duration": 16,
    "start_time": "2024-05-16T19:44:46.139Z"
   },
   {
    "duration": 15,
    "start_time": "2024-05-16T19:44:46.158Z"
   },
   {
    "duration": 58,
    "start_time": "2024-05-16T19:44:46.176Z"
   },
   {
    "duration": 13,
    "start_time": "2024-05-16T19:44:46.237Z"
   },
   {
    "duration": 11,
    "start_time": "2024-05-16T19:44:46.254Z"
   },
   {
    "duration": 834,
    "start_time": "2024-05-16T19:44:46.268Z"
   },
   {
    "duration": 28,
    "start_time": "2024-05-16T19:44:47.107Z"
   },
   {
    "duration": 122,
    "start_time": "2024-05-16T19:44:47.139Z"
   },
   {
    "duration": 168,
    "start_time": "2024-05-16T19:44:47.266Z"
   },
   {
    "duration": 49,
    "start_time": "2024-05-16T19:44:47.437Z"
   },
   {
    "duration": 46,
    "start_time": "2024-05-16T19:44:47.489Z"
   },
   {
    "duration": 6,
    "start_time": "2024-05-16T19:44:47.538Z"
   },
   {
    "duration": 37,
    "start_time": "2024-05-16T19:44:47.547Z"
   },
   {
    "duration": 49,
    "start_time": "2024-05-16T19:44:47.587Z"
   },
   {
    "duration": 6,
    "start_time": "2024-05-16T19:44:47.639Z"
   },
   {
    "duration": 5,
    "start_time": "2024-05-16T19:44:47.648Z"
   },
   {
    "duration": 6,
    "start_time": "2024-05-16T19:44:47.657Z"
   },
   {
    "duration": 6,
    "start_time": "2024-05-16T19:44:47.666Z"
   },
   {
    "duration": 1429,
    "start_time": "2024-05-16T19:44:47.676Z"
   },
   {
    "duration": 1338,
    "start_time": "2024-05-16T19:44:49.108Z"
   },
   {
    "duration": 7,
    "start_time": "2024-05-16T19:44:50.450Z"
   },
   {
    "duration": 16,
    "start_time": "2024-05-16T19:44:50.461Z"
   },
   {
    "duration": 56,
    "start_time": "2024-05-16T19:44:50.481Z"
   },
   {
    "duration": 15,
    "start_time": "2024-05-16T19:44:50.540Z"
   },
   {
    "duration": 10,
    "start_time": "2024-05-16T19:44:50.561Z"
   },
   {
    "duration": 10,
    "start_time": "2024-05-16T19:44:50.573Z"
   },
   {
    "duration": 46,
    "start_time": "2024-05-16T19:44:50.586Z"
   },
   {
    "duration": 26,
    "start_time": "2024-05-16T19:44:50.635Z"
   },
   {
    "duration": 76,
    "start_time": "2024-05-16T19:44:50.664Z"
   },
   {
    "duration": 11,
    "start_time": "2024-05-16T19:44:50.743Z"
   },
   {
    "duration": 4,
    "start_time": "2024-05-16T19:44:50.756Z"
   },
   {
    "duration": 3,
    "start_time": "2024-05-16T19:44:50.763Z"
   },
   {
    "duration": 24,
    "start_time": "2024-05-16T19:55:59.811Z"
   },
   {
    "duration": 10,
    "start_time": "2024-05-16T19:57:42.509Z"
   },
   {
    "duration": 704,
    "start_time": "2024-05-16T19:58:28.108Z"
   },
   {
    "duration": 1599,
    "start_time": "2024-05-16T19:58:28.816Z"
   },
   {
    "duration": 25,
    "start_time": "2024-05-16T19:58:30.419Z"
   },
   {
    "duration": 17,
    "start_time": "2024-05-16T19:58:30.447Z"
   },
   {
    "duration": 14,
    "start_time": "2024-05-16T19:58:30.470Z"
   },
   {
    "duration": 52,
    "start_time": "2024-05-16T19:58:30.487Z"
   },
   {
    "duration": 13,
    "start_time": "2024-05-16T19:58:30.542Z"
   },
   {
    "duration": 10,
    "start_time": "2024-05-16T19:58:30.558Z"
   },
   {
    "duration": 833,
    "start_time": "2024-05-16T19:58:30.571Z"
   },
   {
    "duration": 26,
    "start_time": "2024-05-16T19:58:31.407Z"
   },
   {
    "duration": 126,
    "start_time": "2024-05-16T19:58:31.436Z"
   },
   {
    "duration": 174,
    "start_time": "2024-05-16T19:58:31.565Z"
   },
   {
    "duration": 56,
    "start_time": "2024-05-16T19:58:31.742Z"
   },
   {
    "duration": 43,
    "start_time": "2024-05-16T19:58:31.806Z"
   },
   {
    "duration": 6,
    "start_time": "2024-05-16T19:58:31.852Z"
   },
   {
    "duration": 69,
    "start_time": "2024-05-16T19:58:31.862Z"
   },
   {
    "duration": 14,
    "start_time": "2024-05-16T19:58:31.933Z"
   },
   {
    "duration": 5,
    "start_time": "2024-05-16T19:58:31.950Z"
   },
   {
    "duration": 5,
    "start_time": "2024-05-16T19:58:31.959Z"
   },
   {
    "duration": 6,
    "start_time": "2024-05-16T19:58:31.968Z"
   },
   {
    "duration": 54,
    "start_time": "2024-05-16T19:58:31.977Z"
   },
   {
    "duration": 1372,
    "start_time": "2024-05-16T19:58:32.036Z"
   },
   {
    "duration": 1335,
    "start_time": "2024-05-16T19:58:33.411Z"
   },
   {
    "duration": 7,
    "start_time": "2024-05-16T19:58:34.749Z"
   },
   {
    "duration": 13,
    "start_time": "2024-05-16T19:58:34.759Z"
   },
   {
    "duration": 13,
    "start_time": "2024-05-16T19:58:34.776Z"
   },
   {
    "duration": 15,
    "start_time": "2024-05-16T19:58:34.831Z"
   },
   {
    "duration": 9,
    "start_time": "2024-05-16T19:58:34.849Z"
   },
   {
    "duration": 27,
    "start_time": "2024-05-16T19:58:34.862Z"
   },
   {
    "duration": 9,
    "start_time": "2024-05-16T19:58:34.932Z"
   },
   {
    "duration": 27,
    "start_time": "2024-05-16T19:58:34.944Z"
   },
   {
    "duration": 80,
    "start_time": "2024-05-16T19:58:34.975Z"
   },
   {
    "duration": 11,
    "start_time": "2024-05-16T19:58:35.058Z"
   },
   {
    "duration": 4,
    "start_time": "2024-05-16T19:58:35.072Z"
   },
   {
    "duration": 3,
    "start_time": "2024-05-16T19:58:35.079Z"
   },
   {
    "duration": 10,
    "start_time": "2024-05-16T20:00:42.784Z"
   },
   {
    "duration": 1157,
    "start_time": "2024-05-16T20:01:19.661Z"
   },
   {
    "duration": 5,
    "start_time": "2024-05-16T20:01:26.663Z"
   },
   {
    "duration": 2779,
    "start_time": "2024-05-16T20:07:20.392Z"
   },
   {
    "duration": 349,
    "start_time": "2024-05-16T20:10:22.145Z"
   },
   {
    "duration": 25,
    "start_time": "2024-05-16T20:10:40.703Z"
   },
   {
    "duration": 43,
    "start_time": "2024-05-16T20:11:26.857Z"
   },
   {
    "duration": 725,
    "start_time": "2024-05-16T20:11:36.211Z"
   },
   {
    "duration": 1613,
    "start_time": "2024-05-16T20:11:36.940Z"
   },
   {
    "duration": 19,
    "start_time": "2024-05-16T20:11:38.556Z"
   },
   {
    "duration": 21,
    "start_time": "2024-05-16T20:11:38.579Z"
   },
   {
    "duration": 40,
    "start_time": "2024-05-16T20:11:38.605Z"
   },
   {
    "duration": 18,
    "start_time": "2024-05-16T20:11:38.652Z"
   },
   {
    "duration": 16,
    "start_time": "2024-05-16T20:11:38.676Z"
   },
   {
    "duration": 42,
    "start_time": "2024-05-16T20:11:38.696Z"
   },
   {
    "duration": 864,
    "start_time": "2024-05-16T20:11:38.741Z"
   },
   {
    "duration": 27,
    "start_time": "2024-05-16T20:11:39.609Z"
   },
   {
    "duration": 129,
    "start_time": "2024-05-16T20:11:39.639Z"
   },
   {
    "duration": 186,
    "start_time": "2024-05-16T20:11:39.771Z"
   },
   {
    "duration": 49,
    "start_time": "2024-05-16T20:11:39.961Z"
   },
   {
    "duration": 32,
    "start_time": "2024-05-16T20:11:40.035Z"
   },
   {
    "duration": 6,
    "start_time": "2024-05-16T20:11:40.070Z"
   },
   {
    "duration": 80,
    "start_time": "2024-05-16T20:11:40.080Z"
   },
   {
    "duration": 16,
    "start_time": "2024-05-16T20:11:40.163Z"
   },
   {
    "duration": 7,
    "start_time": "2024-05-16T20:11:40.182Z"
   },
   {
    "duration": 38,
    "start_time": "2024-05-16T20:11:40.195Z"
   },
   {
    "duration": 6,
    "start_time": "2024-05-16T20:11:40.237Z"
   },
   {
    "duration": 5,
    "start_time": "2024-05-16T20:11:40.246Z"
   },
   {
    "duration": 1395,
    "start_time": "2024-05-16T20:11:40.254Z"
   },
   {
    "duration": 1428,
    "start_time": "2024-05-16T20:11:41.656Z"
   },
   {
    "duration": 10,
    "start_time": "2024-05-16T20:11:43.088Z"
   },
   {
    "duration": 33,
    "start_time": "2024-05-16T20:11:43.102Z"
   },
   {
    "duration": 19,
    "start_time": "2024-05-16T20:11:43.141Z"
   },
   {
    "duration": 17,
    "start_time": "2024-05-16T20:11:43.167Z"
   },
   {
    "duration": 11,
    "start_time": "2024-05-16T20:11:43.187Z"
   },
   {
    "duration": 12,
    "start_time": "2024-05-16T20:11:43.232Z"
   },
   {
    "duration": 7,
    "start_time": "2024-05-16T20:11:43.247Z"
   },
   {
    "duration": 30,
    "start_time": "2024-05-16T20:11:43.258Z"
   },
   {
    "duration": 62,
    "start_time": "2024-05-16T20:11:43.332Z"
   },
   {
    "duration": 44,
    "start_time": "2024-05-16T20:11:43.396Z"
   },
   {
    "duration": 4,
    "start_time": "2024-05-16T20:11:43.446Z"
   },
   {
    "duration": 7,
    "start_time": "2024-05-16T20:11:43.455Z"
   },
   {
    "duration": 361,
    "start_time": "2024-05-16T20:33:51.464Z"
   },
   {
    "duration": 23,
    "start_time": "2024-05-16T20:34:01.682Z"
   },
   {
    "duration": 681,
    "start_time": "2024-05-16T20:34:16.844Z"
   },
   {
    "duration": 1554,
    "start_time": "2024-05-16T20:34:17.531Z"
   },
   {
    "duration": 18,
    "start_time": "2024-05-16T20:34:19.088Z"
   },
   {
    "duration": 17,
    "start_time": "2024-05-16T20:34:19.130Z"
   },
   {
    "duration": 14,
    "start_time": "2024-05-16T20:34:19.150Z"
   },
   {
    "duration": 13,
    "start_time": "2024-05-16T20:34:19.167Z"
   },
   {
    "duration": 49,
    "start_time": "2024-05-16T20:34:19.183Z"
   },
   {
    "duration": 10,
    "start_time": "2024-05-16T20:34:19.234Z"
   },
   {
    "duration": 872,
    "start_time": "2024-05-16T20:34:19.247Z"
   },
   {
    "duration": 14,
    "start_time": "2024-05-16T20:34:20.130Z"
   },
   {
    "duration": 134,
    "start_time": "2024-05-16T20:34:20.147Z"
   },
   {
    "duration": 174,
    "start_time": "2024-05-16T20:34:20.284Z"
   },
   {
    "duration": 44,
    "start_time": "2024-05-16T20:34:20.461Z"
   },
   {
    "duration": 39,
    "start_time": "2024-05-16T20:34:20.508Z"
   },
   {
    "duration": 5,
    "start_time": "2024-05-16T20:34:20.550Z"
   },
   {
    "duration": 71,
    "start_time": "2024-05-16T20:34:20.559Z"
   },
   {
    "duration": 14,
    "start_time": "2024-05-16T20:34:20.633Z"
   },
   {
    "duration": 6,
    "start_time": "2024-05-16T20:34:20.650Z"
   },
   {
    "duration": 5,
    "start_time": "2024-05-16T20:34:20.659Z"
   },
   {
    "duration": 5,
    "start_time": "2024-05-16T20:34:20.668Z"
   },
   {
    "duration": 54,
    "start_time": "2024-05-16T20:34:20.677Z"
   },
   {
    "duration": 1360,
    "start_time": "2024-05-16T20:34:20.734Z"
   },
   {
    "duration": 1362,
    "start_time": "2024-05-16T20:34:22.099Z"
   },
   {
    "duration": 9,
    "start_time": "2024-05-16T20:34:23.464Z"
   },
   {
    "duration": 16,
    "start_time": "2024-05-16T20:34:23.476Z"
   },
   {
    "duration": 43,
    "start_time": "2024-05-16T20:34:23.496Z"
   },
   {
    "duration": 14,
    "start_time": "2024-05-16T20:34:23.542Z"
   },
   {
    "duration": 9,
    "start_time": "2024-05-16T20:34:23.563Z"
   },
   {
    "duration": 11,
    "start_time": "2024-05-16T20:34:23.575Z"
   },
   {
    "duration": 6,
    "start_time": "2024-05-16T20:34:23.631Z"
   },
   {
    "duration": 27,
    "start_time": "2024-05-16T20:34:23.640Z"
   },
   {
    "duration": 81,
    "start_time": "2024-05-16T20:34:23.670Z"
   },
   {
    "duration": 21,
    "start_time": "2024-05-16T20:34:23.754Z"
   },
   {
    "duration": 392,
    "start_time": "2024-05-16T20:34:23.778Z"
   },
   {
    "duration": 0,
    "start_time": "2024-05-16T20:34:24.172Z"
   },
   {
    "duration": 14,
    "start_time": "2024-05-16T20:34:35.713Z"
   },
   {
    "duration": 17,
    "start_time": "2024-05-16T20:36:37.641Z"
   },
   {
    "duration": 183,
    "start_time": "2024-05-16T20:42:10.497Z"
   },
   {
    "duration": 24,
    "start_time": "2024-05-16T20:44:06.882Z"
   },
   {
    "duration": 34,
    "start_time": "2024-05-16T20:44:14.930Z"
   },
   {
    "duration": 35,
    "start_time": "2024-05-16T20:46:08.068Z"
   },
   {
    "duration": 316,
    "start_time": "2024-05-17T00:24:16.158Z"
   },
   {
    "duration": 4578,
    "start_time": "2024-05-17T00:24:28.554Z"
   },
   {
    "duration": 1677,
    "start_time": "2024-05-17T00:24:33.136Z"
   },
   {
    "duration": 21,
    "start_time": "2024-05-17T00:24:34.817Z"
   },
   {
    "duration": 21,
    "start_time": "2024-05-17T00:24:34.843Z"
   },
   {
    "duration": 48,
    "start_time": "2024-05-17T00:24:34.867Z"
   },
   {
    "duration": 15,
    "start_time": "2024-05-17T00:24:34.918Z"
   },
   {
    "duration": 12,
    "start_time": "2024-05-17T00:24:34.936Z"
   },
   {
    "duration": 52,
    "start_time": "2024-05-17T00:24:34.951Z"
   },
   {
    "duration": 789,
    "start_time": "2024-05-17T00:24:35.006Z"
   },
   {
    "duration": 16,
    "start_time": "2024-05-17T00:24:35.799Z"
   },
   {
    "duration": 143,
    "start_time": "2024-05-17T00:24:35.818Z"
   },
   {
    "duration": 192,
    "start_time": "2024-05-17T00:24:35.966Z"
   },
   {
    "duration": 62,
    "start_time": "2024-05-17T00:24:36.161Z"
   },
   {
    "duration": 22,
    "start_time": "2024-05-17T00:24:36.226Z"
   },
   {
    "duration": 6,
    "start_time": "2024-05-17T00:24:36.252Z"
   },
   {
    "duration": 68,
    "start_time": "2024-05-17T00:24:36.262Z"
   },
   {
    "duration": 14,
    "start_time": "2024-05-17T00:24:36.333Z"
   },
   {
    "duration": 7,
    "start_time": "2024-05-17T00:24:36.349Z"
   },
   {
    "duration": 5,
    "start_time": "2024-05-17T00:24:36.359Z"
   },
   {
    "duration": 7,
    "start_time": "2024-05-17T00:24:36.404Z"
   },
   {
    "duration": 7,
    "start_time": "2024-05-17T00:24:36.415Z"
   },
   {
    "duration": 1409,
    "start_time": "2024-05-17T00:24:36.425Z"
   },
   {
    "duration": 1370,
    "start_time": "2024-05-17T00:24:37.837Z"
   },
   {
    "duration": 7,
    "start_time": "2024-05-17T00:24:39.210Z"
   },
   {
    "duration": 15,
    "start_time": "2024-05-17T00:24:39.221Z"
   },
   {
    "duration": 17,
    "start_time": "2024-05-17T00:24:39.239Z"
   },
   {
    "duration": 54,
    "start_time": "2024-05-17T00:24:39.259Z"
   },
   {
    "duration": 9,
    "start_time": "2024-05-17T00:24:39.320Z"
   },
   {
    "duration": 11,
    "start_time": "2024-05-17T00:24:39.332Z"
   },
   {
    "duration": 6,
    "start_time": "2024-05-17T00:24:39.349Z"
   },
   {
    "duration": 29,
    "start_time": "2024-05-17T00:24:39.403Z"
   },
   {
    "duration": 82,
    "start_time": "2024-05-17T00:24:39.435Z"
   },
   {
    "duration": 21,
    "start_time": "2024-05-17T00:24:39.520Z"
   },
   {
    "duration": 203,
    "start_time": "2024-05-17T00:24:39.544Z"
   },
   {
    "duration": 57,
    "start_time": "2024-05-17T00:24:39.750Z"
   },
   {
    "duration": 7,
    "start_time": "2024-05-17T00:24:39.810Z"
   },
   {
    "duration": 0,
    "start_time": "2024-05-17T00:24:39.819Z"
   },
   {
    "duration": 54,
    "start_time": "2024-05-17T00:25:22.164Z"
   },
   {
    "duration": 58,
    "start_time": "2024-05-17T00:25:55.442Z"
   },
   {
    "duration": 497,
    "start_time": "2024-05-17T00:35:45.975Z"
   },
   {
    "duration": 542,
    "start_time": "2024-05-17T00:36:43.116Z"
   },
   {
    "duration": 518,
    "start_time": "2024-05-17T00:38:08.926Z"
   },
   {
    "duration": 568,
    "start_time": "2024-05-17T00:38:55.883Z"
   },
   {
    "duration": 536,
    "start_time": "2024-05-17T00:39:01.649Z"
   },
   {
    "duration": 505,
    "start_time": "2024-05-17T00:39:21.043Z"
   },
   {
    "duration": 2955,
    "start_time": "2024-05-17T00:48:43.407Z"
   },
   {
    "duration": 3068,
    "start_time": "2024-05-17T00:50:29.512Z"
   },
   {
    "duration": 712,
    "start_time": "2024-05-17T00:51:12.986Z"
   },
   {
    "duration": 1556,
    "start_time": "2024-05-17T00:51:13.703Z"
   },
   {
    "duration": 18,
    "start_time": "2024-05-17T00:51:15.262Z"
   },
   {
    "duration": 29,
    "start_time": "2024-05-17T00:51:15.284Z"
   },
   {
    "duration": 14,
    "start_time": "2024-05-17T00:51:15.316Z"
   },
   {
    "duration": 14,
    "start_time": "2024-05-17T00:51:15.333Z"
   },
   {
    "duration": 59,
    "start_time": "2024-05-17T00:51:15.350Z"
   },
   {
    "duration": 11,
    "start_time": "2024-05-17T00:51:15.414Z"
   },
   {
    "duration": 864,
    "start_time": "2024-05-17T00:51:15.429Z"
   },
   {
    "duration": 18,
    "start_time": "2024-05-17T00:51:16.304Z"
   },
   {
    "duration": 131,
    "start_time": "2024-05-17T00:51:16.325Z"
   },
   {
    "duration": 198,
    "start_time": "2024-05-17T00:51:16.461Z"
   },
   {
    "duration": 57,
    "start_time": "2024-05-17T00:51:16.662Z"
   },
   {
    "duration": 23,
    "start_time": "2024-05-17T00:51:16.722Z"
   },
   {
    "duration": 6,
    "start_time": "2024-05-17T00:51:16.748Z"
   },
   {
    "duration": 69,
    "start_time": "2024-05-17T00:51:16.758Z"
   },
   {
    "duration": 14,
    "start_time": "2024-05-17T00:51:16.831Z"
   },
   {
    "duration": 7,
    "start_time": "2024-05-17T00:51:16.847Z"
   },
   {
    "duration": 5,
    "start_time": "2024-05-17T00:51:16.857Z"
   },
   {
    "duration": 43,
    "start_time": "2024-05-17T00:51:16.865Z"
   },
   {
    "duration": 6,
    "start_time": "2024-05-17T00:51:16.913Z"
   },
   {
    "duration": 1403,
    "start_time": "2024-05-17T00:51:16.922Z"
   },
   {
    "duration": 1362,
    "start_time": "2024-05-17T00:51:18.330Z"
   },
   {
    "duration": 7,
    "start_time": "2024-05-17T00:51:19.701Z"
   },
   {
    "duration": 15,
    "start_time": "2024-05-17T00:51:19.711Z"
   },
   {
    "duration": 16,
    "start_time": "2024-05-17T00:51:19.728Z"
   },
   {
    "duration": 55,
    "start_time": "2024-05-17T00:51:19.746Z"
   },
   {
    "duration": 9,
    "start_time": "2024-05-17T00:51:19.808Z"
   },
   {
    "duration": 10,
    "start_time": "2024-05-17T00:51:19.820Z"
   },
   {
    "duration": 5,
    "start_time": "2024-05-17T00:51:19.834Z"
   },
   {
    "duration": 74,
    "start_time": "2024-05-17T00:51:19.842Z"
   },
   {
    "duration": 57,
    "start_time": "2024-05-17T00:51:19.919Z"
   },
   {
    "duration": 20,
    "start_time": "2024-05-17T00:51:20.001Z"
   },
   {
    "duration": 2957,
    "start_time": "2024-05-17T00:51:20.024Z"
   },
   {
    "duration": 186,
    "start_time": "2024-05-17T00:51:22.983Z"
   },
   {
    "duration": 77,
    "start_time": "2024-05-17T00:51:23.173Z"
   },
   {
    "duration": 5,
    "start_time": "2024-05-17T00:51:23.253Z"
   },
   {
    "duration": 0,
    "start_time": "2024-05-17T00:51:23.261Z"
   },
   {
    "duration": 2992,
    "start_time": "2024-05-17T00:52:59.930Z"
   },
   {
    "duration": 2967,
    "start_time": "2024-05-17T00:56:47.591Z"
   },
   {
    "duration": 695,
    "start_time": "2024-05-17T01:04:31.123Z"
   },
   {
    "duration": 1668,
    "start_time": "2024-05-17T01:04:31.822Z"
   },
   {
    "duration": 18,
    "start_time": "2024-05-17T01:04:33.501Z"
   },
   {
    "duration": 21,
    "start_time": "2024-05-17T01:04:33.522Z"
   },
   {
    "duration": 13,
    "start_time": "2024-05-17T01:04:33.550Z"
   },
   {
    "duration": 46,
    "start_time": "2024-05-17T01:04:33.565Z"
   },
   {
    "duration": 12,
    "start_time": "2024-05-17T01:04:33.614Z"
   },
   {
    "duration": 10,
    "start_time": "2024-05-17T01:04:33.629Z"
   },
   {
    "duration": 854,
    "start_time": "2024-05-17T01:04:33.643Z"
   },
   {
    "duration": 18,
    "start_time": "2024-05-17T01:04:34.503Z"
   },
   {
    "duration": 133,
    "start_time": "2024-05-17T01:04:34.526Z"
   },
   {
    "duration": 179,
    "start_time": "2024-05-17T01:04:34.662Z"
   },
   {
    "duration": 57,
    "start_time": "2024-05-17T01:04:34.844Z"
   },
   {
    "duration": 22,
    "start_time": "2024-05-17T01:04:34.909Z"
   },
   {
    "duration": 5,
    "start_time": "2024-05-17T01:04:34.934Z"
   },
   {
    "duration": 69,
    "start_time": "2024-05-17T01:04:34.943Z"
   },
   {
    "duration": 14,
    "start_time": "2024-05-17T01:04:35.016Z"
   },
   {
    "duration": 6,
    "start_time": "2024-05-17T01:04:35.034Z"
   },
   {
    "duration": 5,
    "start_time": "2024-05-17T01:04:35.043Z"
   },
   {
    "duration": 7,
    "start_time": "2024-05-17T01:04:35.051Z"
   },
   {
    "duration": 6,
    "start_time": "2024-05-17T01:04:35.103Z"
   },
   {
    "duration": 1370,
    "start_time": "2024-05-17T01:04:35.112Z"
   },
   {
    "duration": 1357,
    "start_time": "2024-05-17T01:04:36.484Z"
   },
   {
    "duration": 9,
    "start_time": "2024-05-17T01:04:37.845Z"
   },
   {
    "duration": 14,
    "start_time": "2024-05-17T01:04:37.858Z"
   },
   {
    "duration": 15,
    "start_time": "2024-05-17T01:04:37.903Z"
   },
   {
    "duration": 14,
    "start_time": "2024-05-17T01:04:37.922Z"
   },
   {
    "duration": 10,
    "start_time": "2024-05-17T01:04:37.939Z"
   },
   {
    "duration": 54,
    "start_time": "2024-05-17T01:04:37.952Z"
   },
   {
    "duration": 5,
    "start_time": "2024-05-17T01:04:38.009Z"
   },
   {
    "duration": 28,
    "start_time": "2024-05-17T01:04:38.017Z"
   },
   {
    "duration": 85,
    "start_time": "2024-05-17T01:04:38.048Z"
   },
   {
    "duration": 21,
    "start_time": "2024-05-17T01:04:38.136Z"
   },
   {
    "duration": 3129,
    "start_time": "2024-05-17T01:04:38.160Z"
   },
   {
    "duration": 186,
    "start_time": "2024-05-17T01:04:41.292Z"
   },
   {
    "duration": 73,
    "start_time": "2024-05-17T01:04:41.481Z"
   },
   {
    "duration": 5,
    "start_time": "2024-05-17T01:04:41.558Z"
   },
   {
    "duration": 0,
    "start_time": "2024-05-17T01:04:41.566Z"
   },
   {
    "duration": 8,
    "start_time": "2024-05-17T01:21:53.160Z"
   },
   {
    "duration": 794,
    "start_time": "2024-05-17T01:25:31.950Z"
   },
   {
    "duration": 9,
    "start_time": "2024-05-17T01:25:57.070Z"
   },
   {
    "duration": 11,
    "start_time": "2024-05-17T01:27:09.025Z"
   },
   {
    "duration": 714,
    "start_time": "2024-05-17T01:27:19.494Z"
   },
   {
    "duration": 1545,
    "start_time": "2024-05-17T01:27:20.211Z"
   },
   {
    "duration": 20,
    "start_time": "2024-05-17T01:27:21.759Z"
   },
   {
    "duration": 33,
    "start_time": "2024-05-17T01:27:21.782Z"
   },
   {
    "duration": 14,
    "start_time": "2024-05-17T01:27:21.819Z"
   },
   {
    "duration": 13,
    "start_time": "2024-05-17T01:27:21.836Z"
   },
   {
    "duration": 52,
    "start_time": "2024-05-17T01:27:21.853Z"
   },
   {
    "duration": 9,
    "start_time": "2024-05-17T01:27:21.908Z"
   },
   {
    "duration": 833,
    "start_time": "2024-05-17T01:27:21.920Z"
   },
   {
    "duration": 15,
    "start_time": "2024-05-17T01:27:22.759Z"
   },
   {
    "duration": 136,
    "start_time": "2024-05-17T01:27:22.778Z"
   },
   {
    "duration": 173,
    "start_time": "2024-05-17T01:27:22.917Z"
   },
   {
    "duration": 48,
    "start_time": "2024-05-17T01:27:23.093Z"
   },
   {
    "duration": 22,
    "start_time": "2024-05-17T01:27:23.144Z"
   },
   {
    "duration": 34,
    "start_time": "2024-05-17T01:27:23.170Z"
   },
   {
    "duration": 41,
    "start_time": "2024-05-17T01:27:23.208Z"
   },
   {
    "duration": 49,
    "start_time": "2024-05-17T01:27:23.252Z"
   },
   {
    "duration": 6,
    "start_time": "2024-05-17T01:27:23.304Z"
   },
   {
    "duration": 5,
    "start_time": "2024-05-17T01:27:23.314Z"
   },
   {
    "duration": 7,
    "start_time": "2024-05-17T01:27:23.322Z"
   },
   {
    "duration": 5,
    "start_time": "2024-05-17T01:27:23.332Z"
   },
   {
    "duration": 1392,
    "start_time": "2024-05-17T01:27:23.340Z"
   },
   {
    "duration": 1344,
    "start_time": "2024-05-17T01:27:24.736Z"
   },
   {
    "duration": 17,
    "start_time": "2024-05-17T01:27:26.084Z"
   },
   {
    "duration": 18,
    "start_time": "2024-05-17T01:27:26.104Z"
   },
   {
    "duration": 14,
    "start_time": "2024-05-17T01:27:26.126Z"
   },
   {
    "duration": 15,
    "start_time": "2024-05-17T01:27:26.143Z"
   },
   {
    "duration": 12,
    "start_time": "2024-05-17T01:27:26.209Z"
   },
   {
    "duration": 10,
    "start_time": "2024-05-17T01:27:26.224Z"
   },
   {
    "duration": 5,
    "start_time": "2024-05-17T01:27:26.237Z"
   },
   {
    "duration": 71,
    "start_time": "2024-05-17T01:27:26.246Z"
   },
   {
    "duration": 80,
    "start_time": "2024-05-17T01:27:26.321Z"
   },
   {
    "duration": 21,
    "start_time": "2024-05-17T01:27:26.405Z"
   },
   {
    "duration": 2959,
    "start_time": "2024-05-17T01:27:26.430Z"
   },
   {
    "duration": 17,
    "start_time": "2024-05-17T01:27:29.392Z"
   },
   {
    "duration": 189,
    "start_time": "2024-05-17T01:27:29.412Z"
   },
   {
    "duration": 65,
    "start_time": "2024-05-17T01:27:29.604Z"
   },
   {
    "duration": 6,
    "start_time": "2024-05-17T01:27:29.671Z"
   },
   {
    "duration": 0,
    "start_time": "2024-05-17T01:27:29.703Z"
   },
   {
    "duration": 87,
    "start_time": "2024-05-17T01:29:53.872Z"
   },
   {
    "duration": 686,
    "start_time": "2024-05-17T01:30:16.218Z"
   },
   {
    "duration": 1594,
    "start_time": "2024-05-17T01:30:16.908Z"
   },
   {
    "duration": 17,
    "start_time": "2024-05-17T01:30:18.505Z"
   },
   {
    "duration": 16,
    "start_time": "2024-05-17T01:30:18.527Z"
   },
   {
    "duration": 56,
    "start_time": "2024-05-17T01:30:18.546Z"
   },
   {
    "duration": 14,
    "start_time": "2024-05-17T01:30:18.605Z"
   },
   {
    "duration": 12,
    "start_time": "2024-05-17T01:30:18.622Z"
   },
   {
    "duration": 14,
    "start_time": "2024-05-17T01:30:18.638Z"
   },
   {
    "duration": 841,
    "start_time": "2024-05-17T01:30:18.656Z"
   },
   {
    "duration": 17,
    "start_time": "2024-05-17T01:30:19.507Z"
   },
   {
    "duration": 134,
    "start_time": "2024-05-17T01:30:19.527Z"
   },
   {
    "duration": 195,
    "start_time": "2024-05-17T01:30:19.664Z"
   },
   {
    "duration": 60,
    "start_time": "2024-05-17T01:30:19.862Z"
   },
   {
    "duration": 22,
    "start_time": "2024-05-17T01:30:19.925Z"
   },
   {
    "duration": 6,
    "start_time": "2024-05-17T01:30:19.950Z"
   },
   {
    "duration": 70,
    "start_time": "2024-05-17T01:30:19.959Z"
   },
   {
    "duration": 14,
    "start_time": "2024-05-17T01:30:20.036Z"
   },
   {
    "duration": 7,
    "start_time": "2024-05-17T01:30:20.052Z"
   },
   {
    "duration": 38,
    "start_time": "2024-05-17T01:30:20.063Z"
   },
   {
    "duration": 6,
    "start_time": "2024-05-17T01:30:20.105Z"
   },
   {
    "duration": 6,
    "start_time": "2024-05-17T01:30:20.114Z"
   },
   {
    "duration": 1385,
    "start_time": "2024-05-17T01:30:20.122Z"
   },
   {
    "duration": 1356,
    "start_time": "2024-05-17T01:30:21.510Z"
   },
   {
    "duration": 12,
    "start_time": "2024-05-17T01:30:22.869Z"
   },
   {
    "duration": 29,
    "start_time": "2024-05-17T01:30:22.885Z"
   },
   {
    "duration": 14,
    "start_time": "2024-05-17T01:30:22.917Z"
   },
   {
    "duration": 13,
    "start_time": "2024-05-17T01:30:22.934Z"
   },
   {
    "duration": 46,
    "start_time": "2024-05-17T01:30:22.955Z"
   },
   {
    "duration": 11,
    "start_time": "2024-05-17T01:30:23.005Z"
   },
   {
    "duration": 5,
    "start_time": "2024-05-17T01:30:23.019Z"
   },
   {
    "duration": 27,
    "start_time": "2024-05-17T01:30:23.027Z"
   },
   {
    "duration": 49,
    "start_time": "2024-05-17T01:30:23.101Z"
   },
   {
    "duration": 48,
    "start_time": "2024-05-17T01:30:23.153Z"
   },
   {
    "duration": 3019,
    "start_time": "2024-05-17T01:30:23.204Z"
   },
   {
    "duration": 15,
    "start_time": "2024-05-17T01:30:26.227Z"
   },
   {
    "duration": 226,
    "start_time": "2024-05-17T01:30:26.245Z"
   },
   {
    "duration": 5,
    "start_time": "2024-05-17T01:30:26.474Z"
   },
   {
    "duration": 0,
    "start_time": "2024-05-17T01:30:26.482Z"
   },
   {
    "duration": 152,
    "start_time": "2024-05-17T01:33:25.082Z"
   },
   {
    "duration": 382,
    "start_time": "2024-05-17T01:35:11.538Z"
   },
   {
    "duration": 10,
    "start_time": "2024-05-17T01:36:05.636Z"
   },
   {
    "duration": 13,
    "start_time": "2024-05-17T01:37:08.139Z"
   },
   {
    "duration": 518,
    "start_time": "2024-05-17T01:38:43.565Z"
   },
   {
    "duration": 551,
    "start_time": "2024-05-17T01:38:53.738Z"
   },
   {
    "duration": 521,
    "start_time": "2024-05-17T01:39:27.445Z"
   },
   {
    "duration": 521,
    "start_time": "2024-05-17T01:39:36.255Z"
   },
   {
    "duration": 2901,
    "start_time": "2024-05-17T01:42:11.408Z"
   },
   {
    "duration": 9,
    "start_time": "2024-05-17T01:43:06.744Z"
   },
   {
    "duration": 593,
    "start_time": "2024-05-17T01:43:25.329Z"
   },
   {
    "duration": 507,
    "start_time": "2024-05-17T01:44:29.164Z"
   },
   {
    "duration": 538,
    "start_time": "2024-05-17T01:46:43.349Z"
   },
   {
    "duration": 65,
    "start_time": "2024-05-17T01:48:43.379Z"
   },
   {
    "duration": 8,
    "start_time": "2024-05-17T01:59:37.036Z"
   },
   {
    "duration": 687,
    "start_time": "2024-05-17T01:59:45.139Z"
   },
   {
    "duration": 1609,
    "start_time": "2024-05-17T01:59:45.830Z"
   },
   {
    "duration": 21,
    "start_time": "2024-05-17T01:59:47.441Z"
   },
   {
    "duration": 43,
    "start_time": "2024-05-17T01:59:47.467Z"
   },
   {
    "duration": 18,
    "start_time": "2024-05-17T01:59:47.514Z"
   },
   {
    "duration": 21,
    "start_time": "2024-05-17T01:59:47.541Z"
   },
   {
    "duration": 39,
    "start_time": "2024-05-17T01:59:47.566Z"
   },
   {
    "duration": 10,
    "start_time": "2024-05-17T01:59:47.608Z"
   },
   {
    "duration": 852,
    "start_time": "2024-05-17T01:59:47.622Z"
   },
   {
    "duration": 29,
    "start_time": "2024-05-17T01:59:48.481Z"
   },
   {
    "duration": 131,
    "start_time": "2024-05-17T01:59:48.513Z"
   },
   {
    "duration": 182,
    "start_time": "2024-05-17T01:59:48.648Z"
   },
   {
    "duration": 43,
    "start_time": "2024-05-17T01:59:48.833Z"
   },
   {
    "duration": 39,
    "start_time": "2024-05-17T01:59:48.880Z"
   },
   {
    "duration": 6,
    "start_time": "2024-05-17T01:59:48.922Z"
   },
   {
    "duration": 36,
    "start_time": "2024-05-17T01:59:48.930Z"
   },
   {
    "duration": 43,
    "start_time": "2024-05-17T01:59:48.969Z"
   },
   {
    "duration": 6,
    "start_time": "2024-05-17T01:59:49.015Z"
   },
   {
    "duration": 5,
    "start_time": "2024-05-17T01:59:49.024Z"
   },
   {
    "duration": 6,
    "start_time": "2024-05-17T01:59:49.033Z"
   },
   {
    "duration": 5,
    "start_time": "2024-05-17T01:59:49.042Z"
   },
   {
    "duration": 1344,
    "start_time": "2024-05-17T01:59:49.102Z"
   },
   {
    "duration": 1345,
    "start_time": "2024-05-17T01:59:50.449Z"
   },
   {
    "duration": 8,
    "start_time": "2024-05-17T01:59:51.801Z"
   },
   {
    "duration": 17,
    "start_time": "2024-05-17T01:59:51.812Z"
   },
   {
    "duration": 14,
    "start_time": "2024-05-17T01:59:51.832Z"
   },
   {
    "duration": 59,
    "start_time": "2024-05-17T01:59:51.849Z"
   },
   {
    "duration": 10,
    "start_time": "2024-05-17T01:59:51.914Z"
   },
   {
    "duration": 10,
    "start_time": "2024-05-17T01:59:51.927Z"
   },
   {
    "duration": 9,
    "start_time": "2024-05-17T01:59:51.940Z"
   },
   {
    "duration": 71,
    "start_time": "2024-05-17T01:59:51.952Z"
   },
   {
    "duration": 53,
    "start_time": "2024-05-17T01:59:52.026Z"
   },
   {
    "duration": 21,
    "start_time": "2024-05-17T01:59:52.101Z"
   },
   {
    "duration": 547,
    "start_time": "2024-05-17T01:59:52.124Z"
   },
   {
    "duration": 26,
    "start_time": "2024-05-17T01:59:52.676Z"
   },
   {
    "duration": 557,
    "start_time": "2024-05-17T01:59:52.705Z"
   },
   {
    "duration": 76,
    "start_time": "2024-05-17T01:59:53.266Z"
   },
   {
    "duration": 6,
    "start_time": "2024-05-17T01:59:53.345Z"
   },
   {
    "duration": 0,
    "start_time": "2024-05-17T01:59:53.354Z"
   },
   {
    "duration": 14,
    "start_time": "2024-05-17T02:03:35.828Z"
   },
   {
    "duration": 9,
    "start_time": "2024-05-17T02:04:28.303Z"
   },
   {
    "duration": 9,
    "start_time": "2024-05-17T02:04:58.289Z"
   },
   {
    "duration": 643,
    "start_time": "2024-05-17T02:08:54.469Z"
   },
   {
    "duration": 69,
    "start_time": "2024-05-17T02:09:29.639Z"
   },
   {
    "duration": 657,
    "start_time": "2024-05-17T02:09:38.551Z"
   },
   {
    "duration": 1590,
    "start_time": "2024-05-17T02:09:39.211Z"
   },
   {
    "duration": 18,
    "start_time": "2024-05-17T02:09:40.804Z"
   },
   {
    "duration": 16,
    "start_time": "2024-05-17T02:09:40.826Z"
   },
   {
    "duration": 14,
    "start_time": "2024-05-17T02:09:40.846Z"
   },
   {
    "duration": 50,
    "start_time": "2024-05-17T02:09:40.864Z"
   },
   {
    "duration": 12,
    "start_time": "2024-05-17T02:09:40.917Z"
   },
   {
    "duration": 10,
    "start_time": "2024-05-17T02:09:40.932Z"
   },
   {
    "duration": 837,
    "start_time": "2024-05-17T02:09:40.945Z"
   },
   {
    "duration": 25,
    "start_time": "2024-05-17T02:09:41.790Z"
   },
   {
    "duration": 138,
    "start_time": "2024-05-17T02:09:41.818Z"
   },
   {
    "duration": 176,
    "start_time": "2024-05-17T02:09:41.959Z"
   },
   {
    "duration": 64,
    "start_time": "2024-05-17T02:09:42.137Z"
   },
   {
    "duration": 23,
    "start_time": "2024-05-17T02:09:42.204Z"
   },
   {
    "duration": 5,
    "start_time": "2024-05-17T02:09:42.230Z"
   },
   {
    "duration": 70,
    "start_time": "2024-05-17T02:09:42.238Z"
   },
   {
    "duration": 14,
    "start_time": "2024-05-17T02:09:42.311Z"
   },
   {
    "duration": 6,
    "start_time": "2024-05-17T02:09:42.328Z"
   },
   {
    "duration": 5,
    "start_time": "2024-05-17T02:09:42.337Z"
   },
   {
    "duration": 6,
    "start_time": "2024-05-17T02:09:42.346Z"
   },
   {
    "duration": 49,
    "start_time": "2024-05-17T02:09:42.355Z"
   },
   {
    "duration": 1387,
    "start_time": "2024-05-17T02:09:42.407Z"
   },
   {
    "duration": 1352,
    "start_time": "2024-05-17T02:09:43.801Z"
   },
   {
    "duration": 9,
    "start_time": "2024-05-17T02:09:45.157Z"
   },
   {
    "duration": 39,
    "start_time": "2024-05-17T02:09:45.170Z"
   },
   {
    "duration": 14,
    "start_time": "2024-05-17T02:09:45.212Z"
   },
   {
    "duration": 14,
    "start_time": "2024-05-17T02:09:45.229Z"
   },
   {
    "duration": 61,
    "start_time": "2024-05-17T02:09:45.250Z"
   },
   {
    "duration": 12,
    "start_time": "2024-05-17T02:09:45.314Z"
   },
   {
    "duration": 9,
    "start_time": "2024-05-17T02:09:45.329Z"
   },
   {
    "duration": 61,
    "start_time": "2024-05-17T02:09:45.341Z"
   },
   {
    "duration": 49,
    "start_time": "2024-05-17T02:09:45.404Z"
   },
   {
    "duration": 50,
    "start_time": "2024-05-17T02:09:45.456Z"
   },
   {
    "duration": 544,
    "start_time": "2024-05-17T02:09:45.509Z"
   },
   {
    "duration": 15,
    "start_time": "2024-05-17T02:09:46.056Z"
   },
   {
    "duration": 561,
    "start_time": "2024-05-17T02:09:46.074Z"
   },
   {
    "duration": 85,
    "start_time": "2024-05-17T02:09:46.638Z"
   },
   {
    "duration": 5,
    "start_time": "2024-05-17T02:09:46.727Z"
   },
   {
    "duration": 0,
    "start_time": "2024-05-17T02:09:46.735Z"
   },
   {
    "duration": 5,
    "start_time": "2024-05-17T02:11:23.842Z"
   },
   {
    "duration": 11,
    "start_time": "2024-05-17T02:11:39.270Z"
   },
   {
    "duration": 12,
    "start_time": "2024-05-17T02:11:51.149Z"
   },
   {
    "duration": 700,
    "start_time": "2024-05-17T02:11:55.748Z"
   },
   {
    "duration": 1564,
    "start_time": "2024-05-17T02:11:56.452Z"
   },
   {
    "duration": 21,
    "start_time": "2024-05-17T02:11:58.022Z"
   },
   {
    "duration": 19,
    "start_time": "2024-05-17T02:11:58.047Z"
   },
   {
    "duration": 13,
    "start_time": "2024-05-17T02:11:58.103Z"
   },
   {
    "duration": 14,
    "start_time": "2024-05-17T02:11:58.119Z"
   },
   {
    "duration": 14,
    "start_time": "2024-05-17T02:11:58.137Z"
   },
   {
    "duration": 10,
    "start_time": "2024-05-17T02:11:58.154Z"
   },
   {
    "duration": 805,
    "start_time": "2024-05-17T02:11:58.203Z"
   },
   {
    "duration": 14,
    "start_time": "2024-05-17T02:11:59.011Z"
   },
   {
    "duration": 148,
    "start_time": "2024-05-17T02:11:59.028Z"
   },
   {
    "duration": 175,
    "start_time": "2024-05-17T02:11:59.179Z"
   },
   {
    "duration": 60,
    "start_time": "2024-05-17T02:11:59.358Z"
   },
   {
    "duration": 21,
    "start_time": "2024-05-17T02:11:59.426Z"
   },
   {
    "duration": 5,
    "start_time": "2024-05-17T02:11:59.451Z"
   },
   {
    "duration": 71,
    "start_time": "2024-05-17T02:11:59.460Z"
   },
   {
    "duration": 14,
    "start_time": "2024-05-17T02:11:59.534Z"
   },
   {
    "duration": 6,
    "start_time": "2024-05-17T02:11:59.552Z"
   },
   {
    "duration": 5,
    "start_time": "2024-05-17T02:11:59.562Z"
   },
   {
    "duration": 6,
    "start_time": "2024-05-17T02:11:59.603Z"
   },
   {
    "duration": 5,
    "start_time": "2024-05-17T02:11:59.613Z"
   },
   {
    "duration": 1378,
    "start_time": "2024-05-17T02:11:59.622Z"
   },
   {
    "duration": 1339,
    "start_time": "2024-05-17T02:12:01.003Z"
   },
   {
    "duration": 8,
    "start_time": "2024-05-17T02:12:02.344Z"
   },
   {
    "duration": 14,
    "start_time": "2024-05-17T02:12:02.356Z"
   },
   {
    "duration": 14,
    "start_time": "2024-05-17T02:12:02.402Z"
   },
   {
    "duration": 13,
    "start_time": "2024-05-17T02:12:02.419Z"
   },
   {
    "duration": 25,
    "start_time": "2024-05-17T02:12:02.435Z"
   },
   {
    "duration": 11,
    "start_time": "2024-05-17T02:12:02.503Z"
   },
   {
    "duration": 9,
    "start_time": "2024-05-17T02:12:02.518Z"
   },
   {
    "duration": 27,
    "start_time": "2024-05-17T02:12:02.530Z"
   },
   {
    "duration": 89,
    "start_time": "2024-05-17T02:12:02.559Z"
   },
   {
    "duration": 21,
    "start_time": "2024-05-17T02:12:02.651Z"
   },
   {
    "duration": 564,
    "start_time": "2024-05-17T02:12:02.674Z"
   },
   {
    "duration": 15,
    "start_time": "2024-05-17T02:12:03.241Z"
   },
   {
    "duration": 552,
    "start_time": "2024-05-17T02:12:03.259Z"
   },
   {
    "duration": 66,
    "start_time": "2024-05-17T02:12:03.814Z"
   },
   {
    "duration": 6,
    "start_time": "2024-05-17T02:12:03.902Z"
   },
   {
    "duration": 0,
    "start_time": "2024-05-17T02:12:03.910Z"
   },
   {
    "duration": 12,
    "start_time": "2024-05-17T02:17:41.039Z"
   },
   {
    "duration": 9,
    "start_time": "2024-05-17T02:18:50.963Z"
   },
   {
    "duration": 12,
    "start_time": "2024-05-17T02:19:40.691Z"
   },
   {
    "duration": 9,
    "start_time": "2024-05-17T02:19:58.436Z"
   },
   {
    "duration": 6,
    "start_time": "2024-05-17T02:26:38.111Z"
   },
   {
    "duration": 6,
    "start_time": "2024-05-17T02:27:17.996Z"
   },
   {
    "duration": 13,
    "start_time": "2024-05-17T02:27:44.432Z"
   },
   {
    "duration": 13,
    "start_time": "2024-05-17T02:28:23.122Z"
   },
   {
    "duration": 15,
    "start_time": "2024-05-17T02:28:29.079Z"
   },
   {
    "duration": 256,
    "start_time": "2024-05-17T02:33:54.642Z"
   },
   {
    "duration": 2002,
    "start_time": "2024-05-17T02:34:31.089Z"
   },
   {
    "duration": 342,
    "start_time": "2024-05-17T02:34:45.770Z"
   },
   {
    "duration": 323,
    "start_time": "2024-05-17T02:35:35.797Z"
   },
   {
    "duration": 332,
    "start_time": "2024-05-17T02:36:09.982Z"
   },
   {
    "duration": 246,
    "start_time": "2024-05-17T02:36:31.337Z"
   },
   {
    "duration": 7,
    "start_time": "2024-05-17T02:37:41.288Z"
   },
   {
    "duration": 253,
    "start_time": "2024-05-17T02:37:51.190Z"
   },
   {
    "duration": 255,
    "start_time": "2024-05-17T02:38:20.779Z"
   },
   {
    "duration": 239,
    "start_time": "2024-05-17T02:38:29.384Z"
   },
   {
    "duration": 238,
    "start_time": "2024-05-17T02:39:05.175Z"
   },
   {
    "duration": 322,
    "start_time": "2024-05-17T05:24:11.660Z"
   },
   {
    "duration": 4390,
    "start_time": "2024-05-17T05:24:18.199Z"
   },
   {
    "duration": 1802,
    "start_time": "2024-05-17T05:24:22.593Z"
   },
   {
    "duration": 36,
    "start_time": "2024-05-17T05:24:24.398Z"
   },
   {
    "duration": 21,
    "start_time": "2024-05-17T05:24:24.440Z"
   },
   {
    "duration": 16,
    "start_time": "2024-05-17T05:24:24.465Z"
   },
   {
    "duration": 55,
    "start_time": "2024-05-17T05:24:24.484Z"
   },
   {
    "duration": 12,
    "start_time": "2024-05-17T05:24:24.542Z"
   },
   {
    "duration": 12,
    "start_time": "2024-05-17T05:24:24.558Z"
   },
   {
    "duration": 333,
    "start_time": "2024-05-17T05:24:24.575Z"
   },
   {
    "duration": 29,
    "start_time": "2024-05-17T05:24:24.914Z"
   },
   {
    "duration": 157,
    "start_time": "2024-05-17T05:24:24.948Z"
   },
   {
    "duration": 188,
    "start_time": "2024-05-17T05:24:25.110Z"
   },
   {
    "duration": 66,
    "start_time": "2024-05-17T05:24:25.302Z"
   },
   {
    "duration": 41,
    "start_time": "2024-05-17T05:24:25.371Z"
   },
   {
    "duration": 12,
    "start_time": "2024-05-17T05:24:25.414Z"
   },
   {
    "duration": 56,
    "start_time": "2024-05-17T05:24:25.434Z"
   },
   {
    "duration": 41,
    "start_time": "2024-05-17T05:24:25.494Z"
   },
   {
    "duration": 9,
    "start_time": "2024-05-17T05:24:25.539Z"
   },
   {
    "duration": 6,
    "start_time": "2024-05-17T05:24:25.555Z"
   },
   {
    "duration": 9,
    "start_time": "2024-05-17T05:24:25.564Z"
   },
   {
    "duration": 5,
    "start_time": "2024-05-17T05:24:25.577Z"
   },
   {
    "duration": 1550,
    "start_time": "2024-05-17T05:24:25.585Z"
   },
   {
    "duration": 1392,
    "start_time": "2024-05-17T05:24:27.141Z"
   },
   {
    "duration": 13,
    "start_time": "2024-05-17T05:24:28.537Z"
   },
   {
    "duration": 14,
    "start_time": "2024-05-17T05:24:28.554Z"
   },
   {
    "duration": 19,
    "start_time": "2024-05-17T05:24:28.576Z"
   },
   {
    "duration": 40,
    "start_time": "2024-05-17T05:24:28.600Z"
   },
   {
    "duration": 21,
    "start_time": "2024-05-17T05:24:28.652Z"
   },
   {
    "duration": 13,
    "start_time": "2024-05-17T05:24:28.677Z"
   },
   {
    "duration": 39,
    "start_time": "2024-05-17T05:24:28.695Z"
   },
   {
    "duration": 34,
    "start_time": "2024-05-17T05:24:28.737Z"
   },
   {
    "duration": 76,
    "start_time": "2024-05-17T05:24:28.774Z"
   },
   {
    "duration": 22,
    "start_time": "2024-05-17T05:24:28.854Z"
   },
   {
    "duration": 624,
    "start_time": "2024-05-17T05:24:28.879Z"
   },
   {
    "duration": 31,
    "start_time": "2024-05-17T05:24:29.507Z"
   },
   {
    "duration": 566,
    "start_time": "2024-05-17T05:24:29.545Z"
   },
   {
    "duration": 74,
    "start_time": "2024-05-17T05:24:30.115Z"
   },
   {
    "duration": 10,
    "start_time": "2024-05-17T05:24:30.192Z"
   },
   {
    "duration": 35,
    "start_time": "2024-05-17T05:24:30.205Z"
   },
   {
    "duration": 325,
    "start_time": "2024-05-17T05:24:30.247Z"
   },
   {
    "duration": 7,
    "start_time": "2024-05-17T05:24:30.576Z"
   },
   {
    "duration": 534,
    "start_time": "2024-05-17T05:24:30.587Z"
   },
   {
    "duration": 12,
    "start_time": "2024-05-17T05:44:23.833Z"
   },
   {
    "duration": 16,
    "start_time": "2024-05-17T05:44:46.070Z"
   },
   {
    "duration": 16,
    "start_time": "2024-05-17T05:49:55.555Z"
   },
   {
    "duration": 375,
    "start_time": "2024-05-17T05:52:40.350Z"
   },
   {
    "duration": 829,
    "start_time": "2024-05-17T05:52:51.461Z"
   },
   {
    "duration": 2289,
    "start_time": "2024-05-17T05:52:52.293Z"
   },
   {
    "duration": 22,
    "start_time": "2024-05-17T05:52:54.585Z"
   },
   {
    "duration": 35,
    "start_time": "2024-05-17T05:52:54.611Z"
   },
   {
    "duration": 14,
    "start_time": "2024-05-17T05:52:54.650Z"
   },
   {
    "duration": 14,
    "start_time": "2024-05-17T05:52:54.668Z"
   },
   {
    "duration": 57,
    "start_time": "2024-05-17T05:52:54.686Z"
   },
   {
    "duration": 19,
    "start_time": "2024-05-17T05:52:54.753Z"
   },
   {
    "duration": 400,
    "start_time": "2024-05-17T05:52:54.783Z"
   },
   {
    "duration": 17,
    "start_time": "2024-05-17T05:52:55.191Z"
   },
   {
    "duration": 177,
    "start_time": "2024-05-17T05:52:55.211Z"
   },
   {
    "duration": 224,
    "start_time": "2024-05-17T05:52:55.391Z"
   },
   {
    "duration": 66,
    "start_time": "2024-05-17T05:52:55.619Z"
   },
   {
    "duration": 54,
    "start_time": "2024-05-17T05:52:55.689Z"
   },
   {
    "duration": 6,
    "start_time": "2024-05-17T05:52:55.746Z"
   },
   {
    "duration": 78,
    "start_time": "2024-05-17T05:52:55.756Z"
   },
   {
    "duration": 16,
    "start_time": "2024-05-17T05:52:55.837Z"
   },
   {
    "duration": 8,
    "start_time": "2024-05-17T05:52:55.856Z"
   },
   {
    "duration": 7,
    "start_time": "2024-05-17T05:52:55.868Z"
   },
   {
    "duration": 6,
    "start_time": "2024-05-17T05:52:55.879Z"
   },
   {
    "duration": 46,
    "start_time": "2024-05-17T05:52:55.889Z"
   },
   {
    "duration": 1573,
    "start_time": "2024-05-17T05:52:55.938Z"
   },
   {
    "duration": 429,
    "start_time": "2024-05-17T05:52:57.515Z"
   },
   {
    "duration": 9,
    "start_time": "2024-05-17T05:52:57.949Z"
   },
   {
    "duration": 19,
    "start_time": "2024-05-17T05:52:57.961Z"
   },
   {
    "duration": 57,
    "start_time": "2024-05-17T05:52:57.983Z"
   },
   {
    "duration": 14,
    "start_time": "2024-05-17T05:52:58.046Z"
   },
   {
    "duration": 25,
    "start_time": "2024-05-17T05:52:58.072Z"
   },
   {
    "duration": 38,
    "start_time": "2024-05-17T05:52:58.101Z"
   },
   {
    "duration": 12,
    "start_time": "2024-05-17T05:52:58.145Z"
   },
   {
    "duration": 29,
    "start_time": "2024-05-17T05:52:58.160Z"
   },
   {
    "duration": 93,
    "start_time": "2024-05-17T05:52:58.193Z"
   },
   {
    "duration": 51,
    "start_time": "2024-05-17T05:52:58.291Z"
   },
   {
    "duration": 608,
    "start_time": "2024-05-17T05:52:58.347Z"
   },
   {
    "duration": 16,
    "start_time": "2024-05-17T05:52:58.959Z"
   },
   {
    "duration": 633,
    "start_time": "2024-05-17T05:52:58.980Z"
   },
   {
    "duration": 78,
    "start_time": "2024-05-17T05:52:59.617Z"
   },
   {
    "duration": 12,
    "start_time": "2024-05-17T05:52:59.702Z"
   },
   {
    "duration": 12,
    "start_time": "2024-05-17T05:52:59.734Z"
   },
   {
    "duration": 299,
    "start_time": "2024-05-17T05:52:59.749Z"
   },
   {
    "duration": 3,
    "start_time": "2024-05-17T05:53:00.052Z"
   },
   {
    "duration": 402,
    "start_time": "2024-05-17T05:53:00.059Z"
   },
   {
    "duration": 416,
    "start_time": "2024-05-17T05:53:27.165Z"
   },
   {
    "duration": 1383,
    "start_time": "2024-05-17T05:53:50.021Z"
   },
   {
    "duration": 1394,
    "start_time": "2024-05-17T05:53:52.850Z"
   },
   {
    "duration": 1378,
    "start_time": "2024-05-17T05:54:04.798Z"
   },
   {
    "duration": 79,
    "start_time": "2024-05-17T06:12:13.813Z"
   },
   {
    "duration": 564,
    "start_time": "2024-05-17T06:12:17.024Z"
   },
   {
    "duration": 801,
    "start_time": "2024-05-17T06:12:31.211Z"
   },
   {
    "duration": 1999,
    "start_time": "2024-05-17T06:12:32.018Z"
   },
   {
    "duration": 28,
    "start_time": "2024-05-17T06:12:34.019Z"
   },
   {
    "duration": 30,
    "start_time": "2024-05-17T06:12:34.051Z"
   },
   {
    "duration": 17,
    "start_time": "2024-05-17T06:12:34.085Z"
   },
   {
    "duration": 31,
    "start_time": "2024-05-17T06:12:34.108Z"
   },
   {
    "duration": 18,
    "start_time": "2024-05-17T06:12:34.145Z"
   },
   {
    "duration": 13,
    "start_time": "2024-05-17T06:12:34.178Z"
   },
   {
    "duration": 373,
    "start_time": "2024-05-17T06:12:34.195Z"
   },
   {
    "duration": 16,
    "start_time": "2024-05-17T06:12:34.575Z"
   },
   {
    "duration": 161,
    "start_time": "2024-05-17T06:12:34.595Z"
   },
   {
    "duration": 188,
    "start_time": "2024-05-17T06:12:34.769Z"
   },
   {
    "duration": 61,
    "start_time": "2024-05-17T06:12:34.963Z"
   },
   {
    "duration": 39,
    "start_time": "2024-05-17T06:12:35.029Z"
   },
   {
    "duration": 7,
    "start_time": "2024-05-17T06:12:35.071Z"
   },
   {
    "duration": 90,
    "start_time": "2024-05-17T06:12:35.082Z"
   },
   {
    "duration": 14,
    "start_time": "2024-05-17T06:12:35.178Z"
   },
   {
    "duration": 6,
    "start_time": "2024-05-17T06:12:35.195Z"
   },
   {
    "duration": 6,
    "start_time": "2024-05-17T06:12:35.204Z"
   },
   {
    "duration": 6,
    "start_time": "2024-05-17T06:12:35.213Z"
   },
   {
    "duration": 9,
    "start_time": "2024-05-17T06:12:35.237Z"
   },
   {
    "duration": 1486,
    "start_time": "2024-05-17T06:12:35.248Z"
   },
   {
    "duration": 1506,
    "start_time": "2024-05-17T06:12:36.737Z"
   },
   {
    "duration": 10,
    "start_time": "2024-05-17T06:12:38.246Z"
   },
   {
    "duration": 16,
    "start_time": "2024-05-17T06:12:38.259Z"
   },
   {
    "duration": 17,
    "start_time": "2024-05-17T06:12:38.278Z"
   },
   {
    "duration": 48,
    "start_time": "2024-05-17T06:12:38.298Z"
   },
   {
    "duration": 26,
    "start_time": "2024-05-17T06:12:38.353Z"
   },
   {
    "duration": 12,
    "start_time": "2024-05-17T06:12:38.388Z"
   },
   {
    "duration": 34,
    "start_time": "2024-05-17T06:12:38.405Z"
   },
   {
    "duration": 40,
    "start_time": "2024-05-17T06:12:38.454Z"
   },
   {
    "duration": 78,
    "start_time": "2024-05-17T06:12:38.497Z"
   },
   {
    "duration": 25,
    "start_time": "2024-05-17T06:12:38.578Z"
   },
   {
    "duration": 569,
    "start_time": "2024-05-17T06:12:38.607Z"
   },
   {
    "duration": 14,
    "start_time": "2024-05-17T06:12:39.180Z"
   },
   {
    "duration": 590,
    "start_time": "2024-05-17T06:12:39.197Z"
   },
   {
    "duration": 107,
    "start_time": "2024-05-17T06:12:39.791Z"
   },
   {
    "duration": 10,
    "start_time": "2024-05-17T06:12:39.902Z"
   },
   {
    "duration": 32,
    "start_time": "2024-05-17T06:12:39.915Z"
   },
   {
    "duration": 309,
    "start_time": "2024-05-17T06:12:39.951Z"
   },
   {
    "duration": 8,
    "start_time": "2024-05-17T06:12:40.263Z"
   },
   {
    "duration": 378,
    "start_time": "2024-05-17T06:12:40.277Z"
   },
   {
    "duration": 83,
    "start_time": "2024-05-17T06:19:02.803Z"
   },
   {
    "duration": 18,
    "start_time": "2024-05-17T06:19:44.046Z"
   },
   {
    "duration": 10,
    "start_time": "2024-05-17T06:20:10.526Z"
   },
   {
    "duration": 15,
    "start_time": "2024-05-17T06:22:25.166Z"
   },
   {
    "duration": 261,
    "start_time": "2024-05-17T06:46:54.219Z"
   },
   {
    "duration": 351,
    "start_time": "2024-05-17T07:02:30.296Z"
   },
   {
    "duration": 333,
    "start_time": "2024-05-17T07:02:50.483Z"
   },
   {
    "duration": 413,
    "start_time": "2024-05-17T07:03:32.765Z"
   },
   {
    "duration": 390,
    "start_time": "2024-05-17T07:03:51.350Z"
   },
   {
    "duration": 9,
    "start_time": "2024-05-17T07:05:00.682Z"
   },
   {
    "duration": 430,
    "start_time": "2024-05-17T07:05:07.860Z"
   },
   {
    "duration": 8,
    "start_time": "2024-05-17T07:07:03.393Z"
   },
   {
    "duration": 332,
    "start_time": "2024-05-17T07:07:12.294Z"
   },
   {
    "duration": 362,
    "start_time": "2024-05-17T07:10:27.509Z"
   },
   {
    "duration": 349,
    "start_time": "2024-05-17T07:11:06.145Z"
   },
   {
    "duration": 323,
    "start_time": "2024-05-17T07:11:18.166Z"
   },
   {
    "duration": 339,
    "start_time": "2024-05-17T07:11:38.165Z"
   },
   {
    "duration": 354,
    "start_time": "2024-05-17T07:11:50.241Z"
   },
   {
    "duration": 324,
    "start_time": "2024-05-17T07:12:44.668Z"
   },
   {
    "duration": 379,
    "start_time": "2024-05-17T07:13:04.542Z"
   },
   {
    "duration": 384,
    "start_time": "2024-05-17T07:13:31.688Z"
   },
   {
    "duration": 878,
    "start_time": "2024-05-17T07:25:06.428Z"
   },
   {
    "duration": 18,
    "start_time": "2024-05-17T07:27:25.000Z"
   },
   {
    "duration": 23,
    "start_time": "2024-05-17T07:27:33.025Z"
   },
   {
    "duration": 38,
    "start_time": "2024-05-17T07:28:40.534Z"
   },
   {
    "duration": 171,
    "start_time": "2024-05-17T07:34:27.230Z"
   },
   {
    "duration": 13,
    "start_time": "2024-05-17T07:36:25.513Z"
   },
   {
    "duration": 17,
    "start_time": "2024-05-17T07:36:46.104Z"
   },
   {
    "duration": 41,
    "start_time": "2024-05-17T07:37:12.590Z"
   },
   {
    "duration": 68,
    "start_time": "2024-05-17T07:37:31.310Z"
   },
   {
    "duration": 15,
    "start_time": "2024-05-17T07:37:52.691Z"
   },
   {
    "duration": 55,
    "start_time": "2024-05-17T07:39:44.913Z"
   },
   {
    "duration": 42,
    "start_time": "2024-05-17T07:40:31.583Z"
   },
   {
    "duration": 50,
    "start_time": "2024-05-17T07:41:18.249Z"
   },
   {
    "duration": 56,
    "start_time": "2024-05-17T07:56:12.310Z"
   },
   {
    "duration": 98,
    "start_time": "2024-05-17T08:00:58.610Z"
   },
   {
    "duration": 51,
    "start_time": "2024-05-17T08:01:00.226Z"
   },
   {
    "duration": 1367,
    "start_time": "2024-05-17T08:01:07.927Z"
   },
   {
    "duration": 117,
    "start_time": "2024-05-17T08:01:38.009Z"
   },
   {
    "duration": 313,
    "start_time": "2024-05-17T16:40:13.895Z"
   },
   {
    "duration": 26,
    "start_time": "2024-05-17T16:41:12.697Z"
   },
   {
    "duration": 4516,
    "start_time": "2024-05-17T16:41:33.493Z"
   },
   {
    "duration": 1932,
    "start_time": "2024-05-17T16:41:38.012Z"
   },
   {
    "duration": 21,
    "start_time": "2024-05-17T16:41:39.947Z"
   },
   {
    "duration": 19,
    "start_time": "2024-05-17T16:41:39.973Z"
   },
   {
    "duration": 43,
    "start_time": "2024-05-17T16:41:39.995Z"
   },
   {
    "duration": 16,
    "start_time": "2024-05-17T16:41:40.041Z"
   },
   {
    "duration": 13,
    "start_time": "2024-05-17T16:41:40.060Z"
   },
   {
    "duration": 52,
    "start_time": "2024-05-17T16:41:40.076Z"
   },
   {
    "duration": 320,
    "start_time": "2024-05-17T16:41:40.132Z"
   },
   {
    "duration": 20,
    "start_time": "2024-05-17T16:41:40.460Z"
   },
   {
    "duration": 152,
    "start_time": "2024-05-17T16:41:40.483Z"
   },
   {
    "duration": 201,
    "start_time": "2024-05-17T16:41:40.638Z"
   },
   {
    "duration": 52,
    "start_time": "2024-05-17T16:41:40.843Z"
   },
   {
    "duration": 49,
    "start_time": "2024-05-17T16:41:40.898Z"
   },
   {
    "duration": 6,
    "start_time": "2024-05-17T16:41:40.950Z"
   },
   {
    "duration": 70,
    "start_time": "2024-05-17T16:41:40.959Z"
   },
   {
    "duration": 17,
    "start_time": "2024-05-17T16:41:41.036Z"
   },
   {
    "duration": 10,
    "start_time": "2024-05-17T16:41:41.059Z"
   },
   {
    "duration": 6,
    "start_time": "2024-05-17T16:41:41.072Z"
   },
   {
    "duration": 6,
    "start_time": "2024-05-17T16:41:41.082Z"
   },
   {
    "duration": 7,
    "start_time": "2024-05-17T16:41:41.126Z"
   },
   {
    "duration": 1438,
    "start_time": "2024-05-17T16:41:41.137Z"
   },
   {
    "duration": 1433,
    "start_time": "2024-05-17T16:41:42.578Z"
   },
   {
    "duration": 14,
    "start_time": "2024-05-17T16:41:44.014Z"
   },
   {
    "duration": 14,
    "start_time": "2024-05-17T16:41:44.032Z"
   },
   {
    "duration": 14,
    "start_time": "2024-05-17T16:41:44.050Z"
   },
   {
    "duration": 12,
    "start_time": "2024-05-17T16:41:44.067Z"
   },
   {
    "duration": 25,
    "start_time": "2024-05-17T16:41:44.133Z"
   },
   {
    "duration": 11,
    "start_time": "2024-05-17T16:41:44.160Z"
   },
   {
    "duration": 14,
    "start_time": "2024-05-17T16:41:44.174Z"
   },
   {
    "duration": 32,
    "start_time": "2024-05-17T16:41:44.227Z"
   },
   {
    "duration": 77,
    "start_time": "2024-05-17T16:41:44.263Z"
   },
   {
    "duration": 27,
    "start_time": "2024-05-17T16:41:44.343Z"
   },
   {
    "duration": 581,
    "start_time": "2024-05-17T16:41:44.372Z"
   },
   {
    "duration": 14,
    "start_time": "2024-05-17T16:41:44.958Z"
   },
   {
    "duration": 617,
    "start_time": "2024-05-17T16:41:44.976Z"
   },
   {
    "duration": 97,
    "start_time": "2024-05-17T16:41:45.596Z"
   },
   {
    "duration": 11,
    "start_time": "2024-05-17T16:41:45.696Z"
   },
   {
    "duration": 11,
    "start_time": "2024-05-17T16:41:45.727Z"
   },
   {
    "duration": 302,
    "start_time": "2024-05-17T16:41:45.741Z"
   },
   {
    "duration": 240,
    "start_time": "2024-05-17T16:41:46.046Z"
   },
   {
    "duration": 345,
    "start_time": "2024-05-17T16:41:46.290Z"
   },
   {
    "duration": 739,
    "start_time": "2024-05-17T16:41:46.639Z"
   },
   {
    "duration": 0,
    "start_time": "2024-05-17T16:41:47.381Z"
   },
   {
    "duration": 0,
    "start_time": "2024-05-17T16:41:47.383Z"
   },
   {
    "duration": 0,
    "start_time": "2024-05-17T16:41:47.386Z"
   },
   {
    "duration": 0,
    "start_time": "2024-05-17T16:41:47.388Z"
   },
   {
    "duration": 0,
    "start_time": "2024-05-17T16:41:47.390Z"
   },
   {
    "duration": 76,
    "start_time": "2024-05-17T16:43:48.247Z"
   },
   {
    "duration": 240,
    "start_time": "2024-05-17T16:43:55.203Z"
   },
   {
    "duration": 24,
    "start_time": "2024-05-17T16:58:26.439Z"
   },
   {
    "duration": 24,
    "start_time": "2024-05-17T16:58:40.730Z"
   },
   {
    "duration": 24,
    "start_time": "2024-05-17T16:58:53.404Z"
   },
   {
    "duration": 6,
    "start_time": "2024-05-17T16:59:10.767Z"
   },
   {
    "duration": 5,
    "start_time": "2024-05-17T17:07:01.663Z"
   },
   {
    "duration": 53,
    "start_time": "2024-05-17T17:08:17.044Z"
   },
   {
    "duration": 48,
    "start_time": "2024-05-17T17:08:25.873Z"
   },
   {
    "duration": 15,
    "start_time": "2024-05-17T17:08:44.854Z"
   },
   {
    "duration": 47,
    "start_time": "2024-05-17T17:08:58.083Z"
   },
   {
    "duration": 13,
    "start_time": "2024-05-17T17:09:03.436Z"
   },
   {
    "duration": 27,
    "start_time": "2024-05-17T17:14:41.476Z"
   },
   {
    "duration": 129,
    "start_time": "2024-05-17T17:15:24.622Z"
   },
   {
    "duration": 27,
    "start_time": "2024-05-17T17:20:30.397Z"
   },
   {
    "duration": 784,
    "start_time": "2024-05-17T17:21:21.342Z"
   },
   {
    "duration": 92,
    "start_time": "2024-05-17T17:21:52.998Z"
   },
   {
    "duration": 87,
    "start_time": "2024-05-17T17:22:12.943Z"
   },
   {
    "duration": 90,
    "start_time": "2024-05-17T17:23:55.995Z"
   },
   {
    "duration": 38,
    "start_time": "2024-05-17T17:25:13.639Z"
   },
   {
    "duration": 16,
    "start_time": "2024-05-17T18:43:15.488Z"
   },
   {
    "duration": 20,
    "start_time": "2024-05-17T18:43:57.523Z"
   },
   {
    "duration": 26,
    "start_time": "2024-05-17T18:44:00.519Z"
   },
   {
    "duration": 628,
    "start_time": "2024-05-17T18:44:08.323Z"
   },
   {
    "duration": 18,
    "start_time": "2024-05-17T18:44:20.791Z"
   },
   {
    "duration": 106,
    "start_time": "2024-05-17T18:44:22.111Z"
   },
   {
    "duration": 24,
    "start_time": "2024-05-17T18:48:41.636Z"
   },
   {
    "duration": 471,
    "start_time": "2024-05-17T18:49:02.336Z"
   },
   {
    "duration": 125,
    "start_time": "2024-05-17T18:51:56.945Z"
   },
   {
    "duration": 314,
    "start_time": "2024-05-18T03:24:33.129Z"
   },
   {
    "duration": 22,
    "start_time": "2024-05-18T03:25:46.972Z"
   },
   {
    "duration": 4328,
    "start_time": "2024-05-18T03:25:55.324Z"
   },
   {
    "duration": 1677,
    "start_time": "2024-05-18T03:25:59.656Z"
   },
   {
    "duration": 17,
    "start_time": "2024-05-18T03:26:01.336Z"
   },
   {
    "duration": 18,
    "start_time": "2024-05-18T03:26:01.357Z"
   },
   {
    "duration": 40,
    "start_time": "2024-05-18T03:26:01.379Z"
   },
   {
    "duration": 14,
    "start_time": "2024-05-18T03:26:01.422Z"
   },
   {
    "duration": 12,
    "start_time": "2024-05-18T03:26:01.439Z"
   },
   {
    "duration": 10,
    "start_time": "2024-05-18T03:26:01.455Z"
   },
   {
    "duration": 297,
    "start_time": "2024-05-18T03:26:01.510Z"
   },
   {
    "duration": 15,
    "start_time": "2024-05-18T03:26:01.813Z"
   },
   {
    "duration": 139,
    "start_time": "2024-05-18T03:26:01.831Z"
   },
   {
    "duration": 189,
    "start_time": "2024-05-18T03:26:01.975Z"
   },
   {
    "duration": 55,
    "start_time": "2024-05-18T03:26:02.167Z"
   },
   {
    "duration": 24,
    "start_time": "2024-05-18T03:26:02.225Z"
   },
   {
    "duration": 6,
    "start_time": "2024-05-18T03:26:02.251Z"
   },
   {
    "duration": 64,
    "start_time": "2024-05-18T03:26:02.260Z"
   },
   {
    "duration": 14,
    "start_time": "2024-05-18T03:26:02.327Z"
   },
   {
    "duration": 6,
    "start_time": "2024-05-18T03:26:02.344Z"
   },
   {
    "duration": 7,
    "start_time": "2024-05-18T03:26:02.352Z"
   },
   {
    "duration": 50,
    "start_time": "2024-05-18T03:26:02.363Z"
   },
   {
    "duration": 5,
    "start_time": "2024-05-18T03:26:02.416Z"
   },
   {
    "duration": 1329,
    "start_time": "2024-05-18T03:26:02.424Z"
   },
   {
    "duration": 1336,
    "start_time": "2024-05-18T03:26:03.756Z"
   },
   {
    "duration": 13,
    "start_time": "2024-05-18T03:26:05.095Z"
   },
   {
    "duration": 16,
    "start_time": "2024-05-18T03:26:05.112Z"
   },
   {
    "duration": 13,
    "start_time": "2024-05-18T03:26:05.131Z"
   },
   {
    "duration": 11,
    "start_time": "2024-05-18T03:26:05.146Z"
   },
   {
    "duration": 22,
    "start_time": "2024-05-18T03:26:05.211Z"
   },
   {
    "duration": 9,
    "start_time": "2024-05-18T03:26:05.236Z"
   },
   {
    "duration": 9,
    "start_time": "2024-05-18T03:26:05.248Z"
   },
   {
    "duration": 70,
    "start_time": "2024-05-18T03:26:05.260Z"
   },
   {
    "duration": 48,
    "start_time": "2024-05-18T03:26:05.334Z"
   },
   {
    "duration": 46,
    "start_time": "2024-05-18T03:26:05.385Z"
   },
   {
    "duration": 531,
    "start_time": "2024-05-18T03:26:05.434Z"
   },
   {
    "duration": 13,
    "start_time": "2024-05-18T03:26:05.968Z"
   },
   {
    "duration": 529,
    "start_time": "2024-05-18T03:26:05.984Z"
   },
   {
    "duration": 69,
    "start_time": "2024-05-18T03:26:06.517Z"
   },
   {
    "duration": 10,
    "start_time": "2024-05-18T03:26:06.610Z"
   },
   {
    "duration": 8,
    "start_time": "2024-05-18T03:26:06.623Z"
   },
   {
    "duration": 286,
    "start_time": "2024-05-18T03:26:06.634Z"
   },
   {
    "duration": 232,
    "start_time": "2024-05-18T03:26:06.922Z"
   },
   {
    "duration": 369,
    "start_time": "2024-05-18T03:26:07.156Z"
   },
   {
    "duration": 385,
    "start_time": "2024-05-18T03:26:07.528Z"
   },
   {
    "duration": 0,
    "start_time": "2024-05-18T03:26:07.916Z"
   },
   {
    "duration": 0,
    "start_time": "2024-05-18T03:26:07.917Z"
   },
   {
    "duration": 0,
    "start_time": "2024-05-18T03:26:07.920Z"
   },
   {
    "duration": 0,
    "start_time": "2024-05-18T03:26:07.923Z"
   },
   {
    "duration": 0,
    "start_time": "2024-05-18T03:26:07.925Z"
   },
   {
    "duration": 0,
    "start_time": "2024-05-18T03:26:07.927Z"
   },
   {
    "duration": 0,
    "start_time": "2024-05-18T03:26:07.929Z"
   },
   {
    "duration": 0,
    "start_time": "2024-05-18T03:26:07.931Z"
   },
   {
    "duration": 0,
    "start_time": "2024-05-18T03:26:07.935Z"
   },
   {
    "duration": 1,
    "start_time": "2024-05-18T03:26:07.936Z"
   },
   {
    "duration": 0,
    "start_time": "2024-05-18T03:26:07.939Z"
   },
   {
    "duration": 0,
    "start_time": "2024-05-18T03:26:07.941Z"
   },
   {
    "duration": 0,
    "start_time": "2024-05-18T03:26:07.943Z"
   },
   {
    "duration": 0,
    "start_time": "2024-05-18T03:26:07.945Z"
   },
   {
    "duration": 1,
    "start_time": "2024-05-18T03:26:07.947Z"
   },
   {
    "duration": 0,
    "start_time": "2024-05-18T03:26:07.950Z"
   },
   {
    "duration": 17,
    "start_time": "2024-05-18T03:26:25.065Z"
   },
   {
    "duration": 24,
    "start_time": "2024-05-18T03:26:48.097Z"
   },
   {
    "duration": 11,
    "start_time": "2024-05-18T03:26:54.868Z"
   },
   {
    "duration": 13,
    "start_time": "2024-05-18T03:27:10.077Z"
   },
   {
    "duration": 21,
    "start_time": "2024-05-18T03:27:32.232Z"
   },
   {
    "duration": 763,
    "start_time": "2024-05-18T03:28:18.877Z"
   },
   {
    "duration": 177,
    "start_time": "2024-05-18T03:29:15.640Z"
   },
   {
    "duration": 20,
    "start_time": "2024-05-18T03:29:21.109Z"
   },
   {
    "duration": 12,
    "start_time": "2024-05-18T03:29:44.974Z"
   },
   {
    "duration": 12,
    "start_time": "2024-05-18T03:29:52.317Z"
   },
   {
    "duration": 286,
    "start_time": "2024-05-18T03:31:49.172Z"
   },
   {
    "duration": 347,
    "start_time": "2024-05-18T03:32:56.473Z"
   },
   {
    "duration": 2453,
    "start_time": "2024-05-18T03:33:06.995Z"
   },
   {
    "duration": 386,
    "start_time": "2024-05-18T03:33:34.815Z"
   },
   {
    "duration": 365,
    "start_time": "2024-05-18T03:33:42.301Z"
   },
   {
    "duration": 75,
    "start_time": "2024-05-18T03:39:02.174Z"
   },
   {
    "duration": 71,
    "start_time": "2024-05-18T03:43:59.996Z"
   },
   {
    "duration": 794,
    "start_time": "2024-05-18T03:45:24.474Z"
   },
   {
    "duration": 1674,
    "start_time": "2024-05-18T03:45:25.272Z"
   },
   {
    "duration": 20,
    "start_time": "2024-05-18T03:45:26.950Z"
   },
   {
    "duration": 18,
    "start_time": "2024-05-18T03:45:26.974Z"
   },
   {
    "duration": 16,
    "start_time": "2024-05-18T03:45:27.012Z"
   },
   {
    "duration": 16,
    "start_time": "2024-05-18T03:45:27.032Z"
   },
   {
    "duration": 13,
    "start_time": "2024-05-18T03:45:27.051Z"
   },
   {
    "duration": 10,
    "start_time": "2024-05-18T03:45:27.108Z"
   },
   {
    "duration": 354,
    "start_time": "2024-05-18T03:45:27.122Z"
   },
   {
    "duration": 32,
    "start_time": "2024-05-18T03:45:27.480Z"
   },
   {
    "duration": 147,
    "start_time": "2024-05-18T03:45:27.515Z"
   },
   {
    "duration": 230,
    "start_time": "2024-05-18T03:45:27.666Z"
   },
   {
    "duration": 56,
    "start_time": "2024-05-18T03:45:27.899Z"
   },
   {
    "duration": 54,
    "start_time": "2024-05-18T03:45:27.963Z"
   },
   {
    "duration": 6,
    "start_time": "2024-05-18T03:45:28.020Z"
   },
   {
    "duration": 42,
    "start_time": "2024-05-18T03:45:28.029Z"
   },
   {
    "duration": 42,
    "start_time": "2024-05-18T03:45:28.074Z"
   },
   {
    "duration": 6,
    "start_time": "2024-05-18T03:45:28.119Z"
   },
   {
    "duration": 5,
    "start_time": "2024-05-18T03:45:28.128Z"
   },
   {
    "duration": 6,
    "start_time": "2024-05-18T03:45:28.136Z"
   },
   {
    "duration": 6,
    "start_time": "2024-05-18T03:45:28.145Z"
   },
   {
    "duration": 1503,
    "start_time": "2024-05-18T03:45:28.154Z"
   },
   {
    "duration": 1423,
    "start_time": "2024-05-18T03:45:29.660Z"
   },
   {
    "duration": 10,
    "start_time": "2024-05-18T03:45:31.086Z"
   },
   {
    "duration": 17,
    "start_time": "2024-05-18T03:45:31.110Z"
   },
   {
    "duration": 17,
    "start_time": "2024-05-18T03:45:31.130Z"
   },
   {
    "duration": 13,
    "start_time": "2024-05-18T03:45:31.150Z"
   },
   {
    "duration": 63,
    "start_time": "2024-05-18T03:45:31.166Z"
   },
   {
    "duration": 10,
    "start_time": "2024-05-18T03:45:31.232Z"
   },
   {
    "duration": 11,
    "start_time": "2024-05-18T03:45:31.245Z"
   },
   {
    "duration": 79,
    "start_time": "2024-05-18T03:45:31.259Z"
   },
   {
    "duration": 74,
    "start_time": "2024-05-18T03:45:31.341Z"
   },
   {
    "duration": 24,
    "start_time": "2024-05-18T03:45:31.418Z"
   },
   {
    "duration": 614,
    "start_time": "2024-05-18T03:45:31.445Z"
   },
   {
    "duration": 16,
    "start_time": "2024-05-18T03:45:32.064Z"
   },
   {
    "duration": 735,
    "start_time": "2024-05-18T03:45:32.085Z"
   },
   {
    "duration": 88,
    "start_time": "2024-05-18T03:45:32.823Z"
   },
   {
    "duration": 9,
    "start_time": "2024-05-18T03:45:32.914Z"
   },
   {
    "duration": 12,
    "start_time": "2024-05-18T03:45:32.926Z"
   },
   {
    "duration": 298,
    "start_time": "2024-05-18T03:45:32.942Z"
   },
   {
    "duration": 260,
    "start_time": "2024-05-18T03:45:33.249Z"
   },
   {
    "duration": 315,
    "start_time": "2024-05-18T03:45:33.512Z"
   },
   {
    "duration": 13,
    "start_time": "2024-05-18T03:45:33.830Z"
   },
   {
    "duration": 13,
    "start_time": "2024-05-18T03:45:33.846Z"
   },
   {
    "duration": 389,
    "start_time": "2024-05-18T03:45:33.862Z"
   },
   {
    "duration": 9,
    "start_time": "2024-05-18T03:45:34.256Z"
   },
   {
    "duration": 0,
    "start_time": "2024-05-18T03:45:34.268Z"
   },
   {
    "duration": 0,
    "start_time": "2024-05-18T03:45:34.270Z"
   },
   {
    "duration": 0,
    "start_time": "2024-05-18T03:45:34.273Z"
   },
   {
    "duration": 0,
    "start_time": "2024-05-18T03:45:34.275Z"
   },
   {
    "duration": 0,
    "start_time": "2024-05-18T03:45:34.278Z"
   },
   {
    "duration": 0,
    "start_time": "2024-05-18T03:45:34.308Z"
   },
   {
    "duration": 1,
    "start_time": "2024-05-18T03:45:34.309Z"
   },
   {
    "duration": 0,
    "start_time": "2024-05-18T03:45:34.312Z"
   },
   {
    "duration": 0,
    "start_time": "2024-05-18T03:45:34.314Z"
   },
   {
    "duration": 0,
    "start_time": "2024-05-18T03:45:34.315Z"
   },
   {
    "duration": 0,
    "start_time": "2024-05-18T03:45:34.317Z"
   },
   {
    "duration": 0,
    "start_time": "2024-05-18T03:45:34.319Z"
   },
   {
    "duration": 0,
    "start_time": "2024-05-18T03:45:34.322Z"
   },
   {
    "duration": 63,
    "start_time": "2024-05-18T03:45:58.189Z"
   },
   {
    "duration": 705,
    "start_time": "2024-05-18T03:48:07.885Z"
   },
   {
    "duration": 1544,
    "start_time": "2024-05-18T03:48:08.594Z"
   },
   {
    "duration": 19,
    "start_time": "2024-05-18T03:48:10.140Z"
   },
   {
    "duration": 17,
    "start_time": "2024-05-18T03:48:10.166Z"
   },
   {
    "duration": 13,
    "start_time": "2024-05-18T03:48:10.209Z"
   },
   {
    "duration": 13,
    "start_time": "2024-05-18T03:48:10.226Z"
   },
   {
    "duration": 12,
    "start_time": "2024-05-18T03:48:10.242Z"
   },
   {
    "duration": 10,
    "start_time": "2024-05-18T03:48:10.257Z"
   },
   {
    "duration": 305,
    "start_time": "2024-05-18T03:48:10.311Z"
   },
   {
    "duration": 14,
    "start_time": "2024-05-18T03:48:10.621Z"
   },
   {
    "duration": 138,
    "start_time": "2024-05-18T03:48:10.639Z"
   },
   {
    "duration": 191,
    "start_time": "2024-05-18T03:48:10.781Z"
   },
   {
    "duration": 55,
    "start_time": "2024-05-18T03:48:10.975Z"
   },
   {
    "duration": 21,
    "start_time": "2024-05-18T03:48:11.033Z"
   },
   {
    "duration": 6,
    "start_time": "2024-05-18T03:48:11.057Z"
   },
   {
    "duration": 65,
    "start_time": "2024-05-18T03:48:11.066Z"
   },
   {
    "duration": 14,
    "start_time": "2024-05-18T03:48:11.133Z"
   },
   {
    "duration": 6,
    "start_time": "2024-05-18T03:48:11.149Z"
   },
   {
    "duration": 7,
    "start_time": "2024-05-18T03:48:11.158Z"
   },
   {
    "duration": 43,
    "start_time": "2024-05-18T03:48:11.168Z"
   },
   {
    "duration": 6,
    "start_time": "2024-05-18T03:48:11.213Z"
   },
   {
    "duration": 1421,
    "start_time": "2024-05-18T03:48:11.223Z"
   },
   {
    "duration": 1373,
    "start_time": "2024-05-18T03:48:12.647Z"
   },
   {
    "duration": 7,
    "start_time": "2024-05-18T03:48:14.024Z"
   },
   {
    "duration": 16,
    "start_time": "2024-05-18T03:48:14.035Z"
   },
   {
    "duration": 13,
    "start_time": "2024-05-18T03:48:14.054Z"
   },
   {
    "duration": 11,
    "start_time": "2024-05-18T03:48:14.108Z"
   },
   {
    "duration": 21,
    "start_time": "2024-05-18T03:48:14.128Z"
   },
   {
    "duration": 11,
    "start_time": "2024-05-18T03:48:14.153Z"
   },
   {
    "duration": 48,
    "start_time": "2024-05-18T03:48:14.167Z"
   },
   {
    "duration": 28,
    "start_time": "2024-05-18T03:48:14.219Z"
   },
   {
    "duration": 84,
    "start_time": "2024-05-18T03:48:14.250Z"
   },
   {
    "duration": 24,
    "start_time": "2024-05-18T03:48:14.336Z"
   },
   {
    "duration": 561,
    "start_time": "2024-05-18T03:48:14.362Z"
   },
   {
    "duration": 15,
    "start_time": "2024-05-18T03:48:14.925Z"
   },
   {
    "duration": 552,
    "start_time": "2024-05-18T03:48:14.943Z"
   },
   {
    "duration": 66,
    "start_time": "2024-05-18T03:48:15.508Z"
   },
   {
    "duration": 9,
    "start_time": "2024-05-18T03:48:15.576Z"
   },
   {
    "duration": 11,
    "start_time": "2024-05-18T03:48:15.609Z"
   },
   {
    "duration": 284,
    "start_time": "2024-05-18T03:48:15.623Z"
   },
   {
    "duration": 232,
    "start_time": "2024-05-18T03:48:15.911Z"
   },
   {
    "duration": 326,
    "start_time": "2024-05-18T03:48:16.147Z"
   },
   {
    "duration": 31,
    "start_time": "2024-05-18T03:48:16.477Z"
   },
   {
    "duration": 12,
    "start_time": "2024-05-18T03:48:16.511Z"
   },
   {
    "duration": 373,
    "start_time": "2024-05-18T03:48:16.526Z"
   },
   {
    "duration": 8,
    "start_time": "2024-05-18T03:48:16.909Z"
   },
   {
    "duration": 0,
    "start_time": "2024-05-18T03:48:16.920Z"
   },
   {
    "duration": 0,
    "start_time": "2024-05-18T03:48:16.921Z"
   },
   {
    "duration": 0,
    "start_time": "2024-05-18T03:48:16.923Z"
   },
   {
    "duration": 0,
    "start_time": "2024-05-18T03:48:16.925Z"
   },
   {
    "duration": 0,
    "start_time": "2024-05-18T03:48:16.928Z"
   },
   {
    "duration": 0,
    "start_time": "2024-05-18T03:48:16.935Z"
   },
   {
    "duration": 0,
    "start_time": "2024-05-18T03:48:16.936Z"
   },
   {
    "duration": 0,
    "start_time": "2024-05-18T03:48:16.939Z"
   },
   {
    "duration": 0,
    "start_time": "2024-05-18T03:48:16.941Z"
   },
   {
    "duration": 0,
    "start_time": "2024-05-18T03:48:16.943Z"
   },
   {
    "duration": 0,
    "start_time": "2024-05-18T03:48:16.945Z"
   },
   {
    "duration": 0,
    "start_time": "2024-05-18T03:48:16.947Z"
   },
   {
    "duration": 0,
    "start_time": "2024-05-18T03:48:16.950Z"
   },
   {
    "duration": 63,
    "start_time": "2024-05-18T03:49:02.672Z"
   },
   {
    "duration": 708,
    "start_time": "2024-05-18T03:50:14.714Z"
   },
   {
    "duration": 1545,
    "start_time": "2024-05-18T03:50:15.425Z"
   },
   {
    "duration": 20,
    "start_time": "2024-05-18T03:50:16.974Z"
   },
   {
    "duration": 19,
    "start_time": "2024-05-18T03:50:17.012Z"
   },
   {
    "duration": 15,
    "start_time": "2024-05-18T03:50:17.034Z"
   },
   {
    "duration": 19,
    "start_time": "2024-05-18T03:50:17.053Z"
   },
   {
    "duration": 12,
    "start_time": "2024-05-18T03:50:17.110Z"
   },
   {
    "duration": 11,
    "start_time": "2024-05-18T03:50:17.126Z"
   },
   {
    "duration": 341,
    "start_time": "2024-05-18T03:50:17.140Z"
   },
   {
    "duration": 27,
    "start_time": "2024-05-18T03:50:17.488Z"
   },
   {
    "duration": 129,
    "start_time": "2024-05-18T03:50:17.519Z"
   },
   {
    "duration": 171,
    "start_time": "2024-05-18T03:50:17.651Z"
   },
   {
    "duration": 46,
    "start_time": "2024-05-18T03:50:17.824Z"
   },
   {
    "duration": 44,
    "start_time": "2024-05-18T03:50:17.873Z"
   },
   {
    "duration": 6,
    "start_time": "2024-05-18T03:50:17.920Z"
   },
   {
    "duration": 39,
    "start_time": "2024-05-18T03:50:17.929Z"
   },
   {
    "duration": 49,
    "start_time": "2024-05-18T03:50:17.971Z"
   },
   {
    "duration": 6,
    "start_time": "2024-05-18T03:50:18.023Z"
   },
   {
    "duration": 5,
    "start_time": "2024-05-18T03:50:18.032Z"
   },
   {
    "duration": 6,
    "start_time": "2024-05-18T03:50:18.040Z"
   },
   {
    "duration": 5,
    "start_time": "2024-05-18T03:50:18.049Z"
   },
   {
    "duration": 1457,
    "start_time": "2024-05-18T03:50:18.057Z"
   },
   {
    "duration": 1369,
    "start_time": "2024-05-18T03:50:19.517Z"
   },
   {
    "duration": 7,
    "start_time": "2024-05-18T03:50:20.889Z"
   },
   {
    "duration": 14,
    "start_time": "2024-05-18T03:50:20.910Z"
   },
   {
    "duration": 15,
    "start_time": "2024-05-18T03:50:20.929Z"
   },
   {
    "duration": 14,
    "start_time": "2024-05-18T03:50:20.948Z"
   },
   {
    "duration": 54,
    "start_time": "2024-05-18T03:50:20.970Z"
   },
   {
    "duration": 10,
    "start_time": "2024-05-18T03:50:21.026Z"
   },
   {
    "duration": 9,
    "start_time": "2024-05-18T03:50:21.039Z"
   },
   {
    "duration": 67,
    "start_time": "2024-05-18T03:50:21.051Z"
   },
   {
    "duration": 48,
    "start_time": "2024-05-18T03:50:21.120Z"
   },
   {
    "duration": 47,
    "start_time": "2024-05-18T03:50:21.171Z"
   },
   {
    "duration": 550,
    "start_time": "2024-05-18T03:50:21.221Z"
   },
   {
    "duration": 32,
    "start_time": "2024-05-18T03:50:21.775Z"
   },
   {
    "duration": 519,
    "start_time": "2024-05-18T03:50:21.810Z"
   },
   {
    "duration": 77,
    "start_time": "2024-05-18T03:50:22.332Z"
   },
   {
    "duration": 9,
    "start_time": "2024-05-18T03:50:22.411Z"
   },
   {
    "duration": 10,
    "start_time": "2024-05-18T03:50:22.423Z"
   },
   {
    "duration": 301,
    "start_time": "2024-05-18T03:50:22.435Z"
   },
   {
    "duration": 243,
    "start_time": "2024-05-18T03:50:22.739Z"
   },
   {
    "duration": 308,
    "start_time": "2024-05-18T03:50:22.985Z"
   },
   {
    "duration": 20,
    "start_time": "2024-05-18T03:50:23.296Z"
   },
   {
    "duration": 12,
    "start_time": "2024-05-18T03:50:23.319Z"
   },
   {
    "duration": 376,
    "start_time": "2024-05-18T03:50:23.334Z"
   },
   {
    "duration": 8,
    "start_time": "2024-05-18T03:50:23.714Z"
   },
   {
    "duration": 0,
    "start_time": "2024-05-18T03:50:23.725Z"
   },
   {
    "duration": 0,
    "start_time": "2024-05-18T03:50:23.728Z"
   },
   {
    "duration": 0,
    "start_time": "2024-05-18T03:50:23.730Z"
   },
   {
    "duration": 0,
    "start_time": "2024-05-18T03:50:23.732Z"
   },
   {
    "duration": 0,
    "start_time": "2024-05-18T03:50:23.734Z"
   },
   {
    "duration": 0,
    "start_time": "2024-05-18T03:50:23.735Z"
   },
   {
    "duration": 0,
    "start_time": "2024-05-18T03:50:23.737Z"
   },
   {
    "duration": 0,
    "start_time": "2024-05-18T03:50:23.738Z"
   },
   {
    "duration": 0,
    "start_time": "2024-05-18T03:50:23.740Z"
   },
   {
    "duration": 0,
    "start_time": "2024-05-18T03:50:23.741Z"
   },
   {
    "duration": 0,
    "start_time": "2024-05-18T03:50:23.743Z"
   },
   {
    "duration": 0,
    "start_time": "2024-05-18T03:50:23.745Z"
   },
   {
    "duration": 0,
    "start_time": "2024-05-18T03:50:23.748Z"
   },
   {
    "duration": 153,
    "start_time": "2024-05-18T03:51:11.859Z"
   },
   {
    "duration": 67,
    "start_time": "2024-05-18T03:51:19.182Z"
   },
   {
    "duration": 681,
    "start_time": "2024-05-18T03:54:14.985Z"
   },
   {
    "duration": 1596,
    "start_time": "2024-05-18T03:54:15.670Z"
   },
   {
    "duration": 19,
    "start_time": "2024-05-18T03:54:17.269Z"
   },
   {
    "duration": 37,
    "start_time": "2024-05-18T03:54:17.292Z"
   },
   {
    "duration": 14,
    "start_time": "2024-05-18T03:54:17.332Z"
   },
   {
    "duration": 17,
    "start_time": "2024-05-18T03:54:17.349Z"
   },
   {
    "duration": 46,
    "start_time": "2024-05-18T03:54:17.371Z"
   },
   {
    "duration": 11,
    "start_time": "2024-05-18T03:54:17.420Z"
   },
   {
    "duration": 307,
    "start_time": "2024-05-18T03:54:17.434Z"
   },
   {
    "duration": 17,
    "start_time": "2024-05-18T03:54:17.746Z"
   },
   {
    "duration": 137,
    "start_time": "2024-05-18T03:54:17.766Z"
   },
   {
    "duration": 183,
    "start_time": "2024-05-18T03:54:17.908Z"
   },
   {
    "duration": 47,
    "start_time": "2024-05-18T03:54:18.094Z"
   },
   {
    "duration": 22,
    "start_time": "2024-05-18T03:54:18.144Z"
   },
   {
    "duration": 6,
    "start_time": "2024-05-18T03:54:18.169Z"
   },
   {
    "duration": 38,
    "start_time": "2024-05-18T03:54:18.210Z"
   },
   {
    "duration": 14,
    "start_time": "2024-05-18T03:54:18.250Z"
   },
   {
    "duration": 41,
    "start_time": "2024-05-18T03:54:18.267Z"
   },
   {
    "duration": 6,
    "start_time": "2024-05-18T03:54:18.311Z"
   },
   {
    "duration": 6,
    "start_time": "2024-05-18T03:54:18.320Z"
   },
   {
    "duration": 6,
    "start_time": "2024-05-18T03:54:18.329Z"
   },
   {
    "duration": 1384,
    "start_time": "2024-05-18T03:54:18.337Z"
   },
   {
    "duration": 1342,
    "start_time": "2024-05-18T03:54:19.724Z"
   },
   {
    "duration": 7,
    "start_time": "2024-05-18T03:54:21.070Z"
   },
   {
    "duration": 30,
    "start_time": "2024-05-18T03:54:21.080Z"
   },
   {
    "duration": 13,
    "start_time": "2024-05-18T03:54:21.114Z"
   },
   {
    "duration": 12,
    "start_time": "2024-05-18T03:54:21.129Z"
   },
   {
    "duration": 60,
    "start_time": "2024-05-18T03:54:21.150Z"
   },
   {
    "duration": 10,
    "start_time": "2024-05-18T03:54:21.213Z"
   },
   {
    "duration": 11,
    "start_time": "2024-05-18T03:54:21.226Z"
   },
   {
    "duration": 68,
    "start_time": "2024-05-18T03:54:21.241Z"
   },
   {
    "duration": 48,
    "start_time": "2024-05-18T03:54:21.312Z"
   },
   {
    "duration": 50,
    "start_time": "2024-05-18T03:54:21.364Z"
   },
   {
    "duration": 534,
    "start_time": "2024-05-18T03:54:21.417Z"
   },
   {
    "duration": 15,
    "start_time": "2024-05-18T03:54:21.954Z"
   },
   {
    "duration": 538,
    "start_time": "2024-05-18T03:54:21.971Z"
   },
   {
    "duration": 65,
    "start_time": "2024-05-18T03:54:22.512Z"
   },
   {
    "duration": 33,
    "start_time": "2024-05-18T03:54:22.580Z"
   },
   {
    "duration": 8,
    "start_time": "2024-05-18T03:54:22.616Z"
   },
   {
    "duration": 283,
    "start_time": "2024-05-18T03:54:22.628Z"
   },
   {
    "duration": 240,
    "start_time": "2024-05-18T03:54:22.914Z"
   },
   {
    "duration": 328,
    "start_time": "2024-05-18T03:54:23.157Z"
   },
   {
    "duration": 27,
    "start_time": "2024-05-18T03:54:23.488Z"
   },
   {
    "duration": 12,
    "start_time": "2024-05-18T03:54:23.518Z"
   },
   {
    "duration": 419,
    "start_time": "2024-05-18T03:54:23.532Z"
   },
   {
    "duration": 179,
    "start_time": "2024-05-18T03:54:23.955Z"
   },
   {
    "duration": 564,
    "start_time": "2024-05-18T03:54:24.138Z"
   },
   {
    "duration": 0,
    "start_time": "2024-05-18T03:54:24.709Z"
   },
   {
    "duration": 0,
    "start_time": "2024-05-18T03:54:24.712Z"
   },
   {
    "duration": 0,
    "start_time": "2024-05-18T03:54:24.714Z"
   },
   {
    "duration": 0,
    "start_time": "2024-05-18T03:54:24.717Z"
   },
   {
    "duration": 0,
    "start_time": "2024-05-18T03:54:24.720Z"
   },
   {
    "duration": 0,
    "start_time": "2024-05-18T03:54:24.723Z"
   },
   {
    "duration": 0,
    "start_time": "2024-05-18T03:54:24.725Z"
   },
   {
    "duration": 0,
    "start_time": "2024-05-18T03:54:24.728Z"
   },
   {
    "duration": 0,
    "start_time": "2024-05-18T03:54:24.730Z"
   },
   {
    "duration": 0,
    "start_time": "2024-05-18T03:54:24.733Z"
   },
   {
    "duration": 0,
    "start_time": "2024-05-18T03:54:24.737Z"
   },
   {
    "duration": 0,
    "start_time": "2024-05-18T03:54:24.739Z"
   },
   {
    "duration": 85,
    "start_time": "2024-05-18T03:54:53.510Z"
   },
   {
    "duration": 104,
    "start_time": "2024-05-18T03:54:59.442Z"
   },
   {
    "duration": 23,
    "start_time": "2024-05-18T03:55:02.515Z"
   },
   {
    "duration": 716,
    "start_time": "2024-05-18T03:56:02.325Z"
   },
   {
    "duration": 1628,
    "start_time": "2024-05-18T03:56:03.045Z"
   },
   {
    "duration": 20,
    "start_time": "2024-05-18T03:56:04.675Z"
   },
   {
    "duration": 22,
    "start_time": "2024-05-18T03:56:04.714Z"
   },
   {
    "duration": 14,
    "start_time": "2024-05-18T03:56:04.739Z"
   },
   {
    "duration": 17,
    "start_time": "2024-05-18T03:56:04.756Z"
   },
   {
    "duration": 13,
    "start_time": "2024-05-18T03:56:04.810Z"
   },
   {
    "duration": 10,
    "start_time": "2024-05-18T03:56:04.826Z"
   },
   {
    "duration": 356,
    "start_time": "2024-05-18T03:56:04.839Z"
   },
   {
    "duration": 21,
    "start_time": "2024-05-18T03:56:05.201Z"
   },
   {
    "duration": 143,
    "start_time": "2024-05-18T03:56:05.225Z"
   },
   {
    "duration": 198,
    "start_time": "2024-05-18T03:56:05.371Z"
   },
   {
    "duration": 64,
    "start_time": "2024-05-18T03:56:05.573Z"
   },
   {
    "duration": 29,
    "start_time": "2024-05-18T03:56:05.641Z"
   },
   {
    "duration": 6,
    "start_time": "2024-05-18T03:56:05.674Z"
   },
   {
    "duration": 62,
    "start_time": "2024-05-18T03:56:05.682Z"
   },
   {
    "duration": 14,
    "start_time": "2024-05-18T03:56:05.748Z"
   },
   {
    "duration": 8,
    "start_time": "2024-05-18T03:56:05.765Z"
   },
   {
    "duration": 5,
    "start_time": "2024-05-18T03:56:05.809Z"
   },
   {
    "duration": 6,
    "start_time": "2024-05-18T03:56:05.818Z"
   },
   {
    "duration": 5,
    "start_time": "2024-05-18T03:56:05.827Z"
   },
   {
    "duration": 1406,
    "start_time": "2024-05-18T03:56:05.834Z"
   },
   {
    "duration": 1395,
    "start_time": "2024-05-18T03:56:07.243Z"
   },
   {
    "duration": 8,
    "start_time": "2024-05-18T03:56:08.641Z"
   },
   {
    "duration": 14,
    "start_time": "2024-05-18T03:56:08.652Z"
   },
   {
    "duration": 47,
    "start_time": "2024-05-18T03:56:08.668Z"
   },
   {
    "duration": 13,
    "start_time": "2024-05-18T03:56:08.718Z"
   },
   {
    "duration": 24,
    "start_time": "2024-05-18T03:56:08.741Z"
   },
   {
    "duration": 49,
    "start_time": "2024-05-18T03:56:08.768Z"
   },
   {
    "duration": 11,
    "start_time": "2024-05-18T03:56:08.823Z"
   },
   {
    "duration": 28,
    "start_time": "2024-05-18T03:56:08.837Z"
   },
   {
    "duration": 87,
    "start_time": "2024-05-18T03:56:08.868Z"
   },
   {
    "duration": 52,
    "start_time": "2024-05-18T03:56:08.959Z"
   },
   {
    "duration": 540,
    "start_time": "2024-05-18T03:56:09.014Z"
   },
   {
    "duration": 13,
    "start_time": "2024-05-18T03:56:09.557Z"
   },
   {
    "duration": 568,
    "start_time": "2024-05-18T03:56:09.572Z"
   },
   {
    "duration": 86,
    "start_time": "2024-05-18T03:56:10.144Z"
   },
   {
    "duration": 11,
    "start_time": "2024-05-18T03:56:10.233Z"
   },
   {
    "duration": 9,
    "start_time": "2024-05-18T03:56:10.247Z"
   },
   {
    "duration": 292,
    "start_time": "2024-05-18T03:56:10.259Z"
   },
   {
    "duration": 247,
    "start_time": "2024-05-18T03:56:10.554Z"
   },
   {
    "duration": 319,
    "start_time": "2024-05-18T03:56:10.809Z"
   },
   {
    "duration": 12,
    "start_time": "2024-05-18T03:56:11.131Z"
   },
   {
    "duration": 12,
    "start_time": "2024-05-18T03:56:11.145Z"
   },
   {
    "duration": 390,
    "start_time": "2024-05-18T03:56:11.160Z"
   },
   {
    "duration": 162,
    "start_time": "2024-05-18T03:56:11.555Z"
   },
   {
    "duration": 381,
    "start_time": "2024-05-18T03:56:11.788Z"
   },
   {
    "duration": 10,
    "start_time": "2024-05-18T03:56:12.173Z"
   },
   {
    "duration": 190,
    "start_time": "2024-05-18T03:56:12.186Z"
   },
   {
    "duration": 0,
    "start_time": "2024-05-18T03:56:12.379Z"
   },
   {
    "duration": 0,
    "start_time": "2024-05-18T03:56:12.382Z"
   },
   {
    "duration": 0,
    "start_time": "2024-05-18T03:56:12.384Z"
   },
   {
    "duration": 0,
    "start_time": "2024-05-18T03:56:12.386Z"
   },
   {
    "duration": 0,
    "start_time": "2024-05-18T03:56:12.408Z"
   },
   {
    "duration": 0,
    "start_time": "2024-05-18T03:56:12.411Z"
   },
   {
    "duration": 0,
    "start_time": "2024-05-18T03:56:12.413Z"
   },
   {
    "duration": 0,
    "start_time": "2024-05-18T03:56:12.417Z"
   },
   {
    "duration": 0,
    "start_time": "2024-05-18T03:56:12.419Z"
   },
   {
    "duration": 0,
    "start_time": "2024-05-18T03:56:12.422Z"
   },
   {
    "duration": 65,
    "start_time": "2024-05-18T03:56:18.634Z"
   },
   {
    "duration": 317,
    "start_time": "2024-05-18T03:56:20.286Z"
   },
   {
    "duration": 65,
    "start_time": "2024-05-18T03:57:41.008Z"
   },
   {
    "duration": 349,
    "start_time": "2024-05-18T03:58:50.364Z"
   },
   {
    "duration": 65,
    "start_time": "2024-05-18T03:58:56.255Z"
   },
   {
    "duration": 138,
    "start_time": "2024-05-18T04:00:36.539Z"
   },
   {
    "duration": 72,
    "start_time": "2024-05-18T04:01:07.658Z"
   },
   {
    "duration": 110,
    "start_time": "2024-05-18T04:01:17.123Z"
   },
   {
    "duration": 66,
    "start_time": "2024-05-18T04:02:21.435Z"
   },
   {
    "duration": 65,
    "start_time": "2024-05-18T04:02:29.042Z"
   },
   {
    "duration": 6,
    "start_time": "2024-05-18T04:04:38.386Z"
   },
   {
    "duration": 329,
    "start_time": "2024-05-18T04:04:44.218Z"
   },
   {
    "duration": 329,
    "start_time": "2024-05-18T04:04:57.517Z"
   },
   {
    "duration": 327,
    "start_time": "2024-05-18T04:05:03.195Z"
   },
   {
    "duration": 13,
    "start_time": "2024-05-18T04:06:20.884Z"
   },
   {
    "duration": 13,
    "start_time": "2024-05-18T04:07:04.035Z"
   },
   {
    "duration": 18,
    "start_time": "2024-05-18T04:09:27.928Z"
   },
   {
    "duration": 12,
    "start_time": "2024-05-18T04:09:59.606Z"
   },
   {
    "duration": 7,
    "start_time": "2024-05-18T04:11:38.141Z"
   },
   {
    "duration": 12,
    "start_time": "2024-05-18T04:12:24.211Z"
   },
   {
    "duration": 12,
    "start_time": "2024-05-18T04:13:05.153Z"
   },
   {
    "duration": 23,
    "start_time": "2024-05-18T04:13:40.219Z"
   },
   {
    "duration": 665,
    "start_time": "2024-05-18T04:13:44.838Z"
   },
   {
    "duration": 23,
    "start_time": "2024-05-18T04:18:42.875Z"
   },
   {
    "duration": 14,
    "start_time": "2024-05-18T04:18:50.921Z"
   },
   {
    "duration": 11,
    "start_time": "2024-05-18T04:18:51.862Z"
   },
   {
    "duration": 20,
    "start_time": "2024-05-18T04:18:52.826Z"
   },
   {
    "duration": 703,
    "start_time": "2024-05-18T04:19:01.490Z"
   },
   {
    "duration": 1559,
    "start_time": "2024-05-18T04:19:02.198Z"
   },
   {
    "duration": 22,
    "start_time": "2024-05-18T04:19:03.760Z"
   },
   {
    "duration": 36,
    "start_time": "2024-05-18T04:19:03.787Z"
   },
   {
    "duration": 13,
    "start_time": "2024-05-18T04:19:03.829Z"
   },
   {
    "duration": 15,
    "start_time": "2024-05-18T04:19:03.845Z"
   },
   {
    "duration": 49,
    "start_time": "2024-05-18T04:19:03.862Z"
   },
   {
    "duration": 10,
    "start_time": "2024-05-18T04:19:03.916Z"
   },
   {
    "duration": 327,
    "start_time": "2024-05-18T04:19:03.928Z"
   },
   {
    "duration": 15,
    "start_time": "2024-05-18T04:19:04.262Z"
   },
   {
    "duration": 145,
    "start_time": "2024-05-18T04:19:04.281Z"
   },
   {
    "duration": 192,
    "start_time": "2024-05-18T04:19:04.430Z"
   },
   {
    "duration": 43,
    "start_time": "2024-05-18T04:19:04.625Z"
   },
   {
    "duration": 47,
    "start_time": "2024-05-18T04:19:04.673Z"
   },
   {
    "duration": 7,
    "start_time": "2024-05-18T04:19:04.722Z"
   },
   {
    "duration": 38,
    "start_time": "2024-05-18T04:19:04.732Z"
   },
   {
    "duration": 38,
    "start_time": "2024-05-18T04:19:04.773Z"
   },
   {
    "duration": 6,
    "start_time": "2024-05-18T04:19:04.816Z"
   },
   {
    "duration": 6,
    "start_time": "2024-05-18T04:19:04.825Z"
   },
   {
    "duration": 7,
    "start_time": "2024-05-18T04:19:04.834Z"
   },
   {
    "duration": 5,
    "start_time": "2024-05-18T04:19:04.844Z"
   },
   {
    "duration": 1421,
    "start_time": "2024-05-18T04:19:04.852Z"
   },
   {
    "duration": 1366,
    "start_time": "2024-05-18T04:19:06.276Z"
   },
   {
    "duration": 8,
    "start_time": "2024-05-18T04:19:07.645Z"
   },
   {
    "duration": 13,
    "start_time": "2024-05-18T04:19:07.656Z"
   },
   {
    "duration": 41,
    "start_time": "2024-05-18T04:19:07.673Z"
   },
   {
    "duration": 13,
    "start_time": "2024-05-18T04:19:07.717Z"
   },
   {
    "duration": 25,
    "start_time": "2024-05-18T04:19:07.740Z"
   },
   {
    "duration": 47,
    "start_time": "2024-05-18T04:19:07.768Z"
   },
   {
    "duration": 9,
    "start_time": "2024-05-18T04:19:07.819Z"
   },
   {
    "duration": 27,
    "start_time": "2024-05-18T04:19:07.830Z"
   },
   {
    "duration": 89,
    "start_time": "2024-05-18T04:19:07.860Z"
   },
   {
    "duration": 23,
    "start_time": "2024-05-18T04:19:07.951Z"
   },
   {
    "duration": 550,
    "start_time": "2024-05-18T04:19:07.977Z"
   },
   {
    "duration": 12,
    "start_time": "2024-05-18T04:19:08.530Z"
   },
   {
    "duration": 555,
    "start_time": "2024-05-18T04:19:08.546Z"
   },
   {
    "duration": 69,
    "start_time": "2024-05-18T04:19:09.107Z"
   },
   {
    "duration": 30,
    "start_time": "2024-05-18T04:19:09.179Z"
   },
   {
    "duration": 9,
    "start_time": "2024-05-18T04:19:09.212Z"
   },
   {
    "duration": 287,
    "start_time": "2024-05-18T04:19:09.224Z"
   },
   {
    "duration": 228,
    "start_time": "2024-05-18T04:19:09.514Z"
   },
   {
    "duration": 330,
    "start_time": "2024-05-18T04:19:09.745Z"
   },
   {
    "duration": 12,
    "start_time": "2024-05-18T04:19:10.078Z"
   },
   {
    "duration": 24,
    "start_time": "2024-05-18T04:19:10.093Z"
   },
   {
    "duration": 165,
    "start_time": "2024-05-18T04:19:10.120Z"
   },
   {
    "duration": 0,
    "start_time": "2024-05-18T04:19:10.288Z"
   },
   {
    "duration": 0,
    "start_time": "2024-05-18T04:19:10.290Z"
   },
   {
    "duration": 0,
    "start_time": "2024-05-18T04:19:10.292Z"
   },
   {
    "duration": 0,
    "start_time": "2024-05-18T04:19:10.310Z"
   },
   {
    "duration": 0,
    "start_time": "2024-05-18T04:19:10.313Z"
   },
   {
    "duration": 0,
    "start_time": "2024-05-18T04:19:10.316Z"
   },
   {
    "duration": 0,
    "start_time": "2024-05-18T04:19:10.318Z"
   },
   {
    "duration": 0,
    "start_time": "2024-05-18T04:19:10.319Z"
   },
   {
    "duration": 0,
    "start_time": "2024-05-18T04:19:10.322Z"
   },
   {
    "duration": 0,
    "start_time": "2024-05-18T04:19:10.323Z"
   },
   {
    "duration": 0,
    "start_time": "2024-05-18T04:19:10.325Z"
   },
   {
    "duration": 0,
    "start_time": "2024-05-18T04:19:10.327Z"
   },
   {
    "duration": 0,
    "start_time": "2024-05-18T04:19:10.329Z"
   },
   {
    "duration": 0,
    "start_time": "2024-05-18T04:19:10.332Z"
   },
   {
    "duration": 0,
    "start_time": "2024-05-18T04:19:10.333Z"
   },
   {
    "duration": 0,
    "start_time": "2024-05-18T04:19:10.336Z"
   },
   {
    "duration": 0,
    "start_time": "2024-05-18T04:19:10.337Z"
   },
   {
    "duration": 11,
    "start_time": "2024-05-18T04:20:29.924Z"
   },
   {
    "duration": 13,
    "start_time": "2024-05-18T04:20:32.259Z"
   },
   {
    "duration": 9,
    "start_time": "2024-05-18T04:20:34.912Z"
   },
   {
    "duration": 11,
    "start_time": "2024-05-18T04:20:58.667Z"
   },
   {
    "duration": 19,
    "start_time": "2024-05-18T04:21:27.903Z"
   },
   {
    "duration": 12,
    "start_time": "2024-05-18T04:24:13.768Z"
   },
   {
    "duration": 8,
    "start_time": "2024-05-18T04:24:18.799Z"
   },
   {
    "duration": 387,
    "start_time": "2024-05-18T04:24:20.835Z"
   },
   {
    "duration": 400,
    "start_time": "2024-05-18T04:24:36.039Z"
   },
   {
    "duration": 395,
    "start_time": "2024-05-18T04:25:00.921Z"
   },
   {
    "duration": 504,
    "start_time": "2024-05-18T04:25:31.931Z"
   },
   {
    "duration": 61,
    "start_time": "2024-05-18T04:29:03.460Z"
   },
   {
    "duration": 318,
    "start_time": "2024-05-18T04:29:05.633Z"
   },
   {
    "duration": 12,
    "start_time": "2024-05-18T04:29:16.755Z"
   },
   {
    "duration": 48,
    "start_time": "2024-05-18T04:29:24.499Z"
   },
   {
    "duration": 691,
    "start_time": "2024-05-18T05:02:55.339Z"
   },
   {
    "duration": 1569,
    "start_time": "2024-05-18T05:02:56.034Z"
   },
   {
    "duration": 19,
    "start_time": "2024-05-18T05:02:57.605Z"
   },
   {
    "duration": 16,
    "start_time": "2024-05-18T05:02:57.628Z"
   },
   {
    "duration": 13,
    "start_time": "2024-05-18T05:02:57.648Z"
   },
   {
    "duration": 55,
    "start_time": "2024-05-18T05:02:57.664Z"
   },
   {
    "duration": 12,
    "start_time": "2024-05-18T05:02:57.723Z"
   },
   {
    "duration": 9,
    "start_time": "2024-05-18T05:02:57.739Z"
   },
   {
    "duration": 307,
    "start_time": "2024-05-18T05:02:57.752Z"
   },
   {
    "duration": 15,
    "start_time": "2024-05-18T05:02:58.065Z"
   },
   {
    "duration": 140,
    "start_time": "2024-05-18T05:02:58.083Z"
   },
   {
    "duration": 194,
    "start_time": "2024-05-18T05:02:58.227Z"
   },
   {
    "duration": 45,
    "start_time": "2024-05-18T05:02:58.425Z"
   },
   {
    "duration": 43,
    "start_time": "2024-05-18T05:02:58.473Z"
   },
   {
    "duration": 10,
    "start_time": "2024-05-18T05:02:58.519Z"
   },
   {
    "duration": 38,
    "start_time": "2024-05-18T05:02:58.532Z"
   },
   {
    "duration": 42,
    "start_time": "2024-05-18T05:02:58.572Z"
   },
   {
    "duration": 7,
    "start_time": "2024-05-18T05:02:58.617Z"
   },
   {
    "duration": 6,
    "start_time": "2024-05-18T05:02:58.626Z"
   },
   {
    "duration": 6,
    "start_time": "2024-05-18T05:02:58.635Z"
   },
   {
    "duration": 5,
    "start_time": "2024-05-18T05:02:58.645Z"
   },
   {
    "duration": 1384,
    "start_time": "2024-05-18T05:02:58.653Z"
   },
   {
    "duration": 1342,
    "start_time": "2024-05-18T05:03:00.040Z"
   },
   {
    "duration": 8,
    "start_time": "2024-05-18T05:03:01.385Z"
   },
   {
    "duration": 20,
    "start_time": "2024-05-18T05:03:01.397Z"
   },
   {
    "duration": 14,
    "start_time": "2024-05-18T05:03:01.421Z"
   },
   {
    "duration": 12,
    "start_time": "2024-05-18T05:03:01.438Z"
   },
   {
    "duration": 63,
    "start_time": "2024-05-18T05:03:01.458Z"
   },
   {
    "duration": 11,
    "start_time": "2024-05-18T05:03:01.525Z"
   },
   {
    "duration": 10,
    "start_time": "2024-05-18T05:03:01.538Z"
   },
   {
    "duration": 68,
    "start_time": "2024-05-18T05:03:01.551Z"
   },
   {
    "duration": 51,
    "start_time": "2024-05-18T05:03:01.623Z"
   },
   {
    "duration": 48,
    "start_time": "2024-05-18T05:03:01.678Z"
   },
   {
    "duration": 519,
    "start_time": "2024-05-18T05:03:01.729Z"
   },
   {
    "duration": 13,
    "start_time": "2024-05-18T05:03:02.253Z"
   },
   {
    "duration": 545,
    "start_time": "2024-05-18T05:03:02.269Z"
   },
   {
    "duration": 64,
    "start_time": "2024-05-18T05:03:02.817Z"
   },
   {
    "duration": 29,
    "start_time": "2024-05-18T05:03:02.885Z"
   },
   {
    "duration": 11,
    "start_time": "2024-05-18T05:03:02.917Z"
   },
   {
    "duration": 285,
    "start_time": "2024-05-18T05:03:02.931Z"
   },
   {
    "duration": 231,
    "start_time": "2024-05-18T05:03:03.219Z"
   },
   {
    "duration": 305,
    "start_time": "2024-05-18T05:03:03.454Z"
   },
   {
    "duration": 14,
    "start_time": "2024-05-18T05:03:03.764Z"
   },
   {
    "duration": 33,
    "start_time": "2024-05-18T05:03:03.781Z"
   },
   {
    "duration": 10,
    "start_time": "2024-05-18T05:03:03.817Z"
   },
   {
    "duration": 444,
    "start_time": "2024-05-18T05:03:03.830Z"
   },
   {
    "duration": 81,
    "start_time": "2024-05-18T05:03:04.277Z"
   },
   {
    "duration": 350,
    "start_time": "2024-05-18T05:03:04.362Z"
   },
   {
    "duration": 11,
    "start_time": "2024-05-18T05:03:04.715Z"
   },
   {
    "duration": 208,
    "start_time": "2024-05-18T05:03:04.729Z"
   },
   {
    "duration": 0,
    "start_time": "2024-05-18T05:03:04.940Z"
   },
   {
    "duration": 0,
    "start_time": "2024-05-18T05:03:04.943Z"
   },
   {
    "duration": 0,
    "start_time": "2024-05-18T05:03:04.947Z"
   },
   {
    "duration": 0,
    "start_time": "2024-05-18T05:03:04.949Z"
   },
   {
    "duration": 0,
    "start_time": "2024-05-18T05:03:04.951Z"
   },
   {
    "duration": 0,
    "start_time": "2024-05-18T05:03:04.953Z"
   },
   {
    "duration": 0,
    "start_time": "2024-05-18T05:03:04.955Z"
   },
   {
    "duration": 0,
    "start_time": "2024-05-18T05:03:04.957Z"
   },
   {
    "duration": 0,
    "start_time": "2024-05-18T05:03:04.960Z"
   },
   {
    "duration": 436,
    "start_time": "2024-05-18T05:06:33.709Z"
   },
   {
    "duration": 47,
    "start_time": "2024-05-18T05:19:29.154Z"
   },
   {
    "duration": 326,
    "start_time": "2024-05-18T05:20:14.847Z"
   },
   {
    "duration": 26,
    "start_time": "2024-05-18T05:20:21.778Z"
   },
   {
    "duration": 27,
    "start_time": "2024-05-18T05:20:30.152Z"
   },
   {
    "duration": 26,
    "start_time": "2024-05-18T05:20:37.262Z"
   },
   {
    "duration": 6,
    "start_time": "2024-05-18T13:04:45.136Z"
   },
   {
    "duration": 433,
    "start_time": "2024-05-18T13:06:10.999Z"
   },
   {
    "duration": 4530,
    "start_time": "2024-05-18T13:06:18.704Z"
   },
   {
    "duration": 1726,
    "start_time": "2024-05-18T13:06:23.237Z"
   },
   {
    "duration": 20,
    "start_time": "2024-05-18T13:06:24.966Z"
   },
   {
    "duration": 33,
    "start_time": "2024-05-18T13:06:24.991Z"
   },
   {
    "duration": 14,
    "start_time": "2024-05-18T13:06:25.027Z"
   },
   {
    "duration": 14,
    "start_time": "2024-05-18T13:06:25.044Z"
   },
   {
    "duration": 52,
    "start_time": "2024-05-18T13:06:25.062Z"
   },
   {
    "duration": 10,
    "start_time": "2024-05-18T13:06:25.117Z"
   },
   {
    "duration": 305,
    "start_time": "2024-05-18T13:06:25.131Z"
   },
   {
    "duration": 15,
    "start_time": "2024-05-18T13:06:25.441Z"
   },
   {
    "duration": 136,
    "start_time": "2024-05-18T13:06:25.459Z"
   },
   {
    "duration": 169,
    "start_time": "2024-05-18T13:06:25.597Z"
   },
   {
    "duration": 58,
    "start_time": "2024-05-18T13:06:25.769Z"
   },
   {
    "duration": 23,
    "start_time": "2024-05-18T13:06:25.830Z"
   },
   {
    "duration": 6,
    "start_time": "2024-05-18T13:06:25.856Z"
   },
   {
    "duration": 68,
    "start_time": "2024-05-18T13:06:25.865Z"
   },
   {
    "duration": 13,
    "start_time": "2024-05-18T13:06:25.936Z"
   },
   {
    "duration": 6,
    "start_time": "2024-05-18T13:06:25.952Z"
   },
   {
    "duration": 6,
    "start_time": "2024-05-18T13:06:25.961Z"
   },
   {
    "duration": 44,
    "start_time": "2024-05-18T13:06:25.970Z"
   },
   {
    "duration": 5,
    "start_time": "2024-05-18T13:06:26.016Z"
   },
   {
    "duration": 1332,
    "start_time": "2024-05-18T13:06:26.025Z"
   },
   {
    "duration": 1324,
    "start_time": "2024-05-18T13:06:27.361Z"
   },
   {
    "duration": 8,
    "start_time": "2024-05-18T13:06:28.689Z"
   },
   {
    "duration": 15,
    "start_time": "2024-05-18T13:06:28.714Z"
   },
   {
    "duration": 14,
    "start_time": "2024-05-18T13:06:28.732Z"
   },
   {
    "duration": 14,
    "start_time": "2024-05-18T13:06:28.750Z"
   },
   {
    "duration": 22,
    "start_time": "2024-05-18T13:06:28.816Z"
   },
   {
    "duration": 11,
    "start_time": "2024-05-18T13:06:28.841Z"
   },
   {
    "duration": 10,
    "start_time": "2024-05-18T13:06:28.856Z"
   },
   {
    "duration": 68,
    "start_time": "2024-05-18T13:06:28.869Z"
   },
   {
    "duration": 80,
    "start_time": "2024-05-18T13:06:28.940Z"
   },
   {
    "duration": 24,
    "start_time": "2024-05-18T13:06:29.024Z"
   },
   {
    "duration": 562,
    "start_time": "2024-05-18T13:06:29.051Z"
   },
   {
    "duration": 13,
    "start_time": "2024-05-18T13:06:29.616Z"
   },
   {
    "duration": 544,
    "start_time": "2024-05-18T13:06:29.633Z"
   },
   {
    "duration": 78,
    "start_time": "2024-05-18T13:06:30.180Z"
   },
   {
    "duration": 9,
    "start_time": "2024-05-18T13:06:30.262Z"
   },
   {
    "duration": 9,
    "start_time": "2024-05-18T13:06:30.274Z"
   },
   {
    "duration": 294,
    "start_time": "2024-05-18T13:06:30.286Z"
   },
   {
    "duration": 231,
    "start_time": "2024-05-18T13:06:30.583Z"
   },
   {
    "duration": 318,
    "start_time": "2024-05-18T13:06:30.818Z"
   },
   {
    "duration": 13,
    "start_time": "2024-05-18T13:06:31.139Z"
   },
   {
    "duration": 16,
    "start_time": "2024-05-18T13:06:31.157Z"
   },
   {
    "duration": 39,
    "start_time": "2024-05-18T13:06:31.176Z"
   },
   {
    "duration": 424,
    "start_time": "2024-05-18T13:06:31.218Z"
   },
   {
    "duration": 72,
    "start_time": "2024-05-18T13:06:31.645Z"
   },
   {
    "duration": 392,
    "start_time": "2024-05-18T13:06:31.720Z"
   },
   {
    "duration": 10,
    "start_time": "2024-05-18T13:06:32.115Z"
   },
   {
    "duration": 1715,
    "start_time": "2024-05-18T13:06:32.128Z"
   },
   {
    "duration": 372,
    "start_time": "2024-05-18T13:06:33.847Z"
   },
   {
    "duration": 0,
    "start_time": "2024-05-18T13:06:34.222Z"
   },
   {
    "duration": 0,
    "start_time": "2024-05-18T13:06:34.226Z"
   },
   {
    "duration": 0,
    "start_time": "2024-05-18T13:06:34.228Z"
   },
   {
    "duration": 0,
    "start_time": "2024-05-18T13:06:34.230Z"
   },
   {
    "duration": 0,
    "start_time": "2024-05-18T13:06:34.232Z"
   },
   {
    "duration": 0,
    "start_time": "2024-05-18T13:06:34.233Z"
   },
   {
    "duration": 0,
    "start_time": "2024-05-18T13:06:34.235Z"
   },
   {
    "duration": 0,
    "start_time": "2024-05-18T13:06:34.238Z"
   },
   {
    "duration": 5,
    "start_time": "2024-05-18T13:14:59.877Z"
   },
   {
    "duration": 1095,
    "start_time": "2024-05-18T13:16:34.693Z"
   },
   {
    "duration": 67,
    "start_time": "2024-05-18T13:18:42.380Z"
   },
   {
    "duration": 745,
    "start_time": "2024-05-18T13:19:07.267Z"
   },
   {
    "duration": 1565,
    "start_time": "2024-05-18T13:19:08.016Z"
   },
   {
    "duration": 30,
    "start_time": "2024-05-18T13:19:09.584Z"
   },
   {
    "duration": 21,
    "start_time": "2024-05-18T13:19:09.618Z"
   },
   {
    "duration": 17,
    "start_time": "2024-05-18T13:19:09.643Z"
   },
   {
    "duration": 51,
    "start_time": "2024-05-18T13:19:09.664Z"
   },
   {
    "duration": 16,
    "start_time": "2024-05-18T13:19:09.720Z"
   },
   {
    "duration": 13,
    "start_time": "2024-05-18T13:19:09.741Z"
   },
   {
    "duration": 313,
    "start_time": "2024-05-18T13:19:09.757Z"
   },
   {
    "duration": 15,
    "start_time": "2024-05-18T13:19:10.076Z"
   },
   {
    "duration": 132,
    "start_time": "2024-05-18T13:19:10.113Z"
   },
   {
    "duration": 209,
    "start_time": "2024-05-18T13:19:10.248Z"
   },
   {
    "duration": 54,
    "start_time": "2024-05-18T13:19:10.464Z"
   },
   {
    "duration": 31,
    "start_time": "2024-05-18T13:19:10.521Z"
   },
   {
    "duration": 6,
    "start_time": "2024-05-18T13:19:10.554Z"
   },
   {
    "duration": 70,
    "start_time": "2024-05-18T13:19:10.563Z"
   },
   {
    "duration": 15,
    "start_time": "2024-05-18T13:19:10.636Z"
   },
   {
    "duration": 7,
    "start_time": "2024-05-18T13:19:10.654Z"
   },
   {
    "duration": 46,
    "start_time": "2024-05-18T13:19:10.665Z"
   },
   {
    "duration": 6,
    "start_time": "2024-05-18T13:19:10.715Z"
   },
   {
    "duration": 6,
    "start_time": "2024-05-18T13:19:10.725Z"
   },
   {
    "duration": 1413,
    "start_time": "2024-05-18T13:19:10.734Z"
   },
   {
    "duration": 1191,
    "start_time": "2024-05-18T13:19:12.150Z"
   },
   {
    "duration": 10,
    "start_time": "2024-05-18T13:19:13.344Z"
   },
   {
    "duration": 16,
    "start_time": "2024-05-18T13:19:13.361Z"
   },
   {
    "duration": 15,
    "start_time": "2024-05-18T13:19:13.412Z"
   },
   {
    "duration": 14,
    "start_time": "2024-05-18T13:19:13.430Z"
   },
   {
    "duration": 22,
    "start_time": "2024-05-18T13:19:13.452Z"
   },
   {
    "duration": 13,
    "start_time": "2024-05-18T13:19:13.512Z"
   },
   {
    "duration": 13,
    "start_time": "2024-05-18T13:19:13.528Z"
   },
   {
    "duration": 67,
    "start_time": "2024-05-18T13:19:13.545Z"
   },
   {
    "duration": 59,
    "start_time": "2024-05-18T13:19:13.616Z"
   },
   {
    "duration": 53,
    "start_time": "2024-05-18T13:19:13.679Z"
   },
   {
    "duration": 624,
    "start_time": "2024-05-18T13:19:13.736Z"
   },
   {
    "duration": 16,
    "start_time": "2024-05-18T13:19:14.364Z"
   },
   {
    "duration": 594,
    "start_time": "2024-05-18T13:19:14.384Z"
   },
   {
    "duration": 81,
    "start_time": "2024-05-18T13:19:14.982Z"
   },
   {
    "duration": 13,
    "start_time": "2024-05-18T13:19:15.067Z"
   },
   {
    "duration": 31,
    "start_time": "2024-05-18T13:19:15.083Z"
   },
   {
    "duration": 296,
    "start_time": "2024-05-18T13:19:15.117Z"
   },
   {
    "duration": 232,
    "start_time": "2024-05-18T13:19:15.417Z"
   },
   {
    "duration": 329,
    "start_time": "2024-05-18T13:19:15.653Z"
   },
   {
    "duration": 31,
    "start_time": "2024-05-18T13:19:15.985Z"
   },
   {
    "duration": 17,
    "start_time": "2024-05-18T13:19:16.019Z"
   },
   {
    "duration": 9,
    "start_time": "2024-05-18T13:19:16.040Z"
   },
   {
    "duration": 519,
    "start_time": "2024-05-18T13:19:16.065Z"
   },
   {
    "duration": 80,
    "start_time": "2024-05-18T13:19:16.588Z"
   },
   {
    "duration": 342,
    "start_time": "2024-05-18T13:19:16.671Z"
   },
   {
    "duration": 1742,
    "start_time": "2024-05-18T13:19:17.016Z"
   },
   {
    "duration": 358,
    "start_time": "2024-05-18T13:19:18.762Z"
   },
   {
    "duration": 0,
    "start_time": "2024-05-18T13:19:19.123Z"
   },
   {
    "duration": 0,
    "start_time": "2024-05-18T13:19:19.125Z"
   },
   {
    "duration": 0,
    "start_time": "2024-05-18T13:19:19.128Z"
   },
   {
    "duration": 0,
    "start_time": "2024-05-18T13:19:19.130Z"
   },
   {
    "duration": 0,
    "start_time": "2024-05-18T13:19:19.132Z"
   },
   {
    "duration": 0,
    "start_time": "2024-05-18T13:19:19.135Z"
   },
   {
    "duration": 0,
    "start_time": "2024-05-18T13:19:19.137Z"
   },
   {
    "duration": 0,
    "start_time": "2024-05-18T13:19:19.139Z"
   },
   {
    "duration": 93,
    "start_time": "2024-05-18T13:21:27.736Z"
   },
   {
    "duration": 6,
    "start_time": "2024-05-18T13:21:37.066Z"
   },
   {
    "duration": 7,
    "start_time": "2024-05-18T13:21:55.485Z"
   },
   {
    "duration": 5,
    "start_time": "2024-05-18T13:22:51.349Z"
   },
   {
    "duration": 1452,
    "start_time": "2024-05-18T13:22:51.358Z"
   },
   {
    "duration": 18,
    "start_time": "2024-05-18T13:22:52.812Z"
   },
   {
    "duration": 16,
    "start_time": "2024-05-18T13:22:52.834Z"
   },
   {
    "duration": 14,
    "start_time": "2024-05-18T13:22:52.856Z"
   },
   {
    "duration": 50,
    "start_time": "2024-05-18T13:22:52.873Z"
   },
   {
    "duration": 13,
    "start_time": "2024-05-18T13:22:52.927Z"
   },
   {
    "duration": 10,
    "start_time": "2024-05-18T13:22:52.942Z"
   },
   {
    "duration": 327,
    "start_time": "2024-05-18T13:22:52.955Z"
   },
   {
    "duration": 25,
    "start_time": "2024-05-18T13:22:53.287Z"
   },
   {
    "duration": 107,
    "start_time": "2024-05-18T13:22:53.315Z"
   },
   {
    "duration": 151,
    "start_time": "2024-05-18T13:22:53.427Z"
   },
   {
    "duration": 60,
    "start_time": "2024-05-18T13:22:53.581Z"
   },
   {
    "duration": 23,
    "start_time": "2024-05-18T13:22:53.644Z"
   },
   {
    "duration": 5,
    "start_time": "2024-05-18T13:22:53.670Z"
   },
   {
    "duration": 65,
    "start_time": "2024-05-18T13:22:53.678Z"
   },
   {
    "duration": 15,
    "start_time": "2024-05-18T13:22:53.745Z"
   },
   {
    "duration": 6,
    "start_time": "2024-05-18T13:22:53.762Z"
   },
   {
    "duration": 45,
    "start_time": "2024-05-18T13:22:53.772Z"
   },
   {
    "duration": 7,
    "start_time": "2024-05-18T13:22:53.822Z"
   },
   {
    "duration": 6,
    "start_time": "2024-05-18T13:22:53.831Z"
   },
   {
    "duration": 1346,
    "start_time": "2024-05-18T13:22:53.840Z"
   },
   {
    "duration": 1123,
    "start_time": "2024-05-18T13:22:55.189Z"
   },
   {
    "duration": 7,
    "start_time": "2024-05-18T13:22:56.316Z"
   },
   {
    "duration": 14,
    "start_time": "2024-05-18T13:22:56.327Z"
   },
   {
    "duration": 14,
    "start_time": "2024-05-18T13:22:56.344Z"
   },
   {
    "duration": 53,
    "start_time": "2024-05-18T13:22:56.362Z"
   },
   {
    "duration": 20,
    "start_time": "2024-05-18T13:22:56.421Z"
   },
   {
    "duration": 10,
    "start_time": "2024-05-18T13:22:56.444Z"
   },
   {
    "duration": 11,
    "start_time": "2024-05-18T13:22:56.457Z"
   },
   {
    "duration": 27,
    "start_time": "2024-05-18T13:22:56.513Z"
   },
   {
    "duration": 71,
    "start_time": "2024-05-18T13:22:56.543Z"
   },
   {
    "duration": 22,
    "start_time": "2024-05-18T13:23:19.173Z"
   },
   {
    "duration": 7,
    "start_time": "2024-05-18T13:30:14.798Z"
   },
   {
    "duration": 635,
    "start_time": "2024-05-18T13:31:21.207Z"
   },
   {
    "duration": 497,
    "start_time": "2024-05-18T13:33:03.169Z"
   },
   {
    "duration": 1235,
    "start_time": "2024-05-18T13:37:52.015Z"
   },
   {
    "duration": 1354,
    "start_time": "2024-05-18T13:38:32.507Z"
   },
   {
    "duration": 1306,
    "start_time": "2024-05-18T13:41:51.985Z"
   },
   {
    "duration": 1342,
    "start_time": "2024-05-18T13:44:25.868Z"
   },
   {
    "duration": 1258,
    "start_time": "2024-05-18T13:44:38.596Z"
   },
   {
    "duration": 1297,
    "start_time": "2024-05-18T13:46:19.779Z"
   },
   {
    "duration": 1294,
    "start_time": "2024-05-18T13:47:31.906Z"
   },
   {
    "duration": 21,
    "start_time": "2024-05-18T13:52:05.653Z"
   },
   {
    "duration": 15,
    "start_time": "2024-05-18T14:00:02.729Z"
   },
   {
    "duration": 20,
    "start_time": "2024-05-18T14:00:30.761Z"
   },
   {
    "duration": 10,
    "start_time": "2024-05-18T14:06:51.791Z"
   },
   {
    "duration": 602,
    "start_time": "2024-05-19T06:05:26.091Z"
   },
   {
    "duration": 32,
    "start_time": "2024-05-19T06:05:36.634Z"
   },
   {
    "duration": 5366,
    "start_time": "2024-05-19T06:05:51.878Z"
   },
   {
    "duration": 3086,
    "start_time": "2024-05-19T06:05:57.255Z"
   },
   {
    "duration": 24,
    "start_time": "2024-05-19T06:06:00.343Z"
   },
   {
    "duration": 29,
    "start_time": "2024-05-19T06:06:00.373Z"
   },
   {
    "duration": 23,
    "start_time": "2024-05-19T06:06:00.413Z"
   },
   {
    "duration": 18,
    "start_time": "2024-05-19T06:06:00.445Z"
   },
   {
    "duration": 15,
    "start_time": "2024-05-19T06:06:00.472Z"
   },
   {
    "duration": 16,
    "start_time": "2024-05-19T06:06:00.496Z"
   },
   {
    "duration": 339,
    "start_time": "2024-05-19T06:06:00.521Z"
   },
   {
    "duration": 20,
    "start_time": "2024-05-19T06:06:00.869Z"
   },
   {
    "duration": 140,
    "start_time": "2024-05-19T06:06:00.898Z"
   },
   {
    "duration": 208,
    "start_time": "2024-05-19T06:06:01.049Z"
   },
   {
    "duration": 60,
    "start_time": "2024-05-19T06:06:01.266Z"
   },
   {
    "duration": 31,
    "start_time": "2024-05-19T06:06:01.338Z"
   },
   {
    "duration": 10,
    "start_time": "2024-05-19T06:06:01.378Z"
   },
   {
    "duration": 72,
    "start_time": "2024-05-19T06:06:01.398Z"
   },
   {
    "duration": 17,
    "start_time": "2024-05-19T06:06:01.473Z"
   },
   {
    "duration": 6,
    "start_time": "2024-05-19T06:06:01.493Z"
   },
   {
    "duration": 6,
    "start_time": "2024-05-19T06:06:01.502Z"
   },
   {
    "duration": 7,
    "start_time": "2024-05-19T06:06:01.510Z"
   },
   {
    "duration": 7,
    "start_time": "2024-05-19T06:06:01.521Z"
   },
   {
    "duration": 1593,
    "start_time": "2024-05-19T06:06:01.534Z"
   },
   {
    "duration": 1296,
    "start_time": "2024-05-19T06:06:03.132Z"
   },
   {
    "duration": 13,
    "start_time": "2024-05-19T06:06:04.436Z"
   },
   {
    "duration": 19,
    "start_time": "2024-05-19T06:06:04.458Z"
   },
   {
    "duration": 19,
    "start_time": "2024-05-19T06:06:04.486Z"
   },
   {
    "duration": 15,
    "start_time": "2024-05-19T06:06:04.514Z"
   },
   {
    "duration": 29,
    "start_time": "2024-05-19T06:06:04.537Z"
   },
   {
    "duration": 15,
    "start_time": "2024-05-19T06:06:04.575Z"
   },
   {
    "duration": 14,
    "start_time": "2024-05-19T06:06:04.600Z"
   },
   {
    "duration": 39,
    "start_time": "2024-05-19T06:06:04.624Z"
   },
   {
    "duration": 68,
    "start_time": "2024-05-19T06:06:04.672Z"
   },
   {
    "duration": 31,
    "start_time": "2024-05-19T06:06:06.919Z"
   },
   {
    "duration": 94,
    "start_time": "2024-05-19T06:06:20.501Z"
   },
   {
    "duration": 18,
    "start_time": "2024-05-19T06:06:27.869Z"
   },
   {
    "duration": 27,
    "start_time": "2024-05-19T06:17:44.040Z"
   },
   {
    "duration": 871,
    "start_time": "2024-05-19T06:17:52.908Z"
   },
   {
    "duration": 2359,
    "start_time": "2024-05-19T06:17:53.789Z"
   },
   {
    "duration": 34,
    "start_time": "2024-05-19T06:17:56.158Z"
   },
   {
    "duration": 31,
    "start_time": "2024-05-19T06:17:56.213Z"
   },
   {
    "duration": 31,
    "start_time": "2024-05-19T06:17:56.253Z"
   },
   {
    "duration": 49,
    "start_time": "2024-05-19T06:17:56.300Z"
   },
   {
    "duration": 19,
    "start_time": "2024-05-19T06:17:56.364Z"
   },
   {
    "duration": 32,
    "start_time": "2024-05-19T06:17:56.399Z"
   },
   {
    "duration": 374,
    "start_time": "2024-05-19T06:17:56.447Z"
   },
   {
    "duration": 23,
    "start_time": "2024-05-19T06:17:56.836Z"
   },
   {
    "duration": 144,
    "start_time": "2024-05-19T06:17:56.872Z"
   },
   {
    "duration": 223,
    "start_time": "2024-05-19T06:17:57.026Z"
   },
   {
    "duration": 71,
    "start_time": "2024-05-19T06:17:57.259Z"
   },
   {
    "duration": 38,
    "start_time": "2024-05-19T06:17:57.340Z"
   },
   {
    "duration": 12,
    "start_time": "2024-05-19T06:17:57.389Z"
   },
   {
    "duration": 61,
    "start_time": "2024-05-19T06:17:57.415Z"
   },
   {
    "duration": 20,
    "start_time": "2024-05-19T06:17:57.486Z"
   },
   {
    "duration": 11,
    "start_time": "2024-05-19T06:17:57.516Z"
   },
   {
    "duration": 11,
    "start_time": "2024-05-19T06:17:57.539Z"
   },
   {
    "duration": 10,
    "start_time": "2024-05-19T06:17:57.556Z"
   },
   {
    "duration": 9,
    "start_time": "2024-05-19T06:17:57.571Z"
   },
   {
    "duration": 1619,
    "start_time": "2024-05-19T06:17:57.583Z"
   },
   {
    "duration": 1358,
    "start_time": "2024-05-19T06:17:59.212Z"
   },
   {
    "duration": 14,
    "start_time": "2024-05-19T06:18:00.580Z"
   },
   {
    "duration": 23,
    "start_time": "2024-05-19T06:18:00.605Z"
   },
   {
    "duration": 25,
    "start_time": "2024-05-19T06:18:00.639Z"
   },
   {
    "duration": 17,
    "start_time": "2024-05-19T06:18:00.673Z"
   },
   {
    "duration": 30,
    "start_time": "2024-05-19T06:18:00.706Z"
   },
   {
    "duration": 17,
    "start_time": "2024-05-19T06:18:00.746Z"
   },
   {
    "duration": 16,
    "start_time": "2024-05-19T06:18:00.772Z"
   },
   {
    "duration": 40,
    "start_time": "2024-05-19T06:18:00.798Z"
   },
   {
    "duration": 69,
    "start_time": "2024-05-19T06:18:00.847Z"
   },
   {
    "duration": 31,
    "start_time": "2024-05-19T06:18:00.927Z"
   },
   {
    "duration": 1652,
    "start_time": "2024-05-19T06:18:00.969Z"
   },
   {
    "duration": 38,
    "start_time": "2024-05-19T06:18:02.631Z"
   },
   {
    "duration": 628,
    "start_time": "2024-05-19T06:18:02.679Z"
   },
   {
    "duration": 100,
    "start_time": "2024-05-19T06:18:03.327Z"
   },
   {
    "duration": 15,
    "start_time": "2024-05-19T06:18:03.436Z"
   },
   {
    "duration": 16,
    "start_time": "2024-05-19T06:18:03.460Z"
   },
   {
    "duration": 345,
    "start_time": "2024-05-19T06:18:03.486Z"
   },
   {
    "duration": 286,
    "start_time": "2024-05-19T06:18:03.840Z"
   },
   {
    "duration": 384,
    "start_time": "2024-05-19T06:18:04.135Z"
   },
   {
    "duration": 17,
    "start_time": "2024-05-19T06:18:04.530Z"
   },
   {
    "duration": 18,
    "start_time": "2024-05-19T06:18:04.558Z"
   },
   {
    "duration": 14,
    "start_time": "2024-05-19T06:18:04.586Z"
   },
   {
    "duration": 539,
    "start_time": "2024-05-19T06:18:04.610Z"
   },
   {
    "duration": 85,
    "start_time": "2024-05-19T06:18:05.158Z"
   },
   {
    "duration": 420,
    "start_time": "2024-05-19T06:18:05.254Z"
   },
   {
    "duration": 2212,
    "start_time": "2024-05-19T06:18:05.686Z"
   },
   {
    "duration": 10,
    "start_time": "2024-05-19T06:18:07.907Z"
   },
   {
    "duration": 498,
    "start_time": "2024-05-19T06:18:07.928Z"
   },
   {
    "duration": 0,
    "start_time": "2024-05-19T06:18:08.436Z"
   },
   {
    "duration": 0,
    "start_time": "2024-05-19T06:18:08.445Z"
   },
   {
    "duration": 0,
    "start_time": "2024-05-19T06:18:08.449Z"
   },
   {
    "duration": 0,
    "start_time": "2024-05-19T06:18:08.456Z"
   },
   {
    "duration": 0,
    "start_time": "2024-05-19T06:18:08.459Z"
   },
   {
    "duration": 0,
    "start_time": "2024-05-19T06:18:08.461Z"
   },
   {
    "duration": 0,
    "start_time": "2024-05-19T06:18:08.467Z"
   },
   {
    "duration": 0,
    "start_time": "2024-05-19T06:18:08.469Z"
   },
   {
    "duration": 487,
    "start_time": "2024-05-19T06:25:16.387Z"
   },
   {
    "duration": 65,
    "start_time": "2024-05-19T06:25:35.928Z"
   },
   {
    "duration": 698,
    "start_time": "2024-05-19T06:25:41.407Z"
   },
   {
    "duration": 525,
    "start_time": "2024-05-19T06:28:31.649Z"
   },
   {
    "duration": 279,
    "start_time": "2024-05-19T06:28:37.005Z"
   },
   {
    "duration": 221,
    "start_time": "2024-05-19T06:28:55.247Z"
   },
   {
    "duration": 573,
    "start_time": "2024-05-19T06:32:14.060Z"
   },
   {
    "duration": 1904,
    "start_time": "2024-05-19T06:32:32.700Z"
   },
   {
    "duration": 549,
    "start_time": "2024-05-19T06:32:50.173Z"
   },
   {
    "duration": 559,
    "start_time": "2024-05-19T06:33:05.209Z"
   },
   {
    "duration": 612,
    "start_time": "2024-05-19T06:33:35.332Z"
   },
   {
    "duration": 584,
    "start_time": "2024-05-19T06:33:52.232Z"
   },
   {
    "duration": 548,
    "start_time": "2024-05-19T06:34:24.592Z"
   },
   {
    "duration": 548,
    "start_time": "2024-05-19T06:34:42.654Z"
   },
   {
    "duration": 528,
    "start_time": "2024-05-19T06:35:49.166Z"
   },
   {
    "duration": 517,
    "start_time": "2024-05-19T06:42:09.548Z"
   },
   {
    "duration": 24,
    "start_time": "2024-05-19T06:42:12.132Z"
   },
   {
    "duration": 5,
    "start_time": "2024-05-19T06:42:45.654Z"
   },
   {
    "duration": 531,
    "start_time": "2024-05-19T06:42:54.461Z"
   },
   {
    "duration": 4,
    "start_time": "2024-05-19T06:42:55.766Z"
   },
   {
    "duration": 6,
    "start_time": "2024-05-19T06:42:57.474Z"
   },
   {
    "duration": 1283,
    "start_time": "2024-05-19T06:45:56.839Z"
   },
   {
    "duration": 1399,
    "start_time": "2024-05-19T06:46:12.517Z"
   },
   {
    "duration": 4,
    "start_time": "2024-05-19T06:47:19.094Z"
   },
   {
    "duration": 2310,
    "start_time": "2024-05-19T06:47:40.356Z"
   },
   {
    "duration": 1502,
    "start_time": "2024-05-19T06:48:05.303Z"
   },
   {
    "duration": 1460,
    "start_time": "2024-05-19T06:49:12.273Z"
   },
   {
    "duration": 1965,
    "start_time": "2024-05-19T06:49:48.857Z"
   },
   {
    "duration": 524,
    "start_time": "2024-05-19T06:50:09.371Z"
   },
   {
    "duration": 44,
    "start_time": "2024-05-19T06:50:13.260Z"
   },
   {
    "duration": 46,
    "start_time": "2024-05-19T06:51:47.683Z"
   },
   {
    "duration": 1251,
    "start_time": "2024-05-19T06:51:57.409Z"
   },
   {
    "duration": 2376,
    "start_time": "2024-05-19T06:51:58.665Z"
   },
   {
    "duration": 37,
    "start_time": "2024-05-19T06:52:01.046Z"
   },
   {
    "duration": 41,
    "start_time": "2024-05-19T06:52:01.089Z"
   },
   {
    "duration": 23,
    "start_time": "2024-05-19T06:52:01.135Z"
   },
   {
    "duration": 56,
    "start_time": "2024-05-19T06:52:01.163Z"
   },
   {
    "duration": 35,
    "start_time": "2024-05-19T06:52:01.224Z"
   },
   {
    "duration": 25,
    "start_time": "2024-05-19T06:52:01.274Z"
   },
   {
    "duration": 654,
    "start_time": "2024-05-19T06:52:01.316Z"
   },
   {
    "duration": 33,
    "start_time": "2024-05-19T06:52:01.989Z"
   },
   {
    "duration": 224,
    "start_time": "2024-05-19T06:52:02.037Z"
   },
   {
    "duration": 359,
    "start_time": "2024-05-19T06:52:02.275Z"
   },
   {
    "duration": 107,
    "start_time": "2024-05-19T06:52:02.649Z"
   },
   {
    "duration": 76,
    "start_time": "2024-05-19T06:52:02.770Z"
   },
   {
    "duration": 16,
    "start_time": "2024-05-19T06:52:02.861Z"
   },
   {
    "duration": 82,
    "start_time": "2024-05-19T06:52:02.888Z"
   },
   {
    "duration": 37,
    "start_time": "2024-05-19T06:52:02.985Z"
   },
   {
    "duration": 17,
    "start_time": "2024-05-19T06:52:03.036Z"
   },
   {
    "duration": 15,
    "start_time": "2024-05-19T06:52:03.062Z"
   },
   {
    "duration": 17,
    "start_time": "2024-05-19T06:52:03.085Z"
   },
   {
    "duration": 18,
    "start_time": "2024-05-19T06:52:03.110Z"
   },
   {
    "duration": 2741,
    "start_time": "2024-05-19T06:52:03.133Z"
   },
   {
    "duration": 2531,
    "start_time": "2024-05-19T06:52:05.880Z"
   },
   {
    "duration": 26,
    "start_time": "2024-05-19T06:52:08.425Z"
   },
   {
    "duration": 22,
    "start_time": "2024-05-19T06:52:08.465Z"
   },
   {
    "duration": 36,
    "start_time": "2024-05-19T06:52:08.496Z"
   },
   {
    "duration": 28,
    "start_time": "2024-05-19T06:52:08.545Z"
   },
   {
    "duration": 41,
    "start_time": "2024-05-19T06:52:08.595Z"
   },
   {
    "duration": 23,
    "start_time": "2024-05-19T06:52:08.651Z"
   },
   {
    "duration": 24,
    "start_time": "2024-05-19T06:52:08.688Z"
   },
   {
    "duration": 51,
    "start_time": "2024-05-19T06:52:08.728Z"
   },
   {
    "duration": 97,
    "start_time": "2024-05-19T06:52:08.793Z"
   },
   {
    "duration": 48,
    "start_time": "2024-05-19T06:52:08.905Z"
   },
   {
    "duration": 2916,
    "start_time": "2024-05-19T06:52:08.968Z"
   },
   {
    "duration": 44,
    "start_time": "2024-05-19T06:52:11.897Z"
   },
   {
    "duration": 1119,
    "start_time": "2024-05-19T06:52:11.956Z"
   },
   {
    "duration": 125,
    "start_time": "2024-05-19T06:52:13.089Z"
   },
   {
    "duration": 21,
    "start_time": "2024-05-19T06:52:13.230Z"
   },
   {
    "duration": 22,
    "start_time": "2024-05-19T06:52:13.273Z"
   },
   {
    "duration": 454,
    "start_time": "2024-05-19T06:52:13.309Z"
   },
   {
    "duration": 400,
    "start_time": "2024-05-19T06:52:13.780Z"
   },
   {
    "duration": 525,
    "start_time": "2024-05-19T06:52:14.197Z"
   },
   {
    "duration": 25,
    "start_time": "2024-05-19T06:52:14.738Z"
   },
   {
    "duration": 25,
    "start_time": "2024-05-19T06:52:14.778Z"
   },
   {
    "duration": 23,
    "start_time": "2024-05-19T06:52:14.819Z"
   },
   {
    "duration": 717,
    "start_time": "2024-05-19T06:52:14.861Z"
   },
   {
    "duration": 147,
    "start_time": "2024-05-19T06:52:15.592Z"
   },
   {
    "duration": 641,
    "start_time": "2024-05-19T06:52:15.758Z"
   },
   {
    "duration": 3463,
    "start_time": "2024-05-19T06:52:16.413Z"
   },
   {
    "duration": 16,
    "start_time": "2024-05-19T06:52:19.890Z"
   },
   {
    "duration": 2631,
    "start_time": "2024-05-19T06:52:19.917Z"
   },
   {
    "duration": 0,
    "start_time": "2024-05-19T06:52:22.561Z"
   },
   {
    "duration": 0,
    "start_time": "2024-05-19T06:52:22.567Z"
   },
   {
    "duration": 0,
    "start_time": "2024-05-19T06:52:22.573Z"
   },
   {
    "duration": 0,
    "start_time": "2024-05-19T06:52:22.577Z"
   },
   {
    "duration": 0,
    "start_time": "2024-05-19T06:52:22.579Z"
   },
   {
    "duration": 0,
    "start_time": "2024-05-19T06:52:22.580Z"
   },
   {
    "duration": 0,
    "start_time": "2024-05-19T06:52:22.585Z"
   },
   {
    "duration": 0,
    "start_time": "2024-05-19T06:52:22.593Z"
   },
   {
    "duration": 0,
    "start_time": "2024-05-19T06:52:22.598Z"
   },
   {
    "duration": 0,
    "start_time": "2024-05-19T06:52:22.604Z"
   },
   {
    "duration": 0,
    "start_time": "2024-05-19T06:52:22.615Z"
   },
   {
    "duration": 1066,
    "start_time": "2024-05-19T06:52:28.841Z"
   },
   {
    "duration": 53,
    "start_time": "2024-05-19T06:57:06.210Z"
   },
   {
    "duration": 97,
    "start_time": "2024-05-19T06:58:16.411Z"
   },
   {
    "duration": 5117,
    "start_time": "2024-05-19T06:58:43.951Z"
   },
   {
    "duration": 684,
    "start_time": "2024-05-19T06:59:05.198Z"
   },
   {
    "duration": 5458,
    "start_time": "2024-05-19T07:04:10.008Z"
   },
   {
    "duration": 5167,
    "start_time": "2024-05-19T07:04:26.282Z"
   },
   {
    "duration": 4956,
    "start_time": "2024-05-19T07:05:28.869Z"
   },
   {
    "duration": 4451,
    "start_time": "2024-05-19T07:06:16.035Z"
   },
   {
    "duration": 5830,
    "start_time": "2024-05-19T07:07:09.912Z"
   },
   {
    "duration": 4975,
    "start_time": "2024-05-19T07:08:01.620Z"
   },
   {
    "duration": 5024,
    "start_time": "2024-05-19T07:08:18.126Z"
   },
   {
    "duration": 308,
    "start_time": "2024-05-19T17:37:11.941Z"
   },
   {
    "duration": 4633,
    "start_time": "2024-05-19T17:37:20.900Z"
   },
   {
    "duration": 1750,
    "start_time": "2024-05-19T17:37:25.537Z"
   },
   {
    "duration": 35,
    "start_time": "2024-05-19T17:37:27.290Z"
   },
   {
    "duration": 20,
    "start_time": "2024-05-19T17:37:27.332Z"
   },
   {
    "duration": 17,
    "start_time": "2024-05-19T17:37:27.355Z"
   },
   {
    "duration": 40,
    "start_time": "2024-05-19T17:37:27.376Z"
   },
   {
    "duration": 13,
    "start_time": "2024-05-19T17:37:27.419Z"
   },
   {
    "duration": 13,
    "start_time": "2024-05-19T17:37:27.436Z"
   },
   {
    "duration": 352,
    "start_time": "2024-05-19T17:37:27.452Z"
   },
   {
    "duration": 17,
    "start_time": "2024-05-19T17:37:27.811Z"
   },
   {
    "duration": 157,
    "start_time": "2024-05-19T17:37:27.831Z"
   },
   {
    "duration": 207,
    "start_time": "2024-05-19T17:37:27.991Z"
   },
   {
    "duration": 55,
    "start_time": "2024-05-19T17:37:28.201Z"
   },
   {
    "duration": 29,
    "start_time": "2024-05-19T17:37:28.260Z"
   },
   {
    "duration": 23,
    "start_time": "2024-05-19T17:37:28.292Z"
   },
   {
    "duration": 43,
    "start_time": "2024-05-19T17:37:28.319Z"
   },
   {
    "duration": 49,
    "start_time": "2024-05-19T17:37:28.366Z"
   },
   {
    "duration": 12,
    "start_time": "2024-05-19T17:37:28.418Z"
   },
   {
    "duration": 7,
    "start_time": "2024-05-19T17:37:28.433Z"
   },
   {
    "duration": 6,
    "start_time": "2024-05-19T17:37:28.444Z"
   },
   {
    "duration": 7,
    "start_time": "2024-05-19T17:37:28.453Z"
   },
   {
    "duration": 1423,
    "start_time": "2024-05-19T17:37:28.462Z"
   },
   {
    "duration": 1151,
    "start_time": "2024-05-19T17:37:29.888Z"
   },
   {
    "duration": 8,
    "start_time": "2024-05-19T17:37:31.042Z"
   },
   {
    "duration": 15,
    "start_time": "2024-05-19T17:37:31.053Z"
   },
   {
    "duration": 49,
    "start_time": "2024-05-19T17:37:31.072Z"
   },
   {
    "duration": 11,
    "start_time": "2024-05-19T17:37:31.124Z"
   },
   {
    "duration": 24,
    "start_time": "2024-05-19T17:37:31.143Z"
   },
   {
    "duration": 48,
    "start_time": "2024-05-19T17:37:31.171Z"
   },
   {
    "duration": 16,
    "start_time": "2024-05-19T17:37:31.222Z"
   },
   {
    "duration": 30,
    "start_time": "2024-05-19T17:37:31.242Z"
   },
   {
    "duration": 86,
    "start_time": "2024-05-19T17:37:31.274Z"
   },
   {
    "duration": 48,
    "start_time": "2024-05-19T17:37:31.364Z"
   },
   {
    "duration": 1471,
    "start_time": "2024-05-19T17:37:31.416Z"
   },
   {
    "duration": 35,
    "start_time": "2024-05-19T17:37:32.890Z"
   },
   {
    "duration": 551,
    "start_time": "2024-05-19T17:37:32.932Z"
   },
   {
    "duration": 93,
    "start_time": "2024-05-19T17:37:33.486Z"
   },
   {
    "duration": 10,
    "start_time": "2024-05-19T17:37:33.582Z"
   },
   {
    "duration": 30,
    "start_time": "2024-05-19T17:37:33.594Z"
   },
   {
    "duration": 302,
    "start_time": "2024-05-19T17:37:33.627Z"
   },
   {
    "duration": 233,
    "start_time": "2024-05-19T17:37:33.933Z"
   },
   {
    "duration": 359,
    "start_time": "2024-05-19T17:37:34.169Z"
   },
   {
    "duration": 14,
    "start_time": "2024-05-19T17:37:34.531Z"
   },
   {
    "duration": 16,
    "start_time": "2024-05-19T17:37:34.548Z"
   },
   {
    "duration": 46,
    "start_time": "2024-05-19T17:37:34.567Z"
   },
   {
    "duration": 423,
    "start_time": "2024-05-19T17:37:34.616Z"
   },
   {
    "duration": 77,
    "start_time": "2024-05-19T17:37:35.042Z"
   },
   {
    "duration": 330,
    "start_time": "2024-05-19T17:37:35.122Z"
   },
   {
    "duration": 1734,
    "start_time": "2024-05-19T17:37:35.455Z"
   },
   {
    "duration": 6,
    "start_time": "2024-05-19T17:37:37.191Z"
   },
   {
    "duration": 2346,
    "start_time": "2024-05-19T17:37:37.213Z"
   },
   {
    "duration": 0,
    "start_time": "2024-05-19T17:37:39.563Z"
   },
   {
    "duration": 0,
    "start_time": "2024-05-19T17:37:39.565Z"
   },
   {
    "duration": 0,
    "start_time": "2024-05-19T17:37:39.568Z"
   },
   {
    "duration": 0,
    "start_time": "2024-05-19T17:37:39.570Z"
   },
   {
    "duration": 0,
    "start_time": "2024-05-19T17:37:39.573Z"
   },
   {
    "duration": 0,
    "start_time": "2024-05-19T17:37:39.575Z"
   },
   {
    "duration": 0,
    "start_time": "2024-05-19T17:37:39.577Z"
   },
   {
    "duration": 0,
    "start_time": "2024-05-19T17:37:39.580Z"
   },
   {
    "duration": 0,
    "start_time": "2024-05-19T17:37:39.582Z"
   },
   {
    "duration": 0,
    "start_time": "2024-05-19T17:37:39.613Z"
   },
   {
    "duration": 0,
    "start_time": "2024-05-19T17:37:39.615Z"
   },
   {
    "duration": 0,
    "start_time": "2024-05-19T17:37:39.617Z"
   },
   {
    "duration": 2678,
    "start_time": "2024-05-19T17:39:07.641Z"
   },
   {
    "duration": 2022,
    "start_time": "2024-05-19T17:39:44.457Z"
   },
   {
    "duration": 1890,
    "start_time": "2024-05-19T17:46:14.378Z"
   },
   {
    "duration": 2178,
    "start_time": "2024-05-19T17:46:42.743Z"
   },
   {
    "duration": 1698,
    "start_time": "2024-05-19T17:51:05.515Z"
   },
   {
    "duration": 237,
    "start_time": "2024-05-19T17:51:09.701Z"
   },
   {
    "duration": 2184,
    "start_time": "2024-05-19T17:51:34.707Z"
   },
   {
    "duration": 1992,
    "start_time": "2024-05-19T17:51:53.782Z"
   },
   {
    "duration": 3104,
    "start_time": "2024-05-19T17:53:19.020Z"
   },
   {
    "duration": 2700,
    "start_time": "2024-05-19T17:53:41.414Z"
   },
   {
    "duration": 1797,
    "start_time": "2024-05-19T18:11:54.815Z"
   },
   {
    "duration": 1880,
    "start_time": "2024-05-19T18:13:16.820Z"
   },
   {
    "duration": 2670,
    "start_time": "2024-05-19T18:14:35.688Z"
   },
   {
    "duration": 3954,
    "start_time": "2024-05-19T18:14:49.015Z"
   },
   {
    "duration": 3914,
    "start_time": "2024-05-19T18:16:05.635Z"
   },
   {
    "duration": 5986,
    "start_time": "2024-05-19T18:16:17.696Z"
   },
   {
    "duration": 6237,
    "start_time": "2024-05-19T18:17:24.687Z"
   },
   {
    "duration": 6044,
    "start_time": "2024-05-19T18:20:42.845Z"
   },
   {
    "duration": 7054,
    "start_time": "2024-05-19T18:23:40.974Z"
   },
   {
    "duration": 6107,
    "start_time": "2024-05-19T18:25:19.838Z"
   },
   {
    "duration": 523,
    "start_time": "2024-05-19T18:56:31.637Z"
   },
   {
    "duration": 432,
    "start_time": "2024-05-19T18:57:07.417Z"
   },
   {
    "duration": 410,
    "start_time": "2024-05-19T19:00:42.503Z"
   },
   {
    "duration": 403,
    "start_time": "2024-05-19T19:01:02.869Z"
   },
   {
    "duration": 417,
    "start_time": "2024-05-19T19:01:59.531Z"
   },
   {
    "duration": 450,
    "start_time": "2024-05-19T19:02:08.755Z"
   },
   {
    "duration": 408,
    "start_time": "2024-05-19T19:02:25.262Z"
   },
   {
    "duration": 3525,
    "start_time": "2024-05-19T19:04:09.168Z"
   },
   {
    "duration": 559,
    "start_time": "2024-05-19T19:04:29.168Z"
   },
   {
    "duration": 3586,
    "start_time": "2024-05-19T19:05:02.882Z"
   },
   {
    "duration": 3430,
    "start_time": "2024-05-19T19:05:33.177Z"
   },
   {
    "duration": 3512,
    "start_time": "2024-05-19T19:06:06.290Z"
   },
   {
    "duration": 1519,
    "start_time": "2024-05-19T19:27:06.358Z"
   },
   {
    "duration": 4,
    "start_time": "2024-05-19T19:27:19.873Z"
   },
   {
    "duration": 1457,
    "start_time": "2024-05-19T19:27:19.881Z"
   },
   {
    "duration": 18,
    "start_time": "2024-05-19T19:27:21.342Z"
   },
   {
    "duration": 16,
    "start_time": "2024-05-19T19:27:21.365Z"
   },
   {
    "duration": 39,
    "start_time": "2024-05-19T19:27:21.384Z"
   },
   {
    "duration": 14,
    "start_time": "2024-05-19T19:27:21.426Z"
   },
   {
    "duration": 12,
    "start_time": "2024-05-19T19:27:21.443Z"
   },
   {
    "duration": 9,
    "start_time": "2024-05-19T19:27:21.458Z"
   },
   {
    "duration": 275,
    "start_time": "2024-05-19T19:27:21.516Z"
   },
   {
    "duration": 20,
    "start_time": "2024-05-19T19:27:21.794Z"
   },
   {
    "duration": 102,
    "start_time": "2024-05-19T19:27:21.817Z"
   },
   {
    "duration": 173,
    "start_time": "2024-05-19T19:27:21.922Z"
   },
   {
    "duration": 41,
    "start_time": "2024-05-19T19:27:22.098Z"
   },
   {
    "duration": 26,
    "start_time": "2024-05-19T19:27:22.142Z"
   },
   {
    "duration": 7,
    "start_time": "2024-05-19T19:27:22.171Z"
   },
   {
    "duration": 38,
    "start_time": "2024-05-19T19:27:22.213Z"
   },
   {
    "duration": 13,
    "start_time": "2024-05-19T19:27:22.254Z"
   },
   {
    "duration": 5,
    "start_time": "2024-05-19T19:27:22.270Z"
   },
   {
    "duration": 37,
    "start_time": "2024-05-19T19:27:22.278Z"
   },
   {
    "duration": 7,
    "start_time": "2024-05-19T19:27:22.318Z"
   },
   {
    "duration": 10,
    "start_time": "2024-05-19T19:27:22.328Z"
   },
   {
    "duration": 1227,
    "start_time": "2024-05-19T19:27:22.342Z"
   },
   {
    "duration": 1026,
    "start_time": "2024-05-19T19:27:23.572Z"
   },
   {
    "duration": 7,
    "start_time": "2024-05-19T19:27:24.613Z"
   },
   {
    "duration": 14,
    "start_time": "2024-05-19T19:27:24.624Z"
   },
   {
    "duration": 14,
    "start_time": "2024-05-19T19:27:24.641Z"
   },
   {
    "duration": 54,
    "start_time": "2024-05-19T19:27:24.658Z"
   },
   {
    "duration": 21,
    "start_time": "2024-05-19T19:27:24.715Z"
   },
   {
    "duration": 10,
    "start_time": "2024-05-19T19:27:24.739Z"
   },
   {
    "duration": 9,
    "start_time": "2024-05-19T19:27:24.752Z"
   },
   {
    "duration": 67,
    "start_time": "2024-05-19T19:27:24.763Z"
   },
   {
    "duration": 47,
    "start_time": "2024-05-19T19:27:24.834Z"
   },
   {
    "duration": 49,
    "start_time": "2024-05-19T19:27:24.883Z"
   },
   {
    "duration": 1200,
    "start_time": "2024-05-19T19:27:24.936Z"
   },
   {
    "duration": 21,
    "start_time": "2024-05-19T19:27:26.140Z"
   },
   {
    "duration": 466,
    "start_time": "2024-05-19T19:27:26.164Z"
   },
   {
    "duration": 85,
    "start_time": "2024-05-19T19:27:26.632Z"
   },
   {
    "duration": 23,
    "start_time": "2024-05-19T19:27:26.720Z"
   },
   {
    "duration": 9,
    "start_time": "2024-05-19T19:27:26.746Z"
   },
   {
    "duration": 268,
    "start_time": "2024-05-19T19:27:26.758Z"
   },
   {
    "duration": 237,
    "start_time": "2024-05-19T19:27:27.028Z"
   },
   {
    "duration": 306,
    "start_time": "2024-05-19T19:27:27.269Z"
   },
   {
    "duration": 12,
    "start_time": "2024-05-19T19:27:27.578Z"
   },
   {
    "duration": 29,
    "start_time": "2024-05-19T19:27:27.593Z"
   },
   {
    "duration": 10,
    "start_time": "2024-05-19T19:27:27.625Z"
   },
   {
    "duration": 547,
    "start_time": "2024-05-19T19:27:27.638Z"
   },
   {
    "duration": 82,
    "start_time": "2024-05-19T19:27:28.188Z"
   },
   {
    "duration": 333,
    "start_time": "2024-05-19T19:27:28.273Z"
   },
   {
    "duration": 1686,
    "start_time": "2024-05-19T19:27:28.611Z"
   },
   {
    "duration": 446,
    "start_time": "2024-05-19T19:27:30.299Z"
   },
   {
    "duration": 1615,
    "start_time": "2024-05-19T19:27:36.364Z"
   },
   {
    "duration": 1826,
    "start_time": "2024-05-19T19:28:14.509Z"
   },
   {
    "duration": 1790,
    "start_time": "2024-05-19T19:36:47.478Z"
   },
   {
    "duration": 1744,
    "start_time": "2024-05-19T19:37:05.895Z"
   },
   {
    "duration": 2120,
    "start_time": "2024-05-19T19:45:57.507Z"
   },
   {
    "duration": 1938,
    "start_time": "2024-05-19T19:46:53.222Z"
   },
   {
    "duration": 1988,
    "start_time": "2024-05-19T19:47:09.351Z"
   },
   {
    "duration": 1883,
    "start_time": "2024-05-19T19:48:28.036Z"
   },
   {
    "duration": 2072,
    "start_time": "2024-05-19T19:48:46.037Z"
   },
   {
    "duration": 305,
    "start_time": "2024-05-19T21:49:04.051Z"
   },
   {
    "duration": 4417,
    "start_time": "2024-05-19T21:49:22.310Z"
   },
   {
    "duration": 1736,
    "start_time": "2024-05-19T21:49:26.730Z"
   },
   {
    "duration": 18,
    "start_time": "2024-05-19T21:49:28.469Z"
   },
   {
    "duration": 17,
    "start_time": "2024-05-19T21:49:28.503Z"
   },
   {
    "duration": 13,
    "start_time": "2024-05-19T21:49:28.525Z"
   },
   {
    "duration": 14,
    "start_time": "2024-05-19T21:49:28.541Z"
   },
   {
    "duration": 52,
    "start_time": "2024-05-19T21:49:28.559Z"
   },
   {
    "duration": 11,
    "start_time": "2024-05-19T21:49:28.614Z"
   },
   {
    "duration": 305,
    "start_time": "2024-05-19T21:49:28.629Z"
   },
   {
    "duration": 16,
    "start_time": "2024-05-19T21:49:28.936Z"
   },
   {
    "duration": 137,
    "start_time": "2024-05-19T21:49:28.955Z"
   },
   {
    "duration": 177,
    "start_time": "2024-05-19T21:49:29.095Z"
   },
   {
    "duration": 51,
    "start_time": "2024-05-19T21:49:29.277Z"
   },
   {
    "duration": 23,
    "start_time": "2024-05-19T21:49:29.336Z"
   },
   {
    "duration": 7,
    "start_time": "2024-05-19T21:49:29.363Z"
   },
   {
    "duration": 44,
    "start_time": "2024-05-19T21:49:29.401Z"
   },
   {
    "duration": 14,
    "start_time": "2024-05-19T21:49:29.448Z"
   },
   {
    "duration": 36,
    "start_time": "2024-05-19T21:49:29.465Z"
   },
   {
    "duration": 5,
    "start_time": "2024-05-19T21:49:29.505Z"
   },
   {
    "duration": 5,
    "start_time": "2024-05-19T21:49:29.514Z"
   },
   {
    "duration": 6,
    "start_time": "2024-05-19T21:49:29.522Z"
   },
   {
    "duration": 1397,
    "start_time": "2024-05-19T21:49:29.531Z"
   },
   {
    "duration": 1164,
    "start_time": "2024-05-19T21:49:30.931Z"
   },
   {
    "duration": 7,
    "start_time": "2024-05-19T21:49:32.101Z"
   },
   {
    "duration": 13,
    "start_time": "2024-05-19T21:49:32.112Z"
   },
   {
    "duration": 15,
    "start_time": "2024-05-19T21:49:32.128Z"
   },
   {
    "duration": 11,
    "start_time": "2024-05-19T21:49:32.149Z"
   },
   {
    "duration": 21,
    "start_time": "2024-05-19T21:49:32.203Z"
   },
   {
    "duration": 10,
    "start_time": "2024-05-19T21:49:32.227Z"
   },
   {
    "duration": 10,
    "start_time": "2024-05-19T21:49:32.239Z"
   },
   {
    "duration": 67,
    "start_time": "2024-05-19T21:49:32.251Z"
   },
   {
    "duration": 48,
    "start_time": "2024-05-19T21:49:32.321Z"
   },
   {
    "duration": 22,
    "start_time": "2024-05-19T21:49:32.401Z"
   },
   {
    "duration": 1547,
    "start_time": "2024-05-19T21:49:32.426Z"
   },
   {
    "duration": 38,
    "start_time": "2024-05-19T21:49:33.976Z"
   },
   {
    "duration": 519,
    "start_time": "2024-05-19T21:49:34.017Z"
   },
   {
    "duration": 82,
    "start_time": "2024-05-19T21:49:34.538Z"
   },
   {
    "duration": 9,
    "start_time": "2024-05-19T21:49:34.624Z"
   },
   {
    "duration": 10,
    "start_time": "2024-05-19T21:49:34.636Z"
   },
   {
    "duration": 302,
    "start_time": "2024-05-19T21:49:34.649Z"
   },
   {
    "duration": 239,
    "start_time": "2024-05-19T21:49:34.962Z"
   },
   {
    "duration": 308,
    "start_time": "2024-05-19T21:49:35.205Z"
   },
   {
    "duration": 12,
    "start_time": "2024-05-19T21:49:35.516Z"
   },
   {
    "duration": 13,
    "start_time": "2024-05-19T21:49:35.531Z"
   },
   {
    "duration": 9,
    "start_time": "2024-05-19T21:49:35.547Z"
   },
   {
    "duration": 502,
    "start_time": "2024-05-19T21:49:35.602Z"
   },
   {
    "duration": 69,
    "start_time": "2024-05-19T21:49:36.109Z"
   },
   {
    "duration": 363,
    "start_time": "2024-05-19T21:49:36.181Z"
   },
   {
    "duration": 1802,
    "start_time": "2024-05-19T21:49:36.547Z"
   },
   {
    "duration": 469,
    "start_time": "2024-05-19T21:49:38.353Z"
   },
   {
    "duration": 2018,
    "start_time": "2024-05-19T21:49:38.826Z"
   },
   {
    "duration": 1533,
    "start_time": "2024-05-19T21:49:40.847Z"
   },
   {
    "duration": 17,
    "start_time": "2024-05-19T21:49:42.384Z"
   },
   {
    "duration": 0,
    "start_time": "2024-05-19T21:49:42.404Z"
   },
   {
    "duration": 0,
    "start_time": "2024-05-19T21:49:42.406Z"
   },
   {
    "duration": 0,
    "start_time": "2024-05-19T21:49:42.408Z"
   },
   {
    "duration": 0,
    "start_time": "2024-05-19T21:49:42.410Z"
   },
   {
    "duration": 0,
    "start_time": "2024-05-19T21:49:42.413Z"
   },
   {
    "duration": 0,
    "start_time": "2024-05-19T21:49:42.416Z"
   },
   {
    "duration": 0,
    "start_time": "2024-05-19T21:49:42.418Z"
   },
   {
    "duration": 0,
    "start_time": "2024-05-19T21:49:42.420Z"
   },
   {
    "duration": 0,
    "start_time": "2024-05-19T21:49:42.423Z"
   },
   {
    "duration": 1830,
    "start_time": "2024-05-19T21:59:09.495Z"
   },
   {
    "duration": 192,
    "start_time": "2024-05-19T21:59:11.329Z"
   },
   {
    "duration": 212,
    "start_time": "2024-05-19T22:00:11.691Z"
   },
   {
    "duration": 216,
    "start_time": "2024-05-19T22:00:43.618Z"
   },
   {
    "duration": 1659,
    "start_time": "2024-05-19T22:10:46.051Z"
   },
   {
    "duration": 2013,
    "start_time": "2024-05-19T22:11:03.180Z"
   },
   {
    "duration": 1979,
    "start_time": "2024-05-19T22:11:28.222Z"
   },
   {
    "duration": 1382,
    "start_time": "2024-05-19T22:11:43.879Z"
   },
   {
    "duration": 1503,
    "start_time": "2024-05-19T22:12:02.412Z"
   },
   {
    "duration": 7,
    "start_time": "2024-05-19T22:13:25.297Z"
   },
   {
    "duration": 2191,
    "start_time": "2024-05-19T22:13:42.369Z"
   },
   {
    "duration": 2042,
    "start_time": "2024-05-19T22:14:05.043Z"
   },
   {
    "duration": 2041,
    "start_time": "2024-05-19T22:14:58.270Z"
   },
   {
    "duration": 1563,
    "start_time": "2024-05-19T22:15:21.923Z"
   },
   {
    "duration": 1548,
    "start_time": "2024-05-19T22:15:49.708Z"
   },
   {
    "duration": 7,
    "start_time": "2024-05-19T22:17:30.807Z"
   },
   {
    "duration": 1595,
    "start_time": "2024-05-19T22:17:39.326Z"
   },
   {
    "duration": 2390,
    "start_time": "2024-05-19T22:18:24.416Z"
   },
   {
    "duration": 2380,
    "start_time": "2024-05-19T22:19:29.512Z"
   },
   {
    "duration": 2066,
    "start_time": "2024-05-19T22:20:03.452Z"
   },
   {
    "duration": 2231,
    "start_time": "2024-05-19T22:20:11.597Z"
   },
   {
    "duration": 2264,
    "start_time": "2024-05-19T22:21:45.457Z"
   },
   {
    "duration": 2235,
    "start_time": "2024-05-19T22:22:04.837Z"
   },
   {
    "duration": 2438,
    "start_time": "2024-05-19T22:24:25.945Z"
   },
   {
    "duration": 2224,
    "start_time": "2024-05-19T22:24:42.955Z"
   },
   {
    "duration": 2245,
    "start_time": "2024-05-19T22:27:10.716Z"
   },
   {
    "duration": 2467,
    "start_time": "2024-05-19T22:27:43.838Z"
   },
   {
    "duration": 2299,
    "start_time": "2024-05-19T22:28:47.866Z"
   },
   {
    "duration": 333,
    "start_time": "2024-05-20T00:34:52.849Z"
   },
   {
    "duration": 4325,
    "start_time": "2024-05-20T00:35:28.722Z"
   },
   {
    "duration": 1721,
    "start_time": "2024-05-20T00:35:33.051Z"
   },
   {
    "duration": 19,
    "start_time": "2024-05-20T00:35:34.775Z"
   },
   {
    "duration": 21,
    "start_time": "2024-05-20T00:35:34.812Z"
   },
   {
    "duration": 15,
    "start_time": "2024-05-20T00:35:34.836Z"
   },
   {
    "duration": 14,
    "start_time": "2024-05-20T00:35:34.855Z"
   },
   {
    "duration": 14,
    "start_time": "2024-05-20T00:35:34.910Z"
   },
   {
    "duration": 11,
    "start_time": "2024-05-20T00:35:34.928Z"
   },
   {
    "duration": 315,
    "start_time": "2024-05-20T00:35:34.942Z"
   },
   {
    "duration": 15,
    "start_time": "2024-05-20T00:35:35.263Z"
   },
   {
    "duration": 137,
    "start_time": "2024-05-20T00:35:35.281Z"
   },
   {
    "duration": 184,
    "start_time": "2024-05-20T00:35:35.421Z"
   },
   {
    "duration": 50,
    "start_time": "2024-05-20T00:35:35.609Z"
   },
   {
    "duration": 51,
    "start_time": "2024-05-20T00:35:35.662Z"
   },
   {
    "duration": 7,
    "start_time": "2024-05-20T00:35:35.716Z"
   },
   {
    "duration": 44,
    "start_time": "2024-05-20T00:35:35.727Z"
   },
   {
    "duration": 42,
    "start_time": "2024-05-20T00:35:35.775Z"
   },
   {
    "duration": 6,
    "start_time": "2024-05-20T00:35:35.820Z"
   },
   {
    "duration": 6,
    "start_time": "2024-05-20T00:35:35.829Z"
   },
   {
    "duration": 6,
    "start_time": "2024-05-20T00:35:35.838Z"
   },
   {
    "duration": 4,
    "start_time": "2024-05-20T00:35:35.848Z"
   },
   {
    "duration": 1347,
    "start_time": "2024-05-20T00:35:35.908Z"
   },
   {
    "duration": 1210,
    "start_time": "2024-05-20T00:35:37.258Z"
   },
   {
    "duration": 9,
    "start_time": "2024-05-20T00:35:38.471Z"
   },
   {
    "duration": 33,
    "start_time": "2024-05-20T00:35:38.484Z"
   },
   {
    "duration": 20,
    "start_time": "2024-05-20T00:35:38.521Z"
   },
   {
    "duration": 12,
    "start_time": "2024-05-20T00:35:38.544Z"
   },
   {
    "duration": 54,
    "start_time": "2024-05-20T00:35:38.565Z"
   },
   {
    "duration": 10,
    "start_time": "2024-05-20T00:35:38.622Z"
   },
   {
    "duration": 9,
    "start_time": "2024-05-20T00:35:38.635Z"
   },
   {
    "duration": 67,
    "start_time": "2024-05-20T00:35:38.647Z"
   },
   {
    "duration": 55,
    "start_time": "2024-05-20T00:35:38.717Z"
   },
   {
    "duration": 47,
    "start_time": "2024-05-20T00:35:38.775Z"
   },
   {
    "duration": 1465,
    "start_time": "2024-05-20T00:35:38.826Z"
   },
   {
    "duration": 33,
    "start_time": "2024-05-20T00:35:40.295Z"
   },
   {
    "duration": 561,
    "start_time": "2024-05-20T00:35:40.331Z"
   },
   {
    "duration": 90,
    "start_time": "2024-05-20T00:35:40.895Z"
   },
   {
    "duration": 25,
    "start_time": "2024-05-20T00:35:40.988Z"
   },
   {
    "duration": 9,
    "start_time": "2024-05-20T00:35:41.016Z"
   },
   {
    "duration": 287,
    "start_time": "2024-05-20T00:35:41.029Z"
   },
   {
    "duration": 248,
    "start_time": "2024-05-20T00:35:41.319Z"
   },
   {
    "duration": 356,
    "start_time": "2024-05-20T00:35:41.570Z"
   },
   {
    "duration": 12,
    "start_time": "2024-05-20T00:35:41.928Z"
   },
   {
    "duration": 12,
    "start_time": "2024-05-20T00:35:41.943Z"
   },
   {
    "duration": 11,
    "start_time": "2024-05-20T00:35:41.958Z"
   },
   {
    "duration": 420,
    "start_time": "2024-05-20T00:35:42.010Z"
   },
   {
    "duration": 90,
    "start_time": "2024-05-20T00:35:42.434Z"
   },
   {
    "duration": 367,
    "start_time": "2024-05-20T00:35:42.527Z"
   },
   {
    "duration": 1801,
    "start_time": "2024-05-20T00:35:42.897Z"
   },
   {
    "duration": 480,
    "start_time": "2024-05-20T00:35:44.709Z"
   },
   {
    "duration": 1998,
    "start_time": "2024-05-20T00:35:45.192Z"
   },
   {
    "duration": 1523,
    "start_time": "2024-05-20T00:35:47.193Z"
   },
   {
    "duration": 1813,
    "start_time": "2024-05-20T00:35:48.719Z"
   },
   {
    "duration": 2605,
    "start_time": "2024-05-20T00:35:50.535Z"
   },
   {
    "duration": 0,
    "start_time": "2024-05-20T00:35:53.143Z"
   },
   {
    "duration": 0,
    "start_time": "2024-05-20T00:35:53.145Z"
   },
   {
    "duration": 0,
    "start_time": "2024-05-20T00:35:53.147Z"
   },
   {
    "duration": 0,
    "start_time": "2024-05-20T00:35:53.148Z"
   },
   {
    "duration": 0,
    "start_time": "2024-05-20T00:35:53.152Z"
   },
   {
    "duration": 0,
    "start_time": "2024-05-20T00:35:53.154Z"
   },
   {
    "duration": 1168,
    "start_time": "2024-05-20T00:36:14.376Z"
   },
   {
    "duration": 7,
    "start_time": "2024-05-20T00:37:48.805Z"
   },
   {
    "duration": 681,
    "start_time": "2024-05-20T00:37:56.957Z"
   },
   {
    "duration": 176,
    "start_time": "2024-05-20T00:38:22.852Z"
   },
   {
    "duration": 172,
    "start_time": "2024-05-20T00:38:34.698Z"
   },
   {
    "duration": 165,
    "start_time": "2024-05-20T00:38:44.374Z"
   },
   {
    "duration": 1053,
    "start_time": "2024-05-20T00:40:14.924Z"
   },
   {
    "duration": 122,
    "start_time": "2024-05-20T00:40:50.325Z"
   },
   {
    "duration": 1309,
    "start_time": "2024-05-20T00:43:17.857Z"
   },
   {
    "duration": 1350,
    "start_time": "2024-05-20T00:43:54.206Z"
   },
   {
    "duration": 1312,
    "start_time": "2024-05-20T00:45:28.856Z"
   },
   {
    "duration": 1303,
    "start_time": "2024-05-20T00:45:40.742Z"
   },
   {
    "duration": 7,
    "start_time": "2024-05-20T00:46:57.724Z"
   },
   {
    "duration": 1316,
    "start_time": "2024-05-20T00:47:15.413Z"
   },
   {
    "duration": 1308,
    "start_time": "2024-05-20T00:47:44.163Z"
   },
   {
    "duration": 2294,
    "start_time": "2024-05-20T01:00:29.326Z"
   },
   {
    "duration": 2087,
    "start_time": "2024-05-20T01:01:16.774Z"
   },
   {
    "duration": 2151,
    "start_time": "2024-05-20T01:04:10.602Z"
   },
   {
    "duration": 2164,
    "start_time": "2024-05-20T01:05:11.853Z"
   },
   {
    "duration": 191,
    "start_time": "2024-05-20T01:07:41.971Z"
   },
   {
    "duration": 83,
    "start_time": "2024-05-20T01:08:15.001Z"
   },
   {
    "duration": 188,
    "start_time": "2024-05-20T01:08:31.223Z"
   },
   {
    "duration": 10,
    "start_time": "2024-05-20T01:10:08.353Z"
   },
   {
    "duration": 14,
    "start_time": "2024-05-20T01:11:14.421Z"
   },
   {
    "duration": 15,
    "start_time": "2024-05-20T01:11:38.565Z"
   },
   {
    "duration": 664,
    "start_time": "2024-05-20T01:12:15.589Z"
   },
   {
    "duration": 204,
    "start_time": "2024-05-20T01:13:16.204Z"
   },
   {
    "duration": 1352,
    "start_time": "2024-05-20T01:13:24.713Z"
   },
   {
    "duration": 246,
    "start_time": "2024-05-20T01:13:28.056Z"
   },
   {
    "duration": 201,
    "start_time": "2024-05-20T01:14:32.327Z"
   },
   {
    "duration": 431,
    "start_time": "2024-05-20T01:17:03.579Z"
   },
   {
    "duration": 168,
    "start_time": "2024-05-20T01:17:49.547Z"
   },
   {
    "duration": 219,
    "start_time": "2024-05-20T01:18:05.849Z"
   },
   {
    "duration": 7,
    "start_time": "2024-05-20T01:19:46.550Z"
   },
   {
    "duration": 172,
    "start_time": "2024-05-20T01:19:53.843Z"
   },
   {
    "duration": 175,
    "start_time": "2024-05-20T01:20:26.120Z"
   },
   {
    "duration": 306,
    "start_time": "2024-05-20T01:24:25.081Z"
   },
   {
    "duration": 209,
    "start_time": "2024-05-20T01:24:33.772Z"
   },
   {
    "duration": 222,
    "start_time": "2024-05-20T01:24:56.049Z"
   },
   {
    "duration": 214,
    "start_time": "2024-05-20T01:25:27.195Z"
   },
   {
    "duration": 220,
    "start_time": "2024-05-20T01:26:15.643Z"
   },
   {
    "duration": 214,
    "start_time": "2024-05-20T01:26:25.271Z"
   },
   {
    "duration": 1384,
    "start_time": "2024-05-20T01:28:32.928Z"
   },
   {
    "duration": 1328,
    "start_time": "2024-05-20T01:29:39.811Z"
   },
   {
    "duration": 1337,
    "start_time": "2024-05-20T01:32:02.653Z"
   },
   {
    "duration": 751,
    "start_time": "2024-05-20T01:42:21.986Z"
   },
   {
    "duration": 1676,
    "start_time": "2024-05-20T01:42:22.745Z"
   },
   {
    "duration": 20,
    "start_time": "2024-05-20T01:42:24.424Z"
   },
   {
    "duration": 21,
    "start_time": "2024-05-20T01:42:24.450Z"
   },
   {
    "duration": 49,
    "start_time": "2024-05-20T01:42:24.475Z"
   },
   {
    "duration": 16,
    "start_time": "2024-05-20T01:42:24.527Z"
   },
   {
    "duration": 14,
    "start_time": "2024-05-20T01:42:24.545Z"
   },
   {
    "duration": 45,
    "start_time": "2024-05-20T01:42:24.568Z"
   },
   {
    "duration": 341,
    "start_time": "2024-05-20T01:42:24.617Z"
   },
   {
    "duration": 19,
    "start_time": "2024-05-20T01:42:24.965Z"
   },
   {
    "duration": 174,
    "start_time": "2024-05-20T01:42:24.987Z"
   },
   {
    "duration": 213,
    "start_time": "2024-05-20T01:42:25.166Z"
   },
   {
    "duration": 71,
    "start_time": "2024-05-20T01:42:25.382Z"
   },
   {
    "duration": 28,
    "start_time": "2024-05-20T01:42:25.456Z"
   },
   {
    "duration": 23,
    "start_time": "2024-05-20T01:42:25.487Z"
   },
   {
    "duration": 42,
    "start_time": "2024-05-20T01:42:25.513Z"
   },
   {
    "duration": 15,
    "start_time": "2024-05-20T01:42:25.560Z"
   },
   {
    "duration": 8,
    "start_time": "2024-05-20T01:42:25.612Z"
   },
   {
    "duration": 6,
    "start_time": "2024-05-20T01:42:25.624Z"
   },
   {
    "duration": 7,
    "start_time": "2024-05-20T01:42:25.638Z"
   },
   {
    "duration": 5,
    "start_time": "2024-05-20T01:42:25.648Z"
   },
   {
    "duration": 1429,
    "start_time": "2024-05-20T01:42:25.658Z"
   },
   {
    "duration": 1222,
    "start_time": "2024-05-20T01:42:27.090Z"
   },
   {
    "duration": 12,
    "start_time": "2024-05-20T01:42:28.315Z"
   },
   {
    "duration": 17,
    "start_time": "2024-05-20T01:42:28.331Z"
   },
   {
    "duration": 19,
    "start_time": "2024-05-20T01:42:28.351Z"
   },
   {
    "duration": 13,
    "start_time": "2024-05-20T01:42:28.410Z"
   },
   {
    "duration": 20,
    "start_time": "2024-05-20T01:42:28.432Z"
   },
   {
    "duration": 13,
    "start_time": "2024-05-20T01:42:28.455Z"
   },
   {
    "duration": 23,
    "start_time": "2024-05-20T01:42:28.510Z"
   },
   {
    "duration": 36,
    "start_time": "2024-05-20T01:42:28.536Z"
   },
   {
    "duration": 80,
    "start_time": "2024-05-20T01:42:28.574Z"
   },
   {
    "duration": 27,
    "start_time": "2024-05-20T01:42:28.657Z"
   },
   {
    "duration": 1526,
    "start_time": "2024-05-20T01:42:28.708Z"
   },
   {
    "duration": 28,
    "start_time": "2024-05-20T01:42:30.238Z"
   },
   {
    "duration": 570,
    "start_time": "2024-05-20T01:42:30.270Z"
   },
   {
    "duration": 102,
    "start_time": "2024-05-20T01:42:30.843Z"
   },
   {
    "duration": 12,
    "start_time": "2024-05-20T01:42:30.948Z"
   },
   {
    "duration": 18,
    "start_time": "2024-05-20T01:42:30.964Z"
   },
   {
    "duration": 292,
    "start_time": "2024-05-20T01:42:30.986Z"
   },
   {
    "duration": 262,
    "start_time": "2024-05-20T01:42:31.281Z"
   },
   {
    "duration": 332,
    "start_time": "2024-05-20T01:42:31.548Z"
   },
   {
    "duration": 24,
    "start_time": "2024-05-20T01:42:31.884Z"
   },
   {
    "duration": 14,
    "start_time": "2024-05-20T01:42:31.911Z"
   },
   {
    "duration": 12,
    "start_time": "2024-05-20T01:42:31.927Z"
   },
   {
    "duration": 457,
    "start_time": "2024-05-20T01:42:31.942Z"
   },
   {
    "duration": 65,
    "start_time": "2024-05-20T01:42:32.410Z"
   },
   {
    "duration": 346,
    "start_time": "2024-05-20T01:42:32.478Z"
   },
   {
    "duration": 1895,
    "start_time": "2024-05-20T01:42:32.827Z"
   },
   {
    "duration": 484,
    "start_time": "2024-05-20T01:42:34.725Z"
   },
   {
    "duration": 1913,
    "start_time": "2024-05-20T01:42:35.214Z"
   },
   {
    "duration": 1544,
    "start_time": "2024-05-20T01:42:37.130Z"
   },
   {
    "duration": 1821,
    "start_time": "2024-05-20T01:42:38.677Z"
   },
   {
    "duration": 2215,
    "start_time": "2024-05-20T01:42:40.501Z"
   },
   {
    "duration": 2319,
    "start_time": "2024-05-20T01:42:42.720Z"
   },
   {
    "duration": 1303,
    "start_time": "2024-05-20T01:42:45.042Z"
   },
   {
    "duration": 308,
    "start_time": "2024-05-20T01:46:51.846Z"
   },
   {
    "duration": 23,
    "start_time": "2024-05-20T01:47:05.026Z"
   },
   {
    "duration": 0,
    "start_time": "2024-05-20T01:47:05.053Z"
   },
   {
    "duration": 0,
    "start_time": "2024-05-20T01:47:05.055Z"
   },
   {
    "duration": 24,
    "start_time": "2024-05-20T01:47:05.106Z"
   },
   {
    "duration": 0,
    "start_time": "2024-05-20T01:47:05.133Z"
   },
   {
    "duration": 728,
    "start_time": "2024-05-20T01:48:07.987Z"
   },
   {
    "duration": 1767,
    "start_time": "2024-05-20T01:48:08.718Z"
   },
   {
    "duration": 31,
    "start_time": "2024-05-20T01:48:10.488Z"
   },
   {
    "duration": 17,
    "start_time": "2024-05-20T01:48:10.522Z"
   },
   {
    "duration": 13,
    "start_time": "2024-05-20T01:48:10.544Z"
   },
   {
    "duration": 52,
    "start_time": "2024-05-20T01:48:10.561Z"
   },
   {
    "duration": 16,
    "start_time": "2024-05-20T01:48:10.616Z"
   },
   {
    "duration": 10,
    "start_time": "2024-05-20T01:48:10.636Z"
   },
   {
    "duration": 358,
    "start_time": "2024-05-20T01:48:10.650Z"
   },
   {
    "duration": 15,
    "start_time": "2024-05-20T01:48:11.011Z"
   },
   {
    "duration": 143,
    "start_time": "2024-05-20T01:48:11.029Z"
   },
   {
    "duration": 200,
    "start_time": "2024-05-20T01:48:11.175Z"
   },
   {
    "duration": 55,
    "start_time": "2024-05-20T01:48:11.378Z"
   },
   {
    "duration": 22,
    "start_time": "2024-05-20T01:48:11.441Z"
   },
   {
    "duration": 6,
    "start_time": "2024-05-20T01:48:11.466Z"
   },
   {
    "duration": 66,
    "start_time": "2024-05-20T01:48:11.475Z"
   },
   {
    "duration": 14,
    "start_time": "2024-05-20T01:48:11.544Z"
   },
   {
    "duration": 6,
    "start_time": "2024-05-20T01:48:11.561Z"
   },
   {
    "duration": 39,
    "start_time": "2024-05-20T01:48:11.570Z"
   },
   {
    "duration": 6,
    "start_time": "2024-05-20T01:48:11.613Z"
   },
   {
    "duration": 5,
    "start_time": "2024-05-20T01:48:11.623Z"
   },
   {
    "duration": 1431,
    "start_time": "2024-05-20T01:48:11.632Z"
   },
   {
    "duration": 1329,
    "start_time": "2024-05-20T01:48:13.066Z"
   },
   {
    "duration": 12,
    "start_time": "2024-05-20T01:48:14.399Z"
   },
   {
    "duration": 15,
    "start_time": "2024-05-20T01:48:14.414Z"
   },
   {
    "duration": 13,
    "start_time": "2024-05-20T01:48:14.432Z"
   },
   {
    "duration": 11,
    "start_time": "2024-05-20T01:48:14.449Z"
   },
   {
    "duration": 63,
    "start_time": "2024-05-20T01:48:14.463Z"
   },
   {
    "duration": 9,
    "start_time": "2024-05-20T01:48:14.529Z"
   },
   {
    "duration": 12,
    "start_time": "2024-05-20T01:48:14.541Z"
   },
   {
    "duration": 75,
    "start_time": "2024-05-20T01:48:14.556Z"
   },
   {
    "duration": 78,
    "start_time": "2024-05-20T01:48:14.634Z"
   },
   {
    "duration": 24,
    "start_time": "2024-05-20T01:48:14.716Z"
   },
   {
    "duration": 1451,
    "start_time": "2024-05-20T01:48:14.742Z"
   },
   {
    "duration": 29,
    "start_time": "2024-05-20T01:48:16.196Z"
   },
   {
    "duration": 549,
    "start_time": "2024-05-20T01:48:16.227Z"
   },
   {
    "duration": 93,
    "start_time": "2024-05-20T01:48:16.779Z"
   },
   {
    "duration": 12,
    "start_time": "2024-05-20T01:48:16.875Z"
   },
   {
    "duration": 10,
    "start_time": "2024-05-20T01:48:16.908Z"
   },
   {
    "duration": 282,
    "start_time": "2024-05-20T01:48:16.921Z"
   },
   {
    "duration": 243,
    "start_time": "2024-05-20T01:48:17.214Z"
   },
   {
    "duration": 307,
    "start_time": "2024-05-20T01:48:17.460Z"
   },
   {
    "duration": 12,
    "start_time": "2024-05-20T01:48:17.770Z"
   },
   {
    "duration": 35,
    "start_time": "2024-05-20T01:48:17.785Z"
   },
   {
    "duration": 11,
    "start_time": "2024-05-20T01:48:17.823Z"
   },
   {
    "duration": 442,
    "start_time": "2024-05-20T01:48:17.837Z"
   },
   {
    "duration": 77,
    "start_time": "2024-05-20T01:48:18.282Z"
   },
   {
    "duration": 338,
    "start_time": "2024-05-20T01:48:18.361Z"
   },
   {
    "duration": 1811,
    "start_time": "2024-05-20T01:48:18.702Z"
   },
   {
    "duration": 469,
    "start_time": "2024-05-20T01:48:20.516Z"
   },
   {
    "duration": 2057,
    "start_time": "2024-05-20T01:48:20.988Z"
   },
   {
    "duration": 1534,
    "start_time": "2024-05-20T01:48:23.048Z"
   },
   {
    "duration": 1847,
    "start_time": "2024-05-20T01:48:24.587Z"
   },
   {
    "duration": 2220,
    "start_time": "2024-05-20T01:48:26.437Z"
   },
   {
    "duration": 2183,
    "start_time": "2024-05-20T01:48:28.660Z"
   },
   {
    "duration": 1277,
    "start_time": "2024-05-20T01:48:30.847Z"
   },
   {
    "duration": 1260,
    "start_time": "2024-05-20T01:48:32.127Z"
   },
   {
    "duration": 0,
    "start_time": "2024-05-20T01:48:33.390Z"
   },
   {
    "duration": 0,
    "start_time": "2024-05-20T01:48:33.392Z"
   },
   {
    "duration": 0,
    "start_time": "2024-05-20T01:48:33.394Z"
   },
   {
    "duration": 0,
    "start_time": "2024-05-20T01:48:33.396Z"
   },
   {
    "duration": 8,
    "start_time": "2024-05-20T01:50:12.631Z"
   },
   {
    "duration": 660,
    "start_time": "2024-05-20T01:54:29.668Z"
   },
   {
    "duration": 1571,
    "start_time": "2024-05-20T01:54:30.332Z"
   },
   {
    "duration": 20,
    "start_time": "2024-05-20T01:54:31.906Z"
   },
   {
    "duration": 18,
    "start_time": "2024-05-20T01:54:31.930Z"
   },
   {
    "duration": 54,
    "start_time": "2024-05-20T01:54:31.954Z"
   },
   {
    "duration": 15,
    "start_time": "2024-05-20T01:54:32.011Z"
   },
   {
    "duration": 11,
    "start_time": "2024-05-20T01:54:32.029Z"
   },
   {
    "duration": 10,
    "start_time": "2024-05-20T01:54:32.043Z"
   },
   {
    "duration": 337,
    "start_time": "2024-05-20T01:54:32.056Z"
   },
   {
    "duration": 24,
    "start_time": "2024-05-20T01:54:32.395Z"
   },
   {
    "duration": 132,
    "start_time": "2024-05-20T01:54:32.422Z"
   },
   {
    "duration": 168,
    "start_time": "2024-05-20T01:54:32.557Z"
   },
   {
    "duration": 47,
    "start_time": "2024-05-20T01:54:32.728Z"
   },
   {
    "duration": 41,
    "start_time": "2024-05-20T01:54:32.783Z"
   },
   {
    "duration": 5,
    "start_time": "2024-05-20T01:54:32.827Z"
   },
   {
    "duration": 36,
    "start_time": "2024-05-20T01:54:32.836Z"
   },
   {
    "duration": 43,
    "start_time": "2024-05-20T01:54:32.875Z"
   },
   {
    "duration": 6,
    "start_time": "2024-05-20T01:54:32.921Z"
   },
   {
    "duration": 5,
    "start_time": "2024-05-20T01:54:32.933Z"
   },
   {
    "duration": 6,
    "start_time": "2024-05-20T01:54:32.942Z"
   },
   {
    "duration": 6,
    "start_time": "2024-05-20T01:54:32.951Z"
   },
   {
    "duration": 1316,
    "start_time": "2024-05-20T01:54:33.008Z"
   },
   {
    "duration": 1180,
    "start_time": "2024-05-20T01:54:34.327Z"
   },
   {
    "duration": 9,
    "start_time": "2024-05-20T01:54:35.510Z"
   },
   {
    "duration": 14,
    "start_time": "2024-05-20T01:54:35.523Z"
   },
   {
    "duration": 14,
    "start_time": "2024-05-20T01:54:35.540Z"
   },
   {
    "duration": 59,
    "start_time": "2024-05-20T01:54:35.556Z"
   },
   {
    "duration": 21,
    "start_time": "2024-05-20T01:54:35.618Z"
   },
   {
    "duration": 9,
    "start_time": "2024-05-20T01:54:35.642Z"
   },
   {
    "duration": 10,
    "start_time": "2024-05-20T01:54:35.654Z"
   },
   {
    "duration": 69,
    "start_time": "2024-05-20T01:54:35.666Z"
   },
   {
    "duration": 69,
    "start_time": "2024-05-20T01:54:35.739Z"
   },
   {
    "duration": 23,
    "start_time": "2024-05-20T01:54:35.811Z"
   },
   {
    "duration": 1422,
    "start_time": "2024-05-20T01:54:35.837Z"
   },
   {
    "duration": 20,
    "start_time": "2024-05-20T01:54:37.263Z"
   },
   {
    "duration": 554,
    "start_time": "2024-05-20T01:54:37.286Z"
   },
   {
    "duration": 84,
    "start_time": "2024-05-20T01:54:37.843Z"
   },
   {
    "duration": 9,
    "start_time": "2024-05-20T01:54:37.930Z"
   },
   {
    "duration": 10,
    "start_time": "2024-05-20T01:54:37.942Z"
   },
   {
    "duration": 289,
    "start_time": "2024-05-20T01:54:37.954Z"
   },
   {
    "duration": 229,
    "start_time": "2024-05-20T01:54:38.252Z"
   },
   {
    "duration": 314,
    "start_time": "2024-05-20T01:54:38.484Z"
   },
   {
    "duration": 12,
    "start_time": "2024-05-20T01:54:38.808Z"
   },
   {
    "duration": 12,
    "start_time": "2024-05-20T01:54:38.823Z"
   },
   {
    "duration": 11,
    "start_time": "2024-05-20T01:54:38.837Z"
   },
   {
    "duration": 460,
    "start_time": "2024-05-20T01:54:38.851Z"
   },
   {
    "duration": 66,
    "start_time": "2024-05-20T01:54:39.313Z"
   },
   {
    "duration": 371,
    "start_time": "2024-05-20T01:54:39.381Z"
   },
   {
    "duration": 1837,
    "start_time": "2024-05-20T01:54:39.756Z"
   },
   {
    "duration": 450,
    "start_time": "2024-05-20T01:54:41.597Z"
   },
   {
    "duration": 2195,
    "start_time": "2024-05-20T01:54:42.050Z"
   },
   {
    "duration": 1604,
    "start_time": "2024-05-20T01:54:44.249Z"
   },
   {
    "duration": 2329,
    "start_time": "2024-05-20T01:54:45.856Z"
   },
   {
    "duration": 1373,
    "start_time": "2024-05-20T01:54:48.188Z"
   },
   {
    "duration": 694,
    "start_time": "2024-05-20T01:54:49.564Z"
   },
   {
    "duration": 0,
    "start_time": "2024-05-20T01:54:50.261Z"
   },
   {
    "duration": 0,
    "start_time": "2024-05-20T01:54:50.264Z"
   },
   {
    "duration": 0,
    "start_time": "2024-05-20T01:54:50.267Z"
   },
   {
    "duration": 0,
    "start_time": "2024-05-20T01:54:50.268Z"
   },
   {
    "duration": 0,
    "start_time": "2024-05-20T01:54:50.270Z"
   },
   {
    "duration": 87,
    "start_time": "2024-05-20T01:55:30.562Z"
   },
   {
    "duration": 13,
    "start_time": "2024-05-20T01:55:53.182Z"
   },
   {
    "duration": 738,
    "start_time": "2024-05-20T01:58:51.023Z"
   },
   {
    "duration": 1556,
    "start_time": "2024-05-20T01:58:51.766Z"
   },
   {
    "duration": 18,
    "start_time": "2024-05-20T01:58:53.325Z"
   },
   {
    "duration": 16,
    "start_time": "2024-05-20T01:58:53.346Z"
   },
   {
    "duration": 43,
    "start_time": "2024-05-20T01:58:53.368Z"
   },
   {
    "duration": 14,
    "start_time": "2024-05-20T01:58:53.414Z"
   },
   {
    "duration": 11,
    "start_time": "2024-05-20T01:58:53.431Z"
   },
   {
    "duration": 10,
    "start_time": "2024-05-20T01:58:53.446Z"
   },
   {
    "duration": 328,
    "start_time": "2024-05-20T01:58:53.459Z"
   },
   {
    "duration": 29,
    "start_time": "2024-05-20T01:58:53.790Z"
   },
   {
    "duration": 120,
    "start_time": "2024-05-20T01:58:53.822Z"
   },
   {
    "duration": 186,
    "start_time": "2024-05-20T01:58:53.946Z"
   },
   {
    "duration": 46,
    "start_time": "2024-05-20T01:58:54.136Z"
   },
   {
    "duration": 38,
    "start_time": "2024-05-20T01:58:54.188Z"
   },
   {
    "duration": 6,
    "start_time": "2024-05-20T01:58:54.229Z"
   },
   {
    "duration": 36,
    "start_time": "2024-05-20T01:58:54.239Z"
   },
   {
    "duration": 13,
    "start_time": "2024-05-20T01:58:54.310Z"
   },
   {
    "duration": 6,
    "start_time": "2024-05-20T01:58:54.326Z"
   },
   {
    "duration": 5,
    "start_time": "2024-05-20T01:58:54.335Z"
   },
   {
    "duration": 7,
    "start_time": "2024-05-20T01:58:54.343Z"
   },
   {
    "duration": 6,
    "start_time": "2024-05-20T01:58:54.353Z"
   },
   {
    "duration": 1403,
    "start_time": "2024-05-20T01:58:54.361Z"
   },
   {
    "duration": 1170,
    "start_time": "2024-05-20T01:58:55.767Z"
   },
   {
    "duration": 7,
    "start_time": "2024-05-20T01:58:56.940Z"
   },
   {
    "duration": 15,
    "start_time": "2024-05-20T01:58:56.950Z"
   },
   {
    "duration": 40,
    "start_time": "2024-05-20T01:58:56.968Z"
   },
   {
    "duration": 13,
    "start_time": "2024-05-20T01:58:57.011Z"
   },
   {
    "duration": 22,
    "start_time": "2024-05-20T01:58:57.026Z"
   },
   {
    "duration": 10,
    "start_time": "2024-05-20T01:58:57.051Z"
   },
   {
    "duration": 52,
    "start_time": "2024-05-20T01:58:57.063Z"
   },
   {
    "duration": 27,
    "start_time": "2024-05-20T01:58:57.118Z"
   },
   {
    "duration": 85,
    "start_time": "2024-05-20T01:58:57.148Z"
   },
   {
    "duration": 22,
    "start_time": "2024-05-20T01:58:57.237Z"
   },
   {
    "duration": 1422,
    "start_time": "2024-05-20T01:58:57.262Z"
   },
   {
    "duration": 34,
    "start_time": "2024-05-20T01:58:58.686Z"
   },
   {
    "duration": 532,
    "start_time": "2024-05-20T01:58:58.722Z"
   },
   {
    "duration": 83,
    "start_time": "2024-05-20T01:58:59.257Z"
   },
   {
    "duration": 10,
    "start_time": "2024-05-20T01:58:59.342Z"
   },
   {
    "duration": 10,
    "start_time": "2024-05-20T01:58:59.357Z"
   },
   {
    "duration": 298,
    "start_time": "2024-05-20T01:58:59.370Z"
   },
   {
    "duration": 232,
    "start_time": "2024-05-20T01:58:59.679Z"
   },
   {
    "duration": 308,
    "start_time": "2024-05-20T01:58:59.914Z"
   },
   {
    "duration": 12,
    "start_time": "2024-05-20T01:59:00.225Z"
   },
   {
    "duration": 13,
    "start_time": "2024-05-20T01:59:00.240Z"
   },
   {
    "duration": 10,
    "start_time": "2024-05-20T01:59:00.256Z"
   },
   {
    "duration": 411,
    "start_time": "2024-05-20T01:59:00.310Z"
   },
   {
    "duration": 69,
    "start_time": "2024-05-20T01:59:00.725Z"
   },
   {
    "duration": 326,
    "start_time": "2024-05-20T01:59:00.809Z"
   },
   {
    "duration": 1801,
    "start_time": "2024-05-20T01:59:01.138Z"
   },
   {
    "duration": 462,
    "start_time": "2024-05-20T01:59:02.943Z"
   },
   {
    "duration": 1984,
    "start_time": "2024-05-20T01:59:03.408Z"
   },
   {
    "duration": 1549,
    "start_time": "2024-05-20T01:59:05.394Z"
   },
   {
    "duration": 2164,
    "start_time": "2024-05-20T01:59:06.946Z"
   },
   {
    "duration": 1372,
    "start_time": "2024-05-20T01:59:09.112Z"
   },
   {
    "duration": 25,
    "start_time": "2024-05-20T01:59:10.487Z"
   },
   {
    "duration": 305,
    "start_time": "2024-05-20T02:06:18.497Z"
   },
   {
    "duration": 683,
    "start_time": "2024-05-20T02:06:38.983Z"
   },
   {
    "duration": 1750,
    "start_time": "2024-05-20T02:06:39.669Z"
   },
   {
    "duration": 18,
    "start_time": "2024-05-20T02:06:41.422Z"
   },
   {
    "duration": 16,
    "start_time": "2024-05-20T02:06:41.444Z"
   },
   {
    "duration": 46,
    "start_time": "2024-05-20T02:06:41.463Z"
   },
   {
    "duration": 13,
    "start_time": "2024-05-20T02:06:41.512Z"
   },
   {
    "duration": 12,
    "start_time": "2024-05-20T02:06:41.528Z"
   },
   {
    "duration": 10,
    "start_time": "2024-05-20T02:06:41.543Z"
   },
   {
    "duration": 315,
    "start_time": "2024-05-20T02:06:41.556Z"
   },
   {
    "duration": 31,
    "start_time": "2024-05-20T02:06:41.878Z"
   },
   {
    "duration": 117,
    "start_time": "2024-05-20T02:06:41.912Z"
   },
   {
    "duration": 193,
    "start_time": "2024-05-20T02:06:42.033Z"
   },
   {
    "duration": 49,
    "start_time": "2024-05-20T02:06:42.229Z"
   },
   {
    "duration": 43,
    "start_time": "2024-05-20T02:06:42.281Z"
   },
   {
    "duration": 6,
    "start_time": "2024-05-20T02:06:42.327Z"
   },
   {
    "duration": 39,
    "start_time": "2024-05-20T02:06:42.337Z"
   },
   {
    "duration": 41,
    "start_time": "2024-05-20T02:06:42.379Z"
   },
   {
    "duration": 5,
    "start_time": "2024-05-20T02:06:42.423Z"
   },
   {
    "duration": 6,
    "start_time": "2024-05-20T02:06:42.431Z"
   },
   {
    "duration": 6,
    "start_time": "2024-05-20T02:06:42.440Z"
   },
   {
    "duration": 6,
    "start_time": "2024-05-20T02:06:42.449Z"
   },
   {
    "duration": 1366,
    "start_time": "2024-05-20T02:06:42.510Z"
   },
   {
    "duration": 1235,
    "start_time": "2024-05-20T02:06:43.879Z"
   },
   {
    "duration": 8,
    "start_time": "2024-05-20T02:06:45.116Z"
   },
   {
    "duration": 15,
    "start_time": "2024-05-20T02:06:45.128Z"
   },
   {
    "duration": 16,
    "start_time": "2024-05-20T02:06:45.147Z"
   },
   {
    "duration": 18,
    "start_time": "2024-05-20T02:06:45.208Z"
   },
   {
    "duration": 25,
    "start_time": "2024-05-20T02:06:45.236Z"
   },
   {
    "duration": 9,
    "start_time": "2024-05-20T02:06:45.265Z"
   },
   {
    "duration": 12,
    "start_time": "2024-05-20T02:06:45.308Z"
   },
   {
    "duration": 37,
    "start_time": "2024-05-20T02:06:45.323Z"
   },
   {
    "duration": 82,
    "start_time": "2024-05-20T02:06:45.363Z"
   },
   {
    "duration": 27,
    "start_time": "2024-05-20T02:06:45.448Z"
   },
   {
    "duration": 1460,
    "start_time": "2024-05-20T02:06:45.479Z"
   },
   {
    "duration": 23,
    "start_time": "2024-05-20T02:06:46.942Z"
   },
   {
    "duration": 570,
    "start_time": "2024-05-20T02:06:46.970Z"
   },
   {
    "duration": 88,
    "start_time": "2024-05-20T02:06:47.543Z"
   },
   {
    "duration": 10,
    "start_time": "2024-05-20T02:06:47.634Z"
   },
   {
    "duration": 9,
    "start_time": "2024-05-20T02:06:47.646Z"
   },
   {
    "duration": 318,
    "start_time": "2024-05-20T02:06:47.658Z"
   },
   {
    "duration": 230,
    "start_time": "2024-05-20T02:06:47.978Z"
   },
   {
    "duration": 306,
    "start_time": "2024-05-20T02:06:48.211Z"
   },
   {
    "duration": 12,
    "start_time": "2024-05-20T02:06:48.520Z"
   },
   {
    "duration": 13,
    "start_time": "2024-05-20T02:06:48.535Z"
   },
   {
    "duration": 10,
    "start_time": "2024-05-20T02:06:48.551Z"
   },
   {
    "duration": 426,
    "start_time": "2024-05-20T02:06:48.610Z"
   },
   {
    "duration": 77,
    "start_time": "2024-05-20T02:06:49.041Z"
   },
   {
    "duration": 336,
    "start_time": "2024-05-20T02:06:49.121Z"
   },
   {
    "duration": 1798,
    "start_time": "2024-05-20T02:06:49.460Z"
   },
   {
    "duration": 452,
    "start_time": "2024-05-20T02:06:51.261Z"
   },
   {
    "duration": 1963,
    "start_time": "2024-05-20T02:06:51.717Z"
   },
   {
    "duration": 1555,
    "start_time": "2024-05-20T02:06:53.683Z"
   },
   {
    "duration": 2222,
    "start_time": "2024-05-20T02:06:55.241Z"
   },
   {
    "duration": 1346,
    "start_time": "2024-05-20T02:06:57.467Z"
   },
   {
    "duration": 16,
    "start_time": "2024-05-20T02:06:58.816Z"
   },
   {
    "duration": 113,
    "start_time": "2024-05-20T02:06:58.835Z"
   },
   {
    "duration": 313,
    "start_time": "2024-05-20T02:11:14.195Z"
   },
   {
    "duration": 875,
    "start_time": "2024-05-20T02:11:46.783Z"
   },
   {
    "duration": 1805,
    "start_time": "2024-05-20T02:11:47.662Z"
   },
   {
    "duration": 19,
    "start_time": "2024-05-20T02:11:49.470Z"
   },
   {
    "duration": 31,
    "start_time": "2024-05-20T02:11:49.492Z"
   },
   {
    "duration": 14,
    "start_time": "2024-05-20T02:11:49.527Z"
   },
   {
    "duration": 14,
    "start_time": "2024-05-20T02:11:49.543Z"
   },
   {
    "duration": 53,
    "start_time": "2024-05-20T02:11:49.560Z"
   },
   {
    "duration": 9,
    "start_time": "2024-05-20T02:11:49.619Z"
   },
   {
    "duration": 301,
    "start_time": "2024-05-20T02:11:49.631Z"
   },
   {
    "duration": 16,
    "start_time": "2024-05-20T02:11:49.935Z"
   },
   {
    "duration": 134,
    "start_time": "2024-05-20T02:11:49.955Z"
   },
   {
    "duration": 194,
    "start_time": "2024-05-20T02:11:50.092Z"
   },
   {
    "duration": 55,
    "start_time": "2024-05-20T02:11:50.289Z"
   },
   {
    "duration": 22,
    "start_time": "2024-05-20T02:11:50.351Z"
   },
   {
    "duration": 33,
    "start_time": "2024-05-20T02:11:50.376Z"
   },
   {
    "duration": 36,
    "start_time": "2024-05-20T02:11:50.412Z"
   },
   {
    "duration": 14,
    "start_time": "2024-05-20T02:11:50.452Z"
   },
   {
    "duration": 5,
    "start_time": "2024-05-20T02:11:50.469Z"
   },
   {
    "duration": 36,
    "start_time": "2024-05-20T02:11:50.477Z"
   },
   {
    "duration": 7,
    "start_time": "2024-05-20T02:11:50.516Z"
   },
   {
    "duration": 6,
    "start_time": "2024-05-20T02:11:50.526Z"
   },
   {
    "duration": 1369,
    "start_time": "2024-05-20T02:11:50.534Z"
   },
   {
    "duration": 1178,
    "start_time": "2024-05-20T02:11:51.905Z"
   },
   {
    "duration": 9,
    "start_time": "2024-05-20T02:11:53.086Z"
   },
   {
    "duration": 26,
    "start_time": "2024-05-20T02:11:53.097Z"
   },
   {
    "duration": 15,
    "start_time": "2024-05-20T02:11:53.126Z"
   },
   {
    "duration": 12,
    "start_time": "2024-05-20T02:11:53.144Z"
   },
   {
    "duration": 62,
    "start_time": "2024-05-20T02:11:53.159Z"
   },
   {
    "duration": 10,
    "start_time": "2024-05-20T02:11:53.224Z"
   },
   {
    "duration": 11,
    "start_time": "2024-05-20T02:11:53.238Z"
   },
   {
    "duration": 73,
    "start_time": "2024-05-20T02:11:53.252Z"
   },
   {
    "duration": 60,
    "start_time": "2024-05-20T02:11:53.329Z"
   },
   {
    "duration": 23,
    "start_time": "2024-05-20T02:11:53.408Z"
   },
   {
    "duration": 1488,
    "start_time": "2024-05-20T02:11:53.435Z"
   },
   {
    "duration": 23,
    "start_time": "2024-05-20T02:11:54.926Z"
   },
   {
    "duration": 550,
    "start_time": "2024-05-20T02:11:54.952Z"
   },
   {
    "duration": 72,
    "start_time": "2024-05-20T02:11:55.504Z"
   },
   {
    "duration": 32,
    "start_time": "2024-05-20T02:11:55.578Z"
   },
   {
    "duration": 12,
    "start_time": "2024-05-20T02:11:55.612Z"
   },
   {
    "duration": 307,
    "start_time": "2024-05-20T02:11:55.627Z"
   },
   {
    "duration": 233,
    "start_time": "2024-05-20T02:11:55.944Z"
   },
   {
    "duration": 315,
    "start_time": "2024-05-20T02:11:56.180Z"
   },
   {
    "duration": 21,
    "start_time": "2024-05-20T02:11:56.498Z"
   },
   {
    "duration": 14,
    "start_time": "2024-05-20T02:11:56.522Z"
   },
   {
    "duration": 10,
    "start_time": "2024-05-20T02:11:56.538Z"
   },
   {
    "duration": 485,
    "start_time": "2024-05-20T02:11:56.551Z"
   },
   {
    "duration": 77,
    "start_time": "2024-05-20T02:11:57.039Z"
   },
   {
    "duration": 346,
    "start_time": "2024-05-20T02:11:57.118Z"
   },
   {
    "duration": 1820,
    "start_time": "2024-05-20T02:11:57.468Z"
   },
   {
    "duration": 459,
    "start_time": "2024-05-20T02:11:59.291Z"
   },
   {
    "duration": 2056,
    "start_time": "2024-05-20T02:11:59.753Z"
   },
   {
    "duration": 1621,
    "start_time": "2024-05-20T02:12:01.811Z"
   },
   {
    "duration": 2144,
    "start_time": "2024-05-20T02:12:03.435Z"
   },
   {
    "duration": 1288,
    "start_time": "2024-05-20T02:12:05.583Z"
   },
   {
    "duration": 802,
    "start_time": "2024-05-20T02:12:17.294Z"
   },
   {
    "duration": 5677,
    "start_time": "2024-05-20T02:12:42.449Z"
   },
   {
    "duration": 674,
    "start_time": "2024-05-20T02:15:25.864Z"
   },
   {
    "duration": 1768,
    "start_time": "2024-05-20T02:15:26.542Z"
   },
   {
    "duration": 20,
    "start_time": "2024-05-20T02:15:28.313Z"
   },
   {
    "duration": 17,
    "start_time": "2024-05-20T02:15:28.337Z"
   },
   {
    "duration": 51,
    "start_time": "2024-05-20T02:15:28.360Z"
   },
   {
    "duration": 13,
    "start_time": "2024-05-20T02:15:28.417Z"
   },
   {
    "duration": 12,
    "start_time": "2024-05-20T02:15:28.432Z"
   },
   {
    "duration": 10,
    "start_time": "2024-05-20T02:15:28.448Z"
   },
   {
    "duration": 318,
    "start_time": "2024-05-20T02:15:28.461Z"
   },
   {
    "duration": 26,
    "start_time": "2024-05-20T02:15:28.782Z"
   },
   {
    "duration": 115,
    "start_time": "2024-05-20T02:15:28.811Z"
   },
   {
    "duration": 180,
    "start_time": "2024-05-20T02:15:28.930Z"
   },
   {
    "duration": 55,
    "start_time": "2024-05-20T02:15:29.114Z"
   },
   {
    "duration": 43,
    "start_time": "2024-05-20T02:15:29.178Z"
   },
   {
    "duration": 5,
    "start_time": "2024-05-20T02:15:29.224Z"
   },
   {
    "duration": 36,
    "start_time": "2024-05-20T02:15:29.232Z"
   },
   {
    "duration": 49,
    "start_time": "2024-05-20T02:15:29.271Z"
   },
   {
    "duration": 6,
    "start_time": "2024-05-20T02:15:29.323Z"
   },
   {
    "duration": 6,
    "start_time": "2024-05-20T02:15:29.332Z"
   },
   {
    "duration": 7,
    "start_time": "2024-05-20T02:15:29.341Z"
   },
   {
    "duration": 6,
    "start_time": "2024-05-20T02:15:29.351Z"
   },
   {
    "duration": 1340,
    "start_time": "2024-05-20T02:15:29.410Z"
   },
   {
    "duration": 1150,
    "start_time": "2024-05-20T02:15:30.753Z"
   },
   {
    "duration": 8,
    "start_time": "2024-05-20T02:15:31.910Z"
   },
   {
    "duration": 15,
    "start_time": "2024-05-20T02:15:31.921Z"
   },
   {
    "duration": 14,
    "start_time": "2024-05-20T02:15:31.938Z"
   },
   {
    "duration": 56,
    "start_time": "2024-05-20T02:15:31.955Z"
   },
   {
    "duration": 23,
    "start_time": "2024-05-20T02:15:32.014Z"
   },
   {
    "duration": 10,
    "start_time": "2024-05-20T02:15:32.039Z"
   },
   {
    "duration": 10,
    "start_time": "2024-05-20T02:15:32.051Z"
   },
   {
    "duration": 67,
    "start_time": "2024-05-20T02:15:32.064Z"
   },
   {
    "duration": 49,
    "start_time": "2024-05-20T02:15:32.134Z"
   },
   {
    "duration": 22,
    "start_time": "2024-05-20T02:15:32.210Z"
   },
   {
    "duration": 1396,
    "start_time": "2024-05-20T02:15:32.235Z"
   },
   {
    "duration": 27,
    "start_time": "2024-05-20T02:15:33.637Z"
   },
   {
    "duration": 541,
    "start_time": "2024-05-20T02:15:33.667Z"
   },
   {
    "duration": 70,
    "start_time": "2024-05-20T02:15:34.211Z"
   },
   {
    "duration": 29,
    "start_time": "2024-05-20T02:15:34.284Z"
   },
   {
    "duration": 9,
    "start_time": "2024-05-20T02:15:34.316Z"
   },
   {
    "duration": 291,
    "start_time": "2024-05-20T02:15:34.328Z"
   },
   {
    "duration": 258,
    "start_time": "2024-05-20T02:15:34.629Z"
   },
   {
    "duration": 324,
    "start_time": "2024-05-20T02:15:34.890Z"
   },
   {
    "duration": 14,
    "start_time": "2024-05-20T02:15:35.217Z"
   },
   {
    "duration": 14,
    "start_time": "2024-05-20T02:15:35.234Z"
   },
   {
    "duration": 10,
    "start_time": "2024-05-20T02:15:35.250Z"
   },
   {
    "duration": 453,
    "start_time": "2024-05-20T02:15:35.263Z"
   },
   {
    "duration": 66,
    "start_time": "2024-05-20T02:15:35.719Z"
   },
   {
    "duration": 364,
    "start_time": "2024-05-20T02:15:35.788Z"
   },
   {
    "duration": 1779,
    "start_time": "2024-05-20T02:15:36.155Z"
   },
   {
    "duration": 456,
    "start_time": "2024-05-20T02:15:37.937Z"
   },
   {
    "duration": 1946,
    "start_time": "2024-05-20T02:15:38.396Z"
   },
   {
    "duration": 1554,
    "start_time": "2024-05-20T02:15:40.345Z"
   },
   {
    "duration": 2177,
    "start_time": "2024-05-20T02:15:41.910Z"
   },
   {
    "duration": 1334,
    "start_time": "2024-05-20T02:15:59.310Z"
   },
   {
    "duration": 1303,
    "start_time": "2024-05-20T02:16:41.505Z"
   },
   {
    "duration": 306,
    "start_time": "2024-05-20T02:16:52.080Z"
   },
   {
    "duration": 189,
    "start_time": "2024-05-20T02:17:13.385Z"
   },
   {
    "duration": 187,
    "start_time": "2024-05-20T02:17:30.370Z"
   },
   {
    "duration": 178,
    "start_time": "2024-05-20T02:17:44.315Z"
   },
   {
    "duration": 10,
    "start_time": "2024-05-20T02:17:51.795Z"
   },
   {
    "duration": 179,
    "start_time": "2024-05-20T02:18:16.503Z"
   },
   {
    "duration": 690,
    "start_time": "2024-05-20T02:18:23.947Z"
   },
   {
    "duration": 407,
    "start_time": "2024-05-20T02:18:40.805Z"
   },
   {
    "duration": 406,
    "start_time": "2024-05-20T02:18:55.118Z"
   },
   {
    "duration": 397,
    "start_time": "2024-05-20T02:19:12.542Z"
   },
   {
    "duration": 152,
    "start_time": "2024-05-20T02:21:24.858Z"
   },
   {
    "duration": 22,
    "start_time": "2024-05-20T02:21:33.155Z"
   },
   {
    "duration": 221,
    "start_time": "2024-05-20T02:22:55.766Z"
   },
   {
    "duration": 20,
    "start_time": "2024-05-20T02:23:00.708Z"
   },
   {
    "duration": 9,
    "start_time": "2024-05-20T02:23:24.321Z"
   },
   {
    "duration": 28,
    "start_time": "2024-05-20T02:23:28.502Z"
   },
   {
    "duration": 26,
    "start_time": "2024-05-20T02:24:36.765Z"
   },
   {
    "duration": 306,
    "start_time": "2024-05-20T02:25:25.058Z"
   },
   {
    "duration": 74,
    "start_time": "2024-05-20T02:25:39.562Z"
   },
   {
    "duration": 23,
    "start_time": "2024-05-20T02:25:48.567Z"
   },
   {
    "duration": 22,
    "start_time": "2024-05-20T02:26:55.118Z"
   },
   {
    "duration": 203,
    "start_time": "2024-05-20T02:27:11.255Z"
   },
   {
    "duration": 177,
    "start_time": "2024-05-20T02:27:29.042Z"
   },
   {
    "duration": 83,
    "start_time": "2024-05-20T02:27:38.569Z"
   },
   {
    "duration": 224,
    "start_time": "2024-05-20T02:27:48.886Z"
   },
   {
    "duration": 3,
    "start_time": "2024-05-20T02:29:52.683Z"
   },
   {
    "duration": 1513,
    "start_time": "2024-05-20T02:29:52.693Z"
   },
   {
    "duration": 18,
    "start_time": "2024-05-20T02:29:54.211Z"
   },
   {
    "duration": 16,
    "start_time": "2024-05-20T02:29:54.231Z"
   },
   {
    "duration": 13,
    "start_time": "2024-05-20T02:29:54.252Z"
   },
   {
    "duration": 51,
    "start_time": "2024-05-20T02:29:54.268Z"
   },
   {
    "duration": 13,
    "start_time": "2024-05-20T02:29:54.322Z"
   },
   {
    "duration": 11,
    "start_time": "2024-05-20T02:29:54.338Z"
   },
   {
    "duration": 306,
    "start_time": "2024-05-20T02:29:54.352Z"
   },
   {
    "duration": 101,
    "start_time": "2024-05-20T02:29:54.661Z"
   },
   {
    "duration": 112,
    "start_time": "2024-05-20T02:29:54.769Z"
   },
   {
    "duration": 183,
    "start_time": "2024-05-20T02:29:54.884Z"
   },
   {
    "duration": 56,
    "start_time": "2024-05-20T02:29:55.072Z"
   },
   {
    "duration": 24,
    "start_time": "2024-05-20T02:29:55.131Z"
   },
   {
    "duration": 7,
    "start_time": "2024-05-20T02:29:55.159Z"
   },
   {
    "duration": 66,
    "start_time": "2024-05-20T02:29:55.169Z"
   },
   {
    "duration": 14,
    "start_time": "2024-05-20T02:29:55.238Z"
   },
   {
    "duration": 6,
    "start_time": "2024-05-20T02:29:55.255Z"
   },
   {
    "duration": 7,
    "start_time": "2024-05-20T02:29:55.264Z"
   },
   {
    "duration": 7,
    "start_time": "2024-05-20T02:29:55.310Z"
   },
   {
    "duration": 5,
    "start_time": "2024-05-20T02:29:55.321Z"
   },
   {
    "duration": 1363,
    "start_time": "2024-05-20T02:29:55.329Z"
   },
   {
    "duration": 1162,
    "start_time": "2024-05-20T02:29:56.695Z"
   },
   {
    "duration": 10,
    "start_time": "2024-05-20T02:29:57.859Z"
   },
   {
    "duration": 36,
    "start_time": "2024-05-20T02:29:57.872Z"
   },
   {
    "duration": 15,
    "start_time": "2024-05-20T02:29:57.911Z"
   },
   {
    "duration": 12,
    "start_time": "2024-05-20T02:29:57.929Z"
   },
   {
    "duration": 23,
    "start_time": "2024-05-20T02:29:57.943Z"
   },
   {
    "duration": 9,
    "start_time": "2024-05-20T02:29:58.013Z"
   },
   {
    "duration": 10,
    "start_time": "2024-05-20T02:29:58.025Z"
   },
   {
    "duration": 26,
    "start_time": "2024-05-20T02:29:58.038Z"
   },
   {
    "duration": 81,
    "start_time": "2024-05-20T02:29:58.067Z"
   },
   {
    "duration": 23,
    "start_time": "2024-05-20T02:29:58.151Z"
   },
   {
    "duration": 1353,
    "start_time": "2024-05-20T02:29:58.208Z"
   },
   {
    "duration": 21,
    "start_time": "2024-05-20T02:29:59.565Z"
   },
   {
    "duration": 556,
    "start_time": "2024-05-20T02:29:59.589Z"
   },
   {
    "duration": 87,
    "start_time": "2024-05-20T02:30:00.147Z"
   },
   {
    "duration": 9,
    "start_time": "2024-05-20T02:30:00.237Z"
   },
   {
    "duration": 10,
    "start_time": "2024-05-20T02:30:00.249Z"
   },
   {
    "duration": 270,
    "start_time": "2024-05-20T02:30:00.262Z"
   },
   {
    "duration": 230,
    "start_time": "2024-05-20T02:30:00.535Z"
   },
   {
    "duration": 318,
    "start_time": "2024-05-20T02:30:00.768Z"
   },
   {
    "duration": 24,
    "start_time": "2024-05-20T02:30:01.092Z"
   },
   {
    "duration": 13,
    "start_time": "2024-05-20T02:30:01.119Z"
   },
   {
    "duration": 12,
    "start_time": "2024-05-20T02:30:01.134Z"
   },
   {
    "duration": 432,
    "start_time": "2024-05-20T02:30:01.149Z"
   },
   {
    "duration": 76,
    "start_time": "2024-05-20T02:30:01.585Z"
   },
   {
    "duration": 354,
    "start_time": "2024-05-20T02:30:01.664Z"
   },
   {
    "duration": 1786,
    "start_time": "2024-05-20T02:30:02.021Z"
   },
   {
    "duration": 430,
    "start_time": "2024-05-20T02:30:03.813Z"
   },
   {
    "duration": 2029,
    "start_time": "2024-05-20T02:30:04.246Z"
   },
   {
    "duration": 1567,
    "start_time": "2024-05-20T02:30:06.279Z"
   },
   {
    "duration": 2223,
    "start_time": "2024-05-20T02:30:07.849Z"
   },
   {
    "duration": 1360,
    "start_time": "2024-05-20T02:30:10.075Z"
   },
   {
    "duration": 208,
    "start_time": "2024-05-20T02:30:11.438Z"
   },
   {
    "duration": 16,
    "start_time": "2024-05-20T02:30:11.650Z"
   },
   {
    "duration": 344,
    "start_time": "2024-05-20T02:30:11.669Z"
   },
   {
    "duration": 1388,
    "start_time": "2024-05-20T02:31:08.026Z"
   },
   {
    "duration": 1326,
    "start_time": "2024-05-20T02:32:04.074Z"
   },
   {
    "duration": 1299,
    "start_time": "2024-05-20T02:32:45.993Z"
   },
   {
    "duration": 1356,
    "start_time": "2024-05-20T02:36:05.503Z"
   },
   {
    "duration": 23,
    "start_time": "2024-05-20T02:36:22.127Z"
   },
   {
    "duration": 5,
    "start_time": "2024-05-20T02:36:56.165Z"
   },
   {
    "duration": 6,
    "start_time": "2024-05-20T02:37:00.301Z"
   },
   {
    "duration": 1453,
    "start_time": "2024-05-20T02:37:42.971Z"
   },
   {
    "duration": 1621,
    "start_time": "2024-05-20T02:39:22.126Z"
   },
   {
    "duration": 1414,
    "start_time": "2024-05-20T02:39:28.611Z"
   },
   {
    "duration": 1448,
    "start_time": "2024-05-20T02:39:36.504Z"
   },
   {
    "duration": 1513,
    "start_time": "2024-05-20T02:40:11.229Z"
   },
   {
    "duration": 1551,
    "start_time": "2024-05-20T02:40:19.450Z"
   },
   {
    "duration": 1476,
    "start_time": "2024-05-20T02:40:41.388Z"
   },
   {
    "duration": 1529,
    "start_time": "2024-05-20T02:40:48.097Z"
   },
   {
    "duration": 4,
    "start_time": "2024-05-20T02:41:16.364Z"
   },
   {
    "duration": 6,
    "start_time": "2024-05-20T02:41:30.805Z"
   },
   {
    "duration": 1516,
    "start_time": "2024-05-20T02:41:58.508Z"
   },
   {
    "duration": 1530,
    "start_time": "2024-05-20T02:42:11.563Z"
   },
   {
    "duration": 1508,
    "start_time": "2024-05-20T02:42:40.453Z"
   },
   {
    "duration": 226,
    "start_time": "2024-05-20T03:42:31.288Z"
   },
   {
    "duration": 1912,
    "start_time": "2024-05-20T05:10:25.843Z"
   },
   {
    "duration": 185,
    "start_time": "2024-05-20T05:10:29.333Z"
   },
   {
    "duration": 4371,
    "start_time": "2024-05-21T01:33:51.501Z"
   },
   {
    "duration": 1688,
    "start_time": "2024-05-21T01:33:55.876Z"
   },
   {
    "duration": 20,
    "start_time": "2024-05-21T01:33:57.566Z"
   },
   {
    "duration": 45,
    "start_time": "2024-05-21T01:33:57.590Z"
   },
   {
    "duration": 15,
    "start_time": "2024-05-21T01:33:57.638Z"
   },
   {
    "duration": 15,
    "start_time": "2024-05-21T01:33:57.656Z"
   },
   {
    "duration": 49,
    "start_time": "2024-05-21T01:33:57.677Z"
   },
   {
    "duration": 11,
    "start_time": "2024-05-21T01:33:57.729Z"
   },
   {
    "duration": 328,
    "start_time": "2024-05-21T01:33:57.743Z"
   },
   {
    "duration": 15,
    "start_time": "2024-05-21T01:33:58.078Z"
   },
   {
    "duration": 142,
    "start_time": "2024-05-21T01:33:58.095Z"
   },
   {
    "duration": 184,
    "start_time": "2024-05-21T01:33:58.240Z"
   },
   {
    "duration": 48,
    "start_time": "2024-05-21T01:33:58.431Z"
   },
   {
    "duration": 45,
    "start_time": "2024-05-21T01:33:58.482Z"
   },
   {
    "duration": 7,
    "start_time": "2024-05-21T01:33:58.530Z"
   },
   {
    "duration": 38,
    "start_time": "2024-05-21T01:33:58.541Z"
   },
   {
    "duration": 47,
    "start_time": "2024-05-21T01:33:58.583Z"
   },
   {
    "duration": 9,
    "start_time": "2024-05-21T01:33:58.635Z"
   },
   {
    "duration": 7,
    "start_time": "2024-05-21T01:33:58.646Z"
   },
   {
    "duration": 6,
    "start_time": "2024-05-21T01:33:58.656Z"
   },
   {
    "duration": 5,
    "start_time": "2024-05-21T01:33:58.665Z"
   },
   {
    "duration": 1437,
    "start_time": "2024-05-21T01:33:58.673Z"
   },
   {
    "duration": 1204,
    "start_time": "2024-05-21T01:34:00.113Z"
   },
   {
    "duration": 13,
    "start_time": "2024-05-21T01:34:01.320Z"
   },
   {
    "duration": 19,
    "start_time": "2024-05-21T01:34:01.336Z"
   },
   {
    "duration": 17,
    "start_time": "2024-05-21T01:34:01.359Z"
   },
   {
    "duration": 13,
    "start_time": "2024-05-21T01:34:01.425Z"
   },
   {
    "duration": 27,
    "start_time": "2024-05-21T01:34:01.448Z"
   },
   {
    "duration": 14,
    "start_time": "2024-05-21T01:34:01.478Z"
   },
   {
    "duration": 41,
    "start_time": "2024-05-21T01:34:01.495Z"
   },
   {
    "duration": 27,
    "start_time": "2024-05-21T01:34:01.539Z"
   },
   {
    "duration": 89,
    "start_time": "2024-05-21T01:34:01.569Z"
   },
   {
    "duration": 22,
    "start_time": "2024-05-21T01:34:01.661Z"
   },
   {
    "duration": 1456,
    "start_time": "2024-05-21T01:34:01.686Z"
   },
   {
    "duration": 22,
    "start_time": "2024-05-21T01:34:03.146Z"
   },
   {
    "duration": 570,
    "start_time": "2024-05-21T01:34:03.171Z"
   },
   {
    "duration": 96,
    "start_time": "2024-05-21T01:34:03.744Z"
   },
   {
    "duration": 10,
    "start_time": "2024-05-21T01:34:03.843Z"
   },
   {
    "duration": 9,
    "start_time": "2024-05-21T01:34:03.856Z"
   },
   {
    "duration": 305,
    "start_time": "2024-05-21T01:34:03.869Z"
   },
   {
    "duration": 234,
    "start_time": "2024-05-21T01:34:04.177Z"
   },
   {
    "duration": 376,
    "start_time": "2024-05-21T01:34:04.414Z"
   },
   {
    "duration": 34,
    "start_time": "2024-05-21T01:34:04.794Z"
   },
   {
    "duration": 15,
    "start_time": "2024-05-21T01:34:04.831Z"
   },
   {
    "duration": 13,
    "start_time": "2024-05-21T01:34:04.849Z"
   },
   {
    "duration": 460,
    "start_time": "2024-05-21T01:34:04.866Z"
   },
   {
    "duration": 72,
    "start_time": "2024-05-21T01:34:05.329Z"
   },
   {
    "duration": 364,
    "start_time": "2024-05-21T01:34:05.404Z"
   },
   {
    "duration": 1829,
    "start_time": "2024-05-21T01:34:05.771Z"
   },
   {
    "duration": 472,
    "start_time": "2024-05-21T01:34:07.603Z"
   },
   {
    "duration": 2331,
    "start_time": "2024-05-21T01:34:08.079Z"
   },
   {
    "duration": 1608,
    "start_time": "2024-05-21T01:34:10.413Z"
   },
   {
    "duration": 2274,
    "start_time": "2024-05-21T01:34:12.030Z"
   },
   {
    "duration": 1319,
    "start_time": "2024-05-21T01:34:14.307Z"
   },
   {
    "duration": 240,
    "start_time": "2024-05-21T01:34:15.630Z"
   },
   {
    "duration": 1977,
    "start_time": "2024-05-21T01:34:15.873Z"
   },
   {
    "duration": 241,
    "start_time": "2024-05-21T01:34:17.854Z"
   },
   {
    "duration": 1666,
    "start_time": "2024-05-21T01:34:18.098Z"
   },
   {
    "duration": 225,
    "start_time": "2024-05-21T01:39:38.888Z"
   },
   {
    "duration": 9,
    "start_time": "2024-05-21T01:42:28.278Z"
   },
   {
    "duration": 762,
    "start_time": "2024-05-21T01:42:35.209Z"
   },
   {
    "duration": 1596,
    "start_time": "2024-05-21T01:42:35.975Z"
   },
   {
    "duration": 19,
    "start_time": "2024-05-21T01:42:37.574Z"
   },
   {
    "duration": 39,
    "start_time": "2024-05-21T01:42:37.599Z"
   },
   {
    "duration": 17,
    "start_time": "2024-05-21T01:42:37.642Z"
   },
   {
    "duration": 17,
    "start_time": "2024-05-21T01:42:37.662Z"
   },
   {
    "duration": 60,
    "start_time": "2024-05-21T01:42:37.682Z"
   },
   {
    "duration": 10,
    "start_time": "2024-05-21T01:42:37.748Z"
   },
   {
    "duration": 418,
    "start_time": "2024-05-21T01:42:37.763Z"
   },
   {
    "duration": 17,
    "start_time": "2024-05-21T01:42:38.190Z"
   },
   {
    "duration": 145,
    "start_time": "2024-05-21T01:42:38.227Z"
   },
   {
    "duration": 214,
    "start_time": "2024-05-21T01:42:38.375Z"
   },
   {
    "duration": 72,
    "start_time": "2024-05-21T01:42:38.593Z"
   },
   {
    "duration": 25,
    "start_time": "2024-05-21T01:42:38.668Z"
   },
   {
    "duration": 31,
    "start_time": "2024-05-21T01:42:38.696Z"
   },
   {
    "duration": 43,
    "start_time": "2024-05-21T01:42:38.730Z"
   },
   {
    "duration": 15,
    "start_time": "2024-05-21T01:42:38.777Z"
   },
   {
    "duration": 7,
    "start_time": "2024-05-21T01:42:38.827Z"
   },
   {
    "duration": 5,
    "start_time": "2024-05-21T01:42:38.838Z"
   },
   {
    "duration": 7,
    "start_time": "2024-05-21T01:42:38.848Z"
   },
   {
    "duration": 6,
    "start_time": "2024-05-21T01:42:38.859Z"
   },
   {
    "duration": 1653,
    "start_time": "2024-05-21T01:42:38.869Z"
   },
   {
    "duration": 1387,
    "start_time": "2024-05-21T01:42:40.527Z"
   },
   {
    "duration": 14,
    "start_time": "2024-05-21T01:42:41.917Z"
   },
   {
    "duration": 15,
    "start_time": "2024-05-21T01:42:41.935Z"
   },
   {
    "duration": 14,
    "start_time": "2024-05-21T01:42:41.953Z"
   },
   {
    "duration": 56,
    "start_time": "2024-05-21T01:42:41.970Z"
   },
   {
    "duration": 23,
    "start_time": "2024-05-21T01:42:42.035Z"
   },
   {
    "duration": 11,
    "start_time": "2024-05-21T01:42:42.061Z"
   },
   {
    "duration": 56,
    "start_time": "2024-05-21T01:42:42.075Z"
   },
   {
    "duration": 29,
    "start_time": "2024-05-21T01:42:42.134Z"
   },
   {
    "duration": 84,
    "start_time": "2024-05-21T01:42:42.165Z"
   },
   {
    "duration": 24,
    "start_time": "2024-05-21T01:42:42.256Z"
   },
   {
    "duration": 1667,
    "start_time": "2024-05-21T01:42:42.283Z"
   },
   {
    "duration": 23,
    "start_time": "2024-05-21T01:42:43.953Z"
   },
   {
    "duration": 621,
    "start_time": "2024-05-21T01:42:43.979Z"
   },
   {
    "duration": 96,
    "start_time": "2024-05-21T01:42:44.603Z"
   },
   {
    "duration": 26,
    "start_time": "2024-05-21T01:42:44.702Z"
   },
   {
    "duration": 10,
    "start_time": "2024-05-21T01:42:44.734Z"
   },
   {
    "duration": 369,
    "start_time": "2024-05-21T01:42:44.748Z"
   },
   {
    "duration": 300,
    "start_time": "2024-05-21T01:42:45.132Z"
   },
   {
    "duration": 413,
    "start_time": "2024-05-21T01:42:45.435Z"
   },
   {
    "duration": 16,
    "start_time": "2024-05-21T01:42:45.852Z"
   },
   {
    "duration": 16,
    "start_time": "2024-05-21T01:42:45.874Z"
   },
   {
    "duration": 44,
    "start_time": "2024-05-21T01:42:45.893Z"
   },
   {
    "duration": 495,
    "start_time": "2024-05-21T01:42:45.942Z"
   },
   {
    "duration": 85,
    "start_time": "2024-05-21T01:42:46.441Z"
   },
   {
    "duration": 352,
    "start_time": "2024-05-21T01:42:46.530Z"
   },
   {
    "duration": 1959,
    "start_time": "2024-05-21T01:42:46.885Z"
   },
   {
    "duration": 476,
    "start_time": "2024-05-21T01:42:48.847Z"
   },
   {
    "duration": 2378,
    "start_time": "2024-05-21T01:42:49.326Z"
   },
   {
    "duration": 1655,
    "start_time": "2024-05-21T01:42:51.708Z"
   },
   {
    "duration": 2443,
    "start_time": "2024-05-21T01:42:53.368Z"
   },
   {
    "duration": 1547,
    "start_time": "2024-05-21T01:42:55.814Z"
   },
   {
    "duration": 417,
    "start_time": "2024-05-21T01:42:57.365Z"
   },
   {
    "duration": 2120,
    "start_time": "2024-05-21T01:42:57.786Z"
   },
   {
    "duration": 17,
    "start_time": "2024-05-21T01:42:59.910Z"
   },
   {
    "duration": 0,
    "start_time": "2024-05-21T01:42:59.932Z"
   },
   {
    "duration": 0,
    "start_time": "2024-05-21T01:42:59.935Z"
   },
   {
    "duration": 0,
    "start_time": "2024-05-21T01:42:59.938Z"
   },
   {
    "duration": 208,
    "start_time": "2024-05-21T01:43:06.196Z"
   },
   {
    "duration": 1016,
    "start_time": "2024-05-21T01:43:23.182Z"
   },
   {
    "duration": 360,
    "start_time": "2024-05-21T01:43:42.648Z"
   },
   {
    "duration": 214,
    "start_time": "2024-05-21T01:43:48.069Z"
   },
   {
    "duration": 300,
    "start_time": "2024-05-21T01:45:18.859Z"
   },
   {
    "duration": 206,
    "start_time": "2024-05-21T01:45:29.076Z"
   },
   {
    "duration": 229,
    "start_time": "2024-05-21T01:46:03.011Z"
   },
   {
    "duration": 1723,
    "start_time": "2024-05-21T01:50:29.271Z"
   },
   {
    "duration": 9,
    "start_time": "2024-05-21T02:09:58.863Z"
   },
   {
    "duration": 13,
    "start_time": "2024-05-23T00:08:33.931Z"
   },
   {
    "duration": 399,
    "start_time": "2024-05-23T00:13:25.889Z"
   },
   {
    "duration": 4419,
    "start_time": "2024-05-23T00:13:43.630Z"
   },
   {
    "duration": 1716,
    "start_time": "2024-05-23T00:13:48.053Z"
   },
   {
    "duration": 17,
    "start_time": "2024-05-23T00:13:49.772Z"
   },
   {
    "duration": 41,
    "start_time": "2024-05-23T00:13:49.792Z"
   },
   {
    "duration": 14,
    "start_time": "2024-05-23T00:13:49.836Z"
   },
   {
    "duration": 14,
    "start_time": "2024-05-23T00:13:49.853Z"
   },
   {
    "duration": 922,
    "start_time": "2024-05-23T00:13:52.334Z"
   },
   {
    "duration": 675,
    "start_time": "2024-05-23T00:16:41.989Z"
   },
   {
    "duration": 1575,
    "start_time": "2024-05-23T00:16:42.668Z"
   },
   {
    "duration": 309,
    "start_time": "2024-05-23T00:16:44.246Z"
   },
   {
    "duration": 99,
    "start_time": "2024-05-23T00:16:44.558Z"
   },
   {
    "duration": 205,
    "start_time": "2024-05-23T00:16:44.663Z"
   },
   {
    "duration": 0,
    "start_time": "2024-05-23T00:16:44.875Z"
   },
   {
    "duration": 0,
    "start_time": "2024-05-23T00:16:44.880Z"
   },
   {
    "duration": 0,
    "start_time": "2024-05-23T00:16:44.881Z"
   },
   {
    "duration": 0,
    "start_time": "2024-05-23T00:16:44.884Z"
   },
   {
    "duration": 0,
    "start_time": "2024-05-23T00:16:44.887Z"
   },
   {
    "duration": 0,
    "start_time": "2024-05-23T00:16:44.890Z"
   },
   {
    "duration": 0,
    "start_time": "2024-05-23T00:16:44.891Z"
   },
   {
    "duration": 0,
    "start_time": "2024-05-23T00:16:44.893Z"
   },
   {
    "duration": 0,
    "start_time": "2024-05-23T00:16:44.895Z"
   },
   {
    "duration": 0,
    "start_time": "2024-05-23T00:16:44.897Z"
   },
   {
    "duration": 0,
    "start_time": "2024-05-23T00:16:44.899Z"
   },
   {
    "duration": 0,
    "start_time": "2024-05-23T00:16:44.931Z"
   },
   {
    "duration": 1,
    "start_time": "2024-05-23T00:16:44.932Z"
   },
   {
    "duration": 0,
    "start_time": "2024-05-23T00:16:44.935Z"
   },
   {
    "duration": 0,
    "start_time": "2024-05-23T00:16:44.938Z"
   },
   {
    "duration": 0,
    "start_time": "2024-05-23T00:16:44.939Z"
   },
   {
    "duration": 0,
    "start_time": "2024-05-23T00:16:44.941Z"
   },
   {
    "duration": 0,
    "start_time": "2024-05-23T00:16:44.943Z"
   },
   {
    "duration": 0,
    "start_time": "2024-05-23T00:16:44.945Z"
   },
   {
    "duration": 0,
    "start_time": "2024-05-23T00:16:44.948Z"
   },
   {
    "duration": 0,
    "start_time": "2024-05-23T00:16:44.950Z"
   },
   {
    "duration": 1,
    "start_time": "2024-05-23T00:16:44.952Z"
   },
   {
    "duration": 0,
    "start_time": "2024-05-23T00:16:44.955Z"
   },
   {
    "duration": 0,
    "start_time": "2024-05-23T00:16:44.957Z"
   },
   {
    "duration": 0,
    "start_time": "2024-05-23T00:16:44.959Z"
   },
   {
    "duration": 0,
    "start_time": "2024-05-23T00:16:44.962Z"
   },
   {
    "duration": 0,
    "start_time": "2024-05-23T00:16:44.964Z"
   },
   {
    "duration": 0,
    "start_time": "2024-05-23T00:16:44.965Z"
   },
   {
    "duration": 0,
    "start_time": "2024-05-23T00:16:44.967Z"
   },
   {
    "duration": 0,
    "start_time": "2024-05-23T00:16:45.031Z"
   },
   {
    "duration": 0,
    "start_time": "2024-05-23T00:16:45.034Z"
   },
   {
    "duration": 0,
    "start_time": "2024-05-23T00:16:45.036Z"
   },
   {
    "duration": 0,
    "start_time": "2024-05-23T00:16:45.038Z"
   },
   {
    "duration": 0,
    "start_time": "2024-05-23T00:16:45.040Z"
   },
   {
    "duration": 0,
    "start_time": "2024-05-23T00:16:45.042Z"
   },
   {
    "duration": 0,
    "start_time": "2024-05-23T00:16:45.045Z"
   },
   {
    "duration": 0,
    "start_time": "2024-05-23T00:16:45.046Z"
   },
   {
    "duration": 0,
    "start_time": "2024-05-23T00:16:45.048Z"
   },
   {
    "duration": 0,
    "start_time": "2024-05-23T00:16:45.050Z"
   },
   {
    "duration": 0,
    "start_time": "2024-05-23T00:16:45.053Z"
   },
   {
    "duration": 0,
    "start_time": "2024-05-23T00:16:45.055Z"
   },
   {
    "duration": 0,
    "start_time": "2024-05-23T00:16:45.057Z"
   },
   {
    "duration": 0,
    "start_time": "2024-05-23T00:16:45.060Z"
   },
   {
    "duration": 0,
    "start_time": "2024-05-23T00:16:45.063Z"
   },
   {
    "duration": 0,
    "start_time": "2024-05-23T00:16:45.065Z"
   },
   {
    "duration": 0,
    "start_time": "2024-05-23T00:16:45.140Z"
   },
   {
    "duration": 0,
    "start_time": "2024-05-23T00:16:45.142Z"
   },
   {
    "duration": 0,
    "start_time": "2024-05-23T00:16:45.145Z"
   },
   {
    "duration": 0,
    "start_time": "2024-05-23T00:16:45.147Z"
   },
   {
    "duration": 0,
    "start_time": "2024-05-23T00:16:45.151Z"
   },
   {
    "duration": 0,
    "start_time": "2024-05-23T00:16:45.153Z"
   },
   {
    "duration": 0,
    "start_time": "2024-05-23T00:16:45.155Z"
   },
   {
    "duration": 0,
    "start_time": "2024-05-23T00:16:45.159Z"
   },
   {
    "duration": 0,
    "start_time": "2024-05-23T00:16:45.161Z"
   },
   {
    "duration": 0,
    "start_time": "2024-05-23T00:16:45.162Z"
   },
   {
    "duration": 30,
    "start_time": "2024-05-23T00:17:21.252Z"
   },
   {
    "duration": 24,
    "start_time": "2024-05-23T00:17:41.376Z"
   },
   {
    "duration": 35,
    "start_time": "2024-05-23T00:17:44.616Z"
   },
   {
    "duration": 871,
    "start_time": "2024-05-23T00:17:47.215Z"
   },
   {
    "duration": 154,
    "start_time": "2024-05-23T00:20:08.232Z"
   },
   {
    "duration": 149,
    "start_time": "2024-05-23T00:20:15.301Z"
   },
   {
    "duration": 34,
    "start_time": "2024-05-23T00:20:25.674Z"
   },
   {
    "duration": 34,
    "start_time": "2024-05-23T00:20:28.227Z"
   },
   {
    "duration": 35,
    "start_time": "2024-05-23T00:20:33.270Z"
   },
   {
    "duration": 9,
    "start_time": "2024-05-23T00:26:48.152Z"
   },
   {
    "duration": 9,
    "start_time": "2024-05-23T00:27:03.009Z"
   },
   {
    "duration": 10,
    "start_time": "2024-05-23T00:27:10.943Z"
   },
   {
    "duration": 9,
    "start_time": "2024-05-23T00:27:20.620Z"
   },
   {
    "duration": 8,
    "start_time": "2024-05-23T00:28:20.052Z"
   },
   {
    "duration": 18,
    "start_time": "2024-05-23T00:28:45.776Z"
   },
   {
    "duration": 17,
    "start_time": "2024-05-23T00:28:53.345Z"
   },
   {
    "duration": 11,
    "start_time": "2024-05-23T00:29:14.435Z"
   },
   {
    "duration": 19,
    "start_time": "2024-05-23T00:29:24.305Z"
   },
   {
    "duration": 251,
    "start_time": "2024-05-23T00:29:30.796Z"
   },
   {
    "duration": 718,
    "start_time": "2024-05-23T00:29:47.714Z"
   },
   {
    "duration": 1560,
    "start_time": "2024-05-23T00:29:48.436Z"
   },
   {
    "duration": 168,
    "start_time": "2024-05-23T00:29:50.000Z"
   },
   {
    "duration": 35,
    "start_time": "2024-05-23T00:29:50.172Z"
   },
   {
    "duration": 25,
    "start_time": "2024-05-23T00:29:50.230Z"
   },
   {
    "duration": 37,
    "start_time": "2024-05-23T00:29:50.258Z"
   },
   {
    "duration": 822,
    "start_time": "2024-05-23T00:29:50.330Z"
   },
   {
    "duration": 10,
    "start_time": "2024-05-23T00:29:51.155Z"
   },
   {
    "duration": 275,
    "start_time": "2024-05-23T00:29:51.169Z"
   },
   {
    "duration": 22,
    "start_time": "2024-05-23T00:29:51.450Z"
   },
   {
    "duration": 123,
    "start_time": "2024-05-23T00:29:51.475Z"
   },
   {
    "duration": 192,
    "start_time": "2024-05-23T00:29:51.601Z"
   },
   {
    "duration": 68,
    "start_time": "2024-05-23T00:29:51.796Z"
   },
   {
    "duration": 26,
    "start_time": "2024-05-23T00:29:51.867Z"
   },
   {
    "duration": 6,
    "start_time": "2024-05-23T00:29:51.898Z"
   },
   {
    "duration": 36,
    "start_time": "2024-05-23T00:29:51.932Z"
   },
   {
    "duration": 13,
    "start_time": "2024-05-23T00:29:51.971Z"
   },
   {
    "duration": 8,
    "start_time": "2024-05-23T00:29:51.989Z"
   },
   {
    "duration": 6,
    "start_time": "2024-05-23T00:29:52.031Z"
   },
   {
    "duration": 8,
    "start_time": "2024-05-23T00:29:52.044Z"
   },
   {
    "duration": 6,
    "start_time": "2024-05-23T00:29:52.058Z"
   },
   {
    "duration": 1369,
    "start_time": "2024-05-23T00:29:52.067Z"
   },
   {
    "duration": 1135,
    "start_time": "2024-05-23T00:29:53.439Z"
   },
   {
    "duration": 8,
    "start_time": "2024-05-23T00:29:54.577Z"
   },
   {
    "duration": 14,
    "start_time": "2024-05-23T00:29:54.587Z"
   },
   {
    "duration": 39,
    "start_time": "2024-05-23T00:29:54.604Z"
   },
   {
    "duration": 11,
    "start_time": "2024-05-23T00:29:54.646Z"
   },
   {
    "duration": 21,
    "start_time": "2024-05-23T00:29:54.665Z"
   },
   {
    "duration": 45,
    "start_time": "2024-05-23T00:29:54.689Z"
   },
   {
    "duration": 10,
    "start_time": "2024-05-23T00:29:54.737Z"
   },
   {
    "duration": 27,
    "start_time": "2024-05-23T00:29:54.750Z"
   },
   {
    "duration": 89,
    "start_time": "2024-05-23T00:29:54.779Z"
   },
   {
    "duration": 23,
    "start_time": "2024-05-23T00:29:54.871Z"
   },
   {
    "duration": 1408,
    "start_time": "2024-05-23T00:29:54.897Z"
   },
   {
    "duration": 34,
    "start_time": "2024-05-23T00:29:56.308Z"
   },
   {
    "duration": 522,
    "start_time": "2024-05-23T00:29:56.345Z"
   },
   {
    "duration": 85,
    "start_time": "2024-05-23T00:29:56.870Z"
   },
   {
    "duration": 10,
    "start_time": "2024-05-23T00:29:56.958Z"
   },
   {
    "duration": 10,
    "start_time": "2024-05-23T00:29:56.971Z"
   },
   {
    "duration": 291,
    "start_time": "2024-05-23T00:29:56.984Z"
   },
   {
    "duration": 239,
    "start_time": "2024-05-23T00:29:57.278Z"
   },
   {
    "duration": 313,
    "start_time": "2024-05-23T00:29:57.521Z"
   },
   {
    "duration": 12,
    "start_time": "2024-05-23T00:29:57.837Z"
   },
   {
    "duration": 12,
    "start_time": "2024-05-23T00:29:57.852Z"
   },
   {
    "duration": 11,
    "start_time": "2024-05-23T00:29:57.867Z"
   },
   {
    "duration": 473,
    "start_time": "2024-05-23T00:29:57.881Z"
   },
   {
    "duration": 75,
    "start_time": "2024-05-23T00:29:58.357Z"
   },
   {
    "duration": 370,
    "start_time": "2024-05-23T00:29:58.438Z"
   },
   {
    "duration": 1799,
    "start_time": "2024-05-23T00:29:58.813Z"
   },
   {
    "duration": 480,
    "start_time": "2024-05-23T00:30:00.615Z"
   },
   {
    "duration": 2008,
    "start_time": "2024-05-23T00:30:01.098Z"
   },
   {
    "duration": 1569,
    "start_time": "2024-05-23T00:30:03.109Z"
   },
   {
    "duration": 2257,
    "start_time": "2024-05-23T00:30:04.682Z"
   },
   {
    "duration": 1327,
    "start_time": "2024-05-23T00:30:06.943Z"
   },
   {
    "duration": 315,
    "start_time": "2024-05-23T00:30:08.273Z"
   },
   {
    "duration": 1861,
    "start_time": "2024-05-23T00:30:08.591Z"
   },
   {
    "duration": 209,
    "start_time": "2024-05-23T00:30:10.455Z"
   },
   {
    "duration": 232,
    "start_time": "2024-05-23T00:30:10.670Z"
   },
   {
    "duration": 1736,
    "start_time": "2024-05-23T00:30:10.912Z"
   },
   {
    "duration": 13,
    "start_time": "2024-05-23T00:30:12.651Z"
   },
   {
    "duration": 281,
    "start_time": "2024-05-23T00:30:42.566Z"
   },
   {
    "duration": 272,
    "start_time": "2024-05-23T00:30:53.700Z"
   },
   {
    "duration": 263,
    "start_time": "2024-05-23T00:30:58.220Z"
   },
   {
    "duration": 278,
    "start_time": "2024-05-23T00:31:04.656Z"
   },
   {
    "duration": 255,
    "start_time": "2024-05-23T00:31:10.751Z"
   },
   {
    "duration": 714,
    "start_time": "2024-05-23T00:31:20.593Z"
   },
   {
    "duration": 1590,
    "start_time": "2024-05-23T00:31:21.311Z"
   },
   {
    "duration": 177,
    "start_time": "2024-05-23T00:31:22.904Z"
   },
   {
    "duration": 54,
    "start_time": "2024-05-23T00:31:23.085Z"
   },
   {
    "duration": 33,
    "start_time": "2024-05-23T00:31:23.142Z"
   },
   {
    "duration": 65,
    "start_time": "2024-05-23T00:31:23.180Z"
   },
   {
    "duration": 826,
    "start_time": "2024-05-23T00:31:23.248Z"
   },
   {
    "duration": 10,
    "start_time": "2024-05-23T00:31:24.077Z"
   },
   {
    "duration": 289,
    "start_time": "2024-05-23T00:31:24.090Z"
   },
   {
    "duration": 20,
    "start_time": "2024-05-23T00:31:24.385Z"
   },
   {
    "duration": 129,
    "start_time": "2024-05-23T00:31:24.408Z"
   },
   {
    "duration": 188,
    "start_time": "2024-05-23T00:31:24.543Z"
   },
   {
    "duration": 45,
    "start_time": "2024-05-23T00:31:24.734Z"
   },
   {
    "duration": 22,
    "start_time": "2024-05-23T00:31:24.782Z"
   },
   {
    "duration": 5,
    "start_time": "2024-05-23T00:31:24.832Z"
   },
   {
    "duration": 37,
    "start_time": "2024-05-23T00:31:24.840Z"
   },
   {
    "duration": 13,
    "start_time": "2024-05-23T00:31:24.880Z"
   },
   {
    "duration": 37,
    "start_time": "2024-05-23T00:31:24.896Z"
   },
   {
    "duration": 6,
    "start_time": "2024-05-23T00:31:24.937Z"
   },
   {
    "duration": 7,
    "start_time": "2024-05-23T00:31:24.946Z"
   },
   {
    "duration": 5,
    "start_time": "2024-05-23T00:31:24.956Z"
   },
   {
    "duration": 1385,
    "start_time": "2024-05-23T00:31:24.965Z"
   },
   {
    "duration": 1153,
    "start_time": "2024-05-23T00:31:26.354Z"
   },
   {
    "duration": 8,
    "start_time": "2024-05-23T00:31:27.509Z"
   },
   {
    "duration": 14,
    "start_time": "2024-05-23T00:31:27.531Z"
   },
   {
    "duration": 13,
    "start_time": "2024-05-23T00:31:27.548Z"
   },
   {
    "duration": 13,
    "start_time": "2024-05-23T00:31:27.564Z"
   },
   {
    "duration": 61,
    "start_time": "2024-05-23T00:31:27.585Z"
   },
   {
    "duration": 11,
    "start_time": "2024-05-23T00:31:27.649Z"
   },
   {
    "duration": 10,
    "start_time": "2024-05-23T00:31:27.663Z"
   },
   {
    "duration": 67,
    "start_time": "2024-05-23T00:31:27.676Z"
   },
   {
    "duration": 50,
    "start_time": "2024-05-23T00:31:27.746Z"
   },
   {
    "duration": 47,
    "start_time": "2024-05-23T00:31:27.799Z"
   },
   {
    "duration": 1442,
    "start_time": "2024-05-23T00:31:27.849Z"
   },
   {
    "duration": 20,
    "start_time": "2024-05-23T00:31:29.294Z"
   },
   {
    "duration": 514,
    "start_time": "2024-05-23T00:31:29.331Z"
   },
   {
    "duration": 85,
    "start_time": "2024-05-23T00:31:29.848Z"
   },
   {
    "duration": 9,
    "start_time": "2024-05-23T00:31:29.936Z"
   },
   {
    "duration": 9,
    "start_time": "2024-05-23T00:31:29.948Z"
   },
   {
    "duration": 296,
    "start_time": "2024-05-23T00:31:29.960Z"
   },
   {
    "duration": 236,
    "start_time": "2024-05-23T00:31:30.262Z"
   },
   {
    "duration": 314,
    "start_time": "2024-05-23T00:31:30.501Z"
   },
   {
    "duration": 22,
    "start_time": "2024-05-23T00:31:30.818Z"
   },
   {
    "duration": 13,
    "start_time": "2024-05-23T00:31:30.843Z"
   },
   {
    "duration": 11,
    "start_time": "2024-05-23T00:31:30.859Z"
   },
   {
    "duration": 452,
    "start_time": "2024-05-23T00:31:30.873Z"
   },
   {
    "duration": 73,
    "start_time": "2024-05-23T00:31:31.332Z"
   },
   {
    "duration": 347,
    "start_time": "2024-05-23T00:31:31.411Z"
   },
   {
    "duration": 1776,
    "start_time": "2024-05-23T00:31:31.764Z"
   },
   {
    "duration": 460,
    "start_time": "2024-05-23T00:31:33.543Z"
   },
   {
    "duration": 1891,
    "start_time": "2024-05-23T00:31:34.006Z"
   },
   {
    "duration": 1562,
    "start_time": "2024-05-23T00:31:35.901Z"
   },
   {
    "duration": 2144,
    "start_time": "2024-05-23T00:31:37.466Z"
   },
   {
    "duration": 1270,
    "start_time": "2024-05-23T00:31:39.613Z"
   },
   {
    "duration": 299,
    "start_time": "2024-05-23T00:31:40.886Z"
   },
   {
    "duration": 1790,
    "start_time": "2024-05-23T00:31:41.187Z"
   },
   {
    "duration": 205,
    "start_time": "2024-05-23T00:31:42.980Z"
   },
   {
    "duration": 242,
    "start_time": "2024-05-23T00:31:43.188Z"
   },
   {
    "duration": 1508,
    "start_time": "2024-05-23T00:31:43.433Z"
   },
   {
    "duration": 9,
    "start_time": "2024-05-23T00:31:44.944Z"
   },
   {
    "duration": 264,
    "start_time": "2024-05-23T00:31:54.013Z"
   },
   {
    "duration": 277,
    "start_time": "2024-05-23T00:32:02.557Z"
   },
   {
    "duration": 265,
    "start_time": "2024-05-23T00:32:16.534Z"
   },
   {
    "duration": 672,
    "start_time": "2024-05-23T00:32:27.777Z"
   },
   {
    "duration": 1557,
    "start_time": "2024-05-23T00:32:28.453Z"
   },
   {
    "duration": 166,
    "start_time": "2024-05-23T00:32:30.013Z"
   },
   {
    "duration": 48,
    "start_time": "2024-05-23T00:32:30.184Z"
   },
   {
    "duration": 28,
    "start_time": "2024-05-23T00:32:30.238Z"
   },
   {
    "duration": 66,
    "start_time": "2024-05-23T00:32:30.269Z"
   },
   {
    "duration": 819,
    "start_time": "2024-05-23T00:32:30.338Z"
   },
   {
    "duration": 9,
    "start_time": "2024-05-23T00:32:31.160Z"
   },
   {
    "duration": 288,
    "start_time": "2024-05-23T00:32:31.172Z"
   },
   {
    "duration": 24,
    "start_time": "2024-05-23T00:32:31.463Z"
   },
   {
    "duration": 128,
    "start_time": "2024-05-23T00:32:31.490Z"
   },
   {
    "duration": 176,
    "start_time": "2024-05-23T00:32:31.621Z"
   },
   {
    "duration": 59,
    "start_time": "2024-05-23T00:32:31.800Z"
   },
   {
    "duration": 21,
    "start_time": "2024-05-23T00:32:31.866Z"
   },
   {
    "duration": 5,
    "start_time": "2024-05-23T00:32:31.890Z"
   },
   {
    "duration": 67,
    "start_time": "2024-05-23T00:32:31.898Z"
   },
   {
    "duration": 14,
    "start_time": "2024-05-23T00:32:31.968Z"
   },
   {
    "duration": 7,
    "start_time": "2024-05-23T00:32:31.984Z"
   },
   {
    "duration": 48,
    "start_time": "2024-05-23T00:32:31.993Z"
   },
   {
    "duration": 7,
    "start_time": "2024-05-23T00:32:32.044Z"
   },
   {
    "duration": 6,
    "start_time": "2024-05-23T00:32:32.054Z"
   },
   {
    "duration": 1340,
    "start_time": "2024-05-23T00:32:32.063Z"
   },
   {
    "duration": 1154,
    "start_time": "2024-05-23T00:32:33.406Z"
   },
   {
    "duration": 7,
    "start_time": "2024-05-23T00:32:34.564Z"
   },
   {
    "duration": 15,
    "start_time": "2024-05-23T00:32:34.576Z"
   },
   {
    "duration": 41,
    "start_time": "2024-05-23T00:32:34.594Z"
   },
   {
    "duration": 11,
    "start_time": "2024-05-23T00:32:34.638Z"
   },
   {
    "duration": 23,
    "start_time": "2024-05-23T00:32:34.652Z"
   },
   {
    "duration": 10,
    "start_time": "2024-05-23T00:32:34.677Z"
   },
   {
    "duration": 46,
    "start_time": "2024-05-23T00:32:34.690Z"
   },
   {
    "duration": 26,
    "start_time": "2024-05-23T00:32:34.739Z"
   },
   {
    "duration": 88,
    "start_time": "2024-05-23T00:32:34.768Z"
   },
   {
    "duration": 24,
    "start_time": "2024-05-23T00:32:34.861Z"
   },
   {
    "duration": 1431,
    "start_time": "2024-05-23T00:32:34.888Z"
   },
   {
    "duration": 26,
    "start_time": "2024-05-23T00:32:36.322Z"
   },
   {
    "duration": 529,
    "start_time": "2024-05-23T00:32:36.352Z"
   },
   {
    "duration": 81,
    "start_time": "2024-05-23T00:32:36.884Z"
   },
   {
    "duration": 10,
    "start_time": "2024-05-23T00:32:36.968Z"
   },
   {
    "duration": 9,
    "start_time": "2024-05-23T00:32:36.982Z"
   },
   {
    "duration": 298,
    "start_time": "2024-05-23T00:32:36.994Z"
   },
   {
    "duration": 238,
    "start_time": "2024-05-23T00:32:37.302Z"
   },
   {
    "duration": 307,
    "start_time": "2024-05-23T00:32:37.543Z"
   },
   {
    "duration": 12,
    "start_time": "2024-05-23T00:32:37.853Z"
   },
   {
    "duration": 12,
    "start_time": "2024-05-23T00:32:37.868Z"
   },
   {
    "duration": 20,
    "start_time": "2024-05-23T00:32:37.883Z"
   },
   {
    "duration": 435,
    "start_time": "2024-05-23T00:32:37.930Z"
   },
   {
    "duration": 76,
    "start_time": "2024-05-23T00:32:38.368Z"
   },
   {
    "duration": 335,
    "start_time": "2024-05-23T00:32:38.447Z"
   },
   {
    "duration": 1778,
    "start_time": "2024-05-23T00:32:38.785Z"
   },
   {
    "duration": 461,
    "start_time": "2024-05-23T00:32:40.566Z"
   },
   {
    "duration": 1975,
    "start_time": "2024-05-23T00:32:41.030Z"
   },
   {
    "duration": 1663,
    "start_time": "2024-05-23T00:32:43.008Z"
   },
   {
    "duration": 2197,
    "start_time": "2024-05-23T00:32:44.675Z"
   },
   {
    "duration": 1260,
    "start_time": "2024-05-23T00:32:46.875Z"
   },
   {
    "duration": 300,
    "start_time": "2024-05-23T00:32:48.138Z"
   },
   {
    "duration": 1702,
    "start_time": "2024-05-23T00:32:48.444Z"
   },
   {
    "duration": 205,
    "start_time": "2024-05-23T00:32:50.148Z"
   },
   {
    "duration": 233,
    "start_time": "2024-05-23T00:32:50.355Z"
   },
   {
    "duration": 1511,
    "start_time": "2024-05-23T00:32:50.590Z"
   },
   {
    "duration": 9,
    "start_time": "2024-05-23T00:32:52.104Z"
   },
   {
    "duration": 101,
    "start_time": "2024-05-23T00:44:22.476Z"
   },
   {
    "duration": 36,
    "start_time": "2024-05-23T00:44:42.755Z"
   },
   {
    "duration": 6,
    "start_time": "2024-05-23T00:44:53.697Z"
   },
   {
    "duration": 33,
    "start_time": "2024-05-23T00:45:01.594Z"
   },
   {
    "duration": 144,
    "start_time": "2024-05-23T00:45:14.989Z"
   },
   {
    "duration": 53,
    "start_time": "2024-05-23T00:45:21.751Z"
   },
   {
    "duration": 360,
    "start_time": "2024-05-23T00:45:34.442Z"
   },
   {
    "duration": 269,
    "start_time": "2024-05-23T00:45:42.170Z"
   },
   {
    "duration": 4,
    "start_time": "2024-05-23T00:45:54.964Z"
   },
   {
    "duration": 1463,
    "start_time": "2024-05-23T00:45:54.972Z"
   },
   {
    "duration": 154,
    "start_time": "2024-05-23T00:45:56.441Z"
   },
   {
    "duration": 53,
    "start_time": "2024-05-23T00:45:56.598Z"
   },
   {
    "duration": 24,
    "start_time": "2024-05-23T00:45:56.655Z"
   },
   {
    "duration": 62,
    "start_time": "2024-05-23T00:45:56.682Z"
   },
   {
    "duration": 833,
    "start_time": "2024-05-23T00:45:56.748Z"
   },
   {
    "duration": 9,
    "start_time": "2024-05-23T00:45:57.584Z"
   },
   {
    "duration": 265,
    "start_time": "2024-05-23T00:45:57.597Z"
   },
   {
    "duration": 19,
    "start_time": "2024-05-23T00:45:57.866Z"
   },
   {
    "duration": 129,
    "start_time": "2024-05-23T00:45:57.892Z"
   },
   {
    "duration": 152,
    "start_time": "2024-05-23T00:45:58.024Z"
   },
   {
    "duration": 54,
    "start_time": "2024-05-23T00:45:58.179Z"
   },
   {
    "duration": 23,
    "start_time": "2024-05-23T00:45:58.240Z"
   },
   {
    "duration": 8,
    "start_time": "2024-05-23T00:45:58.265Z"
   },
   {
    "duration": 68,
    "start_time": "2024-05-23T00:45:58.276Z"
   },
   {
    "duration": 14,
    "start_time": "2024-05-23T00:45:58.347Z"
   },
   {
    "duration": 6,
    "start_time": "2024-05-23T00:45:58.364Z"
   },
   {
    "duration": 6,
    "start_time": "2024-05-23T00:45:58.373Z"
   },
   {
    "duration": 47,
    "start_time": "2024-05-23T00:45:58.384Z"
   },
   {
    "duration": 5,
    "start_time": "2024-05-23T00:45:58.434Z"
   },
   {
    "duration": 1242,
    "start_time": "2024-05-23T00:45:58.443Z"
   },
   {
    "duration": 1061,
    "start_time": "2024-05-23T00:45:59.689Z"
   },
   {
    "duration": 8,
    "start_time": "2024-05-23T00:46:00.754Z"
   },
   {
    "duration": 14,
    "start_time": "2024-05-23T00:46:00.766Z"
   },
   {
    "duration": 52,
    "start_time": "2024-05-23T00:46:00.783Z"
   },
   {
    "duration": 12,
    "start_time": "2024-05-23T00:46:00.838Z"
   },
   {
    "duration": 23,
    "start_time": "2024-05-23T00:46:00.852Z"
   },
   {
    "duration": 11,
    "start_time": "2024-05-23T00:46:00.877Z"
   },
   {
    "duration": 10,
    "start_time": "2024-05-23T00:46:00.931Z"
   },
   {
    "duration": 26,
    "start_time": "2024-05-23T00:46:00.944Z"
   },
   {
    "duration": 84,
    "start_time": "2024-05-23T00:46:00.973Z"
   },
   {
    "duration": 22,
    "start_time": "2024-05-23T00:46:01.060Z"
   },
   {
    "duration": 1332,
    "start_time": "2024-05-23T00:46:01.085Z"
   },
   {
    "duration": 32,
    "start_time": "2024-05-23T00:46:02.420Z"
   },
   {
    "duration": 531,
    "start_time": "2024-05-23T00:46:02.458Z"
   },
   {
    "duration": 84,
    "start_time": "2024-05-23T00:46:02.992Z"
   },
   {
    "duration": 11,
    "start_time": "2024-05-23T00:46:03.078Z"
   },
   {
    "duration": 11,
    "start_time": "2024-05-23T00:46:03.092Z"
   },
   {
    "duration": 254,
    "start_time": "2024-05-23T00:46:03.130Z"
   },
   {
    "duration": 250,
    "start_time": "2024-05-23T00:46:03.393Z"
   },
   {
    "duration": 309,
    "start_time": "2024-05-23T00:46:03.646Z"
   },
   {
    "duration": 12,
    "start_time": "2024-05-23T00:46:03.958Z"
   },
   {
    "duration": 13,
    "start_time": "2024-05-23T00:46:03.973Z"
   },
   {
    "duration": 43,
    "start_time": "2024-05-23T00:46:03.989Z"
   },
   {
    "duration": 434,
    "start_time": "2024-05-23T00:46:04.035Z"
   },
   {
    "duration": 62,
    "start_time": "2024-05-23T00:46:04.474Z"
   },
   {
    "duration": 363,
    "start_time": "2024-05-23T00:46:04.538Z"
   },
   {
    "duration": 1999,
    "start_time": "2024-05-23T00:46:04.904Z"
   },
   {
    "duration": 438,
    "start_time": "2024-05-23T00:46:06.906Z"
   },
   {
    "duration": 1961,
    "start_time": "2024-05-23T00:46:07.347Z"
   },
   {
    "duration": 1695,
    "start_time": "2024-05-23T00:46:09.312Z"
   },
   {
    "duration": 3033,
    "start_time": "2024-05-23T00:46:11.010Z"
   },
   {
    "duration": 1351,
    "start_time": "2024-05-23T00:46:14.046Z"
   },
   {
    "duration": 227,
    "start_time": "2024-05-23T00:46:15.400Z"
   },
   {
    "duration": 1843,
    "start_time": "2024-05-23T00:46:15.631Z"
   },
   {
    "duration": 204,
    "start_time": "2024-05-23T00:46:17.477Z"
   },
   {
    "duration": 230,
    "start_time": "2024-05-23T00:46:17.684Z"
   },
   {
    "duration": 1628,
    "start_time": "2024-05-23T00:46:17.917Z"
   },
   {
    "duration": 11,
    "start_time": "2024-05-23T00:46:19.548Z"
   },
   {
    "duration": 15,
    "start_time": "2024-05-23T00:47:51.923Z"
   },
   {
    "duration": 9,
    "start_time": "2024-05-23T00:48:02.439Z"
   },
   {
    "duration": 7,
    "start_time": "2024-05-23T00:48:08.830Z"
   },
   {
    "duration": 7,
    "start_time": "2024-05-23T00:48:16.649Z"
   },
   {
    "duration": 6,
    "start_time": "2024-05-23T00:48:21.694Z"
   },
   {
    "duration": 1335,
    "start_time": "2024-05-23T00:48:31.008Z"
   },
   {
    "duration": 1114,
    "start_time": "2024-05-23T00:48:36.976Z"
   },
   {
    "duration": 12,
    "start_time": "2024-05-23T00:48:50.504Z"
   },
   {
    "duration": 3,
    "start_time": "2024-05-23T00:48:57.446Z"
   },
   {
    "duration": 1508,
    "start_time": "2024-05-23T00:48:57.453Z"
   },
   {
    "duration": 150,
    "start_time": "2024-05-23T00:48:58.964Z"
   },
   {
    "duration": 46,
    "start_time": "2024-05-23T00:48:59.118Z"
   },
   {
    "duration": 24,
    "start_time": "2024-05-23T00:48:59.168Z"
   },
   {
    "duration": 65,
    "start_time": "2024-05-23T00:48:59.196Z"
   },
   {
    "duration": 824,
    "start_time": "2024-05-23T00:48:59.264Z"
   },
   {
    "duration": 11,
    "start_time": "2024-05-23T00:49:00.090Z"
   },
   {
    "duration": 250,
    "start_time": "2024-05-23T00:49:00.104Z"
   },
   {
    "duration": 18,
    "start_time": "2024-05-23T00:49:00.357Z"
   },
   {
    "duration": 118,
    "start_time": "2024-05-23T00:49:00.378Z"
   },
   {
    "duration": 159,
    "start_time": "2024-05-23T00:49:00.498Z"
   },
   {
    "duration": 45,
    "start_time": "2024-05-23T00:49:00.667Z"
   },
   {
    "duration": 42,
    "start_time": "2024-05-23T00:49:00.715Z"
   },
   {
    "duration": 8,
    "start_time": "2024-05-23T00:49:00.761Z"
   },
   {
    "duration": 78,
    "start_time": "2024-05-23T00:49:00.773Z"
   },
   {
    "duration": 15,
    "start_time": "2024-05-23T00:49:00.854Z"
   },
   {
    "duration": 7,
    "start_time": "2024-05-23T00:49:00.875Z"
   },
   {
    "duration": 7,
    "start_time": "2024-05-23T00:49:00.886Z"
   },
   {
    "duration": 40,
    "start_time": "2024-05-23T00:49:00.895Z"
   },
   {
    "duration": 8,
    "start_time": "2024-05-23T00:49:00.938Z"
   },
   {
    "duration": 1358,
    "start_time": "2024-05-23T00:49:00.949Z"
   },
   {
    "duration": 1144,
    "start_time": "2024-05-23T00:49:02.310Z"
   },
   {
    "duration": 9,
    "start_time": "2024-05-23T00:49:03.457Z"
   },
   {
    "duration": 15,
    "start_time": "2024-05-23T00:49:03.470Z"
   },
   {
    "duration": 43,
    "start_time": "2024-05-23T00:49:03.488Z"
   },
   {
    "duration": 11,
    "start_time": "2024-05-23T00:49:03.534Z"
   },
   {
    "duration": 21,
    "start_time": "2024-05-23T00:49:03.548Z"
   },
   {
    "duration": 10,
    "start_time": "2024-05-23T00:49:03.572Z"
   },
   {
    "duration": 52,
    "start_time": "2024-05-23T00:49:03.585Z"
   },
   {
    "duration": 27,
    "start_time": "2024-05-23T00:49:03.640Z"
   },
   {
    "duration": 83,
    "start_time": "2024-05-23T00:49:03.669Z"
   },
   {
    "duration": 22,
    "start_time": "2024-05-23T00:49:03.755Z"
   },
   {
    "duration": 1321,
    "start_time": "2024-05-23T00:49:03.780Z"
   },
   {
    "duration": 36,
    "start_time": "2024-05-23T00:49:05.104Z"
   },
   {
    "duration": 488,
    "start_time": "2024-05-23T00:49:05.143Z"
   },
   {
    "duration": 96,
    "start_time": "2024-05-23T00:49:05.643Z"
   },
   {
    "duration": 10,
    "start_time": "2024-05-23T00:49:05.743Z"
   },
   {
    "duration": 10,
    "start_time": "2024-05-23T00:49:05.757Z"
   },
   {
    "duration": 310,
    "start_time": "2024-05-23T00:49:05.770Z"
   },
   {
    "duration": 227,
    "start_time": "2024-05-23T00:49:06.086Z"
   },
   {
    "duration": 318,
    "start_time": "2024-05-23T00:49:06.316Z"
   },
   {
    "duration": 12,
    "start_time": "2024-05-23T00:49:06.637Z"
   },
   {
    "duration": 12,
    "start_time": "2024-05-23T00:49:06.652Z"
   },
   {
    "duration": 11,
    "start_time": "2024-05-23T00:49:06.667Z"
   },
   {
    "duration": 456,
    "start_time": "2024-05-23T00:49:06.683Z"
   },
   {
    "duration": 62,
    "start_time": "2024-05-23T00:49:07.142Z"
   },
   {
    "duration": 367,
    "start_time": "2024-05-23T00:49:07.207Z"
   },
   {
    "duration": 2054,
    "start_time": "2024-05-23T00:49:07.577Z"
   },
   {
    "duration": 428,
    "start_time": "2024-05-23T00:49:09.634Z"
   },
   {
    "duration": 2047,
    "start_time": "2024-05-23T00:49:10.065Z"
   },
   {
    "duration": 1637,
    "start_time": "2024-05-23T00:49:12.116Z"
   },
   {
    "duration": 3158,
    "start_time": "2024-05-23T00:49:13.756Z"
   },
   {
    "duration": 1333,
    "start_time": "2024-05-23T00:49:16.916Z"
   },
   {
    "duration": 232,
    "start_time": "2024-05-23T00:49:18.251Z"
   },
   {
    "duration": 1849,
    "start_time": "2024-05-23T00:49:18.486Z"
   },
   {
    "duration": 199,
    "start_time": "2024-05-23T00:49:20.338Z"
   },
   {
    "duration": 232,
    "start_time": "2024-05-23T00:49:20.540Z"
   },
   {
    "duration": 1729,
    "start_time": "2024-05-23T00:49:20.776Z"
   },
   {
    "duration": 22,
    "start_time": "2024-05-23T00:49:22.508Z"
   },
   {
    "duration": 6,
    "start_time": "2024-05-23T00:56:23.536Z"
   },
   {
    "duration": 703,
    "start_time": "2024-05-23T00:56:55.923Z"
   },
   {
    "duration": 1571,
    "start_time": "2024-05-23T00:56:56.630Z"
   },
   {
    "duration": 170,
    "start_time": "2024-05-23T00:56:58.205Z"
   },
   {
    "duration": 57,
    "start_time": "2024-05-23T00:56:58.382Z"
   },
   {
    "duration": 24,
    "start_time": "2024-05-23T00:56:58.443Z"
   },
   {
    "duration": 62,
    "start_time": "2024-05-23T00:56:58.470Z"
   },
   {
    "duration": 829,
    "start_time": "2024-05-23T00:56:58.535Z"
   },
   {
    "duration": 9,
    "start_time": "2024-05-23T00:56:59.367Z"
   },
   {
    "duration": 307,
    "start_time": "2024-05-23T00:56:59.380Z"
   },
   {
    "duration": 20,
    "start_time": "2024-05-23T00:56:59.694Z"
   },
   {
    "duration": 120,
    "start_time": "2024-05-23T00:56:59.731Z"
   },
   {
    "duration": 173,
    "start_time": "2024-05-23T00:56:59.854Z"
   },
   {
    "duration": 47,
    "start_time": "2024-05-23T00:57:00.031Z"
   },
   {
    "duration": 23,
    "start_time": "2024-05-23T00:57:00.081Z"
   },
   {
    "duration": 8,
    "start_time": "2024-05-23T00:57:00.131Z"
   },
   {
    "duration": 38,
    "start_time": "2024-05-23T00:57:00.141Z"
   },
   {
    "duration": 15,
    "start_time": "2024-05-23T00:57:00.182Z"
   },
   {
    "duration": 35,
    "start_time": "2024-05-23T00:57:00.199Z"
   },
   {
    "duration": 7,
    "start_time": "2024-05-23T00:57:00.237Z"
   },
   {
    "duration": 9,
    "start_time": "2024-05-23T00:57:00.246Z"
   },
   {
    "duration": 6,
    "start_time": "2024-05-23T00:57:00.258Z"
   },
   {
    "duration": 1355,
    "start_time": "2024-05-23T00:57:00.267Z"
   },
   {
    "duration": 1189,
    "start_time": "2024-05-23T00:57:01.625Z"
   },
   {
    "duration": 20,
    "start_time": "2024-05-23T00:57:02.817Z"
   },
   {
    "duration": 14,
    "start_time": "2024-05-23T00:57:02.841Z"
   },
   {
    "duration": 18,
    "start_time": "2024-05-23T00:57:02.857Z"
   },
   {
    "duration": 6,
    "start_time": "2024-05-23T00:57:02.878Z"
   },
   {
    "duration": 0,
    "start_time": "2024-05-23T00:57:02.891Z"
   },
   {
    "duration": 0,
    "start_time": "2024-05-23T00:57:02.892Z"
   },
   {
    "duration": 0,
    "start_time": "2024-05-23T00:57:02.893Z"
   },
   {
    "duration": 0,
    "start_time": "2024-05-23T00:57:02.931Z"
   },
   {
    "duration": 1,
    "start_time": "2024-05-23T00:57:02.933Z"
   },
   {
    "duration": 0,
    "start_time": "2024-05-23T00:57:02.935Z"
   },
   {
    "duration": 0,
    "start_time": "2024-05-23T00:57:02.936Z"
   },
   {
    "duration": 0,
    "start_time": "2024-05-23T00:57:02.937Z"
   },
   {
    "duration": 0,
    "start_time": "2024-05-23T00:57:02.939Z"
   },
   {
    "duration": 0,
    "start_time": "2024-05-23T00:57:02.945Z"
   },
   {
    "duration": 0,
    "start_time": "2024-05-23T00:57:02.947Z"
   },
   {
    "duration": 0,
    "start_time": "2024-05-23T00:57:02.949Z"
   },
   {
    "duration": 0,
    "start_time": "2024-05-23T00:57:02.951Z"
   },
   {
    "duration": 0,
    "start_time": "2024-05-23T00:57:02.953Z"
   },
   {
    "duration": 0,
    "start_time": "2024-05-23T00:57:02.955Z"
   },
   {
    "duration": 0,
    "start_time": "2024-05-23T00:57:02.957Z"
   },
   {
    "duration": 0,
    "start_time": "2024-05-23T00:57:02.960Z"
   },
   {
    "duration": 0,
    "start_time": "2024-05-23T00:57:02.962Z"
   },
   {
    "duration": 0,
    "start_time": "2024-05-23T00:57:02.964Z"
   },
   {
    "duration": 0,
    "start_time": "2024-05-23T00:57:02.967Z"
   },
   {
    "duration": 0,
    "start_time": "2024-05-23T00:57:02.968Z"
   },
   {
    "duration": 0,
    "start_time": "2024-05-23T00:57:02.971Z"
   },
   {
    "duration": 0,
    "start_time": "2024-05-23T00:57:02.973Z"
   },
   {
    "duration": 0,
    "start_time": "2024-05-23T00:57:03.031Z"
   },
   {
    "duration": 0,
    "start_time": "2024-05-23T00:57:03.033Z"
   },
   {
    "duration": 0,
    "start_time": "2024-05-23T00:57:03.035Z"
   },
   {
    "duration": 0,
    "start_time": "2024-05-23T00:57:03.038Z"
   },
   {
    "duration": 0,
    "start_time": "2024-05-23T00:57:03.042Z"
   },
   {
    "duration": 0,
    "start_time": "2024-05-23T00:57:03.044Z"
   },
   {
    "duration": 0,
    "start_time": "2024-05-23T00:57:03.047Z"
   },
   {
    "duration": 0,
    "start_time": "2024-05-23T00:57:03.049Z"
   },
   {
    "duration": 0,
    "start_time": "2024-05-23T00:57:03.052Z"
   },
   {
    "duration": 0,
    "start_time": "2024-05-23T00:57:03.054Z"
   },
   {
    "duration": 5,
    "start_time": "2024-05-23T00:57:32.597Z"
   },
   {
    "duration": 6,
    "start_time": "2024-05-23T00:58:18.351Z"
   },
   {
    "duration": 5,
    "start_time": "2024-05-23T00:58:29.906Z"
   },
   {
    "duration": 7,
    "start_time": "2024-05-23T00:59:04.693Z"
   },
   {
    "duration": 4,
    "start_time": "2024-05-23T00:59:23.551Z"
   },
   {
    "duration": 1485,
    "start_time": "2024-05-23T00:59:23.558Z"
   },
   {
    "duration": 171,
    "start_time": "2024-05-23T00:59:25.046Z"
   },
   {
    "duration": 44,
    "start_time": "2024-05-23T00:59:25.221Z"
   },
   {
    "duration": 24,
    "start_time": "2024-05-23T00:59:25.270Z"
   },
   {
    "duration": 66,
    "start_time": "2024-05-23T00:59:25.298Z"
   },
   {
    "duration": 855,
    "start_time": "2024-05-23T00:59:25.367Z"
   },
   {
    "duration": 14,
    "start_time": "2024-05-23T00:59:26.225Z"
   },
   {
    "duration": 278,
    "start_time": "2024-05-23T00:59:26.242Z"
   },
   {
    "duration": 22,
    "start_time": "2024-05-23T00:59:26.532Z"
   },
   {
    "duration": 122,
    "start_time": "2024-05-23T00:59:26.559Z"
   },
   {
    "duration": 150,
    "start_time": "2024-05-23T00:59:26.684Z"
   },
   {
    "duration": 45,
    "start_time": "2024-05-23T00:59:26.837Z"
   },
   {
    "duration": 48,
    "start_time": "2024-05-23T00:59:26.889Z"
   },
   {
    "duration": 11,
    "start_time": "2024-05-23T00:59:26.941Z"
   },
   {
    "duration": 39,
    "start_time": "2024-05-23T00:59:26.955Z"
   },
   {
    "duration": 42,
    "start_time": "2024-05-23T00:59:26.997Z"
   },
   {
    "duration": 7,
    "start_time": "2024-05-23T00:59:27.042Z"
   },
   {
    "duration": 6,
    "start_time": "2024-05-23T00:59:27.052Z"
   },
   {
    "duration": 8,
    "start_time": "2024-05-23T00:59:27.061Z"
   },
   {
    "duration": 6,
    "start_time": "2024-05-23T00:59:27.075Z"
   },
   {
    "duration": 1345,
    "start_time": "2024-05-23T00:59:27.085Z"
   },
   {
    "duration": 1146,
    "start_time": "2024-05-23T00:59:28.434Z"
   },
   {
    "duration": 8,
    "start_time": "2024-05-23T00:59:29.583Z"
   },
   {
    "duration": 38,
    "start_time": "2024-05-23T00:59:29.595Z"
   },
   {
    "duration": 14,
    "start_time": "2024-05-23T00:59:29.636Z"
   },
   {
    "duration": 6,
    "start_time": "2024-05-23T00:59:29.652Z"
   },
   {
    "duration": 0,
    "start_time": "2024-05-23T00:59:29.663Z"
   },
   {
    "duration": 0,
    "start_time": "2024-05-23T00:59:29.665Z"
   },
   {
    "duration": 0,
    "start_time": "2024-05-23T00:59:29.668Z"
   },
   {
    "duration": 0,
    "start_time": "2024-05-23T00:59:29.671Z"
   },
   {
    "duration": 0,
    "start_time": "2024-05-23T00:59:29.673Z"
   },
   {
    "duration": 0,
    "start_time": "2024-05-23T00:59:29.676Z"
   },
   {
    "duration": 0,
    "start_time": "2024-05-23T00:59:29.679Z"
   },
   {
    "duration": 0,
    "start_time": "2024-05-23T00:59:29.681Z"
   },
   {
    "duration": 0,
    "start_time": "2024-05-23T00:59:29.731Z"
   },
   {
    "duration": 0,
    "start_time": "2024-05-23T00:59:29.734Z"
   },
   {
    "duration": 0,
    "start_time": "2024-05-23T00:59:29.735Z"
   },
   {
    "duration": 0,
    "start_time": "2024-05-23T00:59:29.738Z"
   },
   {
    "duration": 0,
    "start_time": "2024-05-23T00:59:29.740Z"
   },
   {
    "duration": 0,
    "start_time": "2024-05-23T00:59:29.742Z"
   },
   {
    "duration": 0,
    "start_time": "2024-05-23T00:59:29.744Z"
   },
   {
    "duration": 0,
    "start_time": "2024-05-23T00:59:29.746Z"
   },
   {
    "duration": 0,
    "start_time": "2024-05-23T00:59:29.747Z"
   },
   {
    "duration": 0,
    "start_time": "2024-05-23T00:59:29.750Z"
   },
   {
    "duration": 0,
    "start_time": "2024-05-23T00:59:29.752Z"
   },
   {
    "duration": 0,
    "start_time": "2024-05-23T00:59:29.754Z"
   },
   {
    "duration": 0,
    "start_time": "2024-05-23T00:59:29.756Z"
   },
   {
    "duration": 0,
    "start_time": "2024-05-23T00:59:29.760Z"
   },
   {
    "duration": 0,
    "start_time": "2024-05-23T00:59:29.762Z"
   },
   {
    "duration": 0,
    "start_time": "2024-05-23T00:59:29.764Z"
   },
   {
    "duration": 0,
    "start_time": "2024-05-23T00:59:29.766Z"
   },
   {
    "duration": 0,
    "start_time": "2024-05-23T00:59:29.768Z"
   },
   {
    "duration": 0,
    "start_time": "2024-05-23T00:59:29.831Z"
   },
   {
    "duration": 0,
    "start_time": "2024-05-23T00:59:29.835Z"
   },
   {
    "duration": 0,
    "start_time": "2024-05-23T00:59:29.838Z"
   },
   {
    "duration": 0,
    "start_time": "2024-05-23T00:59:29.840Z"
   },
   {
    "duration": 0,
    "start_time": "2024-05-23T00:59:29.843Z"
   },
   {
    "duration": 0,
    "start_time": "2024-05-23T00:59:29.853Z"
   },
   {
    "duration": 0,
    "start_time": "2024-05-23T00:59:29.855Z"
   },
   {
    "duration": 6,
    "start_time": "2024-05-23T01:00:08.518Z"
   },
   {
    "duration": 6,
    "start_time": "2024-05-23T01:00:26.076Z"
   },
   {
    "duration": 6,
    "start_time": "2024-05-23T01:00:34.083Z"
   },
   {
    "duration": 5,
    "start_time": "2024-05-23T01:00:39.486Z"
   },
   {
    "duration": 5,
    "start_time": "2024-05-23T01:00:50.446Z"
   },
   {
    "duration": 7,
    "start_time": "2024-05-23T01:01:14.225Z"
   },
   {
    "duration": 5,
    "start_time": "2024-05-23T01:01:18.993Z"
   },
   {
    "duration": 7,
    "start_time": "2024-05-23T01:01:45.559Z"
   },
   {
    "duration": 10,
    "start_time": "2024-05-23T01:01:48.511Z"
   },
   {
    "duration": 10,
    "start_time": "2024-05-23T01:02:07.660Z"
   },
   {
    "duration": 254,
    "start_time": "2024-05-23T01:04:10.407Z"
   },
   {
    "duration": 7,
    "start_time": "2024-05-23T01:04:29.247Z"
   },
   {
    "duration": 396,
    "start_time": "2024-05-23T01:04:35.427Z"
   },
   {
    "duration": 217,
    "start_time": "2024-05-23T01:05:48.119Z"
   },
   {
    "duration": 317,
    "start_time": "2024-05-23T02:16:56.908Z"
   },
   {
    "duration": 24,
    "start_time": "2024-05-23T02:29:26.822Z"
   },
   {
    "duration": 4334,
    "start_time": "2024-05-23T02:29:30.437Z"
   },
   {
    "duration": 1685,
    "start_time": "2024-05-23T02:29:34.774Z"
   },
   {
    "duration": 169,
    "start_time": "2024-05-23T02:29:36.462Z"
   },
   {
    "duration": 35,
    "start_time": "2024-05-23T02:29:36.636Z"
   },
   {
    "duration": 49,
    "start_time": "2024-05-23T02:29:36.675Z"
   },
   {
    "duration": 34,
    "start_time": "2024-05-23T02:29:36.727Z"
   },
   {
    "duration": 864,
    "start_time": "2024-05-23T02:29:36.764Z"
   },
   {
    "duration": 10,
    "start_time": "2024-05-23T02:29:37.631Z"
   },
   {
    "duration": 276,
    "start_time": "2024-05-23T02:29:37.645Z"
   },
   {
    "duration": 20,
    "start_time": "2024-05-23T02:29:37.927Z"
   },
   {
    "duration": 133,
    "start_time": "2024-05-23T02:29:37.951Z"
   },
   {
    "duration": 175,
    "start_time": "2024-05-23T02:29:38.087Z"
   },
   {
    "duration": 53,
    "start_time": "2024-05-23T02:29:38.265Z"
   },
   {
    "duration": 23,
    "start_time": "2024-05-23T02:29:38.321Z"
   },
   {
    "duration": 8,
    "start_time": "2024-05-23T02:29:38.346Z"
   },
   {
    "duration": 73,
    "start_time": "2024-05-23T02:29:38.357Z"
   },
   {
    "duration": 15,
    "start_time": "2024-05-23T02:29:38.433Z"
   },
   {
    "duration": 7,
    "start_time": "2024-05-23T02:29:38.451Z"
   },
   {
    "duration": 7,
    "start_time": "2024-05-23T02:29:38.461Z"
   },
   {
    "duration": 47,
    "start_time": "2024-05-23T02:29:38.470Z"
   },
   {
    "duration": 12,
    "start_time": "2024-05-23T02:29:38.521Z"
   },
   {
    "duration": 1374,
    "start_time": "2024-05-23T02:29:38.536Z"
   },
   {
    "duration": 1158,
    "start_time": "2024-05-23T02:29:39.913Z"
   },
   {
    "duration": 8,
    "start_time": "2024-05-23T02:29:41.075Z"
   },
   {
    "duration": 34,
    "start_time": "2024-05-23T02:29:41.086Z"
   },
   {
    "duration": 17,
    "start_time": "2024-05-23T02:29:41.123Z"
   },
   {
    "duration": 11,
    "start_time": "2024-05-23T02:29:41.143Z"
   },
   {
    "duration": 9,
    "start_time": "2024-05-23T02:29:41.165Z"
   },
   {
    "duration": 22,
    "start_time": "2024-05-23T02:29:41.209Z"
   },
   {
    "duration": 10,
    "start_time": "2024-05-23T02:29:41.234Z"
   },
   {
    "duration": 12,
    "start_time": "2024-05-23T02:29:41.247Z"
   },
   {
    "duration": 69,
    "start_time": "2024-05-23T02:29:41.262Z"
   },
   {
    "duration": 49,
    "start_time": "2024-05-23T02:29:41.334Z"
   },
   {
    "duration": 23,
    "start_time": "2024-05-23T02:29:41.410Z"
   },
   {
    "duration": 1421,
    "start_time": "2024-05-23T02:29:41.437Z"
   },
   {
    "duration": 20,
    "start_time": "2024-05-23T02:29:42.860Z"
   },
   {
    "duration": 555,
    "start_time": "2024-05-23T02:29:42.883Z"
   },
   {
    "duration": 88,
    "start_time": "2024-05-23T02:29:43.441Z"
   },
   {
    "duration": 9,
    "start_time": "2024-05-23T02:29:43.531Z"
   },
   {
    "duration": 10,
    "start_time": "2024-05-23T02:29:43.543Z"
   },
   {
    "duration": 493,
    "start_time": "2024-05-23T02:29:43.556Z"
   },
   {
    "duration": 249,
    "start_time": "2024-05-23T02:29:44.052Z"
   },
   {
    "duration": 342,
    "start_time": "2024-05-23T02:29:44.309Z"
   },
   {
    "duration": 13,
    "start_time": "2024-05-23T02:29:44.653Z"
   },
   {
    "duration": 40,
    "start_time": "2024-05-23T02:29:44.669Z"
   },
   {
    "duration": 11,
    "start_time": "2024-05-23T02:29:44.716Z"
   },
   {
    "duration": 445,
    "start_time": "2024-05-23T02:29:44.731Z"
   },
   {
    "duration": 79,
    "start_time": "2024-05-23T02:29:45.179Z"
   },
   {
    "duration": 351,
    "start_time": "2024-05-23T02:29:45.261Z"
   },
   {
    "duration": 1816,
    "start_time": "2024-05-23T02:29:45.616Z"
   },
   {
    "duration": 475,
    "start_time": "2024-05-23T02:29:47.434Z"
   },
   {
    "duration": 2002,
    "start_time": "2024-05-23T02:29:47.912Z"
   },
   {
    "duration": 1559,
    "start_time": "2024-05-23T02:29:49.917Z"
   },
   {
    "duration": 2172,
    "start_time": "2024-05-23T02:29:51.479Z"
   },
   {
    "duration": 1566,
    "start_time": "2024-05-23T02:29:53.654Z"
   },
   {
    "duration": 234,
    "start_time": "2024-05-23T02:29:55.224Z"
   },
   {
    "duration": 1723,
    "start_time": "2024-05-23T02:29:55.461Z"
   },
   {
    "duration": 202,
    "start_time": "2024-05-23T02:29:57.188Z"
   },
   {
    "duration": 298,
    "start_time": "2024-05-23T02:29:57.397Z"
   },
   {
    "duration": 1443,
    "start_time": "2024-05-23T02:29:57.698Z"
   },
   {
    "duration": 11,
    "start_time": "2024-05-23T02:29:59.144Z"
   },
   {
    "duration": 265,
    "start_time": "2024-05-23T02:30:17.536Z"
   },
   {
    "duration": 270,
    "start_time": "2024-05-23T02:31:04.588Z"
   },
   {
    "duration": 231,
    "start_time": "2024-05-23T02:31:24.963Z"
   },
   {
    "duration": 254,
    "start_time": "2024-05-23T02:32:11.151Z"
   },
   {
    "duration": 259,
    "start_time": "2024-05-23T02:32:25.703Z"
   },
   {
    "duration": 3198,
    "start_time": "2024-05-23T02:41:49.413Z"
   },
   {
    "duration": 3,
    "start_time": "2024-05-23T02:41:59.778Z"
   },
   {
    "duration": 1506,
    "start_time": "2024-05-23T02:41:59.788Z"
   },
   {
    "duration": 157,
    "start_time": "2024-05-23T02:42:01.298Z"
   },
   {
    "duration": 53,
    "start_time": "2024-05-23T02:42:01.457Z"
   },
   {
    "duration": 25,
    "start_time": "2024-05-23T02:42:01.513Z"
   },
   {
    "duration": 67,
    "start_time": "2024-05-23T02:42:01.542Z"
   },
   {
    "duration": 828,
    "start_time": "2024-05-23T02:42:01.612Z"
   },
   {
    "duration": 9,
    "start_time": "2024-05-23T02:42:02.443Z"
   },
   {
    "duration": 258,
    "start_time": "2024-05-23T02:42:02.456Z"
   },
   {
    "duration": 19,
    "start_time": "2024-05-23T02:42:02.717Z"
   },
   {
    "duration": 125,
    "start_time": "2024-05-23T02:42:02.739Z"
   },
   {
    "duration": 155,
    "start_time": "2024-05-23T02:42:02.867Z"
   },
   {
    "duration": 45,
    "start_time": "2024-05-23T02:42:03.025Z"
   },
   {
    "duration": 49,
    "start_time": "2024-05-23T02:42:03.073Z"
   },
   {
    "duration": 7,
    "start_time": "2024-05-23T02:42:03.130Z"
   },
   {
    "duration": 39,
    "start_time": "2024-05-23T02:42:03.139Z"
   },
   {
    "duration": 15,
    "start_time": "2024-05-23T02:42:03.209Z"
   },
   {
    "duration": 7,
    "start_time": "2024-05-23T02:42:03.228Z"
   },
   {
    "duration": 6,
    "start_time": "2024-05-23T02:42:03.238Z"
   },
   {
    "duration": 8,
    "start_time": "2024-05-23T02:42:03.247Z"
   },
   {
    "duration": 55,
    "start_time": "2024-05-23T02:42:03.258Z"
   },
   {
    "duration": 1350,
    "start_time": "2024-05-23T02:42:03.318Z"
   },
   {
    "duration": 1143,
    "start_time": "2024-05-23T02:42:04.671Z"
   },
   {
    "duration": 10,
    "start_time": "2024-05-23T02:42:05.819Z"
   },
   {
    "duration": 14,
    "start_time": "2024-05-23T02:42:05.832Z"
   },
   {
    "duration": 15,
    "start_time": "2024-05-23T02:42:05.849Z"
   },
   {
    "duration": 52,
    "start_time": "2024-05-23T02:42:05.866Z"
   },
   {
    "duration": 11,
    "start_time": "2024-05-23T02:42:05.920Z"
   },
   {
    "duration": 20,
    "start_time": "2024-05-23T02:42:05.935Z"
   },
   {
    "duration": 11,
    "start_time": "2024-05-23T02:42:05.957Z"
   },
   {
    "duration": 11,
    "start_time": "2024-05-23T02:42:06.009Z"
   },
   {
    "duration": 27,
    "start_time": "2024-05-23T02:42:06.022Z"
   },
   {
    "duration": 83,
    "start_time": "2024-05-23T02:42:06.053Z"
   },
   {
    "duration": 24,
    "start_time": "2024-05-23T02:42:06.138Z"
   },
   {
    "duration": 1382,
    "start_time": "2024-05-23T02:42:06.165Z"
   },
   {
    "duration": 24,
    "start_time": "2024-05-23T02:42:07.550Z"
   },
   {
    "duration": 531,
    "start_time": "2024-05-23T02:42:07.577Z"
   },
   {
    "duration": 72,
    "start_time": "2024-05-23T02:42:08.112Z"
   },
   {
    "duration": 26,
    "start_time": "2024-05-23T02:42:08.187Z"
   },
   {
    "duration": 9,
    "start_time": "2024-05-23T02:42:08.215Z"
   },
   {
    "duration": 402,
    "start_time": "2024-05-23T02:42:08.227Z"
   },
   {
    "duration": 370,
    "start_time": "2024-05-23T02:42:08.638Z"
   },
   {
    "duration": 1945,
    "start_time": "2024-05-23T02:42:09.011Z"
   },
   {
    "duration": 0,
    "start_time": "2024-05-23T02:42:10.960Z"
   },
   {
    "duration": 0,
    "start_time": "2024-05-23T02:42:10.962Z"
   },
   {
    "duration": 0,
    "start_time": "2024-05-23T02:42:10.964Z"
   },
   {
    "duration": 0,
    "start_time": "2024-05-23T02:42:10.967Z"
   },
   {
    "duration": 0,
    "start_time": "2024-05-23T02:42:10.970Z"
   },
   {
    "duration": 0,
    "start_time": "2024-05-23T02:42:10.972Z"
   },
   {
    "duration": 0,
    "start_time": "2024-05-23T02:42:10.974Z"
   },
   {
    "duration": 0,
    "start_time": "2024-05-23T02:42:10.977Z"
   },
   {
    "duration": 0,
    "start_time": "2024-05-23T02:42:10.979Z"
   },
   {
    "duration": 0,
    "start_time": "2024-05-23T02:42:11.009Z"
   },
   {
    "duration": 0,
    "start_time": "2024-05-23T02:42:11.012Z"
   },
   {
    "duration": 0,
    "start_time": "2024-05-23T02:42:11.014Z"
   },
   {
    "duration": 0,
    "start_time": "2024-05-23T02:42:11.017Z"
   },
   {
    "duration": 0,
    "start_time": "2024-05-23T02:42:11.019Z"
   },
   {
    "duration": 0,
    "start_time": "2024-05-23T02:42:11.021Z"
   },
   {
    "duration": 0,
    "start_time": "2024-05-23T02:42:11.024Z"
   },
   {
    "duration": 0,
    "start_time": "2024-05-23T02:42:11.026Z"
   },
   {
    "duration": 0,
    "start_time": "2024-05-23T02:42:11.028Z"
   },
   {
    "duration": 311,
    "start_time": "2024-05-23T02:51:26.903Z"
   },
   {
    "duration": 4,
    "start_time": "2024-05-23T03:07:53.030Z"
   },
   {
    "duration": 1518,
    "start_time": "2024-05-23T03:07:53.039Z"
   },
   {
    "duration": 170,
    "start_time": "2024-05-23T03:07:54.561Z"
   },
   {
    "duration": 44,
    "start_time": "2024-05-23T03:07:54.734Z"
   },
   {
    "duration": 54,
    "start_time": "2024-05-23T03:07:54.783Z"
   },
   {
    "duration": 35,
    "start_time": "2024-05-23T03:07:54.840Z"
   },
   {
    "duration": 865,
    "start_time": "2024-05-23T03:07:54.910Z"
   },
   {
    "duration": 10,
    "start_time": "2024-05-23T03:07:55.779Z"
   },
   {
    "duration": 305,
    "start_time": "2024-05-23T03:07:55.792Z"
   },
   {
    "duration": 25,
    "start_time": "2024-05-23T03:07:56.100Z"
   },
   {
    "duration": 124,
    "start_time": "2024-05-23T03:07:56.132Z"
   },
   {
    "duration": 157,
    "start_time": "2024-05-23T03:07:56.261Z"
   },
   {
    "duration": 50,
    "start_time": "2024-05-23T03:07:56.422Z"
   },
   {
    "duration": 54,
    "start_time": "2024-05-23T03:07:56.475Z"
   },
   {
    "duration": 7,
    "start_time": "2024-05-23T03:07:56.532Z"
   },
   {
    "duration": 86,
    "start_time": "2024-05-23T03:07:56.542Z"
   },
   {
    "duration": 19,
    "start_time": "2024-05-23T03:07:56.632Z"
   },
   {
    "duration": 8,
    "start_time": "2024-05-23T03:07:56.654Z"
   },
   {
    "duration": 47,
    "start_time": "2024-05-23T03:07:56.664Z"
   },
   {
    "duration": 9,
    "start_time": "2024-05-23T03:07:56.714Z"
   },
   {
    "duration": 18,
    "start_time": "2024-05-23T03:07:56.726Z"
   },
   {
    "duration": 1383,
    "start_time": "2024-05-23T03:07:56.747Z"
   },
   {
    "duration": 1179,
    "start_time": "2024-05-23T03:07:58.135Z"
   },
   {
    "duration": 9,
    "start_time": "2024-05-23T03:07:59.317Z"
   },
   {
    "duration": 14,
    "start_time": "2024-05-23T03:07:59.329Z"
   },
   {
    "duration": 16,
    "start_time": "2024-05-23T03:07:59.348Z"
   },
   {
    "duration": 56,
    "start_time": "2024-05-23T03:07:59.367Z"
   },
   {
    "duration": 10,
    "start_time": "2024-05-23T03:07:59.426Z"
   },
   {
    "duration": 65,
    "start_time": "2024-05-23T03:07:59.446Z"
   },
   {
    "duration": 14,
    "start_time": "2024-05-23T03:07:59.518Z"
   },
   {
    "duration": 10,
    "start_time": "2024-05-23T03:07:59.538Z"
   },
   {
    "duration": 72,
    "start_time": "2024-05-23T03:07:59.551Z"
   },
   {
    "duration": 61,
    "start_time": "2024-05-23T03:07:59.626Z"
   },
   {
    "duration": 25,
    "start_time": "2024-05-23T03:07:59.709Z"
   },
   {
    "duration": 1423,
    "start_time": "2024-05-23T03:07:59.737Z"
   },
   {
    "duration": 21,
    "start_time": "2024-05-23T03:08:01.165Z"
   },
   {
    "duration": 518,
    "start_time": "2024-05-23T03:08:01.208Z"
   },
   {
    "duration": 85,
    "start_time": "2024-05-23T03:08:01.729Z"
   },
   {
    "duration": 9,
    "start_time": "2024-05-23T03:08:01.818Z"
   },
   {
    "duration": 9,
    "start_time": "2024-05-23T03:08:01.830Z"
   },
   {
    "duration": 409,
    "start_time": "2024-05-23T03:08:01.842Z"
   },
   {
    "duration": 272,
    "start_time": "2024-05-23T03:08:02.254Z"
   },
   {
    "duration": 319,
    "start_time": "2024-05-23T03:08:02.529Z"
   },
   {
    "duration": 13,
    "start_time": "2024-05-23T03:08:02.851Z"
   },
   {
    "duration": 13,
    "start_time": "2024-05-23T03:08:02.866Z"
   },
   {
    "duration": 10,
    "start_time": "2024-05-23T03:08:02.909Z"
   },
   {
    "duration": 442,
    "start_time": "2024-05-23T03:08:02.922Z"
   },
   {
    "duration": 73,
    "start_time": "2024-05-23T03:08:03.367Z"
   },
   {
    "duration": 339,
    "start_time": "2024-05-23T03:08:03.443Z"
   },
   {
    "duration": 1760,
    "start_time": "2024-05-23T03:08:03.786Z"
   },
   {
    "duration": 450,
    "start_time": "2024-05-23T03:08:05.549Z"
   },
   {
    "duration": 1969,
    "start_time": "2024-05-23T03:08:06.010Z"
   },
   {
    "duration": 1668,
    "start_time": "2024-05-23T03:08:07.982Z"
   },
   {
    "duration": 2200,
    "start_time": "2024-05-23T03:08:09.653Z"
   },
   {
    "duration": 1322,
    "start_time": "2024-05-23T03:08:11.857Z"
   },
   {
    "duration": 238,
    "start_time": "2024-05-23T03:08:13.182Z"
   },
   {
    "duration": 1802,
    "start_time": "2024-05-23T03:08:13.422Z"
   },
   {
    "duration": 201,
    "start_time": "2024-05-23T03:08:15.226Z"
   },
   {
    "duration": 236,
    "start_time": "2024-05-23T03:08:15.430Z"
   },
   {
    "duration": 1441,
    "start_time": "2024-05-23T03:08:15.669Z"
   },
   {
    "duration": 8,
    "start_time": "2024-05-23T03:08:17.113Z"
   },
   {
    "duration": 1184,
    "start_time": "2024-05-23T03:17:25.377Z"
   },
   {
    "duration": 434,
    "start_time": "2024-05-23T03:34:30.737Z"
   },
   {
    "duration": 6,
    "start_time": "2024-05-23T03:38:24.317Z"
   },
   {
    "duration": 525,
    "start_time": "2024-05-23T03:38:32.540Z"
   }
  ],
  "colab": {
   "provenance": []
  },
  "kernelspec": {
   "display_name": "Python 3 (ipykernel)",
   "language": "python",
   "name": "python3"
  },
  "language_info": {
   "codemirror_mode": {
    "name": "ipython",
    "version": 3
   },
   "file_extension": ".py",
   "mimetype": "text/x-python",
   "name": "python",
   "nbconvert_exporter": "python",
   "pygments_lexer": "ipython3",
   "version": "3.9.19"
  },
  "toc": {
   "base_numbering": 1,
   "nav_menu": {},
   "number_sections": true,
   "sideBar": true,
   "skip_h1_title": true,
   "title_cell": "Table of Contents",
   "title_sidebar": "Contents",
   "toc_cell": false,
   "toc_position": {},
   "toc_section_display": true,
   "toc_window_display": false
  },
  "vscode": {
   "interpreter": {
    "hash": "01a7be9ec63e704a62cefc5fe7a4756944464ee731be31632bdf42a4cb4688cf"
   }
  }
 },
 "nbformat": 4,
 "nbformat_minor": 5
}
